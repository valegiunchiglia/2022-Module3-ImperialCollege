{
 "cells": [
  {
   "cell_type": "markdown",
   "metadata": {},
   "source": [
    "                                             Workshop 5: Dragos Gruia and Valentina Giunchiglia"
   ]
  },
  {
   "cell_type": "markdown",
   "metadata": {},
   "source": [
    "# Graph theory analysis: probing the normal and abnormal connectome"
   ]
  },
  {
   "cell_type": "markdown",
   "metadata": {},
   "source": [
    "In this workshop, we are going to use graph theory and represent functional MRI data as a connected graph. The nodes in our graph will correspond to regions of interest (ROI) in the brain, and the edges between nodes will be based on a measure of functional connectivity between each pair of regions. A ROI The purpose of building the graph is to be able to come up with concise and powerful descriptions of the complex organisation of the brain. \n",
    "\n",
    "## Graphs and regions of interest (ROIs)\n",
    "\n",
    "There are typically 1000s or 100,000s of voxels in a brain scan. Depending on the research hypothesis, we may want to reduce this down to something more manageable. Especially if we are running connectivity analyses in a pairwise manner because the number of connections increases exponentially with the number of nodes. Typically, we choose a smaller number of 'regions of interest' (ROI) and just focus on these to make the analysis tractable. As we will see, these ROIs will be the starting point for defining a graph, composed of 'nodes' (ROIs) and their 'edges' (the functional connectivity between nodes). Graph theory has many metrics that are useful for describing/summarising the functional connectivity of the brain as a whole. \n",
    "\n",
    "### Examples of a graph\n",
    "\n",
    "Here's some examples of the brain as a graph or network. (Taken from Vertes et al, 2013, Phil Trans Royal Society B) "
   ]
  },
  {
   "cell_type": "code",
   "execution_count": null,
   "metadata": {},
   "outputs": [],
   "source": []
  }
 ],
 "metadata": {
  "kernelspec": {
   "display_name": "Python3.7 (project1)",
   "language": "python",
   "name": "python3_project1"
  },
  "language_info": {
   "codemirror_mode": {
    "name": "ipython",
    "version": 3
   },
   "file_extension": ".py",
   "mimetype": "text/x-python",
   "name": "python",
   "nbconvert_exporter": "python",
   "pygments_lexer": "ipython3",
   "version": "3.7.1"
  }
 },
 "nbformat": 4,
 "nbformat_minor": 4
}
