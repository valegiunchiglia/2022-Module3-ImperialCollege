{
 "cells": [
  {
   "cell_type": "markdown",
   "metadata": {},
   "source": [
    "# COVID and Cognition"
   ]
  },
  {
   "cell_type": "markdown",
   "metadata": {},
   "source": [
    "The data we will analyse today consists of the performance of 50 COVID-19 patients in three cognitive tasks, called target detection, spatial Span and verbal Analogies. Our aim is to understand whether patients' cognition was affected by COVID-19 and whether the type of symptoms and the gravity of the disease (e.g. whether participants ended up in intensive care units) played a role on the level of cognitive changes that occurred. "
   ]
  },
  {
   "cell_type": "markdown",
   "metadata": {},
   "source": [
    "Each one of the cognitive tasks completed by patients measures different aspects of cognition: \n",
    "\n",
    "1. **Target detection:** attention task, it measures the ability to identify specific *relevant* information in the context of many distractors. The task is designed to be particularly challenging due to the rate at which targets and distractors appear in the array, which requires participants to continously pay attention in order to avoid missing targets and losing points. \n",
    "2. **Spatial Span:** memory task, participants are presented with a 4 x 4 grid, onto which is displayed a sequence of squares in different positions in the grid. They must then click the squares in the order that they were highlighted. Every time a sequence is recalled correctly, the length of the subsequent sequence is incremented by one.\n",
    "3. **Verbal analogies:** language task, abilities. In this version of the test, participants are presented with two written relationships that they must decide have the same type of association or not. Participants must indicate their decision by selecting the True or False buttons presented below the written analogies.\n",
    "\n",
    "A small representation of the different tasks is presented in the following Figure."
   ]
  },
  {
   "attachments": {
    "9304e412-0a76-40d3-9d91-7d6e85dcc433.gif": {
     "image/gif": "[encoded data removed]"
    },
    "df643a61-93c7-4863-ae91-31137d27f1b0.gif": {
     "image/gif": "[encoded data removed]"
    },
    "e66776b9-0240-4d79-a08f-2c0278d2095d.gif": {
     "image/gif": "[encoded data removed]"
    }
   },
   "cell_type": "markdown",
   "metadata": {},
   "source": [
    "Verbal Analogies |  Target detection | Spatial Span |\n",
    ":-------------------------:|:-------------------------: |:-------------------------: |\n",
    "![VerbalAnalogies.gif](attachment:e66776b9-0240-4d79-a08f-2c0278d2095d.gif) | ![TargetDetection.gif](attachment:df643a61-93c7-4863-ae91-31137d27f1b0.gif)|![SpatialSpan.gif](attachment:9304e412-0a76-40d3-9d91-7d6e85dcc433.gif)"
   ]
  },
  {
   "cell_type": "markdown",
   "metadata": {},
   "source": [
    "Now that we know our research aim and the description of the cognitive assessment, we can continue with the next steps, namely the data cleaning and analysis. \n",
    "\n",
    "Let us first import the libraries we will need for today's workshop."
   ]
  },
  {
   "cell_type": "code",
   "execution_count": 2,
   "metadata": {},
   "outputs": [],
   "source": [
    "%matplotlib inline\n",
    "import matplotlib.pyplot as plt\n",
    "import pandas as pd\n",
    "import numpy as np\n",
    "from scipy.stats.mstats import winsorize"
   ]
  },
  {
   "cell_type": "markdown",
   "metadata": {},
   "source": [
    "We will also need these dependencies so make sure you install them"
   ]
  },
  {
   "cell_type": "code",
   "execution_count": 463,
   "metadata": {},
   "outputs": [
    {
     "name": "stdout",
     "output_type": "stream",
     "text": [
      "Requirement already satisfied: openpyxl in /Library/Frameworks/Python.framework/Versions/3.10/lib/python3.10/site-packages (3.0.10)\n",
      "Requirement already satisfied: et-xmlfile in /Library/Frameworks/Python.framework/Versions/3.10/lib/python3.10/site-packages (from openpyxl) (1.1.0)\n",
      "\u001b[33mWARNING: You are using pip version 22.0.4; however, version 22.3 is available.\n",
      "You should consider upgrading via the '/usr/local/bin/python3 -m pip install --upgrade pip' command.\u001b[0m\u001b[33m\n",
      "\u001b[0mNote: you may need to restart the kernel to use updated packages.\n"
     ]
    }
   ],
   "source": [
    "pip install openpyxl"
   ]
  },
  {
   "cell_type": "markdown",
   "metadata": {},
   "source": [
    "Now let's open the data file as a dataframe. Note that so far we have worked with `.csv` files but Python can just as easily open and manipulate other file types like `excel`. Have a quick look at your data "
   ]
  },
  {
   "cell_type": "code",
   "execution_count": 3,
   "metadata": {},
   "outputs": [
    {
     "data": {
      "text/html": [
       "<div>\n",
       "<style scoped>\n",
       "    .dataframe tbody tr th:only-of-type {\n",
       "        vertical-align: middle;\n",
       "    }\n",
       "\n",
       "    .dataframe tbody tr th {\n",
       "        vertical-align: top;\n",
       "    }\n",
       "\n",
       "    .dataframe thead th {\n",
       "        text-align: right;\n",
       "    }\n",
       "</style>\n",
       "<table border=\"1\" class=\"dataframe\">\n",
       "  <thead>\n",
       "    <tr style=\"text-align: right;\">\n",
       "      <th></th>\n",
       "      <th>Unnamed: 0</th>\n",
       "      <th>userID</th>\n",
       "      <th>Age</th>\n",
       "      <th>Sex 1-Male 2-Female</th>\n",
       "      <th>Handedness</th>\n",
       "      <th>Qualifications</th>\n",
       "      <th>First Language</th>\n",
       "      <th>First Language binary</th>\n",
       "      <th>Symtpm onset</th>\n",
       "      <th>tested date</th>\n",
       "      <th>...</th>\n",
       "      <th>RTDRI_fourTowers</th>\n",
       "      <th>RTrs_learningCurves</th>\n",
       "      <th>RTrs_manipulations2D</th>\n",
       "      <th>RTrs_TOL</th>\n",
       "      <th>RTrs_motorControl</th>\n",
       "      <th>RTrs_prospectiveMemoryWords_1_delayed</th>\n",
       "      <th>RTrs_prospectiveMemoryWords_1_immediate</th>\n",
       "      <th>RTrs_spatialSpan</th>\n",
       "      <th>RTrs_targetDetection</th>\n",
       "      <th>RTrs_verbalAnalogies</th>\n",
       "    </tr>\n",
       "  </thead>\n",
       "  <tbody>\n",
       "    <tr>\n",
       "      <th>0</th>\n",
       "      <td>0</td>\n",
       "      <td>4133880.0</td>\n",
       "      <td>\"63\"</td>\n",
       "      <td>2</td>\n",
       "      <td>Right</td>\n",
       "      <td>Some college, no degree</td>\n",
       "      <td>Polish</td>\n",
       "      <td>Other</td>\n",
       "      <td>2020-05-05</td>\n",
       "      <td>NaT</td>\n",
       "      <td>...</td>\n",
       "      <td>10242.0</td>\n",
       "      <td>50.764</td>\n",
       "      <td>4504.0</td>\n",
       "      <td>13709.0</td>\n",
       "      <td>13.0790</td>\n",
       "      <td>1041.0</td>\n",
       "      <td>1113.0</td>\n",
       "      <td>4245.5</td>\n",
       "      <td>1314.0</td>\n",
       "      <td>9054.0</td>\n",
       "    </tr>\n",
       "    <tr>\n",
       "      <th>1</th>\n",
       "      <td>1</td>\n",
       "      <td>4227668.0</td>\n",
       "      <td>\"70\"</td>\n",
       "      <td>1</td>\n",
       "      <td>Right</td>\n",
       "      <td>O levels/GCSEs</td>\n",
       "      <td>English</td>\n",
       "      <td>english</td>\n",
       "      <td>2020-03-18</td>\n",
       "      <td>NaT</td>\n",
       "      <td>...</td>\n",
       "      <td>11151.0</td>\n",
       "      <td>50.551</td>\n",
       "      <td>8262.0</td>\n",
       "      <td>11550.0</td>\n",
       "      <td>23.0550</td>\n",
       "      <td>1010.5</td>\n",
       "      <td>1066.0</td>\n",
       "      <td>2863.0</td>\n",
       "      <td>1686.0</td>\n",
       "      <td>6167.5</td>\n",
       "    </tr>\n",
       "    <tr>\n",
       "      <th>2</th>\n",
       "      <td>2</td>\n",
       "      <td>4105609.0</td>\n",
       "      <td>\"54\"</td>\n",
       "      <td>1</td>\n",
       "      <td>Right</td>\n",
       "      <td>A levels</td>\n",
       "      <td>English</td>\n",
       "      <td>english</td>\n",
       "      <td>2020-03-22</td>\n",
       "      <td>NaT</td>\n",
       "      <td>...</td>\n",
       "      <td>11171.0</td>\n",
       "      <td>50.247</td>\n",
       "      <td>6937.0</td>\n",
       "      <td>9411.0</td>\n",
       "      <td>12.0190</td>\n",
       "      <td>800.5</td>\n",
       "      <td>930.0</td>\n",
       "      <td>2383.0</td>\n",
       "      <td>1079.0</td>\n",
       "      <td>4799.0</td>\n",
       "    </tr>\n",
       "    <tr>\n",
       "      <th>3</th>\n",
       "      <td>3</td>\n",
       "      <td>4105207.0</td>\n",
       "      <td>\"55\"</td>\n",
       "      <td>2</td>\n",
       "      <td>Right</td>\n",
       "      <td>Some college, no degree</td>\n",
       "      <td>English</td>\n",
       "      <td>English</td>\n",
       "      <td>2020-03-31</td>\n",
       "      <td>NaT</td>\n",
       "      <td>...</td>\n",
       "      <td>12665.0</td>\n",
       "      <td>50.618</td>\n",
       "      <td>16940.0</td>\n",
       "      <td>11868.0</td>\n",
       "      <td>8.2759</td>\n",
       "      <td>1005.0</td>\n",
       "      <td>1676.5</td>\n",
       "      <td>2642.0</td>\n",
       "      <td>2030.5</td>\n",
       "      <td>3017.0</td>\n",
       "    </tr>\n",
       "    <tr>\n",
       "      <th>4</th>\n",
       "      <td>4</td>\n",
       "      <td>4239617.0</td>\n",
       "      <td>\"71\"</td>\n",
       "      <td>1</td>\n",
       "      <td>Right</td>\n",
       "      <td>Doctoral degree</td>\n",
       "      <td>English</td>\n",
       "      <td>English</td>\n",
       "      <td>2020-03-10</td>\n",
       "      <td>NaT</td>\n",
       "      <td>...</td>\n",
       "      <td>8612.5</td>\n",
       "      <td>50.792</td>\n",
       "      <td>4809.5</td>\n",
       "      <td>7010.0</td>\n",
       "      <td>28.4730</td>\n",
       "      <td>1010.0</td>\n",
       "      <td>999.0</td>\n",
       "      <td>5343.5</td>\n",
       "      <td>1376.5</td>\n",
       "      <td>3247.0</td>\n",
       "    </tr>\n",
       "    <tr>\n",
       "      <th>5</th>\n",
       "      <td>5</td>\n",
       "      <td>4303013.0</td>\n",
       "      <td>\"34\"</td>\n",
       "      <td>2</td>\n",
       "      <td>Left</td>\n",
       "      <td>A levels</td>\n",
       "      <td>English</td>\n",
       "      <td>English</td>\n",
       "      <td>2020-04-22</td>\n",
       "      <td>NaT</td>\n",
       "      <td>...</td>\n",
       "      <td>11621.0</td>\n",
       "      <td>50.539</td>\n",
       "      <td>3961.0</td>\n",
       "      <td>8700.5</td>\n",
       "      <td>14.9220</td>\n",
       "      <td>1298.0</td>\n",
       "      <td>1079.5</td>\n",
       "      <td>5281.0</td>\n",
       "      <td>1349.0</td>\n",
       "      <td>4610.0</td>\n",
       "    </tr>\n",
       "    <tr>\n",
       "      <th>6</th>\n",
       "      <td>6</td>\n",
       "      <td>3928857.0</td>\n",
       "      <td>\"61\"</td>\n",
       "      <td>1</td>\n",
       "      <td>Left</td>\n",
       "      <td>Not done</td>\n",
       "      <td>English</td>\n",
       "      <td>English</td>\n",
       "      <td>2020-03-12</td>\n",
       "      <td>NaT</td>\n",
       "      <td>...</td>\n",
       "      <td>21358.0</td>\n",
       "      <td>50.958</td>\n",
       "      <td>5902.0</td>\n",
       "      <td>15116.0</td>\n",
       "      <td>14.8830</td>\n",
       "      <td>729.0</td>\n",
       "      <td>846.5</td>\n",
       "      <td>5177.0</td>\n",
       "      <td>2259.0</td>\n",
       "      <td>3963.0</td>\n",
       "    </tr>\n",
       "    <tr>\n",
       "      <th>7</th>\n",
       "      <td>7</td>\n",
       "      <td>3929051.0</td>\n",
       "      <td>\"68\"</td>\n",
       "      <td>1</td>\n",
       "      <td>NaN</td>\n",
       "      <td>Not done</td>\n",
       "      <td>English</td>\n",
       "      <td>English</td>\n",
       "      <td>2020-03-28</td>\n",
       "      <td>2020-08-07</td>\n",
       "      <td>...</td>\n",
       "      <td>25378.0</td>\n",
       "      <td>50.932</td>\n",
       "      <td>9704.0</td>\n",
       "      <td>17245.0</td>\n",
       "      <td>20.1900</td>\n",
       "      <td>902.0</td>\n",
       "      <td>1040.5</td>\n",
       "      <td>6145.0</td>\n",
       "      <td>2079.0</td>\n",
       "      <td>8075.0</td>\n",
       "    </tr>\n",
       "    <tr>\n",
       "      <th>8</th>\n",
       "      <td>8</td>\n",
       "      <td>3978084.0</td>\n",
       "      <td>\"66\"</td>\n",
       "      <td>2</td>\n",
       "      <td>Right</td>\n",
       "      <td>O level/ GCSE</td>\n",
       "      <td>Chinese</td>\n",
       "      <td>Other</td>\n",
       "      <td>2020-02-27</td>\n",
       "      <td>NaT</td>\n",
       "      <td>...</td>\n",
       "      <td>18250.0</td>\n",
       "      <td>51.095</td>\n",
       "      <td>8597.0</td>\n",
       "      <td>38018.0</td>\n",
       "      <td>12.2560</td>\n",
       "      <td>1125.0</td>\n",
       "      <td>1441.0</td>\n",
       "      <td>12340.0</td>\n",
       "      <td>2283.0</td>\n",
       "      <td>405.0</td>\n",
       "    </tr>\n",
       "    <tr>\n",
       "      <th>9</th>\n",
       "      <td>9</td>\n",
       "      <td>3939818.0</td>\n",
       "      <td>\"45\"</td>\n",
       "      <td>1</td>\n",
       "      <td>Left</td>\n",
       "      <td>Medical Degree</td>\n",
       "      <td>English</td>\n",
       "      <td>English</td>\n",
       "      <td>2020-04-01</td>\n",
       "      <td>NaT</td>\n",
       "      <td>...</td>\n",
       "      <td>16734.0</td>\n",
       "      <td>50.802</td>\n",
       "      <td>4294.0</td>\n",
       "      <td>20611.0</td>\n",
       "      <td>14.5350</td>\n",
       "      <td>710.5</td>\n",
       "      <td>773.5</td>\n",
       "      <td>2973.0</td>\n",
       "      <td>1499.0</td>\n",
       "      <td>3743.0</td>\n",
       "    </tr>\n",
       "  </tbody>\n",
       "</table>\n",
       "<p>10 rows × 80 columns</p>\n",
       "</div>"
      ],
      "text/plain": [
       "   Unnamed: 0     userID   Age  Sex 1-Male 2-Female Handedness  \\\n",
       "0           0  4133880.0  \"63\"                    2      Right   \n",
       "1           1  4227668.0  \"70\"                    1      Right   \n",
       "2           2  4105609.0  \"54\"                    1      Right   \n",
       "3           3  4105207.0  \"55\"                    2      Right   \n",
       "4           4  4239617.0  \"71\"                    1      Right   \n",
       "5           5  4303013.0  \"34\"                    2       Left   \n",
       "6           6  3928857.0  \"61\"                    1       Left   \n",
       "7           7  3929051.0  \"68\"                    1        NaN   \n",
       "8           8  3978084.0  \"66\"                    2      Right   \n",
       "9           9  3939818.0  \"45\"                    1       Left   \n",
       "\n",
       "            Qualifications First Language First Language binary Symtpm onset  \\\n",
       "0  Some college, no degree         Polish                 Other   2020-05-05   \n",
       "1           O levels/GCSEs        English               english   2020-03-18   \n",
       "2                 A levels        English               english   2020-03-22   \n",
       "3  Some college, no degree        English               English   2020-03-31   \n",
       "4          Doctoral degree        English               English   2020-03-10   \n",
       "5                 A levels        English               English   2020-04-22   \n",
       "6                 Not done        English               English   2020-03-12   \n",
       "7                 Not done        English               English   2020-03-28   \n",
       "8            O level/ GCSE        Chinese                 Other   2020-02-27   \n",
       "9           Medical Degree        English               English   2020-04-01   \n",
       "\n",
       "  tested date  ...  RTDRI_fourTowers RTrs_learningCurves  \\\n",
       "0         NaT  ...           10242.0              50.764   \n",
       "1         NaT  ...           11151.0              50.551   \n",
       "2         NaT  ...           11171.0              50.247   \n",
       "3         NaT  ...           12665.0              50.618   \n",
       "4         NaT  ...            8612.5              50.792   \n",
       "5         NaT  ...           11621.0              50.539   \n",
       "6         NaT  ...           21358.0              50.958   \n",
       "7  2020-08-07  ...           25378.0              50.932   \n",
       "8         NaT  ...           18250.0              51.095   \n",
       "9         NaT  ...           16734.0              50.802   \n",
       "\n",
       "   RTrs_manipulations2D  RTrs_TOL  RTrs_motorControl  \\\n",
       "0                4504.0   13709.0            13.0790   \n",
       "1                8262.0   11550.0            23.0550   \n",
       "2                6937.0    9411.0            12.0190   \n",
       "3               16940.0   11868.0             8.2759   \n",
       "4                4809.5    7010.0            28.4730   \n",
       "5                3961.0    8700.5            14.9220   \n",
       "6                5902.0   15116.0            14.8830   \n",
       "7                9704.0   17245.0            20.1900   \n",
       "8                8597.0   38018.0            12.2560   \n",
       "9                4294.0   20611.0            14.5350   \n",
       "\n",
       "  RTrs_prospectiveMemoryWords_1_delayed  \\\n",
       "0                                1041.0   \n",
       "1                                1010.5   \n",
       "2                                 800.5   \n",
       "3                                1005.0   \n",
       "4                                1010.0   \n",
       "5                                1298.0   \n",
       "6                                 729.0   \n",
       "7                                 902.0   \n",
       "8                                1125.0   \n",
       "9                                 710.5   \n",
       "\n",
       "   RTrs_prospectiveMemoryWords_1_immediate RTrs_spatialSpan  \\\n",
       "0                                   1113.0           4245.5   \n",
       "1                                   1066.0           2863.0   \n",
       "2                                    930.0           2383.0   \n",
       "3                                   1676.5           2642.0   \n",
       "4                                    999.0           5343.5   \n",
       "5                                   1079.5           5281.0   \n",
       "6                                    846.5           5177.0   \n",
       "7                                   1040.5           6145.0   \n",
       "8                                   1441.0          12340.0   \n",
       "9                                    773.5           2973.0   \n",
       "\n",
       "  RTrs_targetDetection RTrs_verbalAnalogies  \n",
       "0               1314.0               9054.0  \n",
       "1               1686.0               6167.5  \n",
       "2               1079.0               4799.0  \n",
       "3               2030.5               3017.0  \n",
       "4               1376.5               3247.0  \n",
       "5               1349.0               4610.0  \n",
       "6               2259.0               3963.0  \n",
       "7               2079.0               8075.0  \n",
       "8               2283.0                405.0  \n",
       "9               1499.0               3743.0  \n",
       "\n",
       "[10 rows x 80 columns]"
      ]
     },
     "execution_count": 3,
     "metadata": {},
     "output_type": "execute_result"
    }
   ],
   "source": [
    "df = pd.read_excel(\"Data/covid_dataset.xlsx\")\n",
    "df.head(10)"
   ]
  },
  {
   "cell_type": "markdown",
   "metadata": {},
   "source": [
    "Notice that not all columns are shown, as Python has a cap on how many columns it can show in a table. To help us visually the data better, we will remove that cap."
   ]
  },
  {
   "cell_type": "code",
   "execution_count": 4,
   "metadata": {},
   "outputs": [
    {
     "data": {
      "text/html": [
       "<div>\n",
       "<style scoped>\n",
       "    .dataframe tbody tr th:only-of-type {\n",
       "        vertical-align: middle;\n",
       "    }\n",
       "\n",
       "    .dataframe tbody tr th {\n",
       "        vertical-align: top;\n",
       "    }\n",
       "\n",
       "    .dataframe thead th {\n",
       "        text-align: right;\n",
       "    }\n",
       "</style>\n",
       "<table border=\"1\" class=\"dataframe\">\n",
       "  <thead>\n",
       "    <tr style=\"text-align: right;\">\n",
       "      <th></th>\n",
       "      <th>Unnamed: 0</th>\n",
       "      <th>userID</th>\n",
       "      <th>Age</th>\n",
       "      <th>Sex 1-Male 2-Female</th>\n",
       "      <th>Handedness</th>\n",
       "      <th>Qualifications</th>\n",
       "      <th>First Language</th>\n",
       "      <th>First Language binary</th>\n",
       "      <th>Symtpm onset</th>\n",
       "      <th>tested date</th>\n",
       "      <th>COVID Symptom onset to imaging &amp; cognitive testing (days)</th>\n",
       "      <th>Admission to imaging &amp; cognitive testing (days)</th>\n",
       "      <th>Covid-19 severity (WHO Ordinal Scale)</th>\n",
       "      <th>Mechanical ventilation (1-Y,0-no)</th>\n",
       "      <th>Days mechanically ventilated</th>\n",
       "      <th>Trachy Y/N</th>\n",
       "      <th>Lowest PaO2/FiO2 ratio (severity of lung injury, lower is worse)</th>\n",
       "      <th>Extrapulmonary organ dysfunction/support</th>\n",
       "      <th>Highest CRP during admission</th>\n",
       "      <th>Highest D-Dimer during admission</th>\n",
       "      <th>GAD-7</th>\n",
       "      <th>PHQ-9</th>\n",
       "      <th>PCL-5</th>\n",
       "      <th>GAD7 1.</th>\n",
       "      <th>GAD7 2.</th>\n",
       "      <th>GAD7 3.</th>\n",
       "      <th>GAD7 4.</th>\n",
       "      <th>GAD7 5.</th>\n",
       "      <th>GAD7 6.</th>\n",
       "      <th>GAD7 7.</th>\n",
       "      <th>PHQ9 1.</th>\n",
       "      <th>PHQ9 2.</th>\n",
       "      <th>PHQ9 3.</th>\n",
       "      <th>PHQ9 4.</th>\n",
       "      <th>PHQ9 5.</th>\n",
       "      <th>PHQ9 6.</th>\n",
       "      <th>PHQ9 7.</th>\n",
       "      <th>PHQ9 8.</th>\n",
       "      <th>PHQ9 9.</th>\n",
       "      <th>PHQ9 Difficulty</th>\n",
       "      <th>PCL5 1.</th>\n",
       "      <th>PCL5 2.</th>\n",
       "      <th>PCL5 3.</th>\n",
       "      <th>PCL5 4.</th>\n",
       "      <th>PCL5 5.</th>\n",
       "      <th>PCL5 6.</th>\n",
       "      <th>PCL5 7.</th>\n",
       "      <th>PCL5 8.</th>\n",
       "      <th>PCL5 9.</th>\n",
       "      <th>PCL5 10.</th>\n",
       "      <th>PCL5 11.</th>\n",
       "      <th>PCL5 12.</th>\n",
       "      <th>PCL5 13.</th>\n",
       "      <th>PCL5 14.</th>\n",
       "      <th>PCL5 15.</th>\n",
       "      <th>PCL5 16.</th>\n",
       "      <th>PCL5 17.</th>\n",
       "      <th>PCL5 18.</th>\n",
       "      <th>PCL5 19.</th>\n",
       "      <th>PCL5 20.</th>\n",
       "      <th>DRI_fourTowers</th>\n",
       "      <th>rs_TOL</th>\n",
       "      <th>rs_learningCurves</th>\n",
       "      <th>rs_manipulations2D</th>\n",
       "      <th>rs_motorControl</th>\n",
       "      <th>rs_prospectiveMemoryWords_1_delayed</th>\n",
       "      <th>rs_prospectiveMemoryWords_1_immediate</th>\n",
       "      <th>rs_spatialSpan</th>\n",
       "      <th>rs_targetDetection</th>\n",
       "      <th>rs_verbalAnalogies</th>\n",
       "      <th>RTDRI_fourTowers</th>\n",
       "      <th>RTrs_learningCurves</th>\n",
       "      <th>RTrs_manipulations2D</th>\n",
       "      <th>RTrs_TOL</th>\n",
       "      <th>RTrs_motorControl</th>\n",
       "      <th>RTrs_prospectiveMemoryWords_1_delayed</th>\n",
       "      <th>RTrs_prospectiveMemoryWords_1_immediate</th>\n",
       "      <th>RTrs_spatialSpan</th>\n",
       "      <th>RTrs_targetDetection</th>\n",
       "      <th>RTrs_verbalAnalogies</th>\n",
       "    </tr>\n",
       "  </thead>\n",
       "  <tbody>\n",
       "    <tr>\n",
       "      <th>0</th>\n",
       "      <td>0</td>\n",
       "      <td>4133880.0</td>\n",
       "      <td>\"63\"</td>\n",
       "      <td>2</td>\n",
       "      <td>Right</td>\n",
       "      <td>Some college, no degree</td>\n",
       "      <td>Polish</td>\n",
       "      <td>Other</td>\n",
       "      <td>2020-05-05</td>\n",
       "      <td>NaT</td>\n",
       "      <td>38</td>\n",
       "      <td>34</td>\n",
       "      <td>6</td>\n",
       "      <td>1</td>\n",
       "      <td>14</td>\n",
       "      <td>N</td>\n",
       "      <td>8.0</td>\n",
       "      <td>Y</td>\n",
       "      <td>286</td>\n",
       "      <td>242</td>\n",
       "      <td>4</td>\n",
       "      <td>3</td>\n",
       "      <td>21</td>\n",
       "      <td>1.0</td>\n",
       "      <td>0</td>\n",
       "      <td>1.0</td>\n",
       "      <td>1.0</td>\n",
       "      <td>0.0</td>\n",
       "      <td>0.0</td>\n",
       "      <td>1.0</td>\n",
       "      <td>0.0</td>\n",
       "      <td>0.0</td>\n",
       "      <td>1.0</td>\n",
       "      <td>1.0</td>\n",
       "      <td>0.0</td>\n",
       "      <td>0.0</td>\n",
       "      <td>1.0</td>\n",
       "      <td>0.0</td>\n",
       "      <td>0.0</td>\n",
       "      <td>2.0</td>\n",
       "      <td>0.0</td>\n",
       "      <td>0.0</td>\n",
       "      <td>1.0</td>\n",
       "      <td>1</td>\n",
       "      <td>1</td>\n",
       "      <td>3.0</td>\n",
       "      <td>3.0</td>\n",
       "      <td>1</td>\n",
       "      <td>1.0</td>\n",
       "      <td>1.0</td>\n",
       "      <td>0.0</td>\n",
       "      <td>1.0</td>\n",
       "      <td>2.0</td>\n",
       "      <td>1.0</td>\n",
       "      <td>1.0</td>\n",
       "      <td>0.0</td>\n",
       "      <td>1</td>\n",
       "      <td>0.0</td>\n",
       "      <td>1.0</td>\n",
       "      <td>2.0</td>\n",
       "      <td>2.0</td>\n",
       "      <td>3.0</td>\n",
       "      <td>106.0</td>\n",
       "      <td>17.0</td>\n",
       "      <td>659.03</td>\n",
       "      <td>21.0</td>\n",
       "      <td>22.0</td>\n",
       "      <td>4.0</td>\n",
       "      <td>65.0</td>\n",
       "      <td>6.0</td>\n",
       "      <td>10242.0</td>\n",
       "      <td>50.764</td>\n",
       "      <td>4504.0</td>\n",
       "      <td>13709.0</td>\n",
       "      <td>13.0790</td>\n",
       "      <td>1041.0</td>\n",
       "      <td>1113.0</td>\n",
       "      <td>4245.5</td>\n",
       "      <td>1314.0</td>\n",
       "      <td>9054.0</td>\n",
       "    </tr>\n",
       "    <tr>\n",
       "      <th>1</th>\n",
       "      <td>1</td>\n",
       "      <td>4227668.0</td>\n",
       "      <td>\"70\"</td>\n",
       "      <td>1</td>\n",
       "      <td>Right</td>\n",
       "      <td>O levels/GCSEs</td>\n",
       "      <td>English</td>\n",
       "      <td>english</td>\n",
       "      <td>2020-03-18</td>\n",
       "      <td>NaT</td>\n",
       "      <td>87</td>\n",
       "      <td>65</td>\n",
       "      <td>7</td>\n",
       "      <td>1</td>\n",
       "      <td>47</td>\n",
       "      <td>Y</td>\n",
       "      <td>10.0</td>\n",
       "      <td>Y</td>\n",
       "      <td>350</td>\n",
       "      <td>11593</td>\n",
       "      <td>1</td>\n",
       "      <td>0</td>\n",
       "      <td>5</td>\n",
       "      <td>0.0</td>\n",
       "      <td>0</td>\n",
       "      <td>0.0</td>\n",
       "      <td>0.0</td>\n",
       "      <td>0.0</td>\n",
       "      <td>0.0</td>\n",
       "      <td>0.0</td>\n",
       "      <td>0.0</td>\n",
       "      <td>0.0</td>\n",
       "      <td>3.0</td>\n",
       "      <td>0.0</td>\n",
       "      <td>0.0</td>\n",
       "      <td>0.0</td>\n",
       "      <td>0.0</td>\n",
       "      <td>0.0</td>\n",
       "      <td>0.0</td>\n",
       "      <td>1.0</td>\n",
       "      <td>0.0</td>\n",
       "      <td>0.0</td>\n",
       "      <td>0.0</td>\n",
       "      <td>0</td>\n",
       "      <td>0</td>\n",
       "      <td>0.0</td>\n",
       "      <td>0.0</td>\n",
       "      <td>1</td>\n",
       "      <td>0.0</td>\n",
       "      <td>0.0</td>\n",
       "      <td>0.0</td>\n",
       "      <td>0.0</td>\n",
       "      <td>0.0</td>\n",
       "      <td>0.0</td>\n",
       "      <td>0.0</td>\n",
       "      <td>0.0</td>\n",
       "      <td>0</td>\n",
       "      <td>0.0</td>\n",
       "      <td>0.0</td>\n",
       "      <td>0.0</td>\n",
       "      <td>6.0</td>\n",
       "      <td>8.0</td>\n",
       "      <td>118.0</td>\n",
       "      <td>17.0</td>\n",
       "      <td>733.57</td>\n",
       "      <td>19.0</td>\n",
       "      <td>22.0</td>\n",
       "      <td>4.0</td>\n",
       "      <td>32.0</td>\n",
       "      <td>11.0</td>\n",
       "      <td>11151.0</td>\n",
       "      <td>50.551</td>\n",
       "      <td>8262.0</td>\n",
       "      <td>11550.0</td>\n",
       "      <td>23.0550</td>\n",
       "      <td>1010.5</td>\n",
       "      <td>1066.0</td>\n",
       "      <td>2863.0</td>\n",
       "      <td>1686.0</td>\n",
       "      <td>6167.5</td>\n",
       "    </tr>\n",
       "    <tr>\n",
       "      <th>2</th>\n",
       "      <td>2</td>\n",
       "      <td>4105609.0</td>\n",
       "      <td>\"54\"</td>\n",
       "      <td>1</td>\n",
       "      <td>Right</td>\n",
       "      <td>A levels</td>\n",
       "      <td>English</td>\n",
       "      <td>english</td>\n",
       "      <td>2020-03-22</td>\n",
       "      <td>NaT</td>\n",
       "      <td>97</td>\n",
       "      <td>90</td>\n",
       "      <td>6</td>\n",
       "      <td>1</td>\n",
       "      <td>28</td>\n",
       "      <td>Y</td>\n",
       "      <td>8.0</td>\n",
       "      <td>Y</td>\n",
       "      <td>399</td>\n",
       "      <td>3161</td>\n",
       "      <td>9</td>\n",
       "      <td>9</td>\n",
       "      <td>16</td>\n",
       "      <td>1.0</td>\n",
       "      <td>1</td>\n",
       "      <td>2.0</td>\n",
       "      <td>2.0</td>\n",
       "      <td>1.0</td>\n",
       "      <td>1.0</td>\n",
       "      <td>1.0</td>\n",
       "      <td>1.0</td>\n",
       "      <td>1.0</td>\n",
       "      <td>2.0</td>\n",
       "      <td>1.0</td>\n",
       "      <td>0.0</td>\n",
       "      <td>2.0</td>\n",
       "      <td>1.0</td>\n",
       "      <td>1.0</td>\n",
       "      <td>0.0</td>\n",
       "      <td>2.0</td>\n",
       "      <td>1.0</td>\n",
       "      <td>1.0</td>\n",
       "      <td>0.0</td>\n",
       "      <td>1</td>\n",
       "      <td>0</td>\n",
       "      <td>0.0</td>\n",
       "      <td>0.0</td>\n",
       "      <td>0</td>\n",
       "      <td>2.0</td>\n",
       "      <td>1.0</td>\n",
       "      <td>1.0</td>\n",
       "      <td>0.0</td>\n",
       "      <td>0.0</td>\n",
       "      <td>0.0</td>\n",
       "      <td>0.0</td>\n",
       "      <td>2.0</td>\n",
       "      <td>3</td>\n",
       "      <td>0.0</td>\n",
       "      <td>2.0</td>\n",
       "      <td>2.0</td>\n",
       "      <td>10.0</td>\n",
       "      <td>10.0</td>\n",
       "      <td>119.0</td>\n",
       "      <td>18.0</td>\n",
       "      <td>659.67</td>\n",
       "      <td>18.0</td>\n",
       "      <td>22.0</td>\n",
       "      <td>5.0</td>\n",
       "      <td>63.0</td>\n",
       "      <td>8.0</td>\n",
       "      <td>11171.0</td>\n",
       "      <td>50.247</td>\n",
       "      <td>6937.0</td>\n",
       "      <td>9411.0</td>\n",
       "      <td>12.0190</td>\n",
       "      <td>800.5</td>\n",
       "      <td>930.0</td>\n",
       "      <td>2383.0</td>\n",
       "      <td>1079.0</td>\n",
       "      <td>4799.0</td>\n",
       "    </tr>\n",
       "    <tr>\n",
       "      <th>3</th>\n",
       "      <td>3</td>\n",
       "      <td>4105207.0</td>\n",
       "      <td>\"55\"</td>\n",
       "      <td>2</td>\n",
       "      <td>Right</td>\n",
       "      <td>Some college, no degree</td>\n",
       "      <td>English</td>\n",
       "      <td>English</td>\n",
       "      <td>2020-03-31</td>\n",
       "      <td>NaT</td>\n",
       "      <td>95</td>\n",
       "      <td>99</td>\n",
       "      <td>7</td>\n",
       "      <td>1</td>\n",
       "      <td>18</td>\n",
       "      <td>N</td>\n",
       "      <td>10.0</td>\n",
       "      <td>Y</td>\n",
       "      <td>405</td>\n",
       "      <td>861</td>\n",
       "      <td>4</td>\n",
       "      <td>5</td>\n",
       "      <td>13</td>\n",
       "      <td>0.0</td>\n",
       "      <td>1</td>\n",
       "      <td>1.0</td>\n",
       "      <td>0.0</td>\n",
       "      <td>0.0</td>\n",
       "      <td>2.0</td>\n",
       "      <td>0.0</td>\n",
       "      <td>1.0</td>\n",
       "      <td>1.0</td>\n",
       "      <td>0.0</td>\n",
       "      <td>3.0</td>\n",
       "      <td>0.0</td>\n",
       "      <td>0.0</td>\n",
       "      <td>0.0</td>\n",
       "      <td>0.0</td>\n",
       "      <td>0.0</td>\n",
       "      <td>1.0</td>\n",
       "      <td>0.0</td>\n",
       "      <td>0.0</td>\n",
       "      <td>0.0</td>\n",
       "      <td>0</td>\n",
       "      <td>0</td>\n",
       "      <td>0.0</td>\n",
       "      <td>0.0</td>\n",
       "      <td>0</td>\n",
       "      <td>0.0</td>\n",
       "      <td>0.0</td>\n",
       "      <td>0.0</td>\n",
       "      <td>2.0</td>\n",
       "      <td>2.0</td>\n",
       "      <td>1.0</td>\n",
       "      <td>2.0</td>\n",
       "      <td>0.0</td>\n",
       "      <td>2</td>\n",
       "      <td>0.0</td>\n",
       "      <td>2.0</td>\n",
       "      <td>2.0</td>\n",
       "      <td>-4.0</td>\n",
       "      <td>8.0</td>\n",
       "      <td>105.0</td>\n",
       "      <td>8.0</td>\n",
       "      <td>1041.30</td>\n",
       "      <td>21.0</td>\n",
       "      <td>18.0</td>\n",
       "      <td>5.0</td>\n",
       "      <td>35.0</td>\n",
       "      <td>21.0</td>\n",
       "      <td>12665.0</td>\n",
       "      <td>50.618</td>\n",
       "      <td>16940.0</td>\n",
       "      <td>11868.0</td>\n",
       "      <td>8.2759</td>\n",
       "      <td>1005.0</td>\n",
       "      <td>1676.5</td>\n",
       "      <td>2642.0</td>\n",
       "      <td>2030.5</td>\n",
       "      <td>3017.0</td>\n",
       "    </tr>\n",
       "    <tr>\n",
       "      <th>4</th>\n",
       "      <td>4</td>\n",
       "      <td>4239617.0</td>\n",
       "      <td>\"71\"</td>\n",
       "      <td>1</td>\n",
       "      <td>Right</td>\n",
       "      <td>Doctoral degree</td>\n",
       "      <td>English</td>\n",
       "      <td>English</td>\n",
       "      <td>2020-03-10</td>\n",
       "      <td>NaT</td>\n",
       "      <td>121</td>\n",
       "      <td>111</td>\n",
       "      <td>7</td>\n",
       "      <td>1</td>\n",
       "      <td>50</td>\n",
       "      <td>Y</td>\n",
       "      <td>9.5</td>\n",
       "      <td>Y</td>\n",
       "      <td>367</td>\n",
       "      <td>952</td>\n",
       "      <td>0</td>\n",
       "      <td>0</td>\n",
       "      <td>3</td>\n",
       "      <td>0.0</td>\n",
       "      <td>0</td>\n",
       "      <td>0.0</td>\n",
       "      <td>0.0</td>\n",
       "      <td>0.0</td>\n",
       "      <td>0.0</td>\n",
       "      <td>0.0</td>\n",
       "      <td>0.0</td>\n",
       "      <td>0.0</td>\n",
       "      <td>0.0</td>\n",
       "      <td>0.0</td>\n",
       "      <td>0.0</td>\n",
       "      <td>0.0</td>\n",
       "      <td>0.0</td>\n",
       "      <td>0.0</td>\n",
       "      <td>0.0</td>\n",
       "      <td>NaN</td>\n",
       "      <td>0.0</td>\n",
       "      <td>0.0</td>\n",
       "      <td>0.0</td>\n",
       "      <td>1</td>\n",
       "      <td>0</td>\n",
       "      <td>0.0</td>\n",
       "      <td>0.0</td>\n",
       "      <td>1</td>\n",
       "      <td>0.0</td>\n",
       "      <td>0.0</td>\n",
       "      <td>0.0</td>\n",
       "      <td>1.0</td>\n",
       "      <td>0.0</td>\n",
       "      <td>0.0</td>\n",
       "      <td>0.0</td>\n",
       "      <td>0.0</td>\n",
       "      <td>0</td>\n",
       "      <td>0.0</td>\n",
       "      <td>0.0</td>\n",
       "      <td>0.0</td>\n",
       "      <td>10.0</td>\n",
       "      <td>9.0</td>\n",
       "      <td>120.0</td>\n",
       "      <td>24.0</td>\n",
       "      <td>786.40</td>\n",
       "      <td>20.0</td>\n",
       "      <td>24.0</td>\n",
       "      <td>6.0</td>\n",
       "      <td>64.0</td>\n",
       "      <td>38.0</td>\n",
       "      <td>8612.5</td>\n",
       "      <td>50.792</td>\n",
       "      <td>4809.5</td>\n",
       "      <td>7010.0</td>\n",
       "      <td>28.4730</td>\n",
       "      <td>1010.0</td>\n",
       "      <td>999.0</td>\n",
       "      <td>5343.5</td>\n",
       "      <td>1376.5</td>\n",
       "      <td>3247.0</td>\n",
       "    </tr>\n",
       "  </tbody>\n",
       "</table>\n",
       "</div>"
      ],
      "text/plain": [
       "   Unnamed: 0     userID   Age  Sex 1-Male 2-Female Handedness  \\\n",
       "0           0  4133880.0  \"63\"                    2      Right   \n",
       "1           1  4227668.0  \"70\"                    1      Right   \n",
       "2           2  4105609.0  \"54\"                    1      Right   \n",
       "3           3  4105207.0  \"55\"                    2      Right   \n",
       "4           4  4239617.0  \"71\"                    1      Right   \n",
       "\n",
       "            Qualifications First Language First Language binary Symtpm onset  \\\n",
       "0  Some college, no degree         Polish                 Other   2020-05-05   \n",
       "1           O levels/GCSEs        English               english   2020-03-18   \n",
       "2                 A levels        English               english   2020-03-22   \n",
       "3  Some college, no degree        English               English   2020-03-31   \n",
       "4          Doctoral degree        English               English   2020-03-10   \n",
       "\n",
       "  tested date  COVID Symptom onset to imaging & cognitive testing (days)  \\\n",
       "0         NaT                                                 38           \n",
       "1         NaT                                                 87           \n",
       "2         NaT                                                 97           \n",
       "3         NaT                                                 95           \n",
       "4         NaT                                                121           \n",
       "\n",
       "  Admission to imaging & cognitive testing (days)  \\\n",
       "0                                              34   \n",
       "1                                              65   \n",
       "2                                              90   \n",
       "3                                              99   \n",
       "4                                             111   \n",
       "\n",
       "   Covid-19 severity (WHO Ordinal Scale)  Mechanical ventilation (1-Y,0-no)  \\\n",
       "0                                      6                                  1   \n",
       "1                                      7                                  1   \n",
       "2                                      6                                  1   \n",
       "3                                      7                                  1   \n",
       "4                                      7                                  1   \n",
       "\n",
       "   Days mechanically ventilated Trachy Y/N  \\\n",
       "0                            14          N   \n",
       "1                            47          Y   \n",
       "2                            28          Y   \n",
       "3                            18          N   \n",
       "4                            50          Y   \n",
       "\n",
       "   Lowest PaO2/FiO2 ratio (severity of lung injury, lower is worse)  \\\n",
       "0                                                8.0                  \n",
       "1                                               10.0                  \n",
       "2                                                8.0                  \n",
       "3                                               10.0                  \n",
       "4                                                9.5                  \n",
       "\n",
       "  Extrapulmonary organ dysfunction/support Highest CRP during admission  \\\n",
       "0                                        Y                          286   \n",
       "1                                        Y                          350   \n",
       "2                                        Y                          399   \n",
       "3                                        Y                          405   \n",
       "4                                        Y                          367   \n",
       "\n",
       "  Highest D-Dimer during admission  GAD-7 PHQ-9  PCL-5  GAD7 1. GAD7 2.  \\\n",
       "0                              242      4     3     21      1.0       0   \n",
       "1                            11593      1     0      5      0.0       0   \n",
       "2                             3161      9     9     16      1.0       1   \n",
       "3                              861      4     5     13      0.0       1   \n",
       "4                              952      0     0      3      0.0       0   \n",
       "\n",
       "   GAD7 3.   GAD7 4.   GAD7 5.  GAD7 6.  GAD7 7.  PHQ9 1.  PHQ9 2.  PHQ9 3.  \\\n",
       "0       1.0       1.0      0.0      0.0      1.0      0.0      0.0      1.0   \n",
       "1       0.0       0.0      0.0      0.0      0.0      0.0      0.0      3.0   \n",
       "2       2.0       2.0      1.0      1.0      1.0      1.0      1.0      2.0   \n",
       "3       1.0       0.0      0.0      2.0      0.0      1.0      1.0      0.0   \n",
       "4       0.0       0.0      0.0      0.0      0.0      0.0      0.0      0.0   \n",
       "\n",
       "   PHQ9 4.  PHQ9 5.  PHQ9 6.  PHQ9 7.  PHQ9 8.   PHQ9 9.  PHQ9 Difficulty  \\\n",
       "0      1.0      0.0      0.0      1.0       0.0      0.0              2.0   \n",
       "1      0.0      0.0      0.0      0.0       0.0      0.0              1.0   \n",
       "2      1.0      0.0      2.0      1.0       1.0      0.0              2.0   \n",
       "3      3.0      0.0      0.0      0.0       0.0      0.0              1.0   \n",
       "4      0.0      0.0      0.0      0.0       0.0      0.0              NaN   \n",
       "\n",
       "   PCL5 1.  PCL5 2.  PCL5 3. PCL5 4. PCL5 5.  PCL5 6.  PCL5 7. PCL5 8.  \\\n",
       "0      0.0      0.0      1.0       1       1      3.0      3.0       1   \n",
       "1      0.0      0.0      0.0       0       0      0.0      0.0       1   \n",
       "2      1.0      1.0      0.0       1       0      0.0      0.0       0   \n",
       "3      0.0      0.0      0.0       0       0      0.0      0.0       0   \n",
       "4      0.0      0.0      0.0       1       0      0.0      0.0       1   \n",
       "\n",
       "   PCL5 9.  PCL5 10.  PCL5 11.  PCL5 12.  PCL5 13.  PCL5 14.  PCL5 15.  \\\n",
       "0      1.0       1.0       0.0       1.0       2.0       1.0       1.0   \n",
       "1      0.0       0.0       0.0       0.0       0.0       0.0       0.0   \n",
       "2      2.0       1.0       1.0       0.0       0.0       0.0       0.0   \n",
       "3      0.0       0.0       0.0       2.0       2.0       1.0       2.0   \n",
       "4      0.0       0.0       0.0       1.0       0.0       0.0       0.0   \n",
       "\n",
       "   PCL5 16. PCL5 17.   PCL5 18.  PCL5 19.  PCL5 20.  DRI_fourTowers  rs_TOL  \\\n",
       "0       0.0         1       0.0       1.0       2.0             2.0     3.0   \n",
       "1       0.0         0       0.0       0.0       0.0             6.0     8.0   \n",
       "2       2.0         3       0.0       2.0       2.0            10.0    10.0   \n",
       "3       0.0         2       0.0       2.0       2.0            -4.0     8.0   \n",
       "4       0.0         0       0.0       0.0       0.0            10.0     9.0   \n",
       "\n",
       "   rs_learningCurves  rs_manipulations2D  rs_motorControl  \\\n",
       "0              106.0                17.0           659.03   \n",
       "1              118.0                17.0           733.57   \n",
       "2              119.0                18.0           659.67   \n",
       "3              105.0                 8.0          1041.30   \n",
       "4              120.0                24.0           786.40   \n",
       "\n",
       "   rs_prospectiveMemoryWords_1_delayed  rs_prospectiveMemoryWords_1_immediate  \\\n",
       "0                                 21.0                                   22.0   \n",
       "1                                 19.0                                   22.0   \n",
       "2                                 18.0                                   22.0   \n",
       "3                                 21.0                                   18.0   \n",
       "4                                 20.0                                   24.0   \n",
       "\n",
       "   rs_spatialSpan  rs_targetDetection  rs_verbalAnalogies  RTDRI_fourTowers  \\\n",
       "0             4.0                65.0                 6.0           10242.0   \n",
       "1             4.0                32.0                11.0           11151.0   \n",
       "2             5.0                63.0                 8.0           11171.0   \n",
       "3             5.0                35.0                21.0           12665.0   \n",
       "4             6.0                64.0                38.0            8612.5   \n",
       "\n",
       "   RTrs_learningCurves  RTrs_manipulations2D  RTrs_TOL  RTrs_motorControl  \\\n",
       "0               50.764                4504.0   13709.0            13.0790   \n",
       "1               50.551                8262.0   11550.0            23.0550   \n",
       "2               50.247                6937.0    9411.0            12.0190   \n",
       "3               50.618               16940.0   11868.0             8.2759   \n",
       "4               50.792                4809.5    7010.0            28.4730   \n",
       "\n",
       "   RTrs_prospectiveMemoryWords_1_delayed  \\\n",
       "0                                 1041.0   \n",
       "1                                 1010.5   \n",
       "2                                  800.5   \n",
       "3                                 1005.0   \n",
       "4                                 1010.0   \n",
       "\n",
       "   RTrs_prospectiveMemoryWords_1_immediate  RTrs_spatialSpan  \\\n",
       "0                                   1113.0            4245.5   \n",
       "1                                   1066.0            2863.0   \n",
       "2                                    930.0            2383.0   \n",
       "3                                   1676.5            2642.0   \n",
       "4                                    999.0            5343.5   \n",
       "\n",
       "   RTrs_targetDetection  RTrs_verbalAnalogies  \n",
       "0                1314.0                9054.0  \n",
       "1                1686.0                6167.5  \n",
       "2                1079.0                4799.0  \n",
       "3                2030.5                3017.0  \n",
       "4                1376.5                3247.0  "
      ]
     },
     "execution_count": 4,
     "metadata": {},
     "output_type": "execute_result"
    }
   ],
   "source": [
    "pd.set_option('display.max_columns', None)\n",
    "df.head()"
   ]
  },
  {
   "cell_type": "markdown",
   "metadata": {},
   "source": [
    "Now you can see all 79 columns. Please go through each column and try to understand what it is that it's measuring."
   ]
  },
  {
   "cell_type": "markdown",
   "metadata": {},
   "source": [
    "There is a lot of information contained in this dataset. But for today's tutorial we do not need all of this information. Let's try to curate a smaller dataset which only contains the variables that we are interested in. We are going to keep several demographic variables, some information about COVID19 severity and 3 the results of 3 cognitive tasks."
   ]
  },
  {
   "cell_type": "code",
   "execution_count": 5,
   "metadata": {},
   "outputs": [],
   "source": [
    "df2 = pd.concat([df.loc[:, \"userID\":\"First Language binary\"], \n",
    "                 df[\"Mechanical ventilation (1-Y,0-no)\"], \n",
    "                 df.loc[:, \"rs_spatialSpan\":\"rs_verbalAnalogies\"]], axis=1)"
   ]
  },
  {
   "cell_type": "code",
   "execution_count": 6,
   "metadata": {},
   "outputs": [
    {
     "data": {
      "text/html": [
       "<div>\n",
       "<style scoped>\n",
       "    .dataframe tbody tr th:only-of-type {\n",
       "        vertical-align: middle;\n",
       "    }\n",
       "\n",
       "    .dataframe tbody tr th {\n",
       "        vertical-align: top;\n",
       "    }\n",
       "\n",
       "    .dataframe thead th {\n",
       "        text-align: right;\n",
       "    }\n",
       "</style>\n",
       "<table border=\"1\" class=\"dataframe\">\n",
       "  <thead>\n",
       "    <tr style=\"text-align: right;\">\n",
       "      <th></th>\n",
       "      <th>userID</th>\n",
       "      <th>Age</th>\n",
       "      <th>Sex 1-Male 2-Female</th>\n",
       "      <th>Handedness</th>\n",
       "      <th>Qualifications</th>\n",
       "      <th>First Language</th>\n",
       "      <th>First Language binary</th>\n",
       "      <th>Mechanical ventilation (1-Y,0-no)</th>\n",
       "      <th>rs_spatialSpan</th>\n",
       "      <th>rs_targetDetection</th>\n",
       "      <th>rs_verbalAnalogies</th>\n",
       "    </tr>\n",
       "  </thead>\n",
       "  <tbody>\n",
       "    <tr>\n",
       "      <th>0</th>\n",
       "      <td>4133880.0</td>\n",
       "      <td>\"63\"</td>\n",
       "      <td>2</td>\n",
       "      <td>Right</td>\n",
       "      <td>Some college, no degree</td>\n",
       "      <td>Polish</td>\n",
       "      <td>Other</td>\n",
       "      <td>1</td>\n",
       "      <td>4.0</td>\n",
       "      <td>65.0</td>\n",
       "      <td>6.0</td>\n",
       "    </tr>\n",
       "    <tr>\n",
       "      <th>1</th>\n",
       "      <td>4227668.0</td>\n",
       "      <td>\"70\"</td>\n",
       "      <td>1</td>\n",
       "      <td>Right</td>\n",
       "      <td>O levels/GCSEs</td>\n",
       "      <td>English</td>\n",
       "      <td>english</td>\n",
       "      <td>1</td>\n",
       "      <td>4.0</td>\n",
       "      <td>32.0</td>\n",
       "      <td>11.0</td>\n",
       "    </tr>\n",
       "    <tr>\n",
       "      <th>2</th>\n",
       "      <td>4105609.0</td>\n",
       "      <td>\"54\"</td>\n",
       "      <td>1</td>\n",
       "      <td>Right</td>\n",
       "      <td>A levels</td>\n",
       "      <td>English</td>\n",
       "      <td>english</td>\n",
       "      <td>1</td>\n",
       "      <td>5.0</td>\n",
       "      <td>63.0</td>\n",
       "      <td>8.0</td>\n",
       "    </tr>\n",
       "    <tr>\n",
       "      <th>3</th>\n",
       "      <td>4105207.0</td>\n",
       "      <td>\"55\"</td>\n",
       "      <td>2</td>\n",
       "      <td>Right</td>\n",
       "      <td>Some college, no degree</td>\n",
       "      <td>English</td>\n",
       "      <td>English</td>\n",
       "      <td>1</td>\n",
       "      <td>5.0</td>\n",
       "      <td>35.0</td>\n",
       "      <td>21.0</td>\n",
       "    </tr>\n",
       "    <tr>\n",
       "      <th>4</th>\n",
       "      <td>4239617.0</td>\n",
       "      <td>\"71\"</td>\n",
       "      <td>1</td>\n",
       "      <td>Right</td>\n",
       "      <td>Doctoral degree</td>\n",
       "      <td>English</td>\n",
       "      <td>English</td>\n",
       "      <td>1</td>\n",
       "      <td>6.0</td>\n",
       "      <td>64.0</td>\n",
       "      <td>38.0</td>\n",
       "    </tr>\n",
       "  </tbody>\n",
       "</table>\n",
       "</div>"
      ],
      "text/plain": [
       "      userID   Age  Sex 1-Male 2-Female Handedness           Qualifications  \\\n",
       "0  4133880.0  \"63\"                    2      Right  Some college, no degree   \n",
       "1  4227668.0  \"70\"                    1      Right           O levels/GCSEs   \n",
       "2  4105609.0  \"54\"                    1      Right                 A levels   \n",
       "3  4105207.0  \"55\"                    2      Right  Some college, no degree   \n",
       "4  4239617.0  \"71\"                    1      Right          Doctoral degree   \n",
       "\n",
       "  First Language First Language binary  Mechanical ventilation (1-Y,0-no)  \\\n",
       "0         Polish                 Other                                  1   \n",
       "1        English               english                                  1   \n",
       "2        English               english                                  1   \n",
       "3        English               English                                  1   \n",
       "4        English               English                                  1   \n",
       "\n",
       "   rs_spatialSpan  rs_targetDetection  rs_verbalAnalogies  \n",
       "0             4.0                65.0                 6.0  \n",
       "1             4.0                32.0                11.0  \n",
       "2             5.0                63.0                 8.0  \n",
       "3             5.0                35.0                21.0  \n",
       "4             6.0                64.0                38.0  "
      ]
     },
     "execution_count": 6,
     "metadata": {},
     "output_type": "execute_result"
    }
   ],
   "source": [
    "df2.head()"
   ]
  },
  {
   "cell_type": "markdown",
   "metadata": {},
   "source": [
    "Our dataset looks a lot more manageable now! However, some of the variable names we have are not very intuitive. Let's change the name of the cognitive tasks so that it is easier to understand what they measure."
   ]
  },
  {
   "cell_type": "code",
   "execution_count": 7,
   "metadata": {},
   "outputs": [
    {
     "data": {
      "text/html": [
       "<div>\n",
       "<style scoped>\n",
       "    .dataframe tbody tr th:only-of-type {\n",
       "        vertical-align: middle;\n",
       "    }\n",
       "\n",
       "    .dataframe tbody tr th {\n",
       "        vertical-align: top;\n",
       "    }\n",
       "\n",
       "    .dataframe thead th {\n",
       "        text-align: right;\n",
       "    }\n",
       "</style>\n",
       "<table border=\"1\" class=\"dataframe\">\n",
       "  <thead>\n",
       "    <tr style=\"text-align: right;\">\n",
       "      <th></th>\n",
       "      <th>userID</th>\n",
       "      <th>Age</th>\n",
       "      <th>Sex 1-Male 2-Female</th>\n",
       "      <th>Handedness</th>\n",
       "      <th>Qualifications</th>\n",
       "      <th>First Language</th>\n",
       "      <th>First Language binary</th>\n",
       "      <th>Mechanical ventilation (1-Y,0-no)</th>\n",
       "      <th>memory_spatialSpan</th>\n",
       "      <th>attention_targetDetection</th>\n",
       "      <th>language_verbalAnalogies</th>\n",
       "    </tr>\n",
       "  </thead>\n",
       "  <tbody>\n",
       "    <tr>\n",
       "      <th>0</th>\n",
       "      <td>4133880.0</td>\n",
       "      <td>\"63\"</td>\n",
       "      <td>2</td>\n",
       "      <td>Right</td>\n",
       "      <td>Some college, no degree</td>\n",
       "      <td>Polish</td>\n",
       "      <td>Other</td>\n",
       "      <td>1</td>\n",
       "      <td>4.0</td>\n",
       "      <td>65.0</td>\n",
       "      <td>6.0</td>\n",
       "    </tr>\n",
       "    <tr>\n",
       "      <th>1</th>\n",
       "      <td>4227668.0</td>\n",
       "      <td>\"70\"</td>\n",
       "      <td>1</td>\n",
       "      <td>Right</td>\n",
       "      <td>O levels/GCSEs</td>\n",
       "      <td>English</td>\n",
       "      <td>english</td>\n",
       "      <td>1</td>\n",
       "      <td>4.0</td>\n",
       "      <td>32.0</td>\n",
       "      <td>11.0</td>\n",
       "    </tr>\n",
       "    <tr>\n",
       "      <th>2</th>\n",
       "      <td>4105609.0</td>\n",
       "      <td>\"54\"</td>\n",
       "      <td>1</td>\n",
       "      <td>Right</td>\n",
       "      <td>A levels</td>\n",
       "      <td>English</td>\n",
       "      <td>english</td>\n",
       "      <td>1</td>\n",
       "      <td>5.0</td>\n",
       "      <td>63.0</td>\n",
       "      <td>8.0</td>\n",
       "    </tr>\n",
       "    <tr>\n",
       "      <th>3</th>\n",
       "      <td>4105207.0</td>\n",
       "      <td>\"55\"</td>\n",
       "      <td>2</td>\n",
       "      <td>Right</td>\n",
       "      <td>Some college, no degree</td>\n",
       "      <td>English</td>\n",
       "      <td>English</td>\n",
       "      <td>1</td>\n",
       "      <td>5.0</td>\n",
       "      <td>35.0</td>\n",
       "      <td>21.0</td>\n",
       "    </tr>\n",
       "    <tr>\n",
       "      <th>4</th>\n",
       "      <td>4239617.0</td>\n",
       "      <td>\"71\"</td>\n",
       "      <td>1</td>\n",
       "      <td>Right</td>\n",
       "      <td>Doctoral degree</td>\n",
       "      <td>English</td>\n",
       "      <td>English</td>\n",
       "      <td>1</td>\n",
       "      <td>6.0</td>\n",
       "      <td>64.0</td>\n",
       "      <td>38.0</td>\n",
       "    </tr>\n",
       "  </tbody>\n",
       "</table>\n",
       "</div>"
      ],
      "text/plain": [
       "      userID   Age  Sex 1-Male 2-Female Handedness           Qualifications  \\\n",
       "0  4133880.0  \"63\"                    2      Right  Some college, no degree   \n",
       "1  4227668.0  \"70\"                    1      Right           O levels/GCSEs   \n",
       "2  4105609.0  \"54\"                    1      Right                 A levels   \n",
       "3  4105207.0  \"55\"                    2      Right  Some college, no degree   \n",
       "4  4239617.0  \"71\"                    1      Right          Doctoral degree   \n",
       "\n",
       "  First Language First Language binary  Mechanical ventilation (1-Y,0-no)  \\\n",
       "0         Polish                 Other                                  1   \n",
       "1        English               english                                  1   \n",
       "2        English               english                                  1   \n",
       "3        English               English                                  1   \n",
       "4        English               English                                  1   \n",
       "\n",
       "   memory_spatialSpan  attention_targetDetection  language_verbalAnalogies  \n",
       "0                 4.0                       65.0                       6.0  \n",
       "1                 4.0                       32.0                      11.0  \n",
       "2                 5.0                       63.0                       8.0  \n",
       "3                 5.0                       35.0                      21.0  \n",
       "4                 6.0                       64.0                      38.0  "
      ]
     },
     "execution_count": 7,
     "metadata": {},
     "output_type": "execute_result"
    }
   ],
   "source": [
    "df2.rename(columns = {'rs_spatialSpan':'memory_spatialSpan', \n",
    "                      'rs_verbalAnalogies':'language_verbalAnalogies', \n",
    "                      'rs_targetDetection':'attention_targetDetection'}, inplace = True)\n",
    "df2.head()"
   ]
  },
  {
   "cell_type": "markdown",
   "metadata": {},
   "source": [
    "Try to change the column called `Qualifications` to `Education`"
   ]
  },
  {
   "cell_type": "code",
   "execution_count": 8,
   "metadata": {},
   "outputs": [],
   "source": [
    "#CODE HERE"
   ]
  },
  {
   "cell_type": "markdown",
   "metadata": {},
   "source": [
    "Now, let's look at the data types for each of our variables. We discussed these during the primer, but as a quick summary, it is important that the data type matches what we expect. Strings are usually saved as objects in python and numeric variables are saved as integers (int64) or float (float64). However, sometimes either due to humar error or due to the way the data is saved, Python might assign the wrong data type to your variables (e.g. numbers may be saved as strings). When this happens, statistical tests throw errors and so do certain plotting functions and it can take a while to figure out where the errors. Have a look at our data and see if you can spot any wrong data types."
   ]
  },
  {
   "cell_type": "code",
   "execution_count": 9,
   "metadata": {},
   "outputs": [
    {
     "data": {
      "text/plain": [
       "userID                               float64\n",
       "Age                                   object\n",
       "Sex 1-Male 2-Female                    int64\n",
       "Handedness                            object\n",
       "Qualifications                        object\n",
       "First Language                        object\n",
       "First Language binary                 object\n",
       "Mechanical ventilation (1-Y,0-no)      int64\n",
       "memory_spatialSpan                   float64\n",
       "attention_targetDetection            float64\n",
       "language_verbalAnalogies             float64\n",
       "dtype: object"
      ]
     },
     "execution_count": 9,
     "metadata": {},
     "output_type": "execute_result"
    }
   ],
   "source": [
    "df2.dtypes"
   ]
  },
  {
   "cell_type": "markdown",
   "metadata": {},
   "source": [
    "It looks like Age was saved as an object, instead of integer. Let's change that. First, we get rid of the quotation marks around the numbers, then we tell python to convert those numbers to `int`"
   ]
  },
  {
   "cell_type": "code",
   "execution_count": 10,
   "metadata": {},
   "outputs": [],
   "source": [
    "df2.Age = df[\"Age\"].str.strip('\\\"') \n"
   ]
  },
  {
   "cell_type": "code",
   "execution_count": 11,
   "metadata": {},
   "outputs": [],
   "source": [
    "df2.Age = df2.Age.astype(int)"
   ]
  },
  {
   "cell_type": "code",
   "execution_count": 12,
   "metadata": {},
   "outputs": [
    {
     "data": {
      "text/plain": [
       "userID                               float64\n",
       "Age                                    int64\n",
       "Sex 1-Male 2-Female                    int64\n",
       "Handedness                            object\n",
       "Qualifications                        object\n",
       "First Language                        object\n",
       "First Language binary                 object\n",
       "Mechanical ventilation (1-Y,0-no)      int64\n",
       "memory_spatialSpan                   float64\n",
       "attention_targetDetection            float64\n",
       "language_verbalAnalogies             float64\n",
       "dtype: object"
      ]
     },
     "execution_count": 12,
     "metadata": {},
     "output_type": "execute_result"
    }
   ],
   "source": [
    "df2.dtypes # check that the changes have worked\n"
   ]
  },
  {
   "cell_type": "markdown",
   "metadata": {},
   "source": [
    "Now that we have all of our data in the right format, we may want to check if the values contained in the columns are consistent. If you have a look in the `First language binary` column you will notice that some of the values are capitalised while others are not. This is a problem as any statistics we run will assume that `english` and `English` are two distinct groups. To fix this, we can choose a consistent way to show this and stick with it."
   ]
  },
  {
   "cell_type": "code",
   "execution_count": 13,
   "metadata": {},
   "outputs": [
    {
     "data": {
      "text/html": [
       "<div>\n",
       "<style scoped>\n",
       "    .dataframe tbody tr th:only-of-type {\n",
       "        vertical-align: middle;\n",
       "    }\n",
       "\n",
       "    .dataframe tbody tr th {\n",
       "        vertical-align: top;\n",
       "    }\n",
       "\n",
       "    .dataframe thead th {\n",
       "        text-align: right;\n",
       "    }\n",
       "</style>\n",
       "<table border=\"1\" class=\"dataframe\">\n",
       "  <thead>\n",
       "    <tr style=\"text-align: right;\">\n",
       "      <th></th>\n",
       "      <th>userID</th>\n",
       "      <th>Age</th>\n",
       "      <th>Sex 1-Male 2-Female</th>\n",
       "      <th>Handedness</th>\n",
       "      <th>Qualifications</th>\n",
       "      <th>First Language</th>\n",
       "      <th>First Language binary</th>\n",
       "      <th>Mechanical ventilation (1-Y,0-no)</th>\n",
       "      <th>memory_spatialSpan</th>\n",
       "      <th>attention_targetDetection</th>\n",
       "      <th>language_verbalAnalogies</th>\n",
       "    </tr>\n",
       "  </thead>\n",
       "  <tbody>\n",
       "    <tr>\n",
       "      <th>0</th>\n",
       "      <td>4133880.0</td>\n",
       "      <td>63</td>\n",
       "      <td>2</td>\n",
       "      <td>Right</td>\n",
       "      <td>Some college, no degree</td>\n",
       "      <td>Polish</td>\n",
       "      <td>Other</td>\n",
       "      <td>1</td>\n",
       "      <td>4.0</td>\n",
       "      <td>65.0</td>\n",
       "      <td>6.0</td>\n",
       "    </tr>\n",
       "    <tr>\n",
       "      <th>1</th>\n",
       "      <td>4227668.0</td>\n",
       "      <td>70</td>\n",
       "      <td>1</td>\n",
       "      <td>Right</td>\n",
       "      <td>O levels/GCSEs</td>\n",
       "      <td>English</td>\n",
       "      <td>English</td>\n",
       "      <td>1</td>\n",
       "      <td>4.0</td>\n",
       "      <td>32.0</td>\n",
       "      <td>11.0</td>\n",
       "    </tr>\n",
       "    <tr>\n",
       "      <th>2</th>\n",
       "      <td>4105609.0</td>\n",
       "      <td>54</td>\n",
       "      <td>1</td>\n",
       "      <td>Right</td>\n",
       "      <td>A levels</td>\n",
       "      <td>English</td>\n",
       "      <td>English</td>\n",
       "      <td>1</td>\n",
       "      <td>5.0</td>\n",
       "      <td>63.0</td>\n",
       "      <td>8.0</td>\n",
       "    </tr>\n",
       "    <tr>\n",
       "      <th>3</th>\n",
       "      <td>4105207.0</td>\n",
       "      <td>55</td>\n",
       "      <td>2</td>\n",
       "      <td>Right</td>\n",
       "      <td>Some college, no degree</td>\n",
       "      <td>English</td>\n",
       "      <td>English</td>\n",
       "      <td>1</td>\n",
       "      <td>5.0</td>\n",
       "      <td>35.0</td>\n",
       "      <td>21.0</td>\n",
       "    </tr>\n",
       "    <tr>\n",
       "      <th>4</th>\n",
       "      <td>4239617.0</td>\n",
       "      <td>71</td>\n",
       "      <td>1</td>\n",
       "      <td>Right</td>\n",
       "      <td>Doctoral degree</td>\n",
       "      <td>English</td>\n",
       "      <td>English</td>\n",
       "      <td>1</td>\n",
       "      <td>6.0</td>\n",
       "      <td>64.0</td>\n",
       "      <td>38.0</td>\n",
       "    </tr>\n",
       "  </tbody>\n",
       "</table>\n",
       "</div>"
      ],
      "text/plain": [
       "      userID  Age  Sex 1-Male 2-Female Handedness           Qualifications  \\\n",
       "0  4133880.0   63                    2      Right  Some college, no degree   \n",
       "1  4227668.0   70                    1      Right           O levels/GCSEs   \n",
       "2  4105609.0   54                    1      Right                 A levels   \n",
       "3  4105207.0   55                    2      Right  Some college, no degree   \n",
       "4  4239617.0   71                    1      Right          Doctoral degree   \n",
       "\n",
       "  First Language First Language binary  Mechanical ventilation (1-Y,0-no)  \\\n",
       "0         Polish                 Other                                  1   \n",
       "1        English               English                                  1   \n",
       "2        English               English                                  1   \n",
       "3        English               English                                  1   \n",
       "4        English               English                                  1   \n",
       "\n",
       "   memory_spatialSpan  attention_targetDetection  language_verbalAnalogies  \n",
       "0                 4.0                       65.0                       6.0  \n",
       "1                 4.0                       32.0                      11.0  \n",
       "2                 5.0                       63.0                       8.0  \n",
       "3                 5.0                       35.0                      21.0  \n",
       "4                 6.0                       64.0                      38.0  "
      ]
     },
     "execution_count": 13,
     "metadata": {},
     "output_type": "execute_result"
    }
   ],
   "source": [
    "df2['First Language binary'] = df2['First Language binary'].str.title()\n",
    "df2.head()"
   ]
  },
  {
   "cell_type": "markdown",
   "metadata": {},
   "source": [
    "Try to do the same for the `Handedness` variable."
   ]
  },
  {
   "cell_type": "code",
   "execution_count": 475,
   "metadata": {},
   "outputs": [],
   "source": [
    "#CODE HERE"
   ]
  },
  {
   "cell_type": "markdown",
   "metadata": {},
   "source": [
    "We may also wish to encode some of our categorical variables into a numeric format. This is usually done as specific statistical techniques, as well as machine learning algorithms (which we will discuss in later lectures), require categorical data to be in a numeric format. So, it is always safer to have your data saved in a numeric format, wherever possible. \n",
    "\n",
    "There are different ways to encode variables, and the two most common ones are `integer encoding` and `one-hot-encoding`. Integer encoding consists in assigning an integer value to each category. Instead, one-hot encoding represents categorical variables as binary vectors. Concretely if you have three potential alternatives for one category, then, for each participant, the proper alternative will be assigned a vlue of 1, and the others a value of 0. \n",
    "\n",
    "Both integer and one-hot encoding can be used. However, one limitation of integer encoding is that it introduces an *order* when assigning an integer to each group, which might not really be meaningful. So, it should be used carefully. \n",
    "\n",
    "For instance, the language variable is a good example where encoding would be useful. Let's see how this can be done below.\n",
    "\n",
    "The most common way to hot-encode in Python is to use the `get_dummies` function. "
   ]
  },
  {
   "cell_type": "code",
   "execution_count": 23,
   "metadata": {},
   "outputs": [
    {
     "data": {
      "text/html": [
       "<div>\n",
       "<style scoped>\n",
       "    .dataframe tbody tr th:only-of-type {\n",
       "        vertical-align: middle;\n",
       "    }\n",
       "\n",
       "    .dataframe tbody tr th {\n",
       "        vertical-align: top;\n",
       "    }\n",
       "\n",
       "    .dataframe thead th {\n",
       "        text-align: right;\n",
       "    }\n",
       "</style>\n",
       "<table border=\"1\" class=\"dataframe\">\n",
       "  <thead>\n",
       "    <tr style=\"text-align: right;\">\n",
       "      <th></th>\n",
       "      <th>English</th>\n",
       "      <th>Other</th>\n",
       "    </tr>\n",
       "  </thead>\n",
       "  <tbody>\n",
       "    <tr>\n",
       "      <th>0</th>\n",
       "      <td>0</td>\n",
       "      <td>1</td>\n",
       "    </tr>\n",
       "    <tr>\n",
       "      <th>1</th>\n",
       "      <td>1</td>\n",
       "      <td>0</td>\n",
       "    </tr>\n",
       "    <tr>\n",
       "      <th>2</th>\n",
       "      <td>1</td>\n",
       "      <td>0</td>\n",
       "    </tr>\n",
       "    <tr>\n",
       "      <th>3</th>\n",
       "      <td>1</td>\n",
       "      <td>0</td>\n",
       "    </tr>\n",
       "    <tr>\n",
       "      <th>4</th>\n",
       "      <td>1</td>\n",
       "      <td>0</td>\n",
       "    </tr>\n",
       "  </tbody>\n",
       "</table>\n",
       "</div>"
      ],
      "text/plain": [
       "   English  Other\n",
       "0        0      1\n",
       "1        1      0\n",
       "2        1      0\n",
       "3        1      0\n",
       "4        1      0"
      ]
     },
     "execution_count": 23,
     "metadata": {},
     "output_type": "execute_result"
    }
   ],
   "source": [
    "# Text Data of First Language is converted into Numeric Binary Data\n",
    "df_one = pd.get_dummies(df2['First Language binary'])\n",
    "df_one.head()"
   ]
  },
  {
   "cell_type": "markdown",
   "metadata": {},
   "source": [
    "On the other hand, if you prefer to integer encode there are mutliple approaches that can be used. The first way is to define a dictionary on your own, in order to be able to decide which integer is applied to which feature."
   ]
  },
  {
   "cell_type": "code",
   "execution_count": 24,
   "metadata": {},
   "outputs": [
    {
     "data": {
      "text/plain": [
       "0    0\n",
       "1    1\n",
       "2    1\n",
       "3    1\n",
       "4    1\n",
       "Name: First Language binary, dtype: int64"
      ]
     },
     "execution_count": 24,
     "metadata": {},
     "output_type": "execute_result"
    }
   ],
   "source": [
    "mapping_language = {\"English\": 1, \"Other\": 0}\n",
    "mapped_language = df2['First Language binary'].map(mapping_language)\n",
    "mapped_language.head()"
   ]
  },
  {
   "cell_type": "markdown",
   "metadata": {},
   "source": [
    "Based on whether you choose to one-hot encode or integer encode your fearures, you will need to conduct your analysis slightly differently, mainly when training regression models. For now, since it's easier, let's keep the integer encoded version of language. "
   ]
  },
  {
   "cell_type": "code",
   "execution_count": 25,
   "metadata": {},
   "outputs": [
    {
     "data": {
      "text/html": [
       "<div>\n",
       "<style scoped>\n",
       "    .dataframe tbody tr th:only-of-type {\n",
       "        vertical-align: middle;\n",
       "    }\n",
       "\n",
       "    .dataframe tbody tr th {\n",
       "        vertical-align: top;\n",
       "    }\n",
       "\n",
       "    .dataframe thead th {\n",
       "        text-align: right;\n",
       "    }\n",
       "</style>\n",
       "<table border=\"1\" class=\"dataframe\">\n",
       "  <thead>\n",
       "    <tr style=\"text-align: right;\">\n",
       "      <th></th>\n",
       "      <th>userID</th>\n",
       "      <th>Age</th>\n",
       "      <th>Sex 1-Male 2-Female</th>\n",
       "      <th>Handedness</th>\n",
       "      <th>Qualifications</th>\n",
       "      <th>First Language</th>\n",
       "      <th>First Language 1-English 0-Other</th>\n",
       "      <th>Mechanical ventilation (1-Y,0-no)</th>\n",
       "      <th>memory_spatialSpan</th>\n",
       "      <th>attention_targetDetection</th>\n",
       "      <th>language_verbalAnalogies</th>\n",
       "    </tr>\n",
       "  </thead>\n",
       "  <tbody>\n",
       "    <tr>\n",
       "      <th>0</th>\n",
       "      <td>4133880.0</td>\n",
       "      <td>63</td>\n",
       "      <td>2</td>\n",
       "      <td>Right</td>\n",
       "      <td>Some college, no degree</td>\n",
       "      <td>Polish</td>\n",
       "      <td>0</td>\n",
       "      <td>1</td>\n",
       "      <td>4.0</td>\n",
       "      <td>65.0</td>\n",
       "      <td>6.0</td>\n",
       "    </tr>\n",
       "    <tr>\n",
       "      <th>1</th>\n",
       "      <td>4227668.0</td>\n",
       "      <td>70</td>\n",
       "      <td>1</td>\n",
       "      <td>Right</td>\n",
       "      <td>O levels/GCSEs</td>\n",
       "      <td>English</td>\n",
       "      <td>1</td>\n",
       "      <td>1</td>\n",
       "      <td>4.0</td>\n",
       "      <td>32.0</td>\n",
       "      <td>11.0</td>\n",
       "    </tr>\n",
       "    <tr>\n",
       "      <th>2</th>\n",
       "      <td>4105609.0</td>\n",
       "      <td>54</td>\n",
       "      <td>1</td>\n",
       "      <td>Right</td>\n",
       "      <td>A levels</td>\n",
       "      <td>English</td>\n",
       "      <td>1</td>\n",
       "      <td>1</td>\n",
       "      <td>5.0</td>\n",
       "      <td>63.0</td>\n",
       "      <td>8.0</td>\n",
       "    </tr>\n",
       "    <tr>\n",
       "      <th>3</th>\n",
       "      <td>4105207.0</td>\n",
       "      <td>55</td>\n",
       "      <td>2</td>\n",
       "      <td>Right</td>\n",
       "      <td>Some college, no degree</td>\n",
       "      <td>English</td>\n",
       "      <td>1</td>\n",
       "      <td>1</td>\n",
       "      <td>5.0</td>\n",
       "      <td>35.0</td>\n",
       "      <td>21.0</td>\n",
       "    </tr>\n",
       "    <tr>\n",
       "      <th>4</th>\n",
       "      <td>4239617.0</td>\n",
       "      <td>71</td>\n",
       "      <td>1</td>\n",
       "      <td>Right</td>\n",
       "      <td>Doctoral degree</td>\n",
       "      <td>English</td>\n",
       "      <td>1</td>\n",
       "      <td>1</td>\n",
       "      <td>6.0</td>\n",
       "      <td>64.0</td>\n",
       "      <td>38.0</td>\n",
       "    </tr>\n",
       "  </tbody>\n",
       "</table>\n",
       "</div>"
      ],
      "text/plain": [
       "      userID  Age  Sex 1-Male 2-Female Handedness           Qualifications  \\\n",
       "0  4133880.0   63                    2      Right  Some college, no degree   \n",
       "1  4227668.0   70                    1      Right           O levels/GCSEs   \n",
       "2  4105609.0   54                    1      Right                 A levels   \n",
       "3  4105207.0   55                    2      Right  Some college, no degree   \n",
       "4  4239617.0   71                    1      Right          Doctoral degree   \n",
       "\n",
       "  First Language  First Language 1-English 0-Other  \\\n",
       "0         Polish                                 0   \n",
       "1        English                                 1   \n",
       "2        English                                 1   \n",
       "3        English                                 1   \n",
       "4        English                                 1   \n",
       "\n",
       "   Mechanical ventilation (1-Y,0-no)  memory_spatialSpan  \\\n",
       "0                                  1                 4.0   \n",
       "1                                  1                 4.0   \n",
       "2                                  1                 5.0   \n",
       "3                                  1                 5.0   \n",
       "4                                  1                 6.0   \n",
       "\n",
       "   attention_targetDetection  language_verbalAnalogies  \n",
       "0                       65.0                       6.0  \n",
       "1                       32.0                      11.0  \n",
       "2                       63.0                       8.0  \n",
       "3                       35.0                      21.0  \n",
       "4                       64.0                      38.0  "
      ]
     },
     "execution_count": 25,
     "metadata": {},
     "output_type": "execute_result"
    }
   ],
   "source": [
    "df2[\"First Language binary\"] = mapped_language\n",
    "df2.rename(columns = {'First Language binary':'First Language 1-English 0-Other'}, inplace = True) #change the name of the column to something more meaningful\n",
    "df2.head()"
   ]
  },
  {
   "cell_type": "markdown",
   "metadata": {},
   "source": [
    "Try to do apply the same concept of encoding to the `Handedness` variable"
   ]
  },
  {
   "cell_type": "code",
   "execution_count": 478,
   "metadata": {},
   "outputs": [],
   "source": [
    "#CODE HERE"
   ]
  },
  {
   "cell_type": "markdown",
   "metadata": {},
   "source": [
    "Now, before moving forward we may also want to check the validity of the data. Are there any odd values that are not within the expected range? The best way to examine this is via plotting. Let's visualise some of the variables in the dataset"
   ]
  },
  {
   "cell_type": "code",
   "execution_count": 26,
   "metadata": {},
   "outputs": [
    {
     "data": {
      "image/png": "[encoded data removed]",
      "text/plain": [
       "<Figure size 432x288 with 1 Axes>"
      ]
     },
     "metadata": {
      "needs_background": "light"
     },
     "output_type": "display_data"
    }
   ],
   "source": [
    "_ = plt.hist(df2.memory_spatialSpan)"
   ]
  },
  {
   "cell_type": "code",
   "execution_count": 27,
   "metadata": {},
   "outputs": [
    {
     "data": {
      "image/png": "[encoded data removed]",
      "text/plain": [
       "<Figure size 432x288 with 1 Axes>"
      ]
     },
     "metadata": {
      "needs_background": "light"
     },
     "output_type": "display_data"
    }
   ],
   "source": [
    "_ = plt.hist(df2.attention_targetDetection)"
   ]
  },
  {
   "cell_type": "code",
   "execution_count": 28,
   "metadata": {},
   "outputs": [
    {
     "data": {
      "text/plain": [
       "(array([ 7.,  8.,  8., 10.,  2.,  5.,  5.,  1.,  0.,  2.]),\n",
       " array([-2. ,  2.3,  6.6, 10.9, 15.2, 19.5, 23.8, 28.1, 32.4, 36.7, 41. ]),\n",
       " <BarContainer object of 10 artists>)"
      ]
     },
     "execution_count": 28,
     "metadata": {},
     "output_type": "execute_result"
    },
    {
     "data": {
      "image/png": "[encoded data removed]",
      "text/plain": [
       "<Figure size 432x288 with 1 Axes>"
      ]
     },
     "metadata": {
      "needs_background": "light"
     },
     "output_type": "display_data"
    }
   ],
   "source": [
    "plt.hist(df2.language_verbalAnalogies)"
   ]
  },
  {
   "cell_type": "code",
   "execution_count": 29,
   "metadata": {},
   "outputs": [
    {
     "data": {
      "text/plain": [
       "(array([49.,  0.,  0.,  0.,  0.,  0.,  0.,  0.,  0.,  1.]),\n",
       " array([ 28. ,  86.2, 144.4, 202.6, 260.8, 319. , 377.2, 435.4, 493.6,\n",
       "        551.8, 610. ]),\n",
       " <BarContainer object of 10 artists>)"
      ]
     },
     "execution_count": 29,
     "metadata": {},
     "output_type": "execute_result"
    },
    {
     "data": {
      "image/png": "[encoded data removed]",
      "text/plain": [
       "<Figure size 432x288 with 1 Axes>"
      ]
     },
     "metadata": {
      "needs_background": "light"
     },
     "output_type": "display_data"
    }
   ],
   "source": [
    "plt.hist(df2.Age)"
   ]
  },
  {
   "cell_type": "markdown",
   "metadata": {},
   "source": [
    "We see that for the cognitive variables the data looks valid. However, when we look at age, one person seems to be over 600 years old! Unless we are dealing with a vampire, we may want to do something about this data. There are multiple ways to deal with this type of data but the simplest and most straightforward is to get rid of it, by replacing it with a NaN value."
   ]
  },
  {
   "cell_type": "code",
   "execution_count": 30,
   "metadata": {},
   "outputs": [
    {
     "name": "stdout",
     "output_type": "stream",
     "text": [
      "40    610\n",
      "Name: Age, dtype: int64\n"
     ]
    },
    {
     "name": "stderr",
     "output_type": "stream",
     "text": [
      "<ipython-input-30-5c35af2d8717>:2: SettingWithCopyWarning: \n",
      "A value is trying to be set on a copy of a slice from a DataFrame\n",
      "\n",
      "See the caveats in the documentation: https://pandas.pydata.org/pandas-docs/stable/user_guide/indexing.html#returning-a-view-versus-a-copy\n",
      "  df2.Age[df2.Age > 100] = np.nan  #replace with NaNs anyone who is older than 100\n"
     ]
    },
    {
     "data": {
      "text/plain": [
       "(array([ 6.,  4.,  8.,  2., 10.,  3., 11.,  3.,  0.,  2.]),\n",
       " array([28. , 33.5, 39. , 44.5, 50. , 55.5, 61. , 66.5, 72. , 77.5, 83. ]),\n",
       " <BarContainer object of 10 artists>)"
      ]
     },
     "execution_count": 30,
     "metadata": {},
     "output_type": "execute_result"
    },
    {
     "data": {
      "image/png": "[encoded data removed]",
      "text/plain": [
       "<Figure size 432x288 with 1 Axes>"
      ]
     },
     "metadata": {
      "needs_background": "light"
     },
     "output_type": "display_data"
    }
   ],
   "source": [
    "print(df2.Age[df2.Age > 100]) #show all the people who had an age over 100\n",
    "df2.Age[df2.Age > 100] = np.nan  #replace with NaNs anyone who is older than 100\n",
    "plt.hist(df2.Age) #plot the new data\n"
   ]
  },
  {
   "cell_type": "markdown",
   "metadata": {},
   "source": [
    "Check for the remaining variables if there is any data that is not valid. If you find anything, replace it with NaNs"
   ]
  },
  {
   "cell_type": "markdown",
   "metadata": {},
   "source": [
    "Now that we have established that the data looks healthy, the next thing on the list is to check whether there are any duplicated values in our dataset. The easiest way to check this is via the number of unique user IDs. If we had no duplicates, then the number of unique IDs should correspond with the total number of rows in our data."
   ]
  },
  {
   "cell_type": "code",
   "execution_count": 31,
   "metadata": {},
   "outputs": [
    {
     "name": "stdout",
     "output_type": "stream",
     "text": [
      "48\n",
      "50\n"
     ]
    }
   ],
   "source": [
    "print(len(np.unique(df2.userID)))\n",
    "print(len(df2.userID))"
   ]
  },
  {
   "cell_type": "markdown",
   "metadata": {},
   "source": [
    "You can also use the `duplicated` function to obtain the same results."
   ]
  },
  {
   "cell_type": "code",
   "execution_count": 32,
   "metadata": {},
   "outputs": [
    {
     "data": {
      "text/plain": [
       "2"
      ]
     },
     "execution_count": 32,
     "metadata": {},
     "output_type": "execute_result"
    }
   ],
   "source": [
    "sum(df2.duplicated()) "
   ]
  },
  {
   "cell_type": "markdown",
   "metadata": {},
   "source": [
    "It looks like we got two duplicates in our data. Let us try to remove them."
   ]
  },
  {
   "cell_type": "code",
   "execution_count": 34,
   "metadata": {},
   "outputs": [
    {
     "data": {
      "text/plain": [
       "0"
      ]
     },
     "execution_count": 34,
     "metadata": {},
     "output_type": "execute_result"
    }
   ],
   "source": [
    "df2 = df2[~df2.duplicated()] #Have a look at lecture 8 if you don't remember this function\n",
    "sum(df2.duplicated()) # calculate the number of duplicates again after removing them. If we were succcessful none should be there anymore."
   ]
  },
  {
   "cell_type": "markdown",
   "metadata": {},
   "source": [
    "We are almost done cleaning our data. Now let's check if there are any missing values. It's generally good practice to get rid of participants with missing data or replace those values with plausible estimates (like the mean/median). In this case, we will show the first. To find out if we have any missing values we can use the `isna` function. This returns True when there is a missing value and False when there isn't one."
   ]
  },
  {
   "cell_type": "code",
   "execution_count": 36,
   "metadata": {},
   "outputs": [
    {
     "data": {
      "text/plain": [
       "userID                               1\n",
       "Age                                  1\n",
       "Sex 1-Male 2-Female                  0\n",
       "Handedness                           1\n",
       "Qualifications                       0\n",
       "First Language                       0\n",
       "First Language 1-English 0-Other     0\n",
       "Mechanical ventilation (1-Y,0-no)    0\n",
       "memory_spatialSpan                   2\n",
       "attention_targetDetection            2\n",
       "language_verbalAnalogies             2\n",
       "dtype: int64"
      ]
     },
     "execution_count": 36,
     "metadata": {},
     "output_type": "execute_result"
    }
   ],
   "source": [
    "df2.isna().sum()"
   ]
  },
  {
   "cell_type": "code",
   "execution_count": 37,
   "metadata": {},
   "outputs": [
    {
     "name": "stdout",
     "output_type": "stream",
     "text": [
      "3\n"
     ]
    }
   ],
   "source": [
    "sum_missing = df2.isna().sum(axis=1) #This shows us how many missing values each person has\n",
    "print(sum(sum_missing > 0)) #how many people have at least one missing data\n"
   ]
  },
  {
   "cell_type": "markdown",
   "metadata": {},
   "source": [
    "Let's get rid of all the people who have at least one missing value"
   ]
  },
  {
   "cell_type": "code",
   "execution_count": 38,
   "metadata": {},
   "outputs": [],
   "source": [
    "df2 = df2[~(sum_missing > 0)]"
   ]
  },
  {
   "cell_type": "markdown",
   "metadata": {},
   "source": [
    "Another important check we need to perform is to look for outliers. These are often less easy to spot and sometimes it is unclear if one value is an outlier or not. Some may remove more extreme values only because it helps with their hypothesis, creating bias. Just because a value is extreme it does not always mean that it is wrong. However, if you don't do something about your outliers, they will likely bias your results and your data."
   ]
  },
  {
   "cell_type": "markdown",
   "metadata": {},
   "source": [
    "One robust, objective way to deal with outliers is via a process called winsorisation. This is replaces the extreme values in our data with slightly less extreme values, in order to limit the effect of the outliers on the calculations or the results. The mean value calculated after such replacement of the extreme values is called winsorized mean. \n",
    "\n",
    "For example, 90% winsorization means the replacement of the top 5% and bottom 5% of the data. The top 5% of the data is replaced by the value of the data at the 95th percentile and the value of the bottom 5% of the data is replaced by the value of the data at the 5th percentile. "
   ]
  },
  {
   "cell_type": "markdown",
   "metadata": {},
   "source": [
    "Let's see if our cognitive data requires any winsorisation by visualising it."
   ]
  },
  {
   "cell_type": "code",
   "execution_count": 39,
   "metadata": {},
   "outputs": [
    {
     "data": {
      "image/png": "[encoded data removed]",
      "text/plain": [
       "<Figure size 432x288 with 1 Axes>"
      ]
     },
     "metadata": {
      "needs_background": "light"
     },
     "output_type": "display_data"
    }
   ],
   "source": [
    "_ = plt.boxplot(df2.language_verbalAnalogies)"
   ]
  },
  {
   "cell_type": "code",
   "execution_count": 40,
   "metadata": {},
   "outputs": [
    {
     "data": {
      "image/png": "[encoded data removed]",
      "text/plain": [
       "<Figure size 432x288 with 1 Axes>"
      ]
     },
     "metadata": {
      "needs_background": "light"
     },
     "output_type": "display_data"
    }
   ],
   "source": [
    "_ = plt.boxplot(df2.memory_spatialSpan)"
   ]
  },
  {
   "cell_type": "code",
   "execution_count": 41,
   "metadata": {},
   "outputs": [
    {
     "data": {
      "image/png": "[encoded data removed]",
      "text/plain": [
       "<Figure size 432x288 with 1 Axes>"
      ]
     },
     "metadata": {
      "needs_background": "light"
     },
     "output_type": "display_data"
    }
   ],
   "source": [
    "_ = plt.boxplot(df2.attention_targetDetection)"
   ]
  },
  {
   "cell_type": "markdown",
   "metadata": {},
   "source": [
    "Looking at the box plots, we can see that for the memory task, we have one person who performed really well. A score of 8 is plausible within this task, but not very common. For that reason, it is not valid for us to just remove it. Instead, let us apply the winsorisation procedure to replace the value with something a bit less extreme by replacing the values above the 95th percentile with the value of the score on the 95th percentile."
   ]
  },
  {
   "cell_type": "code",
   "execution_count": 42,
   "metadata": {},
   "outputs": [
    {
     "data": {
      "image/png": "[encoded data removed]",
      "text/plain": [
       "<Figure size 432x288 with 1 Axes>"
      ]
     },
     "metadata": {
      "needs_background": "light"
     },
     "output_type": "display_data"
    }
   ],
   "source": [
    "winsorized_memory = winsorize(df2['memory_spatialSpan'],(0.05,0.05))  #apply winsorisation\n",
    "  \n",
    "plt.boxplot(winsorized_memory)  #visualise the data after winsorisation\n",
    "plt.title('Winsorized array')\n",
    "plt.show()"
   ]
  },
  {
   "cell_type": "markdown",
   "metadata": {},
   "source": [
    "It now looks a lot better! Let's replace the old values in the memory task with the winsorised version."
   ]
  },
  {
   "cell_type": "code",
   "execution_count": 43,
   "metadata": {},
   "outputs": [],
   "source": [
    "df2['memory_spatialSpan'] = winsorized_memory"
   ]
  },
  {
   "cell_type": "markdown",
   "metadata": {},
   "source": [
    "One final check, now that the data is in the right format and we are confident that it is correct, is to ensure everything is on the same scale. Different tasks will have different scoring mechanisms, on some tasks the scores may range from 4 to 8, while in others they may range between 30 and 70. This is often a problem as depending on the statistical test you use, if one variable has very large values, it will dominate over other variables. So the features with higher variability may receive more weight than the others even though in theory they should not."
   ]
  },
  {
   "cell_type": "markdown",
   "metadata": {},
   "source": [
    "If we look at our cognitive data, we can see that the tests are on different scales. To fix this, we can standardise our data so that each task has a mean of 0 and a standard deviation of 1. "
   ]
  },
  {
   "cell_type": "code",
   "execution_count": 48,
   "metadata": {},
   "outputs": [],
   "source": [
    "memory_task = (df2['memory_spatialSpan'] - df2['memory_spatialSpan'].mean())/df2['memory_spatialSpan'].std()"
   ]
  },
  {
   "cell_type": "code",
   "execution_count": 49,
   "metadata": {},
   "outputs": [],
   "source": [
    "language_task = (df2['language_verbalAnalogies'] - df2['language_verbalAnalogies'].mean())/df2['language_verbalAnalogies'].std()"
   ]
  },
  {
   "cell_type": "code",
   "execution_count": 50,
   "metadata": {},
   "outputs": [],
   "source": [
    "attention_task = (df2['attention_targetDetection'] - df2['attention_targetDetection'].mean())/df2['attention_targetDetection'].std()"
   ]
  },
  {
   "cell_type": "markdown",
   "metadata": {},
   "source": [
    "In the above code we subtracted the mean values and divided by the standard deviation, to obtain standardised values. Then, we old values with the standardised ones. We can visualise these changes to better understand how our data looks now."
   ]
  },
  {
   "cell_type": "code",
   "execution_count": 51,
   "metadata": {},
   "outputs": [
    {
     "data": {
      "image/png": "[encoded data removed]",
      "text/plain": [
       "<Figure size 432x288 with 1 Axes>"
      ]
     },
     "metadata": {
      "needs_background": "light"
     },
     "output_type": "display_data"
    }
   ],
   "source": [
    "_ = plt.boxplot(language_task)"
   ]
  },
  {
   "cell_type": "code",
   "execution_count": 52,
   "metadata": {},
   "outputs": [
    {
     "data": {
      "image/png": "[encoded data removed]",
      "text/plain": [
       "<Figure size 432x288 with 1 Axes>"
      ]
     },
     "metadata": {
      "needs_background": "light"
     },
     "output_type": "display_data"
    }
   ],
   "source": [
    "_ = plt.boxplot(attention_task)"
   ]
  },
  {
   "cell_type": "code",
   "execution_count": 53,
   "metadata": {},
   "outputs": [
    {
     "data": {
      "image/png": "[encoded data removed]",
      "text/plain": [
       "<Figure size 432x288 with 1 Axes>"
      ]
     },
     "metadata": {
      "needs_background": "light"
     },
     "output_type": "display_data"
    }
   ],
   "source": [
    "_ = plt.boxplot(memory_task)"
   ]
  },
  {
   "cell_type": "markdown",
   "metadata": {},
   "source": [
    "However, `standardisation` assumes that our data is normally distributed. If we look at the distributions of some of our cognitive tests we can see that some are not exactly normal. A different approach that does not assume a normal distribution is called `normalisation`. The formula for this is similar to the standardisation, but you use minimum and maximum values instead of mean and standard deviation"
   ]
  },
  {
   "cell_type": "markdown",
   "metadata": {},
   "source": [
    "`X_normalised = (X - X_min) / (X_max - X_min)`"
   ]
  },
  {
   "cell_type": "markdown",
   "metadata": {},
   "source": [
    "The output that you get is a scale where all the values range from 0 to 1 (and sometimes from -1 to 1). This approach is particularly useful when there are no outliers in your data. If the data has a lot of outliers that you cannot remove, then this method will not work very well, and it is recommended that you use `standardisation` instead. Since we made sure to get ride of outliers in our data, let's proceed with the `normalisation` technique."
   ]
  },
  {
   "cell_type": "code",
   "execution_count": 501,
   "metadata": {},
   "outputs": [],
   "source": [
    "df2['memory_spatialSpan'] = (df2['memory_spatialSpan'] - df2['memory_spatialSpan'].min())/(df2['memory_spatialSpan'].max() - df2['memory_spatialSpan'].min()) "
   ]
  },
  {
   "cell_type": "code",
   "execution_count": 502,
   "metadata": {},
   "outputs": [],
   "source": [
    "df2['language_verbalAnalogies'] = (df2['language_verbalAnalogies'] - df2['language_verbalAnalogies'].min())/(df2['language_verbalAnalogies'].max() - df2['language_verbalAnalogies'].min()) "
   ]
  },
  {
   "cell_type": "code",
   "execution_count": 503,
   "metadata": {},
   "outputs": [],
   "source": [
    "df2['attention_targetDetection'] = (df2['attention_targetDetection'] - df2['attention_targetDetection'].min())/(df2['attention_targetDetection'].max() - df2['attention_targetDetection'].min()) "
   ]
  },
  {
   "cell_type": "markdown",
   "metadata": {},
   "source": [
    "Great, we are finally done with all the concepts related to the data cleaning!"
   ]
  },
  {
   "cell_type": "markdown",
   "metadata": {},
   "source": [
    "Now, we can perform statistical analyses on the data. For today's lecture we want to compare the COVID-19 patients to a set of controls. Let's open `demographics_day2` and have a look at the data. This contains approximately 15,000 data points of healthy participants with matching age, gender and language proficiency."
   ]
  },
  {
   "cell_type": "code",
   "execution_count": 44,
   "metadata": {},
   "outputs": [],
   "source": [
    "df_healthy = pd.read_excel('demographics_day2.xlsx')"
   ]
  },
  {
   "cell_type": "markdown",
   "metadata": {},
   "source": [
    "Have a look at the variables."
   ]
  },
  {
   "cell_type": "code",
   "execution_count": 45,
   "metadata": {},
   "outputs": [
    {
     "data": {
      "text/html": [
       "<div>\n",
       "<style scoped>\n",
       "    .dataframe tbody tr th:only-of-type {\n",
       "        vertical-align: middle;\n",
       "    }\n",
       "\n",
       "    .dataframe tbody tr th {\n",
       "        vertical-align: top;\n",
       "    }\n",
       "\n",
       "    .dataframe thead th {\n",
       "        text-align: right;\n",
       "    }\n",
       "</style>\n",
       "<table border=\"1\" class=\"dataframe\">\n",
       "  <thead>\n",
       "    <tr style=\"text-align: right;\">\n",
       "      <th></th>\n",
       "      <th>SummaryScore_SpatialSpan</th>\n",
       "      <th>RT_SpatialSpan</th>\n",
       "      <th>user_id</th>\n",
       "      <th>SummaryScore_targetDetection</th>\n",
       "      <th>RT_targetDetection</th>\n",
       "      <th>SummaryScore_VerbalAnalogies</th>\n",
       "      <th>RT_VerbalAnalogies</th>\n",
       "      <th>Residence</th>\n",
       "      <th>Language binary</th>\n",
       "      <th>Ethnicity</th>\n",
       "      <th>Sex</th>\n",
       "      <th>Education</th>\n",
       "      <th>Handedness</th>\n",
       "      <th>Occupation</th>\n",
       "      <th>Salary</th>\n",
       "      <th>timepoint_by_date</th>\n",
       "      <th>Age</th>\n",
       "      <th>Imputation</th>\n",
       "      <th>Device Summary</th>\n",
       "      <th>Normative</th>\n",
       "      <th>Age squared</th>\n",
       "      <th>Age decade</th>\n",
       "    </tr>\n",
       "  </thead>\n",
       "  <tbody>\n",
       "    <tr>\n",
       "      <th>0</th>\n",
       "      <td>8</td>\n",
       "      <td>5414.0</td>\n",
       "      <td>fc9b0048ab9e40a9aa823e195bd12043</td>\n",
       "      <td>49</td>\n",
       "      <td>1916.0</td>\n",
       "      <td>4</td>\n",
       "      <td>4722.0</td>\n",
       "      <td>United States</td>\n",
       "      <td>English</td>\n",
       "      <td>American Hispanic</td>\n",
       "      <td>Female</td>\n",
       "      <td>00_preGCSE</td>\n",
       "      <td>Right handed</td>\n",
       "      <td>Worker</td>\n",
       "      <td>Â£40-50K</td>\n",
       "      <td>tp1</td>\n",
       "      <td>27</td>\n",
       "      <td>0</td>\n",
       "      <td>Apple phone</td>\n",
       "      <td>0</td>\n",
       "      <td>729</td>\n",
       "      <td>20</td>\n",
       "    </tr>\n",
       "    <tr>\n",
       "      <th>1</th>\n",
       "      <td>7</td>\n",
       "      <td>3066.5</td>\n",
       "      <td>87f080fe66374700a2b54c350a560d20</td>\n",
       "      <td>71</td>\n",
       "      <td>886.0</td>\n",
       "      <td>16</td>\n",
       "      <td>3045.0</td>\n",
       "      <td>United Kingdom</td>\n",
       "      <td>English</td>\n",
       "      <td>American Hispanic</td>\n",
       "      <td>Female</td>\n",
       "      <td>00_preGCSE</td>\n",
       "      <td>Right handed</td>\n",
       "      <td>Worker</td>\n",
       "      <td>Â£10-20K</td>\n",
       "      <td>tp1</td>\n",
       "      <td>27</td>\n",
       "      <td>0</td>\n",
       "      <td>Android phone</td>\n",
       "      <td>0</td>\n",
       "      <td>729</td>\n",
       "      <td>20</td>\n",
       "    </tr>\n",
       "    <tr>\n",
       "      <th>2</th>\n",
       "      <td>7</td>\n",
       "      <td>2366.0</td>\n",
       "      <td>3c20040d-c5a7-4394-b7b4-daa04ca5f240</td>\n",
       "      <td>62</td>\n",
       "      <td>1303.0</td>\n",
       "      <td>22</td>\n",
       "      <td>2355.0</td>\n",
       "      <td>United Kingdom</td>\n",
       "      <td>English</td>\n",
       "      <td>American Hispanic</td>\n",
       "      <td>Female</td>\n",
       "      <td>00_preGCSE</td>\n",
       "      <td>Right handed</td>\n",
       "      <td>Worker</td>\n",
       "      <td>Â£0-10K</td>\n",
       "      <td>tp1</td>\n",
       "      <td>28</td>\n",
       "      <td>0</td>\n",
       "      <td>Apple phone</td>\n",
       "      <td>0</td>\n",
       "      <td>784</td>\n",
       "      <td>20</td>\n",
       "    </tr>\n",
       "    <tr>\n",
       "      <th>3</th>\n",
       "      <td>6</td>\n",
       "      <td>3332.5</td>\n",
       "      <td>3edc12d8ead348b094782ca9b74f8446</td>\n",
       "      <td>48</td>\n",
       "      <td>876.5</td>\n",
       "      <td>-9</td>\n",
       "      <td>4751.5</td>\n",
       "      <td>United Kingdom</td>\n",
       "      <td>English</td>\n",
       "      <td>American Hispanic</td>\n",
       "      <td>Female</td>\n",
       "      <td>00_preGCSE</td>\n",
       "      <td>Left handed</td>\n",
       "      <td>Worker</td>\n",
       "      <td>Â£30-40K</td>\n",
       "      <td>tp1</td>\n",
       "      <td>36</td>\n",
       "      <td>0</td>\n",
       "      <td>Apple phone</td>\n",
       "      <td>0</td>\n",
       "      <td>1296</td>\n",
       "      <td>30</td>\n",
       "    </tr>\n",
       "    <tr>\n",
       "      <th>4</th>\n",
       "      <td>5</td>\n",
       "      <td>1591.5</td>\n",
       "      <td>b1cc65d5aaa44aecb557747438897a41</td>\n",
       "      <td>43</td>\n",
       "      <td>2017.0</td>\n",
       "      <td>4</td>\n",
       "      <td>2597.0</td>\n",
       "      <td>United Kingdom</td>\n",
       "      <td>English</td>\n",
       "      <td>American Hispanic</td>\n",
       "      <td>Female</td>\n",
       "      <td>00_preGCSE</td>\n",
       "      <td>Right handed</td>\n",
       "      <td>Worker</td>\n",
       "      <td>Â£40-50K</td>\n",
       "      <td>tp1</td>\n",
       "      <td>38</td>\n",
       "      <td>0</td>\n",
       "      <td>Apple phone</td>\n",
       "      <td>0</td>\n",
       "      <td>1444</td>\n",
       "      <td>30</td>\n",
       "    </tr>\n",
       "  </tbody>\n",
       "</table>\n",
       "</div>"
      ],
      "text/plain": [
       "   SummaryScore_SpatialSpan  RT_SpatialSpan  \\\n",
       "0                         8          5414.0   \n",
       "1                         7          3066.5   \n",
       "2                         7          2366.0   \n",
       "3                         6          3332.5   \n",
       "4                         5          1591.5   \n",
       "\n",
       "                                user_id  SummaryScore_targetDetection  \\\n",
       "0      fc9b0048ab9e40a9aa823e195bd12043                            49   \n",
       "1      87f080fe66374700a2b54c350a560d20                            71   \n",
       "2  3c20040d-c5a7-4394-b7b4-daa04ca5f240                            62   \n",
       "3      3edc12d8ead348b094782ca9b74f8446                            48   \n",
       "4      b1cc65d5aaa44aecb557747438897a41                            43   \n",
       "\n",
       "   RT_targetDetection  SummaryScore_VerbalAnalogies  RT_VerbalAnalogies  \\\n",
       "0              1916.0                             4              4722.0   \n",
       "1               886.0                            16              3045.0   \n",
       "2              1303.0                            22              2355.0   \n",
       "3               876.5                            -9              4751.5   \n",
       "4              2017.0                             4              2597.0   \n",
       "\n",
       "        Residence Language binary          Ethnicity     Sex   Education  \\\n",
       "0   United States         English  American Hispanic  Female  00_preGCSE   \n",
       "1  United Kingdom         English  American Hispanic  Female  00_preGCSE   \n",
       "2  United Kingdom         English  American Hispanic  Female  00_preGCSE   \n",
       "3  United Kingdom         English  American Hispanic  Female  00_preGCSE   \n",
       "4  United Kingdom         English  American Hispanic  Female  00_preGCSE   \n",
       "\n",
       "     Handedness Occupation    Salary timepoint_by_date  Age  Imputation  \\\n",
       "0  Right handed     Worker  Â£40-50K               tp1   27           0   \n",
       "1  Right handed     Worker  Â£10-20K               tp1   27           0   \n",
       "2  Right handed     Worker   Â£0-10K               tp1   28           0   \n",
       "3   Left handed     Worker  Â£30-40K               tp1   36           0   \n",
       "4  Right handed     Worker  Â£40-50K               tp1   38           0   \n",
       "\n",
       "  Device Summary  Normative  Age squared  Age decade  \n",
       "0    Apple phone          0          729          20  \n",
       "1  Android phone          0          729          20  \n",
       "2    Apple phone          0          784          20  \n",
       "3    Apple phone          0         1296          30  \n",
       "4    Apple phone          0         1444          30  "
      ]
     },
     "execution_count": 45,
     "metadata": {},
     "output_type": "execute_result"
    }
   ],
   "source": [
    "df_healthy.head()"
   ]
  },
  {
   "cell_type": "markdown",
   "metadata": {},
   "source": [
    "Notice there are quite a few we don't need, so we will just select the variables that we want to compare against the patients."
   ]
  },
  {
   "cell_type": "code",
   "execution_count": 506,
   "metadata": {},
   "outputs": [],
   "source": [
    "dfH = df_healthy[['SummaryScore_SpatialSpan', 'SummaryScore_VerbalAnalogies', 'SummaryScore_targetDetection', 'Age', 'Sex', 'Language binary']]"
   ]
  },
  {
   "cell_type": "code",
   "execution_count": 507,
   "metadata": {},
   "outputs": [
    {
     "data": {
      "text/html": [
       "<div>\n",
       "<style scoped>\n",
       "    .dataframe tbody tr th:only-of-type {\n",
       "        vertical-align: middle;\n",
       "    }\n",
       "\n",
       "    .dataframe tbody tr th {\n",
       "        vertical-align: top;\n",
       "    }\n",
       "\n",
       "    .dataframe thead th {\n",
       "        text-align: right;\n",
       "    }\n",
       "</style>\n",
       "<table border=\"1\" class=\"dataframe\">\n",
       "  <thead>\n",
       "    <tr style=\"text-align: right;\">\n",
       "      <th></th>\n",
       "      <th>SummaryScore_SpatialSpan</th>\n",
       "      <th>SummaryScore_VerbalAnalogies</th>\n",
       "      <th>SummaryScore_targetDetection</th>\n",
       "      <th>Age</th>\n",
       "      <th>Sex</th>\n",
       "      <th>Language binary</th>\n",
       "    </tr>\n",
       "  </thead>\n",
       "  <tbody>\n",
       "    <tr>\n",
       "      <th>0</th>\n",
       "      <td>8</td>\n",
       "      <td>4</td>\n",
       "      <td>49</td>\n",
       "      <td>27</td>\n",
       "      <td>Female</td>\n",
       "      <td>English</td>\n",
       "    </tr>\n",
       "    <tr>\n",
       "      <th>1</th>\n",
       "      <td>7</td>\n",
       "      <td>16</td>\n",
       "      <td>71</td>\n",
       "      <td>27</td>\n",
       "      <td>Female</td>\n",
       "      <td>English</td>\n",
       "    </tr>\n",
       "    <tr>\n",
       "      <th>2</th>\n",
       "      <td>7</td>\n",
       "      <td>22</td>\n",
       "      <td>62</td>\n",
       "      <td>28</td>\n",
       "      <td>Female</td>\n",
       "      <td>English</td>\n",
       "    </tr>\n",
       "    <tr>\n",
       "      <th>3</th>\n",
       "      <td>6</td>\n",
       "      <td>-9</td>\n",
       "      <td>48</td>\n",
       "      <td>36</td>\n",
       "      <td>Female</td>\n",
       "      <td>English</td>\n",
       "    </tr>\n",
       "    <tr>\n",
       "      <th>4</th>\n",
       "      <td>5</td>\n",
       "      <td>4</td>\n",
       "      <td>43</td>\n",
       "      <td>38</td>\n",
       "      <td>Female</td>\n",
       "      <td>English</td>\n",
       "    </tr>\n",
       "  </tbody>\n",
       "</table>\n",
       "</div>"
      ],
      "text/plain": [
       "   SummaryScore_SpatialSpan  SummaryScore_VerbalAnalogies  \\\n",
       "0                         8                             4   \n",
       "1                         7                            16   \n",
       "2                         7                            22   \n",
       "3                         6                            -9   \n",
       "4                         5                             4   \n",
       "\n",
       "   SummaryScore_targetDetection  Age     Sex Language binary  \n",
       "0                            49   27  Female         English  \n",
       "1                            71   27  Female         English  \n",
       "2                            62   28  Female         English  \n",
       "3                            48   36  Female         English  \n",
       "4                            43   38  Female         English  "
      ]
     },
     "execution_count": 507,
     "metadata": {},
     "output_type": "execute_result"
    }
   ],
   "source": [
    "dfH.head()"
   ]
  },
  {
   "cell_type": "markdown",
   "metadata": {},
   "source": [
    "Note that these variables have different names, and in some the data is saved in different formats (e.g. Sex, Language). Before we can compare the two groups we need to make sure that the two datasets are comparable. This process is commonly known as `harmonization` of data."
   ]
  },
  {
   "cell_type": "markdown",
   "metadata": {},
   "source": [
    "Let's first create binary variables for `language` and `sex`"
   ]
  },
  {
   "cell_type": "code",
   "execution_count": 508,
   "metadata": {},
   "outputs": [],
   "source": [
    "lang_var = pd.get_dummies(dfH['Language binary'])\n",
    "sex_var = pd.get_dummies(dfH['Sex'])\n",
    "sex_var"
   ]
  },
  {
   "cell_type": "markdown",
   "metadata": {},
   "source": [
    "Note that `Sex` here has a third option called `Other`. As the patients had no such option, the easiest sollution is to remove all the healthy people who have `Other` as their `Sex`."
   ]
  },
  {
   "cell_type": "code",
   "execution_count": 509,
   "metadata": {},
   "outputs": [],
   "source": [
    "dfH = dfH[~(sex_var[\"Other\"]==1)]"
   ]
  },
  {
   "cell_type": "code",
   "execution_count": 510,
   "metadata": {},
   "outputs": [
    {
     "data": {
      "text/html": [
       "<div>\n",
       "<style scoped>\n",
       "    .dataframe tbody tr th:only-of-type {\n",
       "        vertical-align: middle;\n",
       "    }\n",
       "\n",
       "    .dataframe tbody tr th {\n",
       "        vertical-align: top;\n",
       "    }\n",
       "\n",
       "    .dataframe thead th {\n",
       "        text-align: right;\n",
       "    }\n",
       "</style>\n",
       "<table border=\"1\" class=\"dataframe\">\n",
       "  <thead>\n",
       "    <tr style=\"text-align: right;\">\n",
       "      <th></th>\n",
       "      <th>Female</th>\n",
       "      <th>Male</th>\n",
       "    </tr>\n",
       "  </thead>\n",
       "  <tbody>\n",
       "    <tr>\n",
       "      <th>0</th>\n",
       "      <td>1</td>\n",
       "      <td>0</td>\n",
       "    </tr>\n",
       "    <tr>\n",
       "      <th>1</th>\n",
       "      <td>1</td>\n",
       "      <td>0</td>\n",
       "    </tr>\n",
       "    <tr>\n",
       "      <th>2</th>\n",
       "      <td>1</td>\n",
       "      <td>0</td>\n",
       "    </tr>\n",
       "    <tr>\n",
       "      <th>3</th>\n",
       "      <td>1</td>\n",
       "      <td>0</td>\n",
       "    </tr>\n",
       "    <tr>\n",
       "      <th>4</th>\n",
       "      <td>1</td>\n",
       "      <td>0</td>\n",
       "    </tr>\n",
       "    <tr>\n",
       "      <th>...</th>\n",
       "      <td>...</td>\n",
       "      <td>...</td>\n",
       "    </tr>\n",
       "    <tr>\n",
       "      <th>15178</th>\n",
       "      <td>0</td>\n",
       "      <td>1</td>\n",
       "    </tr>\n",
       "    <tr>\n",
       "      <th>15179</th>\n",
       "      <td>0</td>\n",
       "      <td>1</td>\n",
       "    </tr>\n",
       "    <tr>\n",
       "      <th>15180</th>\n",
       "      <td>0</td>\n",
       "      <td>1</td>\n",
       "    </tr>\n",
       "    <tr>\n",
       "      <th>15181</th>\n",
       "      <td>0</td>\n",
       "      <td>1</td>\n",
       "    </tr>\n",
       "    <tr>\n",
       "      <th>15182</th>\n",
       "      <td>0</td>\n",
       "      <td>1</td>\n",
       "    </tr>\n",
       "  </tbody>\n",
       "</table>\n",
       "<p>14726 rows × 2 columns</p>\n",
       "</div>"
      ],
      "text/plain": [
       "       Female  Male\n",
       "0           1     0\n",
       "1           1     0\n",
       "2           1     0\n",
       "3           1     0\n",
       "4           1     0\n",
       "...       ...   ...\n",
       "15178       0     1\n",
       "15179       0     1\n",
       "15180       0     1\n",
       "15181       0     1\n",
       "15182       0     1\n",
       "\n",
       "[14726 rows x 2 columns]"
      ]
     },
     "execution_count": 510,
     "metadata": {},
     "output_type": "execute_result"
    }
   ],
   "source": [
    "lang_var = pd.get_dummies(dfH['Language binary'])\n",
    "sex_var = pd.get_dummies(dfH['Sex'])\n",
    "dfH['Language binary'] = lang_var.iloc[:,0]\n",
    "dfH['Sex'] = sex_var.iloc[:,0] + 1"
   ]
  },
  {
   "cell_type": "markdown",
   "metadata": {},
   "source": [
    "We also remove any missing values before any missing values"
   ]
  },
  {
   "cell_type": "code",
   "execution_count": 513,
   "metadata": {},
   "outputs": [
    {
     "name": "stdout",
     "output_type": "stream",
     "text": [
      "0        0\n",
      "1        0\n",
      "2        0\n",
      "3        0\n",
      "4        0\n",
      "        ..\n",
      "15178    0\n",
      "15179    0\n",
      "15180    0\n",
      "15181    0\n",
      "15182    0\n",
      "Length: 14726, dtype: int64\n"
     ]
    }
   ],
   "source": [
    "sum_missing2 = dfH.isna().sum(axis=1) #This shows us how many missing values each person has\n",
    "print(sum_missing2)  \n",
    "dfH = dfH[~(sum_missing2 > 0)]"
   ]
  },
  {
   "cell_type": "markdown",
   "metadata": {},
   "source": [
    "Finally we normalise the memory task, and rename the columns in the healthy dataset to match those of the patients dataset."
   ]
  },
  {
   "cell_type": "code",
   "execution_count": 514,
   "metadata": {},
   "outputs": [],
   "source": [
    "dfH['SummaryScore_SpatialSpan'] = (dfH['SummaryScore_SpatialSpan'] - dfH['SummaryScore_SpatialSpan'].min())/(dfH['SummaryScore_SpatialSpan'].max() - dfH['SummaryScore_SpatialSpan'].min()) "
   ]
  },
  {
   "cell_type": "code",
   "execution_count": 515,
   "metadata": {},
   "outputs": [
    {
     "data": {
      "text/html": [
       "<div>\n",
       "<style scoped>\n",
       "    .dataframe tbody tr th:only-of-type {\n",
       "        vertical-align: middle;\n",
       "    }\n",
       "\n",
       "    .dataframe tbody tr th {\n",
       "        vertical-align: top;\n",
       "    }\n",
       "\n",
       "    .dataframe thead th {\n",
       "        text-align: right;\n",
       "    }\n",
       "</style>\n",
       "<table border=\"1\" class=\"dataframe\">\n",
       "  <thead>\n",
       "    <tr style=\"text-align: right;\">\n",
       "      <th></th>\n",
       "      <th>SummaryScore_SpatialSpan</th>\n",
       "      <th>SummaryScore_VerbalAnalogies</th>\n",
       "      <th>SummaryScore_targetDetection</th>\n",
       "      <th>Age</th>\n",
       "      <th>Sex 1-Male 2-Female</th>\n",
       "      <th>First Language 1-English 0-Other</th>\n",
       "    </tr>\n",
       "  </thead>\n",
       "  <tbody>\n",
       "    <tr>\n",
       "      <th>0</th>\n",
       "      <td>0.428571</td>\n",
       "      <td>4</td>\n",
       "      <td>49</td>\n",
       "      <td>27</td>\n",
       "      <td>2</td>\n",
       "      <td>1</td>\n",
       "    </tr>\n",
       "    <tr>\n",
       "      <th>1</th>\n",
       "      <td>0.357143</td>\n",
       "      <td>16</td>\n",
       "      <td>71</td>\n",
       "      <td>27</td>\n",
       "      <td>2</td>\n",
       "      <td>1</td>\n",
       "    </tr>\n",
       "    <tr>\n",
       "      <th>2</th>\n",
       "      <td>0.357143</td>\n",
       "      <td>22</td>\n",
       "      <td>62</td>\n",
       "      <td>28</td>\n",
       "      <td>2</td>\n",
       "      <td>1</td>\n",
       "    </tr>\n",
       "    <tr>\n",
       "      <th>3</th>\n",
       "      <td>0.285714</td>\n",
       "      <td>-9</td>\n",
       "      <td>48</td>\n",
       "      <td>36</td>\n",
       "      <td>2</td>\n",
       "      <td>1</td>\n",
       "    </tr>\n",
       "    <tr>\n",
       "      <th>4</th>\n",
       "      <td>0.214286</td>\n",
       "      <td>4</td>\n",
       "      <td>43</td>\n",
       "      <td>38</td>\n",
       "      <td>2</td>\n",
       "      <td>1</td>\n",
       "    </tr>\n",
       "  </tbody>\n",
       "</table>\n",
       "</div>"
      ],
      "text/plain": [
       "   SummaryScore_SpatialSpan  SummaryScore_VerbalAnalogies  \\\n",
       "0                  0.428571                             4   \n",
       "1                  0.357143                            16   \n",
       "2                  0.357143                            22   \n",
       "3                  0.285714                            -9   \n",
       "4                  0.214286                             4   \n",
       "\n",
       "   SummaryScore_targetDetection  Age  Sex 1-Male 2-Female  \\\n",
       "0                            49   27                    2   \n",
       "1                            71   27                    2   \n",
       "2                            62   28                    2   \n",
       "3                            48   36                    2   \n",
       "4                            43   38                    2   \n",
       "\n",
       "   First Language 1-English 0-Other  \n",
       "0                                 1  \n",
       "1                                 1  \n",
       "2                                 1  \n",
       "3                                 1  \n",
       "4                                 1  "
      ]
     },
     "execution_count": 515,
     "metadata": {},
     "output_type": "execute_result"
    }
   ],
   "source": [
    "dfH.rename(columns = {'Language binary':'First Language 1-English 0-Other'}, inplace = True)\n",
    "dfH.rename(columns = {'Sex':'Sex 1-Male 2-Female'}, inplace = True)\n",
    "dfH.head()"
   ]
  },
  {
   "cell_type": "markdown",
   "metadata": {},
   "source": [
    "We are finally ready for analysis!"
   ]
  },
  {
   "cell_type": "markdown",
   "metadata": {},
   "source": [
    "What we will do now is perform an analysis called `Deviation from expected`. This analysis allows us to examine how far from the healthy norm are the patients in each task, with respect to their performance. Simply put, this analysis trains a linear regression model, using the healthy data, and then uses that to predict the performance of the patients. The linear regression model contains the `memory task` as the dependent variable and `Age`, `Sex` and `First Language` as predictors."
   ]
  },
  {
   "cell_type": "code",
   "execution_count": 526,
   "metadata": {},
   "outputs": [
    {
     "name": "stdout",
     "output_type": "stream",
     "text": [
      "[0.23627281 0.2498314  0.28158495 0.25189197 0.24784681 0.29356851\n",
      " 0.26769278 0.23031902 0.29944633 0.26181496 0.23230362 0.30738471\n",
      " 0.25214959 0.26173898 0.28166093 0.32127689 0.27166197 0.25983036\n",
      " 0.23395463 0.29150794 0.25983036 0.30547609 0.28753875 0.26173898\n",
      " 0.232046   0.24792278 0.28356955 0.2360152  0.28787234 0.27993395\n",
      " 0.22403164 0.25189197 0.23998439 0.29581072 0.30374911 0.27398016\n",
      " 0.25975439 0.30547609 0.28364552 0.32550371 0.30176451 0.25016499\n",
      " 0.26207257 0.28364552 0.31135391]\n"
     ]
    }
   ],
   "source": [
    "from sklearn.linear_model import LinearRegression\n",
    "\n",
    "\n",
    "linr_model = LinearRegression().fit(dfH[[\"Age\",\"Sex 1-Male 2-Female\",\"First Language 1-English 0-Other\"]], dfH['SummaryScore_SpatialSpan'])\n",
    "DT_predict = linr_model.predict(df2[[\"Age\",\"Sex 1-Male 2-Female\",\"First Language 1-English 0-Other\"]]) #Predictions on patient data\n",
    "print(DT_predict)\n"
   ]
  },
  {
   "cell_type": "code",
   "execution_count": 517,
   "metadata": {},
   "outputs": [
    {
     "name": "stdout",
     "output_type": "stream",
     "text": [
      "[-0.0019846  -0.02770839 -0.00025762]\n"
     ]
    }
   ],
   "source": [
    "print(linr_model.coef_)"
   ]
  },
  {
   "cell_type": "markdown",
   "metadata": {},
   "source": [
    "Calculate the deviation from expected by looking at the difference between the true score and the predicted score from the model"
   ]
  },
  {
   "cell_type": "code",
   "execution_count": 523,
   "metadata": {},
   "outputs": [],
   "source": [
    "deviation_from_expected = df2[\"memory_spatialSpan\"] - DT_predict"
   ]
  },
  {
   "cell_type": "markdown",
   "metadata": {},
   "source": [
    "Plot to see how patients performed in relation to controls"
   ]
  },
  {
   "cell_type": "code",
   "execution_count": 524,
   "metadata": {},
   "outputs": [
    {
     "data": {
      "text/plain": [
       "(array([10.,  0.,  0., 11.,  4.,  0., 10.,  5.,  0.,  5.]),\n",
       " array([-0.32550371, -0.22111943, -0.11673515, -0.01235087,  0.09203341,\n",
       "         0.19641768,  0.30080196,  0.40518624,  0.50957052,  0.6139548 ,\n",
       "         0.71833907]),\n",
       " <BarContainer object of 10 artists>)"
      ]
     },
     "execution_count": 524,
     "metadata": {},
     "output_type": "execute_result"
    },
    {
     "data": {
      "image/png": "[encoded data removed]",
      "text/plain": [
       "<Figure size 432x288 with 1 Axes>"
      ]
     },
     "metadata": {
      "needs_background": "light"
     },
     "output_type": "display_data"
    }
   ],
   "source": [
    "plt.hist(deviation_from_expected)"
   ]
  },
  {
   "cell_type": "markdown",
   "metadata": {},
   "source": [
    "For memory it seems patients performed quite well, many above average."
   ]
  },
  {
   "cell_type": "markdown",
   "metadata": {},
   "source": [
    "Let's run a one sample t-test to examine whether this trend is significant. A sample t-test against zero is run as we expect to see a value of zero if there was absolutely no difference between patients and controls"
   ]
  },
  {
   "cell_type": "code",
   "execution_count": 525,
   "metadata": {},
   "outputs": [
    {
     "name": "stdout",
     "output_type": "stream",
     "text": [
      "3.765983911178787 0.0004888211250593011\n"
     ]
    }
   ],
   "source": [
    "# perform one sample t-test\n",
    "import scipy.stats as stats\n",
    "\n",
    "t_statistic, p_value = stats.ttest_1samp(a=deviation_from_expected, popmean=0)\n",
    "print(t_statistic , p_value)"
   ]
  },
  {
   "cell_type": "markdown",
   "metadata": {},
   "source": [
    "From this, we can see that patients actually performed statistically better than controls on memory tests."
   ]
  },
  {
   "cell_type": "markdown",
   "metadata": {},
   "source": [
    "But what about the other two tasks involving attention and language? Did the patients perform worse or better? Try to answer that question below. HINT: don't forget to normalise the data from the healthy dataset."
   ]
  },
  {
   "cell_type": "code",
   "execution_count": null,
   "metadata": {},
   "outputs": [],
   "source": [
    "#CODE HERE"
   ]
  },
  {
   "cell_type": "markdown",
   "metadata": {},
   "source": [
    "What if we also include education and handedness in our regression model? Perform some harmonisation between the two datasets, such that there are only 3 types of education, pre-bachelor, BSc/MSc and PhD/MD. Then, include these in the regression model and check if your results change"
   ]
  },
  {
   "cell_type": "code",
   "execution_count": null,
   "metadata": {},
   "outputs": [],
   "source": [
    "#CODE HERE"
   ]
  }
 ],
 "metadata": {
  "kernelspec": {
   "display_name": "Python 3",
   "language": "python",
   "name": "python3"
  },
  "language_info": {
   "codemirror_mode": {
    "name": "ipython",
    "version": 3
   },
   "file_extension": ".py",
   "mimetype": "text/x-python",
   "name": "python",
   "nbconvert_exporter": "python",
   "pygments_lexer": "ipython3",
   "version": "3.8.5"
  },
  "vscode": {
   "interpreter": {
    "hash": "aee8b7b246df8f9039afb4144a1f6fd8d2ca17a180786b69acc140d282b71a49"
   }
  }
 },
 "nbformat": 4,
 "nbformat_minor": 4
}
