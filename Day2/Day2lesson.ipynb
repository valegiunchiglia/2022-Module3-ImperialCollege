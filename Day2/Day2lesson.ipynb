{
 "cells": [
  {
   "cell_type": "markdown",
   "metadata": {},
   "source": [
    "# COVID and Cognition"
   ]
  },
  {
   "cell_type": "markdown",
   "metadata": {},
   "source": [
    "The data we will analyse today consists of the performance of 50 people who had recovered from COVID-19 illness after being in critical care. They completed three computerised cognitive tasks called Target Detection, Spatial Span and Verbal Analogies. Our aim is to understand whether the patients' cognition was affected by COVID-19 in the chronic phase after recovering from the viral infection and whether the type of symptoms and the gravity of the disease (e.g. whether participants ended up requiring mechanical breathing support) played a role on the level of cognitive changes that occurred. "
   ]
  },
  {
   "cell_type": "markdown",
   "metadata": {},
   "source": [
    "Each one of the cognitive tasks completed by patients measures a different aspect of cognition: \n",
    "\n",
    "1. **Target Detection:** attention task. This task measures the ability to identify specific *relevant* information in the context of many distractions. The task is designed to be particularly challenging due to the rate at which targets and distractors appear in the visual array, which requires participants to continously pay attention in order to avoid missing targets and losing points. \n",
    "2. **Spatial Span:** memory task. In this task, participants are presented with a 4 x 4 grid, on which is displayed a sequence of squares in different positions. The participant must then click the squares in the order that they were highlighted. Every time a sequence is recalled correctly, the length of the subsequent sequence is incremented by one, making it more difficult. The task ends when a participant fails the same difficulty level three times.\n",
    "3. **Verbal Analogies:** language task. In this task, participants are presented with two pairs of words and they must decide if the pairs are related to each other in the same 'analogous' way. Participants must indicate their decision by selecting the True or False buttons presented below the word pairs.\n",
    "\n",
    "The performance in cognitive tasks is typically measured in two ways.\n",
    "\n",
    "1. Accuracy - the number or proportion of correct answers given\n",
    "2. Reaction time (RT) - the median or mean time required by participants to complete each single trial of a task.\n",
    "\n",
    "Screen grabs of the three tasks are presented below."
   ]
  },
  {
   "attachments": {
    "9304e412-0a76-40d3-9d91-7d6e85dcc433.gif": {
     "image/gif": "[encoded data removed]"
    },
    "df643a61-93c7-4863-ae91-31137d27f1b0.gif": {
     "image/gif": "[encoded data removed]"
    },
    "e66776b9-0240-4d79-a08f-2c0278d2095d.gif": {
     "image/gif": "[encoded data removed]"
    }
   },
   "cell_type": "markdown",
   "metadata": {},
   "source": [
    "Verbal Analogies |  Target detection | Spatial Span |\n",
    ":-------------------------:|:-------------------------: |:-------------------------: |\n",
    "![VerbalAnalogies.gif](attachment:e66776b9-0240-4d79-a08f-2c0278d2095d.gif) | ![TargetDetection.gif](attachment:df643a61-93c7-4863-ae91-31137d27f1b0.gif)|![SpatialSpan.gif](attachment:9304e412-0a76-40d3-9d91-7d6e85dcc433.gif)"
   ]
  },
  {
   "cell_type": "markdown",
   "metadata": {},
   "source": [
    "Now that we know our research aim and the description of the cognitive assessment, we can continue with the next steps, namely the data cleaning and analysis. \n",
    "\n",
    "Let us first import the libraries we will need for today's workshop and install any new ones."
   ]
  },
  {
   "cell_type": "code",
   "execution_count": 2,
   "metadata": {},
   "outputs": [
    {
     "name": "stdout",
     "output_type": "stream",
     "text": [
      "Requirement already satisfied: openpyxl in /Users/adam/opt/anaconda3/lib/python3.9/site-packages (3.0.9)\n",
      "Requirement already satisfied: seaborn in /Users/adam/opt/anaconda3/lib/python3.9/site-packages (0.11.2)\n",
      "Requirement already satisfied: et-xmlfile in /Users/adam/opt/anaconda3/lib/python3.9/site-packages (from openpyxl) (1.1.0)\n",
      "Requirement already satisfied: numpy>=1.15 in /Users/adam/opt/anaconda3/lib/python3.9/site-packages (from seaborn) (1.21.5)\n",
      "Requirement already satisfied: pandas>=0.23 in /Users/adam/opt/anaconda3/lib/python3.9/site-packages (from seaborn) (1.4.2)\n",
      "Requirement already satisfied: matplotlib>=2.2 in /Users/adam/opt/anaconda3/lib/python3.9/site-packages (from seaborn) (3.5.1)\n",
      "Requirement already satisfied: scipy>=1.0 in /Users/adam/opt/anaconda3/lib/python3.9/site-packages (from seaborn) (1.7.3)\n",
      "Requirement already satisfied: python-dateutil>=2.7 in /Users/adam/opt/anaconda3/lib/python3.9/site-packages (from matplotlib>=2.2->seaborn) (2.8.2)\n",
      "Requirement already satisfied: kiwisolver>=1.0.1 in /Users/adam/opt/anaconda3/lib/python3.9/site-packages (from matplotlib>=2.2->seaborn) (1.3.2)\n",
      "Requirement already satisfied: packaging>=20.0 in /Users/adam/opt/anaconda3/lib/python3.9/site-packages (from matplotlib>=2.2->seaborn) (21.3)\n",
      "Requirement already satisfied: pyparsing>=2.2.1 in /Users/adam/opt/anaconda3/lib/python3.9/site-packages (from matplotlib>=2.2->seaborn) (3.0.4)\n",
      "Requirement already satisfied: pillow>=6.2.0 in /Users/adam/opt/anaconda3/lib/python3.9/site-packages (from matplotlib>=2.2->seaborn) (9.0.1)\n",
      "Requirement already satisfied: fonttools>=4.22.0 in /Users/adam/opt/anaconda3/lib/python3.9/site-packages (from matplotlib>=2.2->seaborn) (4.25.0)\n",
      "Requirement already satisfied: cycler>=0.10 in /Users/adam/opt/anaconda3/lib/python3.9/site-packages (from matplotlib>=2.2->seaborn) (0.11.0)\n",
      "Requirement already satisfied: pytz>=2020.1 in /Users/adam/opt/anaconda3/lib/python3.9/site-packages (from pandas>=0.23->seaborn) (2021.3)\n",
      "Requirement already satisfied: six>=1.5 in /Users/adam/opt/anaconda3/lib/python3.9/site-packages (from python-dateutil>=2.7->matplotlib>=2.2->seaborn) (1.16.0)\n",
      "Note: you may need to restart the kernel to use updated packages.\n"
     ]
    }
   ],
   "source": [
    "pip install openpyxl seaborn"
   ]
  },
  {
   "cell_type": "code",
   "execution_count": 1,
   "metadata": {},
   "outputs": [],
   "source": [
    "%matplotlib inline\n",
    "import matplotlib.pyplot as plt\n",
    "import pandas as pd\n",
    "import numpy as np\n",
    "from scipy.stats.mstats import winsorize\n",
    "import seaborn as sb\n",
    "from sklearn.linear_model import LinearRegression\n",
    "\n",
    "import warnings\n",
    "warnings.filterwarnings(\"ignore\")\n",
    "\n",
    "sb.set_theme(\"talk\")\n",
    "sb.set_style(\"whitegrid\")"
   ]
  },
  {
   "cell_type": "markdown",
   "metadata": {},
   "source": [
    "Then, download the data [here](https://imperiallondon-my.sharepoint.com/:f:/g/personal/vg816_ic_ac_uk/EuPCq2zHgm5HiwlbMzuRGYwBOrv8nMeSkGfKE-Hp1pnsZg?e=zrVb8T) that you need to run this workshop and this link and save them in the folder called `Data`."
   ]
  },
  {
   "cell_type": "markdown",
   "metadata": {},
   "source": [
    "Now let's open the data file as a dataframe. Note that so far we have worked with `.csv` files but Python can just as easily open and manipulate other file types like `excel`. Have a quick look at your data "
   ]
  },
  {
   "cell_type": "code",
   "execution_count": 2,
   "metadata": {},
   "outputs": [
    {
     "data": {
      "text/html": [
       "<div>\n",
       "<style scoped>\n",
       "    .dataframe tbody tr th:only-of-type {\n",
       "        vertical-align: middle;\n",
       "    }\n",
       "\n",
       "    .dataframe tbody tr th {\n",
       "        vertical-align: top;\n",
       "    }\n",
       "\n",
       "    .dataframe thead th {\n",
       "        text-align: right;\n",
       "    }\n",
       "</style>\n",
       "<table border=\"1\" class=\"dataframe\">\n",
       "  <thead>\n",
       "    <tr style=\"text-align: right;\">\n",
       "      <th></th>\n",
       "      <th>Unnamed: 0</th>\n",
       "      <th>userID</th>\n",
       "      <th>Age</th>\n",
       "      <th>Sex 1-Male 2-Female</th>\n",
       "      <th>Handedness</th>\n",
       "      <th>Qualifications</th>\n",
       "      <th>First Language</th>\n",
       "      <th>First Language binary</th>\n",
       "      <th>Symtpm onset</th>\n",
       "      <th>tested date</th>\n",
       "      <th>...</th>\n",
       "      <th>RTDRI_fourTowers</th>\n",
       "      <th>RTrs_learningCurves</th>\n",
       "      <th>RTrs_manipulations2D</th>\n",
       "      <th>RTrs_TOL</th>\n",
       "      <th>RTrs_motorControl</th>\n",
       "      <th>RTrs_prospectiveMemoryWords_1_delayed</th>\n",
       "      <th>RTrs_prospectiveMemoryWords_1_immediate</th>\n",
       "      <th>RTrs_spatialSpan</th>\n",
       "      <th>RTrs_targetDetection</th>\n",
       "      <th>RTrs_verbalAnalogies</th>\n",
       "    </tr>\n",
       "  </thead>\n",
       "  <tbody>\n",
       "    <tr>\n",
       "      <th>0</th>\n",
       "      <td>0</td>\n",
       "      <td>4133880.0</td>\n",
       "      <td>\"63\"</td>\n",
       "      <td>2</td>\n",
       "      <td>Right</td>\n",
       "      <td>Some college, no degree</td>\n",
       "      <td>Polish</td>\n",
       "      <td>Other</td>\n",
       "      <td>2020-05-05</td>\n",
       "      <td>NaT</td>\n",
       "      <td>...</td>\n",
       "      <td>10242.0</td>\n",
       "      <td>50.764</td>\n",
       "      <td>4504.0</td>\n",
       "      <td>13709.0</td>\n",
       "      <td>13.0790</td>\n",
       "      <td>1041.0</td>\n",
       "      <td>1113.0</td>\n",
       "      <td>4245.5</td>\n",
       "      <td>1314.0</td>\n",
       "      <td>9054.0</td>\n",
       "    </tr>\n",
       "    <tr>\n",
       "      <th>1</th>\n",
       "      <td>1</td>\n",
       "      <td>4227668.0</td>\n",
       "      <td>\"70\"</td>\n",
       "      <td>1</td>\n",
       "      <td>Right</td>\n",
       "      <td>O levels/GCSEs</td>\n",
       "      <td>English</td>\n",
       "      <td>english</td>\n",
       "      <td>2020-03-18</td>\n",
       "      <td>NaT</td>\n",
       "      <td>...</td>\n",
       "      <td>11151.0</td>\n",
       "      <td>50.551</td>\n",
       "      <td>8262.0</td>\n",
       "      <td>11550.0</td>\n",
       "      <td>23.0550</td>\n",
       "      <td>1010.5</td>\n",
       "      <td>1066.0</td>\n",
       "      <td>2863.0</td>\n",
       "      <td>1686.0</td>\n",
       "      <td>6167.5</td>\n",
       "    </tr>\n",
       "    <tr>\n",
       "      <th>2</th>\n",
       "      <td>2</td>\n",
       "      <td>4105609.0</td>\n",
       "      <td>\"54\"</td>\n",
       "      <td>1</td>\n",
       "      <td>Right</td>\n",
       "      <td>A levels</td>\n",
       "      <td>English</td>\n",
       "      <td>english</td>\n",
       "      <td>2020-03-22</td>\n",
       "      <td>NaT</td>\n",
       "      <td>...</td>\n",
       "      <td>11171.0</td>\n",
       "      <td>50.247</td>\n",
       "      <td>6937.0</td>\n",
       "      <td>9411.0</td>\n",
       "      <td>12.0190</td>\n",
       "      <td>800.5</td>\n",
       "      <td>930.0</td>\n",
       "      <td>2383.0</td>\n",
       "      <td>1079.0</td>\n",
       "      <td>4799.0</td>\n",
       "    </tr>\n",
       "    <tr>\n",
       "      <th>3</th>\n",
       "      <td>3</td>\n",
       "      <td>4105207.0</td>\n",
       "      <td>\"55\"</td>\n",
       "      <td>2</td>\n",
       "      <td>Right</td>\n",
       "      <td>Some college, no degree</td>\n",
       "      <td>English</td>\n",
       "      <td>English</td>\n",
       "      <td>2020-03-31</td>\n",
       "      <td>NaT</td>\n",
       "      <td>...</td>\n",
       "      <td>12665.0</td>\n",
       "      <td>50.618</td>\n",
       "      <td>16940.0</td>\n",
       "      <td>11868.0</td>\n",
       "      <td>8.2759</td>\n",
       "      <td>1005.0</td>\n",
       "      <td>1676.5</td>\n",
       "      <td>2642.0</td>\n",
       "      <td>2030.5</td>\n",
       "      <td>3017.0</td>\n",
       "    </tr>\n",
       "    <tr>\n",
       "      <th>4</th>\n",
       "      <td>4</td>\n",
       "      <td>4239617.0</td>\n",
       "      <td>\"71\"</td>\n",
       "      <td>1</td>\n",
       "      <td>Right</td>\n",
       "      <td>Doctoral degree</td>\n",
       "      <td>English</td>\n",
       "      <td>English</td>\n",
       "      <td>2020-03-10</td>\n",
       "      <td>NaT</td>\n",
       "      <td>...</td>\n",
       "      <td>8612.5</td>\n",
       "      <td>50.792</td>\n",
       "      <td>4809.5</td>\n",
       "      <td>7010.0</td>\n",
       "      <td>28.4730</td>\n",
       "      <td>1010.0</td>\n",
       "      <td>999.0</td>\n",
       "      <td>5343.5</td>\n",
       "      <td>1376.5</td>\n",
       "      <td>3247.0</td>\n",
       "    </tr>\n",
       "    <tr>\n",
       "      <th>5</th>\n",
       "      <td>5</td>\n",
       "      <td>4303013.0</td>\n",
       "      <td>\"34\"</td>\n",
       "      <td>2</td>\n",
       "      <td>Left</td>\n",
       "      <td>A levels</td>\n",
       "      <td>English</td>\n",
       "      <td>English</td>\n",
       "      <td>2020-04-22</td>\n",
       "      <td>NaT</td>\n",
       "      <td>...</td>\n",
       "      <td>11621.0</td>\n",
       "      <td>50.539</td>\n",
       "      <td>3961.0</td>\n",
       "      <td>8700.5</td>\n",
       "      <td>14.9220</td>\n",
       "      <td>1298.0</td>\n",
       "      <td>1079.5</td>\n",
       "      <td>5281.0</td>\n",
       "      <td>1349.0</td>\n",
       "      <td>4610.0</td>\n",
       "    </tr>\n",
       "    <tr>\n",
       "      <th>6</th>\n",
       "      <td>6</td>\n",
       "      <td>3928857.0</td>\n",
       "      <td>\"61\"</td>\n",
       "      <td>1</td>\n",
       "      <td>Left</td>\n",
       "      <td>Not done</td>\n",
       "      <td>English</td>\n",
       "      <td>English</td>\n",
       "      <td>2020-03-12</td>\n",
       "      <td>NaT</td>\n",
       "      <td>...</td>\n",
       "      <td>21358.0</td>\n",
       "      <td>50.958</td>\n",
       "      <td>5902.0</td>\n",
       "      <td>15116.0</td>\n",
       "      <td>14.8830</td>\n",
       "      <td>729.0</td>\n",
       "      <td>846.5</td>\n",
       "      <td>5177.0</td>\n",
       "      <td>2259.0</td>\n",
       "      <td>3963.0</td>\n",
       "    </tr>\n",
       "    <tr>\n",
       "      <th>7</th>\n",
       "      <td>7</td>\n",
       "      <td>3929051.0</td>\n",
       "      <td>\"68\"</td>\n",
       "      <td>1</td>\n",
       "      <td>NaN</td>\n",
       "      <td>Not done</td>\n",
       "      <td>English</td>\n",
       "      <td>English</td>\n",
       "      <td>2020-03-28</td>\n",
       "      <td>2020-08-07</td>\n",
       "      <td>...</td>\n",
       "      <td>25378.0</td>\n",
       "      <td>50.932</td>\n",
       "      <td>9704.0</td>\n",
       "      <td>17245.0</td>\n",
       "      <td>20.1900</td>\n",
       "      <td>902.0</td>\n",
       "      <td>1040.5</td>\n",
       "      <td>6145.0</td>\n",
       "      <td>2079.0</td>\n",
       "      <td>8075.0</td>\n",
       "    </tr>\n",
       "    <tr>\n",
       "      <th>8</th>\n",
       "      <td>8</td>\n",
       "      <td>3978084.0</td>\n",
       "      <td>\"66\"</td>\n",
       "      <td>2</td>\n",
       "      <td>Right</td>\n",
       "      <td>O level/ GCSE</td>\n",
       "      <td>Chinese</td>\n",
       "      <td>Other</td>\n",
       "      <td>2020-02-27</td>\n",
       "      <td>NaT</td>\n",
       "      <td>...</td>\n",
       "      <td>18250.0</td>\n",
       "      <td>51.095</td>\n",
       "      <td>8597.0</td>\n",
       "      <td>38018.0</td>\n",
       "      <td>12.2560</td>\n",
       "      <td>1125.0</td>\n",
       "      <td>1441.0</td>\n",
       "      <td>12340.0</td>\n",
       "      <td>2283.0</td>\n",
       "      <td>405.0</td>\n",
       "    </tr>\n",
       "    <tr>\n",
       "      <th>9</th>\n",
       "      <td>9</td>\n",
       "      <td>3939818.0</td>\n",
       "      <td>\"45\"</td>\n",
       "      <td>1</td>\n",
       "      <td>Left</td>\n",
       "      <td>Medical Degree</td>\n",
       "      <td>English</td>\n",
       "      <td>English</td>\n",
       "      <td>2020-04-01</td>\n",
       "      <td>NaT</td>\n",
       "      <td>...</td>\n",
       "      <td>16734.0</td>\n",
       "      <td>50.802</td>\n",
       "      <td>4294.0</td>\n",
       "      <td>20611.0</td>\n",
       "      <td>14.5350</td>\n",
       "      <td>710.5</td>\n",
       "      <td>773.5</td>\n",
       "      <td>2973.0</td>\n",
       "      <td>1499.0</td>\n",
       "      <td>3743.0</td>\n",
       "    </tr>\n",
       "  </tbody>\n",
       "</table>\n",
       "<p>10 rows × 80 columns</p>\n",
       "</div>"
      ],
      "text/plain": [
       "   Unnamed: 0     userID   Age  Sex 1-Male 2-Female Handedness  \\\n",
       "0           0  4133880.0  \"63\"                    2      Right   \n",
       "1           1  4227668.0  \"70\"                    1      Right   \n",
       "2           2  4105609.0  \"54\"                    1      Right   \n",
       "3           3  4105207.0  \"55\"                    2      Right   \n",
       "4           4  4239617.0  \"71\"                    1      Right   \n",
       "5           5  4303013.0  \"34\"                    2       Left   \n",
       "6           6  3928857.0  \"61\"                    1       Left   \n",
       "7           7  3929051.0  \"68\"                    1        NaN   \n",
       "8           8  3978084.0  \"66\"                    2      Right   \n",
       "9           9  3939818.0  \"45\"                    1       Left   \n",
       "\n",
       "            Qualifications First Language First Language binary Symtpm onset  \\\n",
       "0  Some college, no degree         Polish                 Other   2020-05-05   \n",
       "1           O levels/GCSEs        English               english   2020-03-18   \n",
       "2                 A levels        English               english   2020-03-22   \n",
       "3  Some college, no degree        English               English   2020-03-31   \n",
       "4          Doctoral degree        English               English   2020-03-10   \n",
       "5                 A levels        English               English   2020-04-22   \n",
       "6                 Not done        English               English   2020-03-12   \n",
       "7                 Not done        English               English   2020-03-28   \n",
       "8            O level/ GCSE        Chinese                 Other   2020-02-27   \n",
       "9           Medical Degree        English               English   2020-04-01   \n",
       "\n",
       "  tested date  ...  RTDRI_fourTowers RTrs_learningCurves  \\\n",
       "0         NaT  ...           10242.0              50.764   \n",
       "1         NaT  ...           11151.0              50.551   \n",
       "2         NaT  ...           11171.0              50.247   \n",
       "3         NaT  ...           12665.0              50.618   \n",
       "4         NaT  ...            8612.5              50.792   \n",
       "5         NaT  ...           11621.0              50.539   \n",
       "6         NaT  ...           21358.0              50.958   \n",
       "7  2020-08-07  ...           25378.0              50.932   \n",
       "8         NaT  ...           18250.0              51.095   \n",
       "9         NaT  ...           16734.0              50.802   \n",
       "\n",
       "   RTrs_manipulations2D  RTrs_TOL  RTrs_motorControl  \\\n",
       "0                4504.0   13709.0            13.0790   \n",
       "1                8262.0   11550.0            23.0550   \n",
       "2                6937.0    9411.0            12.0190   \n",
       "3               16940.0   11868.0             8.2759   \n",
       "4                4809.5    7010.0            28.4730   \n",
       "5                3961.0    8700.5            14.9220   \n",
       "6                5902.0   15116.0            14.8830   \n",
       "7                9704.0   17245.0            20.1900   \n",
       "8                8597.0   38018.0            12.2560   \n",
       "9                4294.0   20611.0            14.5350   \n",
       "\n",
       "  RTrs_prospectiveMemoryWords_1_delayed  \\\n",
       "0                                1041.0   \n",
       "1                                1010.5   \n",
       "2                                 800.5   \n",
       "3                                1005.0   \n",
       "4                                1010.0   \n",
       "5                                1298.0   \n",
       "6                                 729.0   \n",
       "7                                 902.0   \n",
       "8                                1125.0   \n",
       "9                                 710.5   \n",
       "\n",
       "   RTrs_prospectiveMemoryWords_1_immediate RTrs_spatialSpan  \\\n",
       "0                                   1113.0           4245.5   \n",
       "1                                   1066.0           2863.0   \n",
       "2                                    930.0           2383.0   \n",
       "3                                   1676.5           2642.0   \n",
       "4                                    999.0           5343.5   \n",
       "5                                   1079.5           5281.0   \n",
       "6                                    846.5           5177.0   \n",
       "7                                   1040.5           6145.0   \n",
       "8                                   1441.0          12340.0   \n",
       "9                                    773.5           2973.0   \n",
       "\n",
       "  RTrs_targetDetection RTrs_verbalAnalogies  \n",
       "0               1314.0               9054.0  \n",
       "1               1686.0               6167.5  \n",
       "2               1079.0               4799.0  \n",
       "3               2030.5               3017.0  \n",
       "4               1376.5               3247.0  \n",
       "5               1349.0               4610.0  \n",
       "6               2259.0               3963.0  \n",
       "7               2079.0               8075.0  \n",
       "8               2283.0                405.0  \n",
       "9               1499.0               3743.0  \n",
       "\n",
       "[10 rows x 80 columns]"
      ]
     },
     "execution_count": 2,
     "metadata": {},
     "output_type": "execute_result"
    }
   ],
   "source": [
    "df = pd.read_excel(\"Data/covid_dataset.xlsx\")\n",
    "df.head(10)"
   ]
  },
  {
   "cell_type": "markdown",
   "metadata": {},
   "source": [
    "Notice that not all columns are shown, as Python has a cap on how many columns it can show in a table. To help us visualise the data better, we will remove that cap."
   ]
  },
  {
   "cell_type": "code",
   "execution_count": 3,
   "metadata": {},
   "outputs": [
    {
     "data": {
      "text/html": [
       "<div>\n",
       "<style scoped>\n",
       "    .dataframe tbody tr th:only-of-type {\n",
       "        vertical-align: middle;\n",
       "    }\n",
       "\n",
       "    .dataframe tbody tr th {\n",
       "        vertical-align: top;\n",
       "    }\n",
       "\n",
       "    .dataframe thead th {\n",
       "        text-align: right;\n",
       "    }\n",
       "</style>\n",
       "<table border=\"1\" class=\"dataframe\">\n",
       "  <thead>\n",
       "    <tr style=\"text-align: right;\">\n",
       "      <th></th>\n",
       "      <th>Unnamed: 0</th>\n",
       "      <th>userID</th>\n",
       "      <th>Age</th>\n",
       "      <th>Sex 1-Male 2-Female</th>\n",
       "      <th>Handedness</th>\n",
       "      <th>Qualifications</th>\n",
       "      <th>First Language</th>\n",
       "      <th>First Language binary</th>\n",
       "      <th>Symtpm onset</th>\n",
       "      <th>tested date</th>\n",
       "      <th>COVID Symptom onset to imaging &amp; cognitive testing (days)</th>\n",
       "      <th>Admission to imaging &amp; cognitive testing (days)</th>\n",
       "      <th>Covid-19 severity (WHO Ordinal Scale)</th>\n",
       "      <th>Mechanical ventilation (1-Y,0-no)</th>\n",
       "      <th>Days mechanically ventilated</th>\n",
       "      <th>Trachy Y/N</th>\n",
       "      <th>Lowest PaO2/FiO2 ratio (severity of lung injury, lower is worse)</th>\n",
       "      <th>Extrapulmonary organ dysfunction/support</th>\n",
       "      <th>Highest CRP during admission</th>\n",
       "      <th>Highest D-Dimer during admission</th>\n",
       "      <th>GAD-7</th>\n",
       "      <th>PHQ-9</th>\n",
       "      <th>PCL-5</th>\n",
       "      <th>GAD7 1.</th>\n",
       "      <th>GAD7 2.</th>\n",
       "      <th>GAD7 3.</th>\n",
       "      <th>GAD7 4.</th>\n",
       "      <th>GAD7 5.</th>\n",
       "      <th>GAD7 6.</th>\n",
       "      <th>GAD7 7.</th>\n",
       "      <th>PHQ9 1.</th>\n",
       "      <th>PHQ9 2.</th>\n",
       "      <th>PHQ9 3.</th>\n",
       "      <th>PHQ9 4.</th>\n",
       "      <th>PHQ9 5.</th>\n",
       "      <th>PHQ9 6.</th>\n",
       "      <th>PHQ9 7.</th>\n",
       "      <th>PHQ9 8.</th>\n",
       "      <th>PHQ9 9.</th>\n",
       "      <th>PHQ9 Difficulty</th>\n",
       "      <th>PCL5 1.</th>\n",
       "      <th>PCL5 2.</th>\n",
       "      <th>PCL5 3.</th>\n",
       "      <th>PCL5 4.</th>\n",
       "      <th>PCL5 5.</th>\n",
       "      <th>PCL5 6.</th>\n",
       "      <th>PCL5 7.</th>\n",
       "      <th>PCL5 8.</th>\n",
       "      <th>PCL5 9.</th>\n",
       "      <th>PCL5 10.</th>\n",
       "      <th>PCL5 11.</th>\n",
       "      <th>PCL5 12.</th>\n",
       "      <th>PCL5 13.</th>\n",
       "      <th>PCL5 14.</th>\n",
       "      <th>PCL5 15.</th>\n",
       "      <th>PCL5 16.</th>\n",
       "      <th>PCL5 17.</th>\n",
       "      <th>PCL5 18.</th>\n",
       "      <th>PCL5 19.</th>\n",
       "      <th>PCL5 20.</th>\n",
       "      <th>DRI_fourTowers</th>\n",
       "      <th>rs_TOL</th>\n",
       "      <th>rs_learningCurves</th>\n",
       "      <th>rs_manipulations2D</th>\n",
       "      <th>rs_motorControl</th>\n",
       "      <th>rs_prospectiveMemoryWords_1_delayed</th>\n",
       "      <th>rs_prospectiveMemoryWords_1_immediate</th>\n",
       "      <th>rs_spatialSpan</th>\n",
       "      <th>rs_targetDetection</th>\n",
       "      <th>rs_verbalAnalogies</th>\n",
       "      <th>RTDRI_fourTowers</th>\n",
       "      <th>RTrs_learningCurves</th>\n",
       "      <th>RTrs_manipulations2D</th>\n",
       "      <th>RTrs_TOL</th>\n",
       "      <th>RTrs_motorControl</th>\n",
       "      <th>RTrs_prospectiveMemoryWords_1_delayed</th>\n",
       "      <th>RTrs_prospectiveMemoryWords_1_immediate</th>\n",
       "      <th>RTrs_spatialSpan</th>\n",
       "      <th>RTrs_targetDetection</th>\n",
       "      <th>RTrs_verbalAnalogies</th>\n",
       "    </tr>\n",
       "  </thead>\n",
       "  <tbody>\n",
       "    <tr>\n",
       "      <th>0</th>\n",
       "      <td>0</td>\n",
       "      <td>4133880.0</td>\n",
       "      <td>\"63\"</td>\n",
       "      <td>2</td>\n",
       "      <td>Right</td>\n",
       "      <td>Some college, no degree</td>\n",
       "      <td>Polish</td>\n",
       "      <td>Other</td>\n",
       "      <td>2020-05-05</td>\n",
       "      <td>NaT</td>\n",
       "      <td>38</td>\n",
       "      <td>34</td>\n",
       "      <td>6</td>\n",
       "      <td>1</td>\n",
       "      <td>14</td>\n",
       "      <td>N</td>\n",
       "      <td>8.0</td>\n",
       "      <td>Y</td>\n",
       "      <td>286</td>\n",
       "      <td>242</td>\n",
       "      <td>4</td>\n",
       "      <td>3</td>\n",
       "      <td>21</td>\n",
       "      <td>1.0</td>\n",
       "      <td>0</td>\n",
       "      <td>1.0</td>\n",
       "      <td>1.0</td>\n",
       "      <td>0.0</td>\n",
       "      <td>0.0</td>\n",
       "      <td>1.0</td>\n",
       "      <td>0.0</td>\n",
       "      <td>0.0</td>\n",
       "      <td>1.0</td>\n",
       "      <td>1.0</td>\n",
       "      <td>0.0</td>\n",
       "      <td>0.0</td>\n",
       "      <td>1.0</td>\n",
       "      <td>0.0</td>\n",
       "      <td>0.0</td>\n",
       "      <td>2.0</td>\n",
       "      <td>0.0</td>\n",
       "      <td>0.0</td>\n",
       "      <td>1.0</td>\n",
       "      <td>1</td>\n",
       "      <td>1</td>\n",
       "      <td>3.0</td>\n",
       "      <td>3.0</td>\n",
       "      <td>1</td>\n",
       "      <td>1.0</td>\n",
       "      <td>1.0</td>\n",
       "      <td>0.0</td>\n",
       "      <td>1.0</td>\n",
       "      <td>2.0</td>\n",
       "      <td>1.0</td>\n",
       "      <td>1.0</td>\n",
       "      <td>0.0</td>\n",
       "      <td>1</td>\n",
       "      <td>0.0</td>\n",
       "      <td>1.0</td>\n",
       "      <td>2.0</td>\n",
       "      <td>2.0</td>\n",
       "      <td>3.0</td>\n",
       "      <td>106.0</td>\n",
       "      <td>17.0</td>\n",
       "      <td>659.03</td>\n",
       "      <td>21.0</td>\n",
       "      <td>22.0</td>\n",
       "      <td>4.0</td>\n",
       "      <td>65.0</td>\n",
       "      <td>6.0</td>\n",
       "      <td>10242.0</td>\n",
       "      <td>50.764</td>\n",
       "      <td>4504.0</td>\n",
       "      <td>13709.0</td>\n",
       "      <td>13.0790</td>\n",
       "      <td>1041.0</td>\n",
       "      <td>1113.0</td>\n",
       "      <td>4245.5</td>\n",
       "      <td>1314.0</td>\n",
       "      <td>9054.0</td>\n",
       "    </tr>\n",
       "    <tr>\n",
       "      <th>1</th>\n",
       "      <td>1</td>\n",
       "      <td>4227668.0</td>\n",
       "      <td>\"70\"</td>\n",
       "      <td>1</td>\n",
       "      <td>Right</td>\n",
       "      <td>O levels/GCSEs</td>\n",
       "      <td>English</td>\n",
       "      <td>english</td>\n",
       "      <td>2020-03-18</td>\n",
       "      <td>NaT</td>\n",
       "      <td>87</td>\n",
       "      <td>65</td>\n",
       "      <td>7</td>\n",
       "      <td>1</td>\n",
       "      <td>47</td>\n",
       "      <td>Y</td>\n",
       "      <td>10.0</td>\n",
       "      <td>Y</td>\n",
       "      <td>350</td>\n",
       "      <td>11593</td>\n",
       "      <td>1</td>\n",
       "      <td>0</td>\n",
       "      <td>5</td>\n",
       "      <td>0.0</td>\n",
       "      <td>0</td>\n",
       "      <td>0.0</td>\n",
       "      <td>0.0</td>\n",
       "      <td>0.0</td>\n",
       "      <td>0.0</td>\n",
       "      <td>0.0</td>\n",
       "      <td>0.0</td>\n",
       "      <td>0.0</td>\n",
       "      <td>3.0</td>\n",
       "      <td>0.0</td>\n",
       "      <td>0.0</td>\n",
       "      <td>0.0</td>\n",
       "      <td>0.0</td>\n",
       "      <td>0.0</td>\n",
       "      <td>0.0</td>\n",
       "      <td>1.0</td>\n",
       "      <td>0.0</td>\n",
       "      <td>0.0</td>\n",
       "      <td>0.0</td>\n",
       "      <td>0</td>\n",
       "      <td>0</td>\n",
       "      <td>0.0</td>\n",
       "      <td>0.0</td>\n",
       "      <td>1</td>\n",
       "      <td>0.0</td>\n",
       "      <td>0.0</td>\n",
       "      <td>0.0</td>\n",
       "      <td>0.0</td>\n",
       "      <td>0.0</td>\n",
       "      <td>0.0</td>\n",
       "      <td>0.0</td>\n",
       "      <td>0.0</td>\n",
       "      <td>0</td>\n",
       "      <td>0.0</td>\n",
       "      <td>0.0</td>\n",
       "      <td>0.0</td>\n",
       "      <td>6.0</td>\n",
       "      <td>8.0</td>\n",
       "      <td>118.0</td>\n",
       "      <td>17.0</td>\n",
       "      <td>733.57</td>\n",
       "      <td>19.0</td>\n",
       "      <td>22.0</td>\n",
       "      <td>4.0</td>\n",
       "      <td>32.0</td>\n",
       "      <td>11.0</td>\n",
       "      <td>11151.0</td>\n",
       "      <td>50.551</td>\n",
       "      <td>8262.0</td>\n",
       "      <td>11550.0</td>\n",
       "      <td>23.0550</td>\n",
       "      <td>1010.5</td>\n",
       "      <td>1066.0</td>\n",
       "      <td>2863.0</td>\n",
       "      <td>1686.0</td>\n",
       "      <td>6167.5</td>\n",
       "    </tr>\n",
       "    <tr>\n",
       "      <th>2</th>\n",
       "      <td>2</td>\n",
       "      <td>4105609.0</td>\n",
       "      <td>\"54\"</td>\n",
       "      <td>1</td>\n",
       "      <td>Right</td>\n",
       "      <td>A levels</td>\n",
       "      <td>English</td>\n",
       "      <td>english</td>\n",
       "      <td>2020-03-22</td>\n",
       "      <td>NaT</td>\n",
       "      <td>97</td>\n",
       "      <td>90</td>\n",
       "      <td>6</td>\n",
       "      <td>1</td>\n",
       "      <td>28</td>\n",
       "      <td>Y</td>\n",
       "      <td>8.0</td>\n",
       "      <td>Y</td>\n",
       "      <td>399</td>\n",
       "      <td>3161</td>\n",
       "      <td>9</td>\n",
       "      <td>9</td>\n",
       "      <td>16</td>\n",
       "      <td>1.0</td>\n",
       "      <td>1</td>\n",
       "      <td>2.0</td>\n",
       "      <td>2.0</td>\n",
       "      <td>1.0</td>\n",
       "      <td>1.0</td>\n",
       "      <td>1.0</td>\n",
       "      <td>1.0</td>\n",
       "      <td>1.0</td>\n",
       "      <td>2.0</td>\n",
       "      <td>1.0</td>\n",
       "      <td>0.0</td>\n",
       "      <td>2.0</td>\n",
       "      <td>1.0</td>\n",
       "      <td>1.0</td>\n",
       "      <td>0.0</td>\n",
       "      <td>2.0</td>\n",
       "      <td>1.0</td>\n",
       "      <td>1.0</td>\n",
       "      <td>0.0</td>\n",
       "      <td>1</td>\n",
       "      <td>0</td>\n",
       "      <td>0.0</td>\n",
       "      <td>0.0</td>\n",
       "      <td>0</td>\n",
       "      <td>2.0</td>\n",
       "      <td>1.0</td>\n",
       "      <td>1.0</td>\n",
       "      <td>0.0</td>\n",
       "      <td>0.0</td>\n",
       "      <td>0.0</td>\n",
       "      <td>0.0</td>\n",
       "      <td>2.0</td>\n",
       "      <td>3</td>\n",
       "      <td>0.0</td>\n",
       "      <td>2.0</td>\n",
       "      <td>2.0</td>\n",
       "      <td>10.0</td>\n",
       "      <td>10.0</td>\n",
       "      <td>119.0</td>\n",
       "      <td>18.0</td>\n",
       "      <td>659.67</td>\n",
       "      <td>18.0</td>\n",
       "      <td>22.0</td>\n",
       "      <td>5.0</td>\n",
       "      <td>63.0</td>\n",
       "      <td>8.0</td>\n",
       "      <td>11171.0</td>\n",
       "      <td>50.247</td>\n",
       "      <td>6937.0</td>\n",
       "      <td>9411.0</td>\n",
       "      <td>12.0190</td>\n",
       "      <td>800.5</td>\n",
       "      <td>930.0</td>\n",
       "      <td>2383.0</td>\n",
       "      <td>1079.0</td>\n",
       "      <td>4799.0</td>\n",
       "    </tr>\n",
       "    <tr>\n",
       "      <th>3</th>\n",
       "      <td>3</td>\n",
       "      <td>4105207.0</td>\n",
       "      <td>\"55\"</td>\n",
       "      <td>2</td>\n",
       "      <td>Right</td>\n",
       "      <td>Some college, no degree</td>\n",
       "      <td>English</td>\n",
       "      <td>English</td>\n",
       "      <td>2020-03-31</td>\n",
       "      <td>NaT</td>\n",
       "      <td>95</td>\n",
       "      <td>99</td>\n",
       "      <td>7</td>\n",
       "      <td>1</td>\n",
       "      <td>18</td>\n",
       "      <td>N</td>\n",
       "      <td>10.0</td>\n",
       "      <td>Y</td>\n",
       "      <td>405</td>\n",
       "      <td>861</td>\n",
       "      <td>4</td>\n",
       "      <td>5</td>\n",
       "      <td>13</td>\n",
       "      <td>0.0</td>\n",
       "      <td>1</td>\n",
       "      <td>1.0</td>\n",
       "      <td>0.0</td>\n",
       "      <td>0.0</td>\n",
       "      <td>2.0</td>\n",
       "      <td>0.0</td>\n",
       "      <td>1.0</td>\n",
       "      <td>1.0</td>\n",
       "      <td>0.0</td>\n",
       "      <td>3.0</td>\n",
       "      <td>0.0</td>\n",
       "      <td>0.0</td>\n",
       "      <td>0.0</td>\n",
       "      <td>0.0</td>\n",
       "      <td>0.0</td>\n",
       "      <td>1.0</td>\n",
       "      <td>0.0</td>\n",
       "      <td>0.0</td>\n",
       "      <td>0.0</td>\n",
       "      <td>0</td>\n",
       "      <td>0</td>\n",
       "      <td>0.0</td>\n",
       "      <td>0.0</td>\n",
       "      <td>0</td>\n",
       "      <td>0.0</td>\n",
       "      <td>0.0</td>\n",
       "      <td>0.0</td>\n",
       "      <td>2.0</td>\n",
       "      <td>2.0</td>\n",
       "      <td>1.0</td>\n",
       "      <td>2.0</td>\n",
       "      <td>0.0</td>\n",
       "      <td>2</td>\n",
       "      <td>0.0</td>\n",
       "      <td>2.0</td>\n",
       "      <td>2.0</td>\n",
       "      <td>-4.0</td>\n",
       "      <td>8.0</td>\n",
       "      <td>105.0</td>\n",
       "      <td>8.0</td>\n",
       "      <td>1041.30</td>\n",
       "      <td>21.0</td>\n",
       "      <td>18.0</td>\n",
       "      <td>5.0</td>\n",
       "      <td>35.0</td>\n",
       "      <td>21.0</td>\n",
       "      <td>12665.0</td>\n",
       "      <td>50.618</td>\n",
       "      <td>16940.0</td>\n",
       "      <td>11868.0</td>\n",
       "      <td>8.2759</td>\n",
       "      <td>1005.0</td>\n",
       "      <td>1676.5</td>\n",
       "      <td>2642.0</td>\n",
       "      <td>2030.5</td>\n",
       "      <td>3017.0</td>\n",
       "    </tr>\n",
       "    <tr>\n",
       "      <th>4</th>\n",
       "      <td>4</td>\n",
       "      <td>4239617.0</td>\n",
       "      <td>\"71\"</td>\n",
       "      <td>1</td>\n",
       "      <td>Right</td>\n",
       "      <td>Doctoral degree</td>\n",
       "      <td>English</td>\n",
       "      <td>English</td>\n",
       "      <td>2020-03-10</td>\n",
       "      <td>NaT</td>\n",
       "      <td>121</td>\n",
       "      <td>111</td>\n",
       "      <td>7</td>\n",
       "      <td>1</td>\n",
       "      <td>50</td>\n",
       "      <td>Y</td>\n",
       "      <td>9.5</td>\n",
       "      <td>Y</td>\n",
       "      <td>367</td>\n",
       "      <td>952</td>\n",
       "      <td>0</td>\n",
       "      <td>0</td>\n",
       "      <td>3</td>\n",
       "      <td>0.0</td>\n",
       "      <td>0</td>\n",
       "      <td>0.0</td>\n",
       "      <td>0.0</td>\n",
       "      <td>0.0</td>\n",
       "      <td>0.0</td>\n",
       "      <td>0.0</td>\n",
       "      <td>0.0</td>\n",
       "      <td>0.0</td>\n",
       "      <td>0.0</td>\n",
       "      <td>0.0</td>\n",
       "      <td>0.0</td>\n",
       "      <td>0.0</td>\n",
       "      <td>0.0</td>\n",
       "      <td>0.0</td>\n",
       "      <td>0.0</td>\n",
       "      <td>NaN</td>\n",
       "      <td>0.0</td>\n",
       "      <td>0.0</td>\n",
       "      <td>0.0</td>\n",
       "      <td>1</td>\n",
       "      <td>0</td>\n",
       "      <td>0.0</td>\n",
       "      <td>0.0</td>\n",
       "      <td>1</td>\n",
       "      <td>0.0</td>\n",
       "      <td>0.0</td>\n",
       "      <td>0.0</td>\n",
       "      <td>1.0</td>\n",
       "      <td>0.0</td>\n",
       "      <td>0.0</td>\n",
       "      <td>0.0</td>\n",
       "      <td>0.0</td>\n",
       "      <td>0</td>\n",
       "      <td>0.0</td>\n",
       "      <td>0.0</td>\n",
       "      <td>0.0</td>\n",
       "      <td>10.0</td>\n",
       "      <td>9.0</td>\n",
       "      <td>120.0</td>\n",
       "      <td>24.0</td>\n",
       "      <td>786.40</td>\n",
       "      <td>20.0</td>\n",
       "      <td>24.0</td>\n",
       "      <td>6.0</td>\n",
       "      <td>64.0</td>\n",
       "      <td>38.0</td>\n",
       "      <td>8612.5</td>\n",
       "      <td>50.792</td>\n",
       "      <td>4809.5</td>\n",
       "      <td>7010.0</td>\n",
       "      <td>28.4730</td>\n",
       "      <td>1010.0</td>\n",
       "      <td>999.0</td>\n",
       "      <td>5343.5</td>\n",
       "      <td>1376.5</td>\n",
       "      <td>3247.0</td>\n",
       "    </tr>\n",
       "  </tbody>\n",
       "</table>\n",
       "</div>"
      ],
      "text/plain": [
       "   Unnamed: 0     userID   Age  Sex 1-Male 2-Female Handedness  \\\n",
       "0           0  4133880.0  \"63\"                    2      Right   \n",
       "1           1  4227668.0  \"70\"                    1      Right   \n",
       "2           2  4105609.0  \"54\"                    1      Right   \n",
       "3           3  4105207.0  \"55\"                    2      Right   \n",
       "4           4  4239617.0  \"71\"                    1      Right   \n",
       "\n",
       "            Qualifications First Language First Language binary Symtpm onset  \\\n",
       "0  Some college, no degree         Polish                 Other   2020-05-05   \n",
       "1           O levels/GCSEs        English               english   2020-03-18   \n",
       "2                 A levels        English               english   2020-03-22   \n",
       "3  Some college, no degree        English               English   2020-03-31   \n",
       "4          Doctoral degree        English               English   2020-03-10   \n",
       "\n",
       "  tested date  COVID Symptom onset to imaging & cognitive testing (days)  \\\n",
       "0         NaT                                                 38           \n",
       "1         NaT                                                 87           \n",
       "2         NaT                                                 97           \n",
       "3         NaT                                                 95           \n",
       "4         NaT                                                121           \n",
       "\n",
       "  Admission to imaging & cognitive testing (days)  \\\n",
       "0                                              34   \n",
       "1                                              65   \n",
       "2                                              90   \n",
       "3                                              99   \n",
       "4                                             111   \n",
       "\n",
       "   Covid-19 severity (WHO Ordinal Scale)  Mechanical ventilation (1-Y,0-no)  \\\n",
       "0                                      6                                  1   \n",
       "1                                      7                                  1   \n",
       "2                                      6                                  1   \n",
       "3                                      7                                  1   \n",
       "4                                      7                                  1   \n",
       "\n",
       "   Days mechanically ventilated Trachy Y/N  \\\n",
       "0                            14          N   \n",
       "1                            47          Y   \n",
       "2                            28          Y   \n",
       "3                            18          N   \n",
       "4                            50          Y   \n",
       "\n",
       "   Lowest PaO2/FiO2 ratio (severity of lung injury, lower is worse)  \\\n",
       "0                                                8.0                  \n",
       "1                                               10.0                  \n",
       "2                                                8.0                  \n",
       "3                                               10.0                  \n",
       "4                                                9.5                  \n",
       "\n",
       "  Extrapulmonary organ dysfunction/support Highest CRP during admission  \\\n",
       "0                                        Y                          286   \n",
       "1                                        Y                          350   \n",
       "2                                        Y                          399   \n",
       "3                                        Y                          405   \n",
       "4                                        Y                          367   \n",
       "\n",
       "  Highest D-Dimer during admission  GAD-7 PHQ-9  PCL-5  GAD7 1. GAD7 2.  \\\n",
       "0                              242      4     3     21      1.0       0   \n",
       "1                            11593      1     0      5      0.0       0   \n",
       "2                             3161      9     9     16      1.0       1   \n",
       "3                              861      4     5     13      0.0       1   \n",
       "4                              952      0     0      3      0.0       0   \n",
       "\n",
       "   GAD7 3.   GAD7 4.   GAD7 5.  GAD7 6.  GAD7 7.  PHQ9 1.  PHQ9 2.  PHQ9 3.  \\\n",
       "0       1.0       1.0      0.0      0.0      1.0      0.0      0.0      1.0   \n",
       "1       0.0       0.0      0.0      0.0      0.0      0.0      0.0      3.0   \n",
       "2       2.0       2.0      1.0      1.0      1.0      1.0      1.0      2.0   \n",
       "3       1.0       0.0      0.0      2.0      0.0      1.0      1.0      0.0   \n",
       "4       0.0       0.0      0.0      0.0      0.0      0.0      0.0      0.0   \n",
       "\n",
       "   PHQ9 4.  PHQ9 5.  PHQ9 6.  PHQ9 7.  PHQ9 8.   PHQ9 9.  PHQ9 Difficulty  \\\n",
       "0      1.0      0.0      0.0      1.0       0.0      0.0              2.0   \n",
       "1      0.0      0.0      0.0      0.0       0.0      0.0              1.0   \n",
       "2      1.0      0.0      2.0      1.0       1.0      0.0              2.0   \n",
       "3      3.0      0.0      0.0      0.0       0.0      0.0              1.0   \n",
       "4      0.0      0.0      0.0      0.0       0.0      0.0              NaN   \n",
       "\n",
       "   PCL5 1.  PCL5 2.  PCL5 3. PCL5 4. PCL5 5.  PCL5 6.  PCL5 7. PCL5 8.  \\\n",
       "0      0.0      0.0      1.0       1       1      3.0      3.0       1   \n",
       "1      0.0      0.0      0.0       0       0      0.0      0.0       1   \n",
       "2      1.0      1.0      0.0       1       0      0.0      0.0       0   \n",
       "3      0.0      0.0      0.0       0       0      0.0      0.0       0   \n",
       "4      0.0      0.0      0.0       1       0      0.0      0.0       1   \n",
       "\n",
       "   PCL5 9.  PCL5 10.  PCL5 11.  PCL5 12.  PCL5 13.  PCL5 14.  PCL5 15.  \\\n",
       "0      1.0       1.0       0.0       1.0       2.0       1.0       1.0   \n",
       "1      0.0       0.0       0.0       0.0       0.0       0.0       0.0   \n",
       "2      2.0       1.0       1.0       0.0       0.0       0.0       0.0   \n",
       "3      0.0       0.0       0.0       2.0       2.0       1.0       2.0   \n",
       "4      0.0       0.0       0.0       1.0       0.0       0.0       0.0   \n",
       "\n",
       "   PCL5 16. PCL5 17.   PCL5 18.  PCL5 19.  PCL5 20.  DRI_fourTowers  rs_TOL  \\\n",
       "0       0.0         1       0.0       1.0       2.0             2.0     3.0   \n",
       "1       0.0         0       0.0       0.0       0.0             6.0     8.0   \n",
       "2       2.0         3       0.0       2.0       2.0            10.0    10.0   \n",
       "3       0.0         2       0.0       2.0       2.0            -4.0     8.0   \n",
       "4       0.0         0       0.0       0.0       0.0            10.0     9.0   \n",
       "\n",
       "   rs_learningCurves  rs_manipulations2D  rs_motorControl  \\\n",
       "0              106.0                17.0           659.03   \n",
       "1              118.0                17.0           733.57   \n",
       "2              119.0                18.0           659.67   \n",
       "3              105.0                 8.0          1041.30   \n",
       "4              120.0                24.0           786.40   \n",
       "\n",
       "   rs_prospectiveMemoryWords_1_delayed  rs_prospectiveMemoryWords_1_immediate  \\\n",
       "0                                 21.0                                   22.0   \n",
       "1                                 19.0                                   22.0   \n",
       "2                                 18.0                                   22.0   \n",
       "3                                 21.0                                   18.0   \n",
       "4                                 20.0                                   24.0   \n",
       "\n",
       "   rs_spatialSpan  rs_targetDetection  rs_verbalAnalogies  RTDRI_fourTowers  \\\n",
       "0             4.0                65.0                 6.0           10242.0   \n",
       "1             4.0                32.0                11.0           11151.0   \n",
       "2             5.0                63.0                 8.0           11171.0   \n",
       "3             5.0                35.0                21.0           12665.0   \n",
       "4             6.0                64.0                38.0            8612.5   \n",
       "\n",
       "   RTrs_learningCurves  RTrs_manipulations2D  RTrs_TOL  RTrs_motorControl  \\\n",
       "0               50.764                4504.0   13709.0            13.0790   \n",
       "1               50.551                8262.0   11550.0            23.0550   \n",
       "2               50.247                6937.0    9411.0            12.0190   \n",
       "3               50.618               16940.0   11868.0             8.2759   \n",
       "4               50.792                4809.5    7010.0            28.4730   \n",
       "\n",
       "   RTrs_prospectiveMemoryWords_1_delayed  \\\n",
       "0                                 1041.0   \n",
       "1                                 1010.5   \n",
       "2                                  800.5   \n",
       "3                                 1005.0   \n",
       "4                                 1010.0   \n",
       "\n",
       "   RTrs_prospectiveMemoryWords_1_immediate  RTrs_spatialSpan  \\\n",
       "0                                   1113.0            4245.5   \n",
       "1                                   1066.0            2863.0   \n",
       "2                                    930.0            2383.0   \n",
       "3                                   1676.5            2642.0   \n",
       "4                                    999.0            5343.5   \n",
       "\n",
       "   RTrs_targetDetection  RTrs_verbalAnalogies  \n",
       "0                1314.0                9054.0  \n",
       "1                1686.0                6167.5  \n",
       "2                1079.0                4799.0  \n",
       "3                2030.5                3017.0  \n",
       "4                1376.5                3247.0  "
      ]
     },
     "execution_count": 3,
     "metadata": {},
     "output_type": "execute_result"
    }
   ],
   "source": [
    "pd.set_option('display.max_columns', None)\n",
    "df.head()"
   ]
  },
  {
   "cell_type": "markdown",
   "metadata": {},
   "source": [
    "Now you can see all 79 columns. Please go through each column and try to understand what it is that they are measuring.\n",
    "\n",
    "**HINT**: there are two different columns that have scores for the three tasks of interest. These scores represent two different things, namely the accuracy and the median RT. If patients are impaired, then we expect their accuracy to be lower compared to healthy participants, and their RT to be higher, because participants need longer times to complete the same tasks.."
   ]
  },
  {
   "cell_type": "markdown",
   "metadata": {},
   "source": [
    "There is a lot of information contained in this dataset. But for today's tutorial we do not need all of this information. Let's try to curate a smaller dataset that only contains variables we are interested in analysing. We are going to keep several demographic variables, some information about COVID19 severity and the accuracy results of 3 cognitive tasks."
   ]
  },
  {
   "cell_type": "code",
   "execution_count": 4,
   "metadata": {},
   "outputs": [],
   "source": [
    "df2 = pd.concat([df.loc[:, \"userID\":\"First Language binary\"], \n",
    "                 df[\"Mechanical ventilation (1-Y,0-no)\"], \n",
    "                 df.loc[:, \"rs_spatialSpan\":\"rs_verbalAnalogies\"]], axis=1)"
   ]
  },
  {
   "cell_type": "code",
   "execution_count": 5,
   "metadata": {},
   "outputs": [
    {
     "data": {
      "text/html": [
       "<div>\n",
       "<style scoped>\n",
       "    .dataframe tbody tr th:only-of-type {\n",
       "        vertical-align: middle;\n",
       "    }\n",
       "\n",
       "    .dataframe tbody tr th {\n",
       "        vertical-align: top;\n",
       "    }\n",
       "\n",
       "    .dataframe thead th {\n",
       "        text-align: right;\n",
       "    }\n",
       "</style>\n",
       "<table border=\"1\" class=\"dataframe\">\n",
       "  <thead>\n",
       "    <tr style=\"text-align: right;\">\n",
       "      <th></th>\n",
       "      <th>userID</th>\n",
       "      <th>Age</th>\n",
       "      <th>Sex 1-Male 2-Female</th>\n",
       "      <th>Handedness</th>\n",
       "      <th>Qualifications</th>\n",
       "      <th>First Language</th>\n",
       "      <th>First Language binary</th>\n",
       "      <th>Mechanical ventilation (1-Y,0-no)</th>\n",
       "      <th>rs_spatialSpan</th>\n",
       "      <th>rs_targetDetection</th>\n",
       "      <th>rs_verbalAnalogies</th>\n",
       "    </tr>\n",
       "  </thead>\n",
       "  <tbody>\n",
       "    <tr>\n",
       "      <th>0</th>\n",
       "      <td>4133880.0</td>\n",
       "      <td>\"63\"</td>\n",
       "      <td>2</td>\n",
       "      <td>Right</td>\n",
       "      <td>Some college, no degree</td>\n",
       "      <td>Polish</td>\n",
       "      <td>Other</td>\n",
       "      <td>1</td>\n",
       "      <td>4.0</td>\n",
       "      <td>65.0</td>\n",
       "      <td>6.0</td>\n",
       "    </tr>\n",
       "    <tr>\n",
       "      <th>1</th>\n",
       "      <td>4227668.0</td>\n",
       "      <td>\"70\"</td>\n",
       "      <td>1</td>\n",
       "      <td>Right</td>\n",
       "      <td>O levels/GCSEs</td>\n",
       "      <td>English</td>\n",
       "      <td>english</td>\n",
       "      <td>1</td>\n",
       "      <td>4.0</td>\n",
       "      <td>32.0</td>\n",
       "      <td>11.0</td>\n",
       "    </tr>\n",
       "    <tr>\n",
       "      <th>2</th>\n",
       "      <td>4105609.0</td>\n",
       "      <td>\"54\"</td>\n",
       "      <td>1</td>\n",
       "      <td>Right</td>\n",
       "      <td>A levels</td>\n",
       "      <td>English</td>\n",
       "      <td>english</td>\n",
       "      <td>1</td>\n",
       "      <td>5.0</td>\n",
       "      <td>63.0</td>\n",
       "      <td>8.0</td>\n",
       "    </tr>\n",
       "    <tr>\n",
       "      <th>3</th>\n",
       "      <td>4105207.0</td>\n",
       "      <td>\"55\"</td>\n",
       "      <td>2</td>\n",
       "      <td>Right</td>\n",
       "      <td>Some college, no degree</td>\n",
       "      <td>English</td>\n",
       "      <td>English</td>\n",
       "      <td>1</td>\n",
       "      <td>5.0</td>\n",
       "      <td>35.0</td>\n",
       "      <td>21.0</td>\n",
       "    </tr>\n",
       "    <tr>\n",
       "      <th>4</th>\n",
       "      <td>4239617.0</td>\n",
       "      <td>\"71\"</td>\n",
       "      <td>1</td>\n",
       "      <td>Right</td>\n",
       "      <td>Doctoral degree</td>\n",
       "      <td>English</td>\n",
       "      <td>English</td>\n",
       "      <td>1</td>\n",
       "      <td>6.0</td>\n",
       "      <td>64.0</td>\n",
       "      <td>38.0</td>\n",
       "    </tr>\n",
       "  </tbody>\n",
       "</table>\n",
       "</div>"
      ],
      "text/plain": [
       "      userID   Age  Sex 1-Male 2-Female Handedness           Qualifications  \\\n",
       "0  4133880.0  \"63\"                    2      Right  Some college, no degree   \n",
       "1  4227668.0  \"70\"                    1      Right           O levels/GCSEs   \n",
       "2  4105609.0  \"54\"                    1      Right                 A levels   \n",
       "3  4105207.0  \"55\"                    2      Right  Some college, no degree   \n",
       "4  4239617.0  \"71\"                    1      Right          Doctoral degree   \n",
       "\n",
       "  First Language First Language binary  Mechanical ventilation (1-Y,0-no)  \\\n",
       "0         Polish                 Other                                  1   \n",
       "1        English               english                                  1   \n",
       "2        English               english                                  1   \n",
       "3        English               English                                  1   \n",
       "4        English               English                                  1   \n",
       "\n",
       "   rs_spatialSpan  rs_targetDetection  rs_verbalAnalogies  \n",
       "0             4.0                65.0                 6.0  \n",
       "1             4.0                32.0                11.0  \n",
       "2             5.0                63.0                 8.0  \n",
       "3             5.0                35.0                21.0  \n",
       "4             6.0                64.0                38.0  "
      ]
     },
     "execution_count": 5,
     "metadata": {},
     "output_type": "execute_result"
    }
   ],
   "source": [
    "df2.head()"
   ]
  },
  {
   "cell_type": "markdown",
   "metadata": {},
   "source": [
    "Our dataset looks a lot more manageable now! However, some of the variable names we have are not very intuitive. Let's change the name of the cognitive tasks so that it is easier to understand what they measure."
   ]
  },
  {
   "cell_type": "code",
   "execution_count": 6,
   "metadata": {},
   "outputs": [
    {
     "data": {
      "text/html": [
       "<div>\n",
       "<style scoped>\n",
       "    .dataframe tbody tr th:only-of-type {\n",
       "        vertical-align: middle;\n",
       "    }\n",
       "\n",
       "    .dataframe tbody tr th {\n",
       "        vertical-align: top;\n",
       "    }\n",
       "\n",
       "    .dataframe thead th {\n",
       "        text-align: right;\n",
       "    }\n",
       "</style>\n",
       "<table border=\"1\" class=\"dataframe\">\n",
       "  <thead>\n",
       "    <tr style=\"text-align: right;\">\n",
       "      <th></th>\n",
       "      <th>userID</th>\n",
       "      <th>Age</th>\n",
       "      <th>Sex 1-Male 2-Female</th>\n",
       "      <th>Handedness</th>\n",
       "      <th>Qualifications</th>\n",
       "      <th>First Language</th>\n",
       "      <th>First Language binary</th>\n",
       "      <th>Mechanical ventilation (1-Y,0-no)</th>\n",
       "      <th>memory_spatialSpan</th>\n",
       "      <th>attention_targetDetection</th>\n",
       "      <th>language_verbalAnalogies</th>\n",
       "    </tr>\n",
       "  </thead>\n",
       "  <tbody>\n",
       "    <tr>\n",
       "      <th>0</th>\n",
       "      <td>4133880.0</td>\n",
       "      <td>\"63\"</td>\n",
       "      <td>2</td>\n",
       "      <td>Right</td>\n",
       "      <td>Some college, no degree</td>\n",
       "      <td>Polish</td>\n",
       "      <td>Other</td>\n",
       "      <td>1</td>\n",
       "      <td>4.0</td>\n",
       "      <td>65.0</td>\n",
       "      <td>6.0</td>\n",
       "    </tr>\n",
       "    <tr>\n",
       "      <th>1</th>\n",
       "      <td>4227668.0</td>\n",
       "      <td>\"70\"</td>\n",
       "      <td>1</td>\n",
       "      <td>Right</td>\n",
       "      <td>O levels/GCSEs</td>\n",
       "      <td>English</td>\n",
       "      <td>english</td>\n",
       "      <td>1</td>\n",
       "      <td>4.0</td>\n",
       "      <td>32.0</td>\n",
       "      <td>11.0</td>\n",
       "    </tr>\n",
       "    <tr>\n",
       "      <th>2</th>\n",
       "      <td>4105609.0</td>\n",
       "      <td>\"54\"</td>\n",
       "      <td>1</td>\n",
       "      <td>Right</td>\n",
       "      <td>A levels</td>\n",
       "      <td>English</td>\n",
       "      <td>english</td>\n",
       "      <td>1</td>\n",
       "      <td>5.0</td>\n",
       "      <td>63.0</td>\n",
       "      <td>8.0</td>\n",
       "    </tr>\n",
       "    <tr>\n",
       "      <th>3</th>\n",
       "      <td>4105207.0</td>\n",
       "      <td>\"55\"</td>\n",
       "      <td>2</td>\n",
       "      <td>Right</td>\n",
       "      <td>Some college, no degree</td>\n",
       "      <td>English</td>\n",
       "      <td>English</td>\n",
       "      <td>1</td>\n",
       "      <td>5.0</td>\n",
       "      <td>35.0</td>\n",
       "      <td>21.0</td>\n",
       "    </tr>\n",
       "    <tr>\n",
       "      <th>4</th>\n",
       "      <td>4239617.0</td>\n",
       "      <td>\"71\"</td>\n",
       "      <td>1</td>\n",
       "      <td>Right</td>\n",
       "      <td>Doctoral degree</td>\n",
       "      <td>English</td>\n",
       "      <td>English</td>\n",
       "      <td>1</td>\n",
       "      <td>6.0</td>\n",
       "      <td>64.0</td>\n",
       "      <td>38.0</td>\n",
       "    </tr>\n",
       "  </tbody>\n",
       "</table>\n",
       "</div>"
      ],
      "text/plain": [
       "      userID   Age  Sex 1-Male 2-Female Handedness           Qualifications  \\\n",
       "0  4133880.0  \"63\"                    2      Right  Some college, no degree   \n",
       "1  4227668.0  \"70\"                    1      Right           O levels/GCSEs   \n",
       "2  4105609.0  \"54\"                    1      Right                 A levels   \n",
       "3  4105207.0  \"55\"                    2      Right  Some college, no degree   \n",
       "4  4239617.0  \"71\"                    1      Right          Doctoral degree   \n",
       "\n",
       "  First Language First Language binary  Mechanical ventilation (1-Y,0-no)  \\\n",
       "0         Polish                 Other                                  1   \n",
       "1        English               english                                  1   \n",
       "2        English               english                                  1   \n",
       "3        English               English                                  1   \n",
       "4        English               English                                  1   \n",
       "\n",
       "   memory_spatialSpan  attention_targetDetection  language_verbalAnalogies  \n",
       "0                 4.0                       65.0                       6.0  \n",
       "1                 4.0                       32.0                      11.0  \n",
       "2                 5.0                       63.0                       8.0  \n",
       "3                 5.0                       35.0                      21.0  \n",
       "4                 6.0                       64.0                      38.0  "
      ]
     },
     "execution_count": 6,
     "metadata": {},
     "output_type": "execute_result"
    }
   ],
   "source": [
    "df2.rename(columns = {'rs_spatialSpan':'memory_spatialSpan', \n",
    "                      'rs_verbalAnalogies':'language_verbalAnalogies', \n",
    "                      'rs_targetDetection':'attention_targetDetection'}, inplace = True)\n",
    "df2.head()"
   ]
  },
  {
   "cell_type": "markdown",
   "metadata": {},
   "source": [
    "Try to change the column called `Qualifications` to `Education`"
   ]
  },
  {
   "cell_type": "code",
   "execution_count": 7,
   "metadata": {},
   "outputs": [],
   "source": [
    "#CODE HERE"
   ]
  },
  {
   "cell_type": "markdown",
   "metadata": {},
   "source": [
    "Now let's look at the data types for each of our variables. We discussed these during the primer, but as a quick summary, it is important that the data type matches what we expect. Strings are usually saved as objects in python and numeric variables are saved as integers (int64) or float (float64). However, sometimes either due to humar error or due to the way the data is saved, Python might assign the wrong data type to your variables (e.g. numbers may be saved as strings). When this happens, statistical tests throw errors and so do certain plotting functions. It can take a while to figure out where the errors come from. Have a look at our data and see if you can spot any wrong data types."
   ]
  },
  {
   "cell_type": "code",
   "execution_count": 8,
   "metadata": {},
   "outputs": [
    {
     "data": {
      "text/plain": [
       "userID                               float64\n",
       "Age                                   object\n",
       "Sex 1-Male 2-Female                    int64\n",
       "Handedness                            object\n",
       "Qualifications                        object\n",
       "First Language                        object\n",
       "First Language binary                 object\n",
       "Mechanical ventilation (1-Y,0-no)      int64\n",
       "memory_spatialSpan                   float64\n",
       "attention_targetDetection            float64\n",
       "language_verbalAnalogies             float64\n",
       "dtype: object"
      ]
     },
     "execution_count": 8,
     "metadata": {},
     "output_type": "execute_result"
    }
   ],
   "source": [
    "df2.dtypes"
   ]
  },
  {
   "cell_type": "markdown",
   "metadata": {},
   "source": [
    "It looks like Age was saved as an object, instead of integer. Let's change that. First, we get rid of the quotation marks around the numbers, then we tell python to convert those numbers to `int`"
   ]
  },
  {
   "cell_type": "code",
   "execution_count": 9,
   "metadata": {},
   "outputs": [],
   "source": [
    "df2.Age = df[\"Age\"].str.strip('\\\"') \n"
   ]
  },
  {
   "cell_type": "code",
   "execution_count": 10,
   "metadata": {},
   "outputs": [],
   "source": [
    "df2.Age = df2.Age.astype(int)"
   ]
  },
  {
   "cell_type": "code",
   "execution_count": 11,
   "metadata": {},
   "outputs": [
    {
     "data": {
      "text/plain": [
       "userID                               float64\n",
       "Age                                    int64\n",
       "Sex 1-Male 2-Female                    int64\n",
       "Handedness                            object\n",
       "Qualifications                        object\n",
       "First Language                        object\n",
       "First Language binary                 object\n",
       "Mechanical ventilation (1-Y,0-no)      int64\n",
       "memory_spatialSpan                   float64\n",
       "attention_targetDetection            float64\n",
       "language_verbalAnalogies             float64\n",
       "dtype: object"
      ]
     },
     "execution_count": 11,
     "metadata": {},
     "output_type": "execute_result"
    }
   ],
   "source": [
    "df2.dtypes # check that the changes have worked"
   ]
  },
  {
   "cell_type": "markdown",
   "metadata": {},
   "source": [
    "Now that we have all of our data in the right format, we may want to check if the values contained in the columns are consistent. If you have a look in the `First language binary` column you will notice that some of the values are capitalised while others are not. This is a problem as any statistics we run will assume that `english` and `English` are two distinct groups. To fix this, we can choose a consistent way to show this and stick with it."
   ]
  },
  {
   "cell_type": "code",
   "execution_count": 12,
   "metadata": {},
   "outputs": [
    {
     "data": {
      "text/html": [
       "<div>\n",
       "<style scoped>\n",
       "    .dataframe tbody tr th:only-of-type {\n",
       "        vertical-align: middle;\n",
       "    }\n",
       "\n",
       "    .dataframe tbody tr th {\n",
       "        vertical-align: top;\n",
       "    }\n",
       "\n",
       "    .dataframe thead th {\n",
       "        text-align: right;\n",
       "    }\n",
       "</style>\n",
       "<table border=\"1\" class=\"dataframe\">\n",
       "  <thead>\n",
       "    <tr style=\"text-align: right;\">\n",
       "      <th></th>\n",
       "      <th>userID</th>\n",
       "      <th>Age</th>\n",
       "      <th>Sex 1-Male 2-Female</th>\n",
       "      <th>Handedness</th>\n",
       "      <th>Qualifications</th>\n",
       "      <th>First Language</th>\n",
       "      <th>First Language binary</th>\n",
       "      <th>Mechanical ventilation (1-Y,0-no)</th>\n",
       "      <th>memory_spatialSpan</th>\n",
       "      <th>attention_targetDetection</th>\n",
       "      <th>language_verbalAnalogies</th>\n",
       "    </tr>\n",
       "  </thead>\n",
       "  <tbody>\n",
       "    <tr>\n",
       "      <th>0</th>\n",
       "      <td>4133880.0</td>\n",
       "      <td>63</td>\n",
       "      <td>2</td>\n",
       "      <td>Right</td>\n",
       "      <td>Some college, no degree</td>\n",
       "      <td>Polish</td>\n",
       "      <td>Other</td>\n",
       "      <td>1</td>\n",
       "      <td>4.0</td>\n",
       "      <td>65.0</td>\n",
       "      <td>6.0</td>\n",
       "    </tr>\n",
       "    <tr>\n",
       "      <th>1</th>\n",
       "      <td>4227668.0</td>\n",
       "      <td>70</td>\n",
       "      <td>1</td>\n",
       "      <td>Right</td>\n",
       "      <td>O levels/GCSEs</td>\n",
       "      <td>English</td>\n",
       "      <td>English</td>\n",
       "      <td>1</td>\n",
       "      <td>4.0</td>\n",
       "      <td>32.0</td>\n",
       "      <td>11.0</td>\n",
       "    </tr>\n",
       "    <tr>\n",
       "      <th>2</th>\n",
       "      <td>4105609.0</td>\n",
       "      <td>54</td>\n",
       "      <td>1</td>\n",
       "      <td>Right</td>\n",
       "      <td>A levels</td>\n",
       "      <td>English</td>\n",
       "      <td>English</td>\n",
       "      <td>1</td>\n",
       "      <td>5.0</td>\n",
       "      <td>63.0</td>\n",
       "      <td>8.0</td>\n",
       "    </tr>\n",
       "    <tr>\n",
       "      <th>3</th>\n",
       "      <td>4105207.0</td>\n",
       "      <td>55</td>\n",
       "      <td>2</td>\n",
       "      <td>Right</td>\n",
       "      <td>Some college, no degree</td>\n",
       "      <td>English</td>\n",
       "      <td>English</td>\n",
       "      <td>1</td>\n",
       "      <td>5.0</td>\n",
       "      <td>35.0</td>\n",
       "      <td>21.0</td>\n",
       "    </tr>\n",
       "    <tr>\n",
       "      <th>4</th>\n",
       "      <td>4239617.0</td>\n",
       "      <td>71</td>\n",
       "      <td>1</td>\n",
       "      <td>Right</td>\n",
       "      <td>Doctoral degree</td>\n",
       "      <td>English</td>\n",
       "      <td>English</td>\n",
       "      <td>1</td>\n",
       "      <td>6.0</td>\n",
       "      <td>64.0</td>\n",
       "      <td>38.0</td>\n",
       "    </tr>\n",
       "  </tbody>\n",
       "</table>\n",
       "</div>"
      ],
      "text/plain": [
       "      userID  Age  Sex 1-Male 2-Female Handedness           Qualifications  \\\n",
       "0  4133880.0   63                    2      Right  Some college, no degree   \n",
       "1  4227668.0   70                    1      Right           O levels/GCSEs   \n",
       "2  4105609.0   54                    1      Right                 A levels   \n",
       "3  4105207.0   55                    2      Right  Some college, no degree   \n",
       "4  4239617.0   71                    1      Right          Doctoral degree   \n",
       "\n",
       "  First Language First Language binary  Mechanical ventilation (1-Y,0-no)  \\\n",
       "0         Polish                 Other                                  1   \n",
       "1        English               English                                  1   \n",
       "2        English               English                                  1   \n",
       "3        English               English                                  1   \n",
       "4        English               English                                  1   \n",
       "\n",
       "   memory_spatialSpan  attention_targetDetection  language_verbalAnalogies  \n",
       "0                 4.0                       65.0                       6.0  \n",
       "1                 4.0                       32.0                      11.0  \n",
       "2                 5.0                       63.0                       8.0  \n",
       "3                 5.0                       35.0                      21.0  \n",
       "4                 6.0                       64.0                      38.0  "
      ]
     },
     "execution_count": 12,
     "metadata": {},
     "output_type": "execute_result"
    }
   ],
   "source": [
    "df2['First Language binary'] = df2['First Language binary'].str.title()\n",
    "df2.head()"
   ]
  },
  {
   "cell_type": "markdown",
   "metadata": {},
   "source": [
    "Try to do the same for the `Handedness` variable."
   ]
  },
  {
   "cell_type": "code",
   "execution_count": 13,
   "metadata": {},
   "outputs": [],
   "source": [
    "#CODE HERE"
   ]
  },
  {
   "cell_type": "markdown",
   "metadata": {},
   "source": [
    "We may also wish to encode some of our categorical variables into a numeric format. This is usually done as specific statistical techniques, as well as machine learning algorithms (which we will discuss in later lectures), require categorical data to be in a numeric format. Therefore, it is always safer to have your numeric data saved in a numeric format when possible. \n",
    "\n",
    "There are different ways to encode variables, and the two most common ones are `integer encoding` and `one-hot-encoding`. Integer encoding consists in assigning an integer value to each category. Instead, one-hot encoding represents categorical variables as binary vectors. Concretely if you have three potential alternatives for one category, then, for each participant three columns will be made, one per alternative, and a one assigned within the column that each subject belongs to, whilst all others will be assigned a value of 0.\n",
    "\n",
    "Both integer and one-hot encoding can be used. However, one limitation of integer encoding is that it introduces an *order* when assigning an integer to each group, which might not really be meaningful. So, it should be used carefully, based on the type of anaysis that you want to do. Converseley, if there are many possible answers (consider a persons response time) then one hot encoding can require too many columns. \n",
    "\n",
    "The language variable is a good example where `one-hot-encoding` encoding would be useful. Let's see how this can be done below.\n",
    "\n",
    "The most common way to one-hot-encode in Python is to use the `get_dummies` function. If you want to see further examples of this, we have some in our primer."
   ]
  },
  {
   "cell_type": "code",
   "execution_count": 14,
   "metadata": {},
   "outputs": [
    {
     "data": {
      "text/plain": [
       "(50, 2)"
      ]
     },
     "execution_count": 14,
     "metadata": {},
     "output_type": "execute_result"
    }
   ],
   "source": [
    "# Text Data of First Language is converted into Numeric Binary Data\n",
    "df_one = pd.get_dummies(df2['First Language binary'])\n",
    "df_one.head()\n",
    "df_one.shape"
   ]
  },
  {
   "cell_type": "markdown",
   "metadata": {},
   "source": [
    "On the other hand, if you prefer to integer encode there are mutliple approaches that can be used. The first way is to define a dictionary on your own, in order to be able to decide which integer is assigned to which feature. Below, we assign value one to all the fields which have `English` in them and value zero to those with `Other`"
   ]
  },
  {
   "cell_type": "code",
   "execution_count": 15,
   "metadata": {},
   "outputs": [
    {
     "data": {
      "text/plain": [
       "0    0\n",
       "1    1\n",
       "2    1\n",
       "3    1\n",
       "4    1\n",
       "Name: First Language binary, dtype: int64"
      ]
     },
     "execution_count": 15,
     "metadata": {},
     "output_type": "execute_result"
    }
   ],
   "source": [
    "mapping_language = {\"English\": 1, \"Other\": 0}\n",
    "mapped_language = df2['First Language binary'].map(mapping_language)\n",
    "mapped_language.head()"
   ]
  },
  {
   "cell_type": "markdown",
   "metadata": {},
   "source": [
    "Based on whether you choose to one-hot encode or integer encode your features, you will need to conduct your analysis slightly differently, mainly when training regression models. Whether you should one-hot-encode or integer encode mainly depends on the type of analysis you need to conduct. In this case, integer encoding is enough. "
   ]
  },
  {
   "cell_type": "code",
   "execution_count": 16,
   "metadata": {},
   "outputs": [],
   "source": [
    "df2['First Language binary'] = mapped_language"
   ]
  },
  {
   "cell_type": "markdown",
   "metadata": {},
   "source": [
    "Let's now rename the column into an easy-to-understand name"
   ]
  },
  {
   "cell_type": "code",
   "execution_count": 17,
   "metadata": {},
   "outputs": [
    {
     "data": {
      "text/html": [
       "<div>\n",
       "<style scoped>\n",
       "    .dataframe tbody tr th:only-of-type {\n",
       "        vertical-align: middle;\n",
       "    }\n",
       "\n",
       "    .dataframe tbody tr th {\n",
       "        vertical-align: top;\n",
       "    }\n",
       "\n",
       "    .dataframe thead th {\n",
       "        text-align: right;\n",
       "    }\n",
       "</style>\n",
       "<table border=\"1\" class=\"dataframe\">\n",
       "  <thead>\n",
       "    <tr style=\"text-align: right;\">\n",
       "      <th></th>\n",
       "      <th>userID</th>\n",
       "      <th>Age</th>\n",
       "      <th>Sex 1-Male 2-Female</th>\n",
       "      <th>Handedness</th>\n",
       "      <th>Qualifications</th>\n",
       "      <th>First Language</th>\n",
       "      <th>First Language 1-English 0-Other</th>\n",
       "      <th>Mechanical ventilation (1-Y,0-no)</th>\n",
       "      <th>memory_spatialSpan</th>\n",
       "      <th>attention_targetDetection</th>\n",
       "      <th>language_verbalAnalogies</th>\n",
       "    </tr>\n",
       "  </thead>\n",
       "  <tbody>\n",
       "    <tr>\n",
       "      <th>0</th>\n",
       "      <td>4133880.0</td>\n",
       "      <td>63</td>\n",
       "      <td>2</td>\n",
       "      <td>Right</td>\n",
       "      <td>Some college, no degree</td>\n",
       "      <td>Polish</td>\n",
       "      <td>0</td>\n",
       "      <td>1</td>\n",
       "      <td>4.0</td>\n",
       "      <td>65.0</td>\n",
       "      <td>6.0</td>\n",
       "    </tr>\n",
       "    <tr>\n",
       "      <th>1</th>\n",
       "      <td>4227668.0</td>\n",
       "      <td>70</td>\n",
       "      <td>1</td>\n",
       "      <td>Right</td>\n",
       "      <td>O levels/GCSEs</td>\n",
       "      <td>English</td>\n",
       "      <td>1</td>\n",
       "      <td>1</td>\n",
       "      <td>4.0</td>\n",
       "      <td>32.0</td>\n",
       "      <td>11.0</td>\n",
       "    </tr>\n",
       "    <tr>\n",
       "      <th>2</th>\n",
       "      <td>4105609.0</td>\n",
       "      <td>54</td>\n",
       "      <td>1</td>\n",
       "      <td>Right</td>\n",
       "      <td>A levels</td>\n",
       "      <td>English</td>\n",
       "      <td>1</td>\n",
       "      <td>1</td>\n",
       "      <td>5.0</td>\n",
       "      <td>63.0</td>\n",
       "      <td>8.0</td>\n",
       "    </tr>\n",
       "    <tr>\n",
       "      <th>3</th>\n",
       "      <td>4105207.0</td>\n",
       "      <td>55</td>\n",
       "      <td>2</td>\n",
       "      <td>Right</td>\n",
       "      <td>Some college, no degree</td>\n",
       "      <td>English</td>\n",
       "      <td>1</td>\n",
       "      <td>1</td>\n",
       "      <td>5.0</td>\n",
       "      <td>35.0</td>\n",
       "      <td>21.0</td>\n",
       "    </tr>\n",
       "    <tr>\n",
       "      <th>4</th>\n",
       "      <td>4239617.0</td>\n",
       "      <td>71</td>\n",
       "      <td>1</td>\n",
       "      <td>Right</td>\n",
       "      <td>Doctoral degree</td>\n",
       "      <td>English</td>\n",
       "      <td>1</td>\n",
       "      <td>1</td>\n",
       "      <td>6.0</td>\n",
       "      <td>64.0</td>\n",
       "      <td>38.0</td>\n",
       "    </tr>\n",
       "  </tbody>\n",
       "</table>\n",
       "</div>"
      ],
      "text/plain": [
       "      userID  Age  Sex 1-Male 2-Female Handedness           Qualifications  \\\n",
       "0  4133880.0   63                    2      Right  Some college, no degree   \n",
       "1  4227668.0   70                    1      Right           O levels/GCSEs   \n",
       "2  4105609.0   54                    1      Right                 A levels   \n",
       "3  4105207.0   55                    2      Right  Some college, no degree   \n",
       "4  4239617.0   71                    1      Right          Doctoral degree   \n",
       "\n",
       "  First Language  First Language 1-English 0-Other  \\\n",
       "0         Polish                                 0   \n",
       "1        English                                 1   \n",
       "2        English                                 1   \n",
       "3        English                                 1   \n",
       "4        English                                 1   \n",
       "\n",
       "   Mechanical ventilation (1-Y,0-no)  memory_spatialSpan  \\\n",
       "0                                  1                 4.0   \n",
       "1                                  1                 4.0   \n",
       "2                                  1                 5.0   \n",
       "3                                  1                 5.0   \n",
       "4                                  1                 6.0   \n",
       "\n",
       "   attention_targetDetection  language_verbalAnalogies  \n",
       "0                       65.0                       6.0  \n",
       "1                       32.0                      11.0  \n",
       "2                       63.0                       8.0  \n",
       "3                       35.0                      21.0  \n",
       "4                       64.0                      38.0  "
      ]
     },
     "execution_count": 17,
     "metadata": {},
     "output_type": "execute_result"
    }
   ],
   "source": [
    "df2.rename(columns = {'First Language binary':'First Language 1-English 0-Other'}, inplace = True)\n",
    "df2.head()"
   ]
  },
  {
   "cell_type": "markdown",
   "metadata": {},
   "source": [
    "Try to do apply the same concept of encoding to the `Handedness` variable. Sex is already encoded for you, so you don't need to do it."
   ]
  },
  {
   "cell_type": "code",
   "execution_count": 18,
   "metadata": {},
   "outputs": [],
   "source": [
    "#CODE HERE"
   ]
  },
  {
   "cell_type": "markdown",
   "metadata": {},
   "source": [
    "Now, before moving forward we may also want to check the validity of the data. Are there any odd values that are not within the expected range? The best way to examine this is via plotting. \n",
    "\n",
    "Let's visualise some of the variables in the dataset. We will use `seaborn` to create the following plots. `seaborn` is a slightly more advanced way to make plots in python compared to `matplotlib`. We created an **optional lecture on seaborn, that you can complete if you are interested. It is not compulsory but it will make your plots look much nicer!!** \n",
    "\n",
    "In brief, the majority of plots in sebaorn require four arguments: `data` that requires the name of the dataframe, `x` that specifies the name of the column that should be plotted in x, `y` that specifies the name of the column that should be plotted in y, and `hue` that gives information on whether the colour of the plots should have any meaning (e.g. red for one category and blue for another category). Hue takes again as input the name of the column that specifies the different categories. \n",
    "\n",
    "Each different type of plot (e.g. histograms, boxplots..) has additional optional arguments that can be checked using the `help` function (or the seaborn lecture). "
   ]
  },
  {
   "cell_type": "code",
   "execution_count": 19,
   "metadata": {},
   "outputs": [
    {
     "data": {
      "text/plain": [
       "Text(0.5, 1.0, 'Accuracy Spatial Span')"
      ]
     },
     "execution_count": 19,
     "metadata": {},
     "output_type": "execute_result"
    },
    {
     "data": {
      "image/png": "[encoded data removed]",
      "text/plain": [
       "<Figure size 432x288 with 1 Axes>"
      ]
     },
     "metadata": {},
     "output_type": "display_data"
    }
   ],
   "source": [
    "_ = sb.histplot(data = df2, x = \"memory_spatialSpan\", bins = 30)\n",
    "plt.title(\"Accuracy Spatial Span\")"
   ]
  },
  {
   "cell_type": "code",
   "execution_count": 20,
   "metadata": {},
   "outputs": [
    {
     "data": {
      "text/plain": [
       "Text(0.5, 1.0, 'Accuracy Target detection')"
      ]
     },
     "execution_count": 20,
     "metadata": {},
     "output_type": "execute_result"
    },
    {
     "data": {
      "image/png": "[encoded data removed]",
      "text/plain": [
       "<Figure size 432x288 with 1 Axes>"
      ]
     },
     "metadata": {},
     "output_type": "display_data"
    }
   ],
   "source": [
    "_ = sb.histplot(data = df2, x = \"attention_targetDetection\", bins = 30)\n",
    "plt.title(\"Accuracy Target detection\")"
   ]
  },
  {
   "cell_type": "code",
   "execution_count": 21,
   "metadata": {},
   "outputs": [
    {
     "data": {
      "image/png": "[encoded data removed]",
      "text/plain": [
       "<Figure size 432x288 with 1 Axes>"
      ]
     },
     "metadata": {},
     "output_type": "display_data"
    }
   ],
   "source": [
    "_ = sb.histplot(data = df2, x = \"language_verbalAnalogies\", bins = 30)"
   ]
  },
  {
   "cell_type": "code",
   "execution_count": 22,
   "metadata": {},
   "outputs": [
    {
     "data": {
      "image/png": "[encoded data removed]",
      "text/plain": [
       "<Figure size 432x288 with 1 Axes>"
      ]
     },
     "metadata": {},
     "output_type": "display_data"
    }
   ],
   "source": [
    "_ = sb.histplot(data = df2, x = \"Age\", bins = 30)"
   ]
  },
  {
   "cell_type": "markdown",
   "metadata": {},
   "source": [
    "We see that for the cognitive variables the data looks valid. However, when we look at age, one person seems to be over 600 years old! Unless we are dealing with a vampire, we may want to do something about this data. There are multiple ways to deal with this type of data but the simplest and most straightforward is to get rid of it, by replacing it with a NaN value."
   ]
  },
  {
   "cell_type": "code",
   "execution_count": 23,
   "metadata": {},
   "outputs": [
    {
     "name": "stdout",
     "output_type": "stream",
     "text": [
      "40    610\n",
      "Name: Age, dtype: int64\n"
     ]
    },
    {
     "data": {
      "image/png": "[encoded data removed]",
      "text/plain": [
       "<Figure size 432x288 with 1 Axes>"
      ]
     },
     "metadata": {},
     "output_type": "display_data"
    }
   ],
   "source": [
    "print(df2.Age[df2.Age > 100]) #show all the people who had an age over 100\n",
    "df2.Age.loc[df2.Age > 100] = np.nan  #replace with NaNs anyone who is older than 100\n",
    "_ = sb.histplot(data = df2, x = \"Age\", bins = 30) #plot the new data\n"
   ]
  },
  {
   "cell_type": "markdown",
   "metadata": {},
   "source": [
    "Check for the remaining variables if there is any data that is not valid. If you find anything, replace it with NaNs"
   ]
  },
  {
   "cell_type": "markdown",
   "metadata": {},
   "source": [
    "Now that we have established that the data looks healthy, the next thing on the list is to check whether there are any duplicated values in our dataset. The easiest way to check this is via the number of unique user IDs. If we had no duplicates, then the number of unique IDs should correspond with the total number of rows in our data."
   ]
  },
  {
   "cell_type": "code",
   "execution_count": 24,
   "metadata": {},
   "outputs": [
    {
     "name": "stdout",
     "output_type": "stream",
     "text": [
      "48\n",
      "50\n"
     ]
    }
   ],
   "source": [
    "print(len(np.unique(df2.userID)))\n",
    "print(len(df2.userID))"
   ]
  },
  {
   "cell_type": "markdown",
   "metadata": {},
   "source": [
    "You can also use the `duplicated` function to obtain the same results."
   ]
  },
  {
   "cell_type": "code",
   "execution_count": 25,
   "metadata": {},
   "outputs": [
    {
     "data": {
      "text/plain": [
       "2"
      ]
     },
     "execution_count": 25,
     "metadata": {},
     "output_type": "execute_result"
    }
   ],
   "source": [
    "sum(df2.duplicated()) "
   ]
  },
  {
   "cell_type": "markdown",
   "metadata": {},
   "source": [
    "It looks like we got two duplicates in our data. Let us try to remove them."
   ]
  },
  {
   "cell_type": "code",
   "execution_count": 26,
   "metadata": {},
   "outputs": [
    {
     "data": {
      "text/plain": [
       "0"
      ]
     },
     "execution_count": 26,
     "metadata": {},
     "output_type": "execute_result"
    }
   ],
   "source": [
    "df2 = df2[~df2.duplicated()] #Have a look at lecture 8 if you don't remember this function\n",
    "sum(df2.duplicated()) # calculate the number of duplicates again after removing them. If we were succcessful none should be there anymore."
   ]
  },
  {
   "cell_type": "markdown",
   "metadata": {},
   "source": [
    "We are almost done cleaning our data. Now let's check if there are any missing values. It's generally good practice to get rid of participants with missing data or replace those values with plausible estimates (like the mean/median). In this case, we will show the first. To find out if we have any missing values we can use the `isna` function. This returns True when there is a missing value and False when there isn't one."
   ]
  },
  {
   "cell_type": "code",
   "execution_count": 27,
   "metadata": {},
   "outputs": [
    {
     "data": {
      "text/plain": [
       "userID                               1\n",
       "Age                                  1\n",
       "Sex 1-Male 2-Female                  0\n",
       "Handedness                           1\n",
       "Qualifications                       0\n",
       "First Language                       0\n",
       "First Language 1-English 0-Other     0\n",
       "Mechanical ventilation (1-Y,0-no)    0\n",
       "memory_spatialSpan                   2\n",
       "attention_targetDetection            2\n",
       "language_verbalAnalogies             2\n",
       "dtype: int64"
      ]
     },
     "execution_count": 27,
     "metadata": {},
     "output_type": "execute_result"
    }
   ],
   "source": [
    "df2.isna().sum()"
   ]
  },
  {
   "cell_type": "markdown",
   "metadata": {},
   "source": [
    "Let's try to understand how many different people have missing values among the 50 participants. "
   ]
  },
  {
   "cell_type": "code",
   "execution_count": 28,
   "metadata": {},
   "outputs": [
    {
     "name": "stdout",
     "output_type": "stream",
     "text": [
      "3\n"
     ]
    }
   ],
   "source": [
    "sum_missing = df2.isna().sum(axis=1) #This shows us how many missing values each person has\n",
    "print(sum(sum_missing > 0)) #how many people have at least one missing data\n"
   ]
  },
  {
   "cell_type": "markdown",
   "metadata": {},
   "source": [
    "Let's get rid of the 3 people who have at least one missing value"
   ]
  },
  {
   "cell_type": "code",
   "execution_count": 29,
   "metadata": {},
   "outputs": [],
   "source": [
    "df2 = df2[~(sum_missing > 0)]"
   ]
  },
  {
   "cell_type": "markdown",
   "metadata": {},
   "source": [
    "Another important check we need to perform is to look for outliers. These are often less easy to spot and sometimes it is unclear if one value is an outlier or not. Some researchers may be tempted to remove more extreme values only because it helps with their hypothesis, which creates bias as it is a form of \"p hacking\". Just because a value is extreme it does not always mean that it is wrong. However, if you don't do something about your outliers, they also can bias your plots and statistical results."
   ]
  },
  {
   "cell_type": "markdown",
   "metadata": {},
   "source": [
    "One robust, objective way to deal with outliers is via a process called winsorisation. This approach replaces the extreme values in our data with slightly less extreme values, in order to limit the effect of the outliers on the calculations or the results. The mean value calculated after such replacement of the extreme values is called winsorized mean. \n",
    "\n",
    "For example, 90% winsorization means the replacement of the top 5% and bottom 5% of the data. The top 5% of the data is replaced by the value of the data at the 95th percentile and the value of the bottom 5% of the data is replaced by the value of the data at the 5th percentile. "
   ]
  },
  {
   "cell_type": "markdown",
   "metadata": {},
   "source": [
    "Let's see if our cognitive data requires any winsorisation by visualising it."
   ]
  },
  {
   "cell_type": "code",
   "execution_count": 30,
   "metadata": {},
   "outputs": [
    {
     "data": {
      "text/plain": [
       "(array([1, 2, 3]), [Text(0, 0, ''), Text(0, 0, ''), Text(0, 0, '')])"
      ]
     },
     "execution_count": 30,
     "metadata": {},
     "output_type": "execute_result"
    },
    {
     "data": {
      "image/png": "[encoded data removed]",
      "text/plain": [
       "<Figure size 432x288 with 1 Axes>"
      ]
     },
     "metadata": {},
     "output_type": "display_data"
    }
   ],
   "source": [
    "_ = plt.boxplot([df2.language_verbalAnalogies, df2.memory_spatialSpan, df2.attention_targetDetection], \n",
    "               labels = [\"Verbal Analogies\", \"Spatial Span\", \"Target Detection\"])\n",
    "plt.xticks(rotation=25)"
   ]
  },
  {
   "cell_type": "markdown",
   "metadata": {},
   "source": [
    "The scales are very different, so it is not easy to visualise Spatial Span with the other tasks. However, we can see that it looks like there is an outlier. Let's plot spatial span alone to check more in detail. "
   ]
  },
  {
   "cell_type": "code",
   "execution_count": 31,
   "metadata": {},
   "outputs": [
    {
     "data": {
      "image/png": "[encoded data removed]",
      "text/plain": [
       "<Figure size 432x288 with 1 Axes>"
      ]
     },
     "metadata": {},
     "output_type": "display_data"
    }
   ],
   "source": [
    "_ = plt.boxplot(df2.memory_spatialSpan, labels = [\"Spatial Span\"])"
   ]
  },
  {
   "cell_type": "markdown",
   "metadata": {},
   "source": [
    "Looking at the box plot, we can see that for the memory Spatial Span task, we have one person who performed really well. A score of 8 is plausible within this task, but not very common. For that reason, it is not valid for us to just remove it. Instead, let us apply the winsorisation procedure to replace the value with something a bit less extreme by replacing the values above the 95th percentile with the value of the score on the 95th percentile."
   ]
  },
  {
   "cell_type": "code",
   "execution_count": 32,
   "metadata": {},
   "outputs": [
    {
     "data": {
      "image/png": "[encoded data removed]",
      "text/plain": [
       "<Figure size 432x288 with 1 Axes>"
      ]
     },
     "metadata": {},
     "output_type": "display_data"
    }
   ],
   "source": [
    "winsorized_memory = winsorize(df2['memory_spatialSpan'],(0.05,0.05))  #apply winsorisation\n",
    "  \n",
    "plt.boxplot(winsorized_memory, labels = [\"Spatial Span\"])  #visualise the data after winsorisation\n",
    "plt.title('Winsorized array')\n",
    "plt.show()"
   ]
  },
  {
   "cell_type": "markdown",
   "metadata": {},
   "source": [
    "It now looks a lot better! Let's replace the old values in the memory task with the winsorised version."
   ]
  },
  {
   "cell_type": "code",
   "execution_count": 33,
   "metadata": {},
   "outputs": [],
   "source": [
    "df2['memory_spatialSpan'] = winsorized_memory"
   ]
  },
  {
   "cell_type": "markdown",
   "metadata": {},
   "source": [
    "One final check, now that the data is in the right format and we are confident that it is correct, is to ensure everything is on the same scale. Different tasks will have different scoring mechanisms. While on some tasks the scores may range from 4 to 8, in others they may range between 30 and 70. This is often a problem as depending on the statistical test you use, if one variable has very large values, it will dominate over other variables. So the features with higher variability may receive more weight than the others even though in theory they should not.\n",
    "\n",
    "To scale the features, there are two options that can be completed:\n",
    "\n",
    "1. **Standardisation**: scale numbers based on the mean and standard deviation\n",
    "2. **Normalisation**: scale the numbers between 0 and 1. \n",
    "\n",
    "To`standardise` features, we can use the following equation.\n",
    "\n",
    "$$featureScaled = \\frac{feature - \\mu_{feature}}{\\sigma_{feature}} $$\n",
    "\n",
    "Where $\\mu_{feature}$ corresponds to the mean of the feature and $\\sigma_{feature}$ to its standard deviation.\n",
    "\n",
    "Instead, to complete data `normalisation`, we can use the following equation:\n",
    "\n",
    "$$ featureNormalised = \\frac{feature - {feature}_{MIN}}{feature_{MAX} - feature_{MIN}} $$\n",
    "\n",
    "`standardisation` is a bit more robust towards outliers compared to `normalisation`, and the latter tends to be used when the data don't follow a Gaussian distribution. **But this is not a rule.** You can use standardisation even if your data are not normally distributed, and the choice of feature scaling really depends on your analysis. \n",
    "\n",
    "In this case, we want to evaluate at the end how much the performance of patients deviates from the performance of healthy controls in terms of standard deviation units. This is why using standardisation, which scales the values according to mean and std is more appropriate. However, there is an issue. If we standardise the patients and healthy controls separately, then we will end up using two different means and standard deviations, which will make their performances incomparable. This is why we need to standardise the patients score in each cognitive task with the respective mean and standard deviation of the healthy controls scores.\n",
    "\n",
    "Let's examine the healthy controls data."
   ]
  },
  {
   "cell_type": "code",
   "execution_count": 34,
   "metadata": {},
   "outputs": [
    {
     "data": {
      "text/plain": [
       "(15722, 22)"
      ]
     },
     "execution_count": 34,
     "metadata": {},
     "output_type": "execute_result"
    }
   ],
   "source": [
    "df_healthy = pd.read_csv(\"Data/demographics_day2.csv\")\n",
    "df_healthy.shape"
   ]
  },
  {
   "cell_type": "markdown",
   "metadata": {},
   "source": [
    "As you can see the healthy dataset contains 15722 rows and 15 columns. Each row has data of one healthy participant, and contains their performance in the three cognitive tasks of interest as well as their demographics. The healthy participants were selected in such a way that there were at least 50 people for each possible combination of demographics, and the cognitive scores were already cleaned from the biggest outliers."
   ]
  },
  {
   "cell_type": "markdown",
   "metadata": {},
   "source": [
    "Have a look at the variables."
   ]
  },
  {
   "cell_type": "code",
   "execution_count": 35,
   "metadata": {},
   "outputs": [
    {
     "data": {
      "text/html": [
       "<div>\n",
       "<style scoped>\n",
       "    .dataframe tbody tr th:only-of-type {\n",
       "        vertical-align: middle;\n",
       "    }\n",
       "\n",
       "    .dataframe tbody tr th {\n",
       "        vertical-align: top;\n",
       "    }\n",
       "\n",
       "    .dataframe thead th {\n",
       "        text-align: right;\n",
       "    }\n",
       "</style>\n",
       "<table border=\"1\" class=\"dataframe\">\n",
       "  <thead>\n",
       "    <tr style=\"text-align: right;\">\n",
       "      <th></th>\n",
       "      <th>SummaryScore_SpatialSpan</th>\n",
       "      <th>RT_SpatialSpan</th>\n",
       "      <th>user_id</th>\n",
       "      <th>SummaryScore_targetDetection</th>\n",
       "      <th>RT_targetDetection</th>\n",
       "      <th>SummaryScore_VerbalAnalogies</th>\n",
       "      <th>RT_VerbalAnalogies</th>\n",
       "      <th>Residence</th>\n",
       "      <th>Language binary</th>\n",
       "      <th>Ethnicity</th>\n",
       "      <th>Sex</th>\n",
       "      <th>Education</th>\n",
       "      <th>Handedness</th>\n",
       "      <th>Occupation</th>\n",
       "      <th>Salary</th>\n",
       "      <th>timepoint_by_date</th>\n",
       "      <th>Age</th>\n",
       "      <th>Imputation</th>\n",
       "      <th>Device Summary</th>\n",
       "      <th>Normative</th>\n",
       "      <th>Age squared</th>\n",
       "      <th>Age decade</th>\n",
       "    </tr>\n",
       "  </thead>\n",
       "  <tbody>\n",
       "    <tr>\n",
       "      <th>0</th>\n",
       "      <td>8.0</td>\n",
       "      <td>5414.0</td>\n",
       "      <td>fc9b0048ab9e40a9aa823e195bd12043</td>\n",
       "      <td>49.0</td>\n",
       "      <td>1916.0</td>\n",
       "      <td>4</td>\n",
       "      <td>4722.0</td>\n",
       "      <td>United States</td>\n",
       "      <td>English</td>\n",
       "      <td>American Hispanic</td>\n",
       "      <td>Female</td>\n",
       "      <td>00_preGCSE</td>\n",
       "      <td>Right handed</td>\n",
       "      <td>Worker</td>\n",
       "      <td>£40-50K</td>\n",
       "      <td>tp1</td>\n",
       "      <td>27.0</td>\n",
       "      <td>0</td>\n",
       "      <td>Apple phone</td>\n",
       "      <td>0</td>\n",
       "      <td>729.0</td>\n",
       "      <td>20</td>\n",
       "    </tr>\n",
       "    <tr>\n",
       "      <th>1</th>\n",
       "      <td>7.0</td>\n",
       "      <td>3066.5</td>\n",
       "      <td>87f080fe66374700a2b54c350a560d20</td>\n",
       "      <td>71.0</td>\n",
       "      <td>886.0</td>\n",
       "      <td>16</td>\n",
       "      <td>3045.0</td>\n",
       "      <td>United Kingdom</td>\n",
       "      <td>English</td>\n",
       "      <td>American Hispanic</td>\n",
       "      <td>Female</td>\n",
       "      <td>00_preGCSE</td>\n",
       "      <td>Right handed</td>\n",
       "      <td>Worker</td>\n",
       "      <td>£10-20K</td>\n",
       "      <td>tp1</td>\n",
       "      <td>27.0</td>\n",
       "      <td>0</td>\n",
       "      <td>Android phone</td>\n",
       "      <td>0</td>\n",
       "      <td>729.0</td>\n",
       "      <td>20</td>\n",
       "    </tr>\n",
       "    <tr>\n",
       "      <th>2</th>\n",
       "      <td>7.0</td>\n",
       "      <td>2366.0</td>\n",
       "      <td>3c20040d-c5a7-4394-b7b4-daa04ca5f240</td>\n",
       "      <td>62.0</td>\n",
       "      <td>1303.0</td>\n",
       "      <td>22</td>\n",
       "      <td>2355.0</td>\n",
       "      <td>United Kingdom</td>\n",
       "      <td>English</td>\n",
       "      <td>American Hispanic</td>\n",
       "      <td>Female</td>\n",
       "      <td>00_preGCSE</td>\n",
       "      <td>Right handed</td>\n",
       "      <td>Worker</td>\n",
       "      <td>£0-10K</td>\n",
       "      <td>tp1</td>\n",
       "      <td>28.0</td>\n",
       "      <td>0</td>\n",
       "      <td>Apple phone</td>\n",
       "      <td>0</td>\n",
       "      <td>784.0</td>\n",
       "      <td>20</td>\n",
       "    </tr>\n",
       "    <tr>\n",
       "      <th>3</th>\n",
       "      <td>6.0</td>\n",
       "      <td>3332.5</td>\n",
       "      <td>3edc12d8ead348b094782ca9b74f8446</td>\n",
       "      <td>48.0</td>\n",
       "      <td>876.5</td>\n",
       "      <td>-9</td>\n",
       "      <td>4751.5</td>\n",
       "      <td>United Kingdom</td>\n",
       "      <td>English</td>\n",
       "      <td>American Hispanic</td>\n",
       "      <td>Female</td>\n",
       "      <td>00_preGCSE</td>\n",
       "      <td>Left handed</td>\n",
       "      <td>Worker</td>\n",
       "      <td>£30-40K</td>\n",
       "      <td>tp1</td>\n",
       "      <td>36.0</td>\n",
       "      <td>0</td>\n",
       "      <td>Apple phone</td>\n",
       "      <td>0</td>\n",
       "      <td>1296.0</td>\n",
       "      <td>30</td>\n",
       "    </tr>\n",
       "    <tr>\n",
       "      <th>4</th>\n",
       "      <td>5.0</td>\n",
       "      <td>1591.5</td>\n",
       "      <td>b1cc65d5aaa44aecb557747438897a41</td>\n",
       "      <td>43.0</td>\n",
       "      <td>2017.0</td>\n",
       "      <td>4</td>\n",
       "      <td>2597.0</td>\n",
       "      <td>United Kingdom</td>\n",
       "      <td>English</td>\n",
       "      <td>American Hispanic</td>\n",
       "      <td>Female</td>\n",
       "      <td>00_preGCSE</td>\n",
       "      <td>Right handed</td>\n",
       "      <td>Worker</td>\n",
       "      <td>£40-50K</td>\n",
       "      <td>tp1</td>\n",
       "      <td>38.0</td>\n",
       "      <td>0</td>\n",
       "      <td>Apple phone</td>\n",
       "      <td>0</td>\n",
       "      <td>1444.0</td>\n",
       "      <td>30</td>\n",
       "    </tr>\n",
       "  </tbody>\n",
       "</table>\n",
       "</div>"
      ],
      "text/plain": [
       "   SummaryScore_SpatialSpan  RT_SpatialSpan  \\\n",
       "0                       8.0          5414.0   \n",
       "1                       7.0          3066.5   \n",
       "2                       7.0          2366.0   \n",
       "3                       6.0          3332.5   \n",
       "4                       5.0          1591.5   \n",
       "\n",
       "                                user_id  SummaryScore_targetDetection  \\\n",
       "0      fc9b0048ab9e40a9aa823e195bd12043                          49.0   \n",
       "1      87f080fe66374700a2b54c350a560d20                          71.0   \n",
       "2  3c20040d-c5a7-4394-b7b4-daa04ca5f240                          62.0   \n",
       "3      3edc12d8ead348b094782ca9b74f8446                          48.0   \n",
       "4      b1cc65d5aaa44aecb557747438897a41                          43.0   \n",
       "\n",
       "   RT_targetDetection  SummaryScore_VerbalAnalogies  RT_VerbalAnalogies  \\\n",
       "0              1916.0                             4              4722.0   \n",
       "1               886.0                            16              3045.0   \n",
       "2              1303.0                            22              2355.0   \n",
       "3               876.5                            -9              4751.5   \n",
       "4              2017.0                             4              2597.0   \n",
       "\n",
       "        Residence Language binary          Ethnicity     Sex   Education  \\\n",
       "0   United States         English  American Hispanic  Female  00_preGCSE   \n",
       "1  United Kingdom         English  American Hispanic  Female  00_preGCSE   \n",
       "2  United Kingdom         English  American Hispanic  Female  00_preGCSE   \n",
       "3  United Kingdom         English  American Hispanic  Female  00_preGCSE   \n",
       "4  United Kingdom         English  American Hispanic  Female  00_preGCSE   \n",
       "\n",
       "     Handedness Occupation   Salary timepoint_by_date   Age  Imputation  \\\n",
       "0  Right handed     Worker  £40-50K               tp1  27.0           0   \n",
       "1  Right handed     Worker  £10-20K               tp1  27.0           0   \n",
       "2  Right handed     Worker   £0-10K               tp1  28.0           0   \n",
       "3   Left handed     Worker  £30-40K               tp1  36.0           0   \n",
       "4  Right handed     Worker  £40-50K               tp1  38.0           0   \n",
       "\n",
       "  Device Summary  Normative  Age squared  Age decade  \n",
       "0    Apple phone          0        729.0          20  \n",
       "1  Android phone          0        729.0          20  \n",
       "2    Apple phone          0        784.0          20  \n",
       "3    Apple phone          0       1296.0          30  \n",
       "4    Apple phone          0       1444.0          30  "
      ]
     },
     "execution_count": 35,
     "metadata": {},
     "output_type": "execute_result"
    }
   ],
   "source": [
    "df_healthy.head()"
   ]
  },
  {
   "cell_type": "markdown",
   "metadata": {},
   "source": [
    "Notice there are quite a few we don't need, so we will just select the variables that we want to compare against the patients."
   ]
  },
  {
   "cell_type": "code",
   "execution_count": 36,
   "metadata": {},
   "outputs": [],
   "source": [
    "dfH = df_healthy[['SummaryScore_SpatialSpan', 'SummaryScore_VerbalAnalogies', 'SummaryScore_targetDetection', 'Age', 'Sex', 'Language binary']]"
   ]
  },
  {
   "cell_type": "code",
   "execution_count": 37,
   "metadata": {},
   "outputs": [
    {
     "data": {
      "text/html": [
       "<div>\n",
       "<style scoped>\n",
       "    .dataframe tbody tr th:only-of-type {\n",
       "        vertical-align: middle;\n",
       "    }\n",
       "\n",
       "    .dataframe tbody tr th {\n",
       "        vertical-align: top;\n",
       "    }\n",
       "\n",
       "    .dataframe thead th {\n",
       "        text-align: right;\n",
       "    }\n",
       "</style>\n",
       "<table border=\"1\" class=\"dataframe\">\n",
       "  <thead>\n",
       "    <tr style=\"text-align: right;\">\n",
       "      <th></th>\n",
       "      <th>SummaryScore_SpatialSpan</th>\n",
       "      <th>SummaryScore_VerbalAnalogies</th>\n",
       "      <th>SummaryScore_targetDetection</th>\n",
       "      <th>Age</th>\n",
       "      <th>Sex</th>\n",
       "      <th>Language binary</th>\n",
       "    </tr>\n",
       "  </thead>\n",
       "  <tbody>\n",
       "    <tr>\n",
       "      <th>0</th>\n",
       "      <td>8.0</td>\n",
       "      <td>4</td>\n",
       "      <td>49.0</td>\n",
       "      <td>27.0</td>\n",
       "      <td>Female</td>\n",
       "      <td>English</td>\n",
       "    </tr>\n",
       "    <tr>\n",
       "      <th>1</th>\n",
       "      <td>7.0</td>\n",
       "      <td>16</td>\n",
       "      <td>71.0</td>\n",
       "      <td>27.0</td>\n",
       "      <td>Female</td>\n",
       "      <td>English</td>\n",
       "    </tr>\n",
       "    <tr>\n",
       "      <th>2</th>\n",
       "      <td>7.0</td>\n",
       "      <td>22</td>\n",
       "      <td>62.0</td>\n",
       "      <td>28.0</td>\n",
       "      <td>Female</td>\n",
       "      <td>English</td>\n",
       "    </tr>\n",
       "    <tr>\n",
       "      <th>3</th>\n",
       "      <td>6.0</td>\n",
       "      <td>-9</td>\n",
       "      <td>48.0</td>\n",
       "      <td>36.0</td>\n",
       "      <td>Female</td>\n",
       "      <td>English</td>\n",
       "    </tr>\n",
       "    <tr>\n",
       "      <th>4</th>\n",
       "      <td>5.0</td>\n",
       "      <td>4</td>\n",
       "      <td>43.0</td>\n",
       "      <td>38.0</td>\n",
       "      <td>Female</td>\n",
       "      <td>English</td>\n",
       "    </tr>\n",
       "  </tbody>\n",
       "</table>\n",
       "</div>"
      ],
      "text/plain": [
       "   SummaryScore_SpatialSpan  SummaryScore_VerbalAnalogies  \\\n",
       "0                       8.0                             4   \n",
       "1                       7.0                            16   \n",
       "2                       7.0                            22   \n",
       "3                       6.0                            -9   \n",
       "4                       5.0                             4   \n",
       "\n",
       "   SummaryScore_targetDetection   Age     Sex Language binary  \n",
       "0                          49.0  27.0  Female         English  \n",
       "1                          71.0  27.0  Female         English  \n",
       "2                          62.0  28.0  Female         English  \n",
       "3                          48.0  36.0  Female         English  \n",
       "4                          43.0  38.0  Female         English  "
      ]
     },
     "execution_count": 37,
     "metadata": {},
     "output_type": "execute_result"
    }
   ],
   "source": [
    "dfH.head()"
   ]
  },
  {
   "cell_type": "markdown",
   "metadata": {},
   "source": [
    "Let's now try to plot the distributions of the scores in the three cognitive tasks to see how they look"
   ]
  },
  {
   "cell_type": "code",
   "execution_count": 45,
   "metadata": {},
   "outputs": [
    {
     "data": {
      "image/png": "[encoded data removed]",
      "text/plain": [
       "<Figure size 1656x288 with 3 Axes>"
      ]
     },
     "metadata": {},
     "output_type": "display_data"
    }
   ],
   "source": [
    "plt.figure(figsize = (23, 4))\n",
    "plt.subplot(131)\n",
    "_ = sb.histplot(dfH.SummaryScore_SpatialSpan, bins = 20)\n",
    "plt.subplot(132)\n",
    "_ = sb.histplot(dfH.SummaryScore_VerbalAnalogies, bins = 20)\n",
    "plt.subplot(133)\n",
    "_ = sb.histplot(dfH.SummaryScore_targetDetection, bins = 20)"
   ]
  },
  {
   "cell_type": "markdown",
   "metadata": {},
   "source": [
    "As expected, it appears that the majority of the people perform more or less average, with just few people having really high or low scores. However, target detection appears to have a longer lower tail. Now that we have the healthy control data, we can use their mean and standard deviation to scale the patients and control data."
   ]
  },
  {
   "cell_type": "code",
   "execution_count": 46,
   "metadata": {},
   "outputs": [],
   "source": [
    "memory_task = (df2['memory_spatialSpan'] - dfH['SummaryScore_SpatialSpan'].mean())/dfH['SummaryScore_SpatialSpan'].std()\n",
    "language_task = (df2['language_verbalAnalogies'] - dfH['SummaryScore_VerbalAnalogies'].mean())/dfH['SummaryScore_VerbalAnalogies'].std()\n",
    "attention_task = (df2['attention_targetDetection'] - dfH['SummaryScore_targetDetection'].mean())/dfH['SummaryScore_targetDetection'].std()"
   ]
  },
  {
   "cell_type": "code",
   "execution_count": 47,
   "metadata": {},
   "outputs": [],
   "source": [
    "memory_task_control = (dfH['SummaryScore_SpatialSpan'] - dfH['SummaryScore_SpatialSpan'].mean())/dfH['SummaryScore_SpatialSpan'].std()\n",
    "language_task_control = (dfH['SummaryScore_VerbalAnalogies'] - dfH['SummaryScore_VerbalAnalogies'].mean())/dfH['SummaryScore_VerbalAnalogies'].std()\n",
    "attention_task_control = (dfH['SummaryScore_targetDetection'] - dfH['SummaryScore_targetDetection'].mean())/dfH['SummaryScore_targetDetection'].std()"
   ]
  },
  {
   "cell_type": "markdown",
   "metadata": {},
   "source": [
    "In the above code we subtracted the mean values and divided by the standard deviation, to obtain standardised values. Then, we replace old values with the standardised ones. We can visualise these changes to better understand how our data looks now."
   ]
  },
  {
   "cell_type": "code",
   "execution_count": 48,
   "metadata": {},
   "outputs": [
    {
     "data": {
      "text/plain": [
       "Text(0.5, 1.0, 'Healthy controls - Performance after scaling')"
      ]
     },
     "execution_count": 48,
     "metadata": {},
     "output_type": "execute_result"
    },
    {
     "data": {
      "image/png": "[encoded data removed]",
      "text/plain": [
       "<Figure size 1440x864 with 4 Axes>"
      ]
     },
     "metadata": {},
     "output_type": "display_data"
    }
   ],
   "source": [
    "plt.figure(figsize = (20, 12))\n",
    "plt.subplot(221)\n",
    "_ = plt.boxplot([df2.language_verbalAnalogies, df2.memory_spatialSpan, df2.attention_targetDetection], \n",
    "               labels = [\"Verbal Analogies\", \"Spatial Span\", \"Target Detection\"])\n",
    "plt.title(\"Patients - Performance before scaling\")\n",
    "plt.subplot(222)\n",
    "_ = plt.boxplot([language_task, memory_task, attention_task], labels = [\"Verbal Analogies\", \"Spatial Span\", \"Target Detection\"])\n",
    "plt.title(\"Patients - Performance after scaling\")\n",
    "plt.subplot(223)\n",
    "_ = plt.boxplot([dfH['SummaryScore_VerbalAnalogies'], dfH['SummaryScore_SpatialSpan'] , dfH['SummaryScore_targetDetection']],\n",
    "                labels = [\"Verbal Analogies\", \"Spatial Span\", \"Target Detection\"])\n",
    "plt.title(\"Healthy controls - Performance before scaling\")\n",
    "plt.subplot(224)\n",
    "_ = plt.boxplot([language_task_control, memory_task_control, attention_task_control], labels = [\"Verbal Analogies\", \"Spatial Span\", \"Target Detection\"])\n",
    "plt.title(\"Healthy controls - Performance after scaling\")\n"
   ]
  },
  {
   "cell_type": "markdown",
   "metadata": {},
   "source": [
    "As you can see, in case of healthy controls, the data have now, more or less, a mean of 0 and std of 1. However, this is not exactly the same for patients. The reason is that patients tend to be impaired. If we had used different group means when standardising, these impairment would have been standarised out!!\n",
    "\n",
    "Let's now replace the values in the original dataframe with the scaled ones, both for healthy and patients. We could have replaced the values directly above, but we preferred not to do it in order to be able to create the boxplots and observe the changes before and after the feature scaling."
   ]
  },
  {
   "cell_type": "code",
   "execution_count": 49,
   "metadata": {},
   "outputs": [],
   "source": [
    "df2['memory_spatialSpan'] = memory_task\n",
    "df2['language_verbalAnalogies'] = language_task\n",
    "df2['attention_targetDetection'] = attention_task\n",
    "\n",
    "dfH['memory_spatialSpan'] = memory_task_control\n",
    "dfH['language_verbalAnalogies'] = language_task_control\n",
    "dfH['attention_targetDetection'] = attention_task_control"
   ]
  },
  {
   "cell_type": "markdown",
   "metadata": {},
   "source": [
    "By doing this, we created three new columns in the healthy control dataset with the same column names as the patients, and containing the scaled features. We can now remove the old columns. "
   ]
  },
  {
   "cell_type": "code",
   "execution_count": 50,
   "metadata": {},
   "outputs": [
    {
     "data": {
      "text/html": [
       "<div>\n",
       "<style scoped>\n",
       "    .dataframe tbody tr th:only-of-type {\n",
       "        vertical-align: middle;\n",
       "    }\n",
       "\n",
       "    .dataframe tbody tr th {\n",
       "        vertical-align: top;\n",
       "    }\n",
       "\n",
       "    .dataframe thead th {\n",
       "        text-align: right;\n",
       "    }\n",
       "</style>\n",
       "<table border=\"1\" class=\"dataframe\">\n",
       "  <thead>\n",
       "    <tr style=\"text-align: right;\">\n",
       "      <th></th>\n",
       "      <th>Age</th>\n",
       "      <th>Sex</th>\n",
       "      <th>Language binary</th>\n",
       "      <th>memory_spatialSpan</th>\n",
       "      <th>language_verbalAnalogies</th>\n",
       "      <th>attention_targetDetection</th>\n",
       "    </tr>\n",
       "  </thead>\n",
       "  <tbody>\n",
       "    <tr>\n",
       "      <th>0</th>\n",
       "      <td>27.0</td>\n",
       "      <td>Female</td>\n",
       "      <td>English</td>\n",
       "      <td>1.551192</td>\n",
       "      <td>-1.518426</td>\n",
       "      <td>-0.759205</td>\n",
       "    </tr>\n",
       "    <tr>\n",
       "      <th>1</th>\n",
       "      <td>27.0</td>\n",
       "      <td>Female</td>\n",
       "      <td>English</td>\n",
       "      <td>0.744876</td>\n",
       "      <td>-0.488172</td>\n",
       "      <td>1.157225</td>\n",
       "    </tr>\n",
       "    <tr>\n",
       "      <th>2</th>\n",
       "      <td>28.0</td>\n",
       "      <td>Female</td>\n",
       "      <td>English</td>\n",
       "      <td>0.744876</td>\n",
       "      <td>0.026954</td>\n",
       "      <td>0.373231</td>\n",
       "    </tr>\n",
       "    <tr>\n",
       "      <th>3</th>\n",
       "      <td>36.0</td>\n",
       "      <td>Female</td>\n",
       "      <td>English</td>\n",
       "      <td>-0.061440</td>\n",
       "      <td>-2.634534</td>\n",
       "      <td>-0.846316</td>\n",
       "    </tr>\n",
       "    <tr>\n",
       "      <th>4</th>\n",
       "      <td>38.0</td>\n",
       "      <td>Female</td>\n",
       "      <td>English</td>\n",
       "      <td>-0.867757</td>\n",
       "      <td>-1.518426</td>\n",
       "      <td>-1.281868</td>\n",
       "    </tr>\n",
       "  </tbody>\n",
       "</table>\n",
       "</div>"
      ],
      "text/plain": [
       "    Age     Sex Language binary  memory_spatialSpan  language_verbalAnalogies  \\\n",
       "0  27.0  Female         English            1.551192                 -1.518426   \n",
       "1  27.0  Female         English            0.744876                 -0.488172   \n",
       "2  28.0  Female         English            0.744876                  0.026954   \n",
       "3  36.0  Female         English           -0.061440                 -2.634534   \n",
       "4  38.0  Female         English           -0.867757                 -1.518426   \n",
       "\n",
       "   attention_targetDetection  \n",
       "0                  -0.759205  \n",
       "1                   1.157225  \n",
       "2                   0.373231  \n",
       "3                  -0.846316  \n",
       "4                  -1.281868  "
      ]
     },
     "execution_count": 50,
     "metadata": {},
     "output_type": "execute_result"
    }
   ],
   "source": [
    "dfH = dfH.drop([\"SummaryScore_VerbalAnalogies\", 'SummaryScore_SpatialSpan', 'SummaryScore_targetDetection'], axis = 1)\n",
    "dfH.head()"
   ]
  },
  {
   "cell_type": "markdown",
   "metadata": {},
   "source": [
    "This was the last data cleaning step for the patients, let's now look into more details on the healthy controls data and their demographics.\n",
    "If you look carefully, you will notice that some data is saved in different formats (e.g. Sex, Language). Before we can compare the two groups we need to make sure that the two datasets are comparable. This process is commonly known as `harmonization` of data."
   ]
  },
  {
   "cell_type": "markdown",
   "metadata": {},
   "source": [
    "Let's first create binary variables for `language` and `sex`, using the same exact encoding of control. Based on the column titles, the sex columns assigned a 1 to males and 2 to females. Let's check which options are available in the healthy control dataset.\n",
    "\n",
    "**IMPORTANT**: if you assign the wrong integer to the wrong group within each category, all the results will be incorrect."
   ]
  },
  {
   "cell_type": "code",
   "execution_count": 51,
   "metadata": {},
   "outputs": [
    {
     "data": {
      "text/plain": [
       "(Male      8032\n",
       " Female    6694\n",
       " Other      996\n",
       " Name: Sex, dtype: int64,\n",
       " English    11510\n",
       " Other       4212\n",
       " Name: Language binary, dtype: int64)"
      ]
     },
     "execution_count": 51,
     "metadata": {},
     "output_type": "execute_result"
    }
   ],
   "source": [
    "dfH.Sex.value_counts(), dfH[\"Language binary\"].value_counts()"
   ]
  },
  {
   "cell_type": "markdown",
   "metadata": {},
   "source": [
    "Note that `Sex` here has a third option called `Other`. In this case, the variable *Other* can be kept in the dataset because of two reasons. First, we know that patients and healthy participants were asked to complete the same questionnaire, which means that the reason why the group *Other* is not in the patient data is because no participants chose it. If there was an inconsistency between the questions asked to the patients and the participants, the data collection deisgn would be really poor, because it wouldn't allow us to properly compare healthy controls with patients.  \n",
    "Secondly, since the extra group is in the healthy control it isn't a big issue. However, in the opposite circumstance, there would be no healthy participants to use as reference which would make it impossible to evaluate the changes in cognitive ability of patients that selected *Other* as their sex.\n",
    "\n",
    "Let's just add a third option for Others."
   ]
  },
  {
   "cell_type": "code",
   "execution_count": 52,
   "metadata": {},
   "outputs": [],
   "source": [
    "mapping_language = {\"English\": 1, \"Other\": 0}\n",
    "mapping_sex = {\"Male\": 1, \"Female\": 2, \"Other\": 3}\n",
    "\n",
    "mapped_language_control = dfH['Language binary'].map(mapping_language)\n",
    "mapped_sex_control = dfH['Sex'].map(mapping_sex)\n",
    "\n",
    "dfH['Language binary'] = mapped_language_control\n",
    "dfH['Sex'] = mapped_sex_control"
   ]
  },
  {
   "cell_type": "markdown",
   "metadata": {},
   "source": [
    "Now check if there are any missing values, and if there are remove them. "
   ]
  },
  {
   "cell_type": "code",
   "execution_count": 53,
   "metadata": {},
   "outputs": [],
   "source": [
    "# CODE HERE"
   ]
  },
  {
   "cell_type": "markdown",
   "metadata": {},
   "source": [
    "Finally we can rename the column names to give a easy-to-understand name that matches with the column names of the patients."
   ]
  },
  {
   "cell_type": "code",
   "execution_count": 54,
   "metadata": {},
   "outputs": [
    {
     "data": {
      "text/html": [
       "<div>\n",
       "<style scoped>\n",
       "    .dataframe tbody tr th:only-of-type {\n",
       "        vertical-align: middle;\n",
       "    }\n",
       "\n",
       "    .dataframe tbody tr th {\n",
       "        vertical-align: top;\n",
       "    }\n",
       "\n",
       "    .dataframe thead th {\n",
       "        text-align: right;\n",
       "    }\n",
       "</style>\n",
       "<table border=\"1\" class=\"dataframe\">\n",
       "  <thead>\n",
       "    <tr style=\"text-align: right;\">\n",
       "      <th></th>\n",
       "      <th>Age</th>\n",
       "      <th>Sex 1-Male 2-Female</th>\n",
       "      <th>First Language 1-English 0-Other</th>\n",
       "      <th>memory_spatialSpan</th>\n",
       "      <th>language_verbalAnalogies</th>\n",
       "      <th>attention_targetDetection</th>\n",
       "    </tr>\n",
       "  </thead>\n",
       "  <tbody>\n",
       "    <tr>\n",
       "      <th>0</th>\n",
       "      <td>27.0</td>\n",
       "      <td>2</td>\n",
       "      <td>1</td>\n",
       "      <td>1.551192</td>\n",
       "      <td>-1.518426</td>\n",
       "      <td>-0.759205</td>\n",
       "    </tr>\n",
       "    <tr>\n",
       "      <th>1</th>\n",
       "      <td>27.0</td>\n",
       "      <td>2</td>\n",
       "      <td>1</td>\n",
       "      <td>0.744876</td>\n",
       "      <td>-0.488172</td>\n",
       "      <td>1.157225</td>\n",
       "    </tr>\n",
       "    <tr>\n",
       "      <th>2</th>\n",
       "      <td>28.0</td>\n",
       "      <td>2</td>\n",
       "      <td>1</td>\n",
       "      <td>0.744876</td>\n",
       "      <td>0.026954</td>\n",
       "      <td>0.373231</td>\n",
       "    </tr>\n",
       "    <tr>\n",
       "      <th>3</th>\n",
       "      <td>36.0</td>\n",
       "      <td>2</td>\n",
       "      <td>1</td>\n",
       "      <td>-0.061440</td>\n",
       "      <td>-2.634534</td>\n",
       "      <td>-0.846316</td>\n",
       "    </tr>\n",
       "    <tr>\n",
       "      <th>4</th>\n",
       "      <td>38.0</td>\n",
       "      <td>2</td>\n",
       "      <td>1</td>\n",
       "      <td>-0.867757</td>\n",
       "      <td>-1.518426</td>\n",
       "      <td>-1.281868</td>\n",
       "    </tr>\n",
       "  </tbody>\n",
       "</table>\n",
       "</div>"
      ],
      "text/plain": [
       "    Age  Sex 1-Male 2-Female  First Language 1-English 0-Other  \\\n",
       "0  27.0                    2                                 1   \n",
       "1  27.0                    2                                 1   \n",
       "2  28.0                    2                                 1   \n",
       "3  36.0                    2                                 1   \n",
       "4  38.0                    2                                 1   \n",
       "\n",
       "   memory_spatialSpan  language_verbalAnalogies  attention_targetDetection  \n",
       "0            1.551192                 -1.518426                  -0.759205  \n",
       "1            0.744876                 -0.488172                   1.157225  \n",
       "2            0.744876                  0.026954                   0.373231  \n",
       "3           -0.061440                 -2.634534                  -0.846316  \n",
       "4           -0.867757                 -1.518426                  -1.281868  "
      ]
     },
     "execution_count": 54,
     "metadata": {},
     "output_type": "execute_result"
    }
   ],
   "source": [
    "dfH.rename(columns = {'Language binary':'First Language 1-English 0-Other'}, inplace = True)\n",
    "dfH.rename(columns = {'Sex':'Sex 1-Male 2-Female'}, inplace = True)\n",
    "dfH.head()"
   ]
  },
  {
   "cell_type": "markdown",
   "metadata": {},
   "source": [
    "We are finally ready for analysis!"
   ]
  },
  {
   "cell_type": "markdown",
   "metadata": {},
   "source": [
    "What we will do now is perform an analysis called `Deviation from expected`. This analysis allows us to examine how far from the healthy norm the patients are in each task, with respect to their performance and based on their demographics. The reason why we account for the demographics is because they play a role on the performance of participants. We cannot expect 10 years old children to perform like 50 or 80 years old adults!\n",
    "\n",
    "Simply put, this analysis trains a linear regression model, using as independent variables the demographics of healthy participants and dependent variables their scores in the cognitive tasks. Essentially what the regression model does is learn how participants are supposed to perform based on their demographics if they were healthy. This model then can be used to predict the performance of the patients. The difference between the predicted performance and the actual performance will be the Deviation from Expected. This deviation from expected is already in standard deviation units, because we standardised our data during the data cleaning.\n",
    "\n",
    "Let's start to measure the deviation from expected for the `Spatial Span memory task`, using `Age`, `Sex` and `First Language` as predictors."
   ]
  },
  {
   "cell_type": "code",
   "execution_count": 55,
   "metadata": {},
   "outputs": [
    {
     "name": "stdout",
     "output_type": "stream",
     "text": [
      "[-0.57627557 -0.4896522  -0.12899364 -0.3918963  -0.51219336  0.08146806\n",
      " -0.28678176 -0.64389905  0.0738768  -0.2791905  -0.62135789  0.16404143\n",
      " -0.39594629 -0.35440524 -0.0537789   0.32182955 -0.24169944 -0.30173166\n",
      " -0.66998148 -0.01628784 -0.30173166  0.21671502 -0.06137016 -0.35440524\n",
      " -0.61730789 -0.43697862 -0.10645248 -0.57222557  0.00979458 -0.08037005\n",
      " -0.78268728 -0.3918963  -0.52714325  0.09995922  0.19012386 -0.14799353\n",
      " -0.3769464   0.21671502 -0.03123774  0.36286188  0.1675827  -0.41848745\n",
      " -0.28324049 -0.03123774  0.20912375]\n"
     ]
    }
   ],
   "source": [
    "linr_model = LinearRegression().fit(dfH[[\"Age\",\"Sex 1-Male 2-Female\",\"First Language 1-English 0-Other\"]], dfH['memory_spatialSpan'])\n",
    "DT_predict = linr_model.predict(df2[[\"Age\",\"Sex 1-Male 2-Female\",\"First Language 1-English 0-Other\"]]) #Predictions on patient data\n",
    "print(DT_predict)\n"
   ]
  },
  {
   "cell_type": "code",
   "execution_count": 56,
   "metadata": {},
   "outputs": [
    {
     "name": "stdout",
     "output_type": "stream",
     "text": [
      "[-0.02254116 -0.24036149  0.00405   ]\n"
     ]
    }
   ],
   "source": [
    "print(linr_model.coef_)"
   ]
  },
  {
   "cell_type": "markdown",
   "metadata": {},
   "source": [
    "Let's now calculate the deviation from expected by looking at the difference between the true score and the predicted score from the model"
   ]
  },
  {
   "cell_type": "code",
   "execution_count": 57,
   "metadata": {},
   "outputs": [],
   "source": [
    "deviation_from_expected = df2[\"memory_spatialSpan\"] - DT_predict"
   ]
  },
  {
   "cell_type": "markdown",
   "metadata": {},
   "source": [
    "Plot to see how patients performed in relation to controls"
   ]
  },
  {
   "cell_type": "code",
   "execution_count": 58,
   "metadata": {},
   "outputs": [
    {
     "data": {
      "text/plain": [
       "Text(0.5, 1.0, 'Deviation from expected (sd units) \\n Spatial Span')"
      ]
     },
     "execution_count": 58,
     "metadata": {},
     "output_type": "execute_result"
    },
    {
     "data": {
      "image/png": "[encoded data removed]",
      "text/plain": [
       "<Figure size 432x288 with 1 Axes>"
      ]
     },
     "metadata": {},
     "output_type": "display_data"
    }
   ],
   "source": [
    "plt.hist(deviation_from_expected)\n",
    "plt.title(\"Deviation from expected (sd units) \\n Spatial Span\")"
   ]
  },
  {
   "cell_type": "markdown",
   "metadata": {},
   "source": [
    "From the plot, you can already see that most of the patients have a negative score, which means that their actual performance was lower compared to their predicted performance, which suggests that they are impaired. Let's try to understand what is the mean Deviation from Expected and how many participants had a negative score."
   ]
  },
  {
   "cell_type": "code",
   "execution_count": 59,
   "metadata": {},
   "outputs": [
    {
     "data": {
      "text/plain": [
       "-0.3907249791349783"
      ]
     },
     "execution_count": 59,
     "metadata": {},
     "output_type": "execute_result"
    }
   ],
   "source": [
    "np.mean(deviation_from_expected)"
   ]
  },
  {
   "cell_type": "code",
   "execution_count": 60,
   "metadata": {},
   "outputs": [
    {
     "data": {
      "text/plain": [
       "31"
      ]
     },
     "execution_count": 60,
     "metadata": {},
     "output_type": "execute_result"
    }
   ],
   "source": [
    "len(deviation_from_expected[deviation_from_expected<0])"
   ]
  },
  {
   "cell_type": "markdown",
   "metadata": {},
   "source": [
    "Let's run a one sample t-test against 0 to examine whether this trend is significant. A sample t-test against zero is run as we expect to see a value of zero if there was absolutely no difference between patients and controls. If the test is significant, then the difference is significantly different from zero."
   ]
  },
  {
   "cell_type": "code",
   "execution_count": 61,
   "metadata": {},
   "outputs": [
    {
     "name": "stdout",
     "output_type": "stream",
     "text": [
      "-3.680143064756429 0.0006327664242747124\n"
     ]
    }
   ],
   "source": [
    "# perform one sample t-test\n",
    "import scipy.stats as stats\n",
    "\n",
    "t_statistic, p_value = stats.ttest_1samp(a=deviation_from_expected, popmean=0)\n",
    "print(t_statistic , p_value)"
   ]
  },
  {
   "cell_type": "markdown",
   "metadata": {},
   "source": [
    "From this, we can see that patients performed statistically worse than controls on memory tests, as expected!!"
   ]
  },
  {
   "cell_type": "markdown",
   "metadata": {},
   "source": [
    "-------------\n",
    "### Code here\n",
    "\n",
    "Now that we went through the most important aspects of the analysis,let's try to reply to the following questions.\n",
    "\n",
    "1. Are patients impaired in attention and language? Did the patients perform worse or better?\n",
    "2. What if we also include education and handedness in our regression model? Perform some harmonisation between the two datasets, such that there are only 3 types of education, pre-bachelor, BSc/MSc and PhD/MD. Then, include these in the regression model and check if your results change.\n",
    "3. Try to analyse the change in RT. How do the results differ? Why?"
   ]
  },
  {
   "cell_type": "code",
   "execution_count": null,
   "metadata": {},
   "outputs": [],
   "source": [
    "#CODE HERE"
   ]
  },
  {
   "cell_type": "markdown",
   "metadata": {},
   "source": [
    "--------"
   ]
  },
  {
   "cell_type": "markdown",
   "metadata": {},
   "source": [
    "# DAY 2 CHALLENGE - Cognitive impairments in patients with Dementia"
   ]
  },
  {
   "cell_type": "markdown",
   "metadata": {},
   "source": [
    "For today's challenge we will use all of the concepts we learned in this session and apply them to a new dataset. Today's dataset contains a set of patients with Alzheimer's Disease who have gone through the same set of cognitive tests that our previous participants did (and a few more). The description of the tasks is available underneath. \n",
    "\n",
    "1. Select 3 of the cognitive tasks and 5 demographic variables that you think are of interest for this group of patients and perform data cleaning and pre-processing on them, in a similar fashion to what we performed during the Workshop. Make sure you justify why you used certain tasks and not others, and also explain why you made certain pre-processing choices.\n",
    "\n",
    "2. Is the accuracy and reaction time of dementia patients different from that of controls? Discusss the implications of the results and create meaningful plots to show any group differences (or lack thereof). *Bonus points will be awarded if Seaborn is used for your plots, but we will not deduct points if this is not used.*\n",
    "\n",
    "3. Can you predict how long a person has had dementia based on their cognitive scores? Hint: you will need to refactor your dependent variable from a string format to a numeric format (e.g. number of years since diagnosis). Discuss and interpret these results. If you have a good reason to include other variables in the model, we are happy for you to do so, and if this is correctly justified and explained we will award bonus points. However, you do not need to do this."
   ]
  },
  {
   "attachments": {
    "6db055ce-1c74-42ac-906b-7f631340ad5d.png": {
     "image/png": "[encoded data removed]"
    }
   },
   "cell_type": "markdown",
   "metadata": {},
   "source": [
    "## Tasks description\n",
    "### Immediate and delayed word memory\n",
    "The words immediate memory task is a memory task that requires participants to retain in memory a series of words and recall them shortly after. More specifically, first, a set of words is presented to participants and then the same words are presented again (targets) along with the same number of new words (non-targets). Participants have to indicate if the words are targets or non targets. The delayed memory task is equivalent to the immediate task with the difference that more time has passed between when the words were presented the first time.   \n",
    "\n",
    "### Blocks\n",
    "Blocks is a spatial problem solving task. The participant is presented with a grid of coloured blocks on the left-hand side of the screen and on the right-hand side, a black silhouette made up of a subset of the shapes on the left. The participant must make the shape of the left-hand blocks match the silhouette on the right-hand side by removing blocks. The blocks fall under gravity. \n",
    "<img src=\"Figures/Blocks.png\" width=\"40%\">\n",
    "\n",
    "### Digit Span\n",
    "Digit Span is a working memory task. Participants view a sequence of digits that appear on the screen one after another. Subsequently, they repeat the sequence of numbers by entering them using an on-screen number pad. Every time a sequence is recalled correctly, the length of the subsequent sequence is incremented by one. just like Spatial Span, the task ends when they make three consecutive errors.\n",
    "\n",
    "<img src=\"Figures/DigitSpan.png\" width=\"40%\">\n",
    "<!--- ![DigitSpan.png](attachment:6db055ce-1c74-42ac-906b-7f631340ad5d.png) --->\n",
    "\n",
    "### 2D Manipulations\n",
    "2D Manipulations is a spatial task that consists of a 6x6 grid with coloured squares presented at the top of the screen, together with four additional grids with coloured squares presented below (i.e. probe grids). One of the four grids is identical to the target grid above but is rotated by either 90, 180 or 270 degrees whilst the other grids differ by five squares. To obtain maximum points, the participant must indicate which of the four grids is identical to target when rotated, solving as many problems as possible within three minutes. \n",
    "\n",
    "<img src=\"Figures/2DManipulations.png\" width=\"40%\">\n"
   ]
  },
  {
   "cell_type": "code",
   "execution_count": null,
   "metadata": {},
   "outputs": [],
   "source": []
  }
 ],
 "metadata": {
  "kernelspec": {
   "display_name": "Python 3",
   "language": "python",
   "name": "python3"
  },
  "language_info": {
   "codemirror_mode": {
    "name": "ipython",
    "version": 3
   },
   "file_extension": ".py",
   "mimetype": "text/x-python",
   "name": "python",
   "nbconvert_exporter": "python",
   "pygments_lexer": "ipython3",
   "version": "3.8.5"
  },
  "vscode": {
   "interpreter": {
    "hash": "aee8b7b246df8f9039afb4144a1f6fd8d2ca17a180786b69acc140d282b71a49"
   }
  }
 },
 "nbformat": 4,
 "nbformat_minor": 4
}
