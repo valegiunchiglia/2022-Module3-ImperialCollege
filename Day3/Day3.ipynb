{
 "cells": [
  {
   "cell_type": "markdown",
   "metadata": {},
   "source": [
    "# Cognition and Self-Harm"
   ]
  },
  {
   "cell_type": "markdown",
   "metadata": {},
   "source": [
    "In today's workshop we will focus on a group of people who self-harm. To do so, we will examine their performance during an Incentive Delay Task. This task measures attentional bias in relation to different pleasant or unpleasant stimuli. Below you will see a diagram of the task."
   ]
  },
  {
   "cell_type": "markdown",
   "metadata": {},
   "source": [
    "In short, the participants are asked to look at a fixation cross. Then, after a short time, they receive a visual cue which lets them know that a visual stimulus (in the shape of a black square) will appear on the screen. Once the black square appears, the participants are instructed to press a button as quickly as they can. If they press within the time limit, they get shown a picture as feedback. \n"
   ]
  },
  {
   "cell_type": "markdown",
   "metadata": {},
   "source": [
    "Depending on the type of visual cue that they were shown before the black square appears, participants will receive a specific type of feedback/reward. In some cases, it's positive, in others it's negative. For today's workshop we will focus on the latter, where the feedback/reward consists of pictures related to self-harm. "
   ]
  },
  {
   "cell_type": "markdown",
   "metadata": {},
   "source": [
    "Below you will find some more details about the participants that took part in the study"
   ]
  },
  {
   "cell_type": "markdown",
   "metadata": {},
   "source": [
    "Participant groups:\n",
    "1. Self-harm Group - SH \n",
    "2. Negative Affect Group (young people with no self-harm, matched on depression/anxiety/stress to SH group) - NHC\n",
    "3. Healthy Control Group (not matched on mental health outcomes) - HC"
   ]
  },
  {
   "cell_type": "markdown",
   "metadata": {},
   "source": [
    "Variables:\n",
    "1. TR - correct responses to the target for each condition, measuring motivation to obtain the 'reward'\n",
    "2. SH vs neutralSH - Self-harm pictures either represent self-harm in a neutral way (e.g. someone holding a blade), or in an explicit way (e.g. someone cutting themselves). The explicit pictures were also personalised to the preferred method of self-harm of the participant.\n"
   ]
  },
  {
   "cell_type": "markdown",
   "metadata": {},
   "source": [
    "Using this dataset we will learn how to run and interpret one-way and two-way ANOVAs in python. But first, let's visualise the data."
   ]
  },
  {
   "cell_type": "markdown",
   "metadata": {},
   "source": [
    "## Data visualisation"
   ]
  },
  {
   "cell_type": "markdown",
   "metadata": {},
   "source": [
    "First let us import all the relevant libraries and have a look at our data."
   ]
  },
  {
   "cell_type": "code",
   "execution_count": 1,
   "metadata": {},
   "outputs": [],
   "source": [
    "%matplotlib inline\n",
    "import matplotlib.pyplot as plt\n",
    "import pandas as pd\n",
    "import numpy as np\n",
    "from scipy.stats.mstats import winsorize\n",
    "import seaborn as sb\n",
    "from sklearn.linear_model import LinearRegression\n",
    "import statsmodels.api as sm\n",
    "import warnings\n",
    "warnings.filterwarnings(\"ignore\")"
   ]
  },
  {
   "cell_type": "code",
   "execution_count": 2,
   "metadata": {},
   "outputs": [
    {
     "data": {
      "text/html": [
       "<div>\n",
       "<style scoped>\n",
       "    .dataframe tbody tr th:only-of-type {\n",
       "        vertical-align: middle;\n",
       "    }\n",
       "\n",
       "    .dataframe tbody tr th {\n",
       "        vertical-align: top;\n",
       "    }\n",
       "\n",
       "    .dataframe thead th {\n",
       "        text-align: right;\n",
       "    }\n",
       "</style>\n",
       "<table border=\"1\" class=\"dataframe\">\n",
       "  <thead>\n",
       "    <tr style=\"text-align: right;\">\n",
       "      <th></th>\n",
       "      <th>Participant ID</th>\n",
       "      <th>Testing</th>\n",
       "      <th>TR_posSO</th>\n",
       "      <th>TR_SH</th>\n",
       "      <th>TR_winmoney</th>\n",
       "      <th>Gender</th>\n",
       "      <th>Group</th>\n",
       "      <th>Education_level</th>\n",
       "      <th>TR_neutralSH</th>\n",
       "      <th>TR_neutralSO</th>\n",
       "      <th>TR_nomoney</th>\n",
       "    </tr>\n",
       "  </thead>\n",
       "  <tbody>\n",
       "    <tr>\n",
       "      <th>149</th>\n",
       "      <td>361</td>\n",
       "      <td>Online</td>\n",
       "      <td>23</td>\n",
       "      <td>NaN</td>\n",
       "      <td>NaN</td>\n",
       "      <td>F</td>\n",
       "      <td>HC</td>\n",
       "      <td>gcse</td>\n",
       "      <td>34</td>\n",
       "      <td>36</td>\n",
       "      <td>35</td>\n",
       "    </tr>\n",
       "    <tr>\n",
       "      <th>150</th>\n",
       "      <td>362</td>\n",
       "      <td>Online</td>\n",
       "      <td>22</td>\n",
       "      <td>NaN</td>\n",
       "      <td>NaN</td>\n",
       "      <td>F</td>\n",
       "      <td>HC</td>\n",
       "      <td>gcse</td>\n",
       "      <td>25</td>\n",
       "      <td>26</td>\n",
       "      <td>15</td>\n",
       "    </tr>\n",
       "    <tr>\n",
       "      <th>151</th>\n",
       "      <td>363</td>\n",
       "      <td>Online</td>\n",
       "      <td>35</td>\n",
       "      <td>NaN</td>\n",
       "      <td>NaN</td>\n",
       "      <td>F</td>\n",
       "      <td>HC</td>\n",
       "      <td>gcse</td>\n",
       "      <td>31</td>\n",
       "      <td>34</td>\n",
       "      <td>39</td>\n",
       "    </tr>\n",
       "    <tr>\n",
       "      <th>152</th>\n",
       "      <td>365</td>\n",
       "      <td>Online</td>\n",
       "      <td>28</td>\n",
       "      <td>NaN</td>\n",
       "      <td>NaN</td>\n",
       "      <td>F</td>\n",
       "      <td>HC</td>\n",
       "      <td>bachelors</td>\n",
       "      <td>25</td>\n",
       "      <td>32</td>\n",
       "      <td>30</td>\n",
       "    </tr>\n",
       "    <tr>\n",
       "      <th>153</th>\n",
       "      <td>366</td>\n",
       "      <td>Online</td>\n",
       "      <td>45</td>\n",
       "      <td>NaN</td>\n",
       "      <td>NaN</td>\n",
       "      <td>M</td>\n",
       "      <td>HC</td>\n",
       "      <td>gcse</td>\n",
       "      <td>42</td>\n",
       "      <td>48</td>\n",
       "      <td>43</td>\n",
       "    </tr>\n",
       "  </tbody>\n",
       "</table>\n",
       "</div>"
      ],
      "text/plain": [
       "     Participant ID Testing  TR_posSO  TR_SH  TR_winmoney Gender Group  \\\n",
       "149             361  Online        23    NaN          NaN      F    HC   \n",
       "150             362  Online        22    NaN          NaN      F    HC   \n",
       "151             363  Online        35    NaN          NaN      F    HC   \n",
       "152             365  Online        28    NaN          NaN      F    HC   \n",
       "153             366  Online        45    NaN          NaN      M    HC   \n",
       "\n",
       "    Education_level  TR_neutralSH  TR_neutralSO  TR_nomoney  \n",
       "149            gcse            34            36          35  \n",
       "150            gcse            25            26          15  \n",
       "151            gcse            31            34          39  \n",
       "152       bachelors            25            32          30  \n",
       "153            gcse            42            48          43  "
      ]
     },
     "execution_count": 2,
     "metadata": {},
     "output_type": "execute_result"
    }
   ],
   "source": [
    "df = pd.read_excel(\"Self-harm dataset.xlsx\", sheet_name='Self-Harm 1-way')\n",
    "df.tail()"
   ]
  },
  {
   "cell_type": "markdown",
   "metadata": {},
   "source": [
    "Let's use Seaborn to visualise our data. Note that this data is already cleaned and pre-processed, so we will skip all of the steps that you were taught in the first two workshops and focus on visualisation/analysis for today."
   ]
  },
  {
   "cell_type": "code",
   "execution_count": 3,
   "metadata": {},
   "outputs": [
    {
     "data": {
      "image/png": "[encoded data removed]",
      "text/plain": [
       "<Figure size 432x288 with 1 Axes>"
      ]
     },
     "metadata": {
      "needs_background": "light"
     },
     "output_type": "display_data"
    }
   ],
   "source": [
    "ax = sb.boxplot(x='Group', y='TR_SH', data=df, color='#99c2a2')\n",
    "ax = sb.swarmplot(x=\"Group\", y=\"TR_SH\", data=df, color='#7d0013')\n",
    "plt.show()"
   ]
  },
  {
   "cell_type": "markdown",
   "metadata": {},
   "source": [
    "We can see that people who self-harm perform considerably better than matched controls, suggesting that seeing explicit images of self-harm, may act as a reward for people who themselves self-harm. Note that unmatched healthy controls were not shown any of the explicit self-harm images, which is why their data is missing."
   ]
  },
  {
   "cell_type": "code",
   "execution_count": 4,
   "metadata": {},
   "outputs": [
    {
     "data": {
      "image/png": "[encoded data removed]",
      "text/plain": [
       "<Figure size 432x288 with 1 Axes>"
      ]
     },
     "metadata": {
      "needs_background": "light"
     },
     "output_type": "display_data"
    }
   ],
   "source": [
    "ax = sb.boxplot(x='Group', y='TR_neutralSH', data=df, color='#99c2a2')\n",
    "ax = sb.swarmplot(x=\"Group\", y=\"TR_neutralSH\", data=df, color='#7d0013')\n",
    "plt.show()"
   ]
  },
  {
   "cell_type": "markdown",
   "metadata": {},
   "source": [
    "Here, we can see that when the participants are shown the neutral self-harm pictures, there does not seem to be much of a difference between those who self harm and matched controls, but it does look like the unmatched controls perform slightly worse than both self-harming participants and matched-controls."
   ]
  },
  {
   "cell_type": "markdown",
   "metadata": {},
   "source": [
    "Now, let's examine if there are any significant differences between these 3 groups by using a one-way ANOVA."
   ]
  },
  {
   "cell_type": "markdown",
   "metadata": {},
   "source": [
    "## One-way ANOVA"
   ]
  },
  {
   "cell_type": "markdown",
   "metadata": {},
   "source": [
    "ANalysis Of VAriance (ANOVA), is a widely used method designed for comparing differences in means among three or more groups. One easy way to think about it is as a generalized t-test. With t-tests we can only compare two groups at a time, whereas with ANOVAs we could even compare 10 different groups at the same time. But for today, we will use a simpler example, where we want to compare 3 groups using an ANOVA."
   ]
  },
  {
   "cell_type": "markdown",
   "metadata": {},
   "source": [
    "That is, we are interested if there is a difference in cognitive performance between people who self-harm, matched controls, and un-matched controls. Each individual falls into a group described by a (categorical) grouping variable (e.g. type of participant) and for each individual we measure some continuous outcome (e.g. cognitive performance)."
   ]
  },
  {
   "cell_type": "markdown",
   "metadata": {},
   "source": [
    "But before we run the ANOVA, we need to decide which type is most appropiate for our data. There are 3 main types of ANOVAs\n",
    "\n",
    "1. `Between-participants ANOVA` / `Independent Samples ANOVA` - This type of ANOVA is used when each group contains different people. Or in other words, when our samples are independent from each other. For instance, you might have a group made up of controls, and another made up of patients (both performing the same task).\n",
    "2. `Within-Participants ANOVA` / `Repeated Measures ANOVA` - This type of ANOVA is used when the same people are found in multiple groups. For instance you might have a patient after given placebo as part of group 1, then the same patient after given a drug as part of group 2.\n",
    "3. `Mixed ANOVA` - This type of ANOVA is used when you have multiple groups, and in one group you have a between-participants design, while in others you have a within-subject design. We will talk more about this during the workshop today."
   ]
  },
  {
   "cell_type": "markdown",
   "metadata": {},
   "source": [
    "Given that we want to compare 3 different groups of people where you do not find the same person in multiple groups, the between-participants ANOVA is the appropiate test to run here. "
   ]
  },
  {
   "cell_type": "markdown",
   "metadata": {},
   "source": [
    "To run the ANOVA, we first need to install the relevant packages in Python"
   ]
  },
  {
   "cell_type": "code",
   "execution_count": null,
   "metadata": {},
   "outputs": [],
   "source": [
    "pip install bioinfokit"
   ]
  },
  {
   "cell_type": "code",
   "execution_count": null,
   "metadata": {},
   "outputs": [],
   "source": [
    "pip install pingouin"
   ]
  },
  {
   "cell_type": "code",
   "execution_count": 5,
   "metadata": {},
   "outputs": [],
   "source": [
    "import pingouin as pg\n",
    "from bioinfokit.analys import stat"
   ]
  },
  {
   "cell_type": "markdown",
   "metadata": {},
   "source": [
    "Then, we include number of correct responses during neutral self-harm trials as our continuous variable, and the participant type as our grouping variable. Then, show a summary table of the results."
   ]
  },
  {
   "cell_type": "code",
   "execution_count": 6,
   "metadata": {},
   "outputs": [
    {
     "data": {
      "text/html": [
       "<div>\n",
       "<style scoped>\n",
       "    .dataframe tbody tr th:only-of-type {\n",
       "        vertical-align: middle;\n",
       "    }\n",
       "\n",
       "    .dataframe tbody tr th {\n",
       "        vertical-align: top;\n",
       "    }\n",
       "\n",
       "    .dataframe thead th {\n",
       "        text-align: right;\n",
       "    }\n",
       "</style>\n",
       "<table border=\"1\" class=\"dataframe\">\n",
       "  <thead>\n",
       "    <tr style=\"text-align: right;\">\n",
       "      <th></th>\n",
       "      <th>df</th>\n",
       "      <th>sum_sq</th>\n",
       "      <th>mean_sq</th>\n",
       "      <th>F</th>\n",
       "      <th>PR(&gt;F)</th>\n",
       "    </tr>\n",
       "  </thead>\n",
       "  <tbody>\n",
       "    <tr>\n",
       "      <th>C(Group)</th>\n",
       "      <td>2.0</td>\n",
       "      <td>588.150575</td>\n",
       "      <td>294.075287</td>\n",
       "      <td>4.377117</td>\n",
       "      <td>0.014194</td>\n",
       "    </tr>\n",
       "    <tr>\n",
       "      <th>Residual</th>\n",
       "      <td>151.0</td>\n",
       "      <td>10144.888386</td>\n",
       "      <td>67.184691</td>\n",
       "      <td>NaN</td>\n",
       "      <td>NaN</td>\n",
       "    </tr>\n",
       "  </tbody>\n",
       "</table>\n",
       "</div>"
      ],
      "text/plain": [
       "             df        sum_sq     mean_sq         F    PR(>F)\n",
       "C(Group)    2.0    588.150575  294.075287  4.377117  0.014194\n",
       "Residual  151.0  10144.888386   67.184691       NaN       NaN"
      ]
     },
     "execution_count": 6,
     "metadata": {},
     "output_type": "execute_result"
    }
   ],
   "source": [
    "res = stat()\n",
    "res.anova_stat(df=df, res_var='TR_neutralSH', anova_model='TR_neutralSH ~ C(Group)')\n",
    "res.anova_summary\n",
    "# output (ANOVA F and p value)"
   ]
  },
  {
   "cell_type": "markdown",
   "metadata": {},
   "source": [
    "The p value obtained from ANOVA analysis is significant (p < 0.05), and therefore, we conclude that there are significant differences between the groups we examined (people who self harm, controls matched for negative affect, controls not matched for negative affect)\n",
    "\n",
    "Note on F value: F value is inversely related to p value and higher F value indicates a significant p value."
   ]
  },
  {
   "cell_type": "markdown",
   "metadata": {},
   "source": [
    "Nevetheless, even though ANOVA tells us that the group differences are statistically significant, it does not tell us which of the 3 groups are significantly different from each other. To know the pairs of significant different groups, we will perform multiple pairwise comparison (post hoc comparison) analysis for all unplanned comparison using Tukey’s honestly significantly differenced (HSD) test."
   ]
  },
  {
   "cell_type": "markdown",
   "metadata": {},
   "source": [
    "Here the `endog` variable represents the dependent variable in your model, and `groups` represents the comparisons that you want to examine."
   ]
  },
  {
   "cell_type": "code",
   "execution_count": 7,
   "metadata": {},
   "outputs": [
    {
     "name": "stdout",
     "output_type": "stream",
     "text": [
      "Multiple Comparison of Means - Tukey HSD, FWER=0.05\n",
      "===================================================\n",
      "group1 group2 meandiff p-adj   lower  upper  reject\n",
      "---------------------------------------------------\n",
      "    HC    NHC    4.227 0.0263  0.4034 8.0506   True\n",
      "    HC     SH   4.0309 0.0362  0.2073 7.8545   True\n",
      "   NHC     SH  -0.1961  0.992 -4.0382 3.6461  False\n",
      "---------------------------------------------------\n"
     ]
    }
   ],
   "source": [
    "tukey = sm.stats.multicomp.pairwise_tukeyhsd(endog=df['TR_neutralSH'], groups=df['Group'], alpha=0.05)\n",
    "print(tukey)"
   ]
  },
  {
   "cell_type": "markdown",
   "metadata": {},
   "source": [
    "From this, we can see that the unmatched controls performed significantly worse than matched controls and people who self-harm."
   ]
  },
  {
   "cell_type": "markdown",
   "metadata": {},
   "source": [
    "Note: If the p-value obtained from the ANOVA came back as non-significant, we would not be allowed to run post-hoc tests. The only exception to this rule is if you had a very specific hypothesis about one of the groups that you were investigating. For instance, if your main hypothesis was to look at differences between unmatched controls and those who self-harm and you had strong theoretical proof that this difference between groups should exist, you'd be allowed to examine and report the post-hoc comparison for it."
   ]
  },
  {
   "cell_type": "markdown",
   "metadata": {},
   "source": [
    "## Two-way ANOVA"
   ]
  },
  {
   "cell_type": "markdown",
   "metadata": {},
   "source": [
    "Now that we have seen that people who self-harm and matched controls do not differ from each other in performance when shown neutral pictures of self-harm, we may wonder, is this also the case when they see explicit pictures of self-harm that are personalized for the type of self-harm that they use? It may be that the neutral pictures do not ellicit enough of an effect because they are too abstract or not personally relevant. From the visualisations we did earlier it does look like those who self harm perform better than matched controls when shown explicit self-harm stimuli. Let's have another look at that graph."
   ]
  },
  {
   "cell_type": "code",
   "execution_count": 8,
   "metadata": {},
   "outputs": [
    {
     "data": {
      "image/png": "[encoded data removed]",
      "text/plain": [
       "<Figure size 432x288 with 1 Axes>"
      ]
     },
     "metadata": {
      "needs_background": "light"
     },
     "output_type": "display_data"
    }
   ],
   "source": [
    "ax = sb.boxplot(x='Group', y='TR_SH', data=df, color='#99c2a2')\n",
    "ax = sb.swarmplot(x=\"Group\", y=\"TR_SH\", data=df, color='#7d0013')\n",
    "plt.show()"
   ]
  },
  {
   "cell_type": "markdown",
   "metadata": {},
   "source": [
    "So then we might wonder, does the type of self-harm images that the participants see influence the group differences that we observe between those who self-harm and matched controls? Or in other words, does the performance of the two groups (self-harm and controls) differ depending on whether the self-harm stimuli are explicit or neutral?"
   ]
  },
  {
   "cell_type": "markdown",
   "metadata": {},
   "source": [
    "To answer this question, we can use a two-way ANOVA. So far, we have used a one-way ANOVA, because we only had one grouping variable (e.g. participant type). We can of course have many more, though usually researchers include a maximum of 2 or 3 groups. That is because the analysis and interpretation of the results becomes more complex as the number of groups increases. Let's add a second grouping variable to our ANOVA (e.g. type of self-harm images that participants see)."
   ]
  },
  {
   "cell_type": "markdown",
   "metadata": {},
   "source": [
    "For the 2-way ANOVA analysis to take place, your data needs to be in a specific format. In this workshop, we already created this format for you. Before you go further, take some time to inspect the format of your data and how it differs from the previous dataset."
   ]
  },
  {
   "cell_type": "code",
   "execution_count": 9,
   "metadata": {},
   "outputs": [
    {
     "data": {
      "text/html": [
       "<div>\n",
       "<style scoped>\n",
       "    .dataframe tbody tr th:only-of-type {\n",
       "        vertical-align: middle;\n",
       "    }\n",
       "\n",
       "    .dataframe tbody tr th {\n",
       "        vertical-align: top;\n",
       "    }\n",
       "\n",
       "    .dataframe thead th {\n",
       "        text-align: right;\n",
       "    }\n",
       "</style>\n",
       "<table border=\"1\" class=\"dataframe\">\n",
       "  <thead>\n",
       "    <tr style=\"text-align: right;\">\n",
       "      <th></th>\n",
       "      <th>ID</th>\n",
       "      <th>Gender</th>\n",
       "      <th>Group</th>\n",
       "      <th>Education_level</th>\n",
       "      <th>TR</th>\n",
       "      <th>SH_stimuli</th>\n",
       "    </tr>\n",
       "  </thead>\n",
       "  <tbody>\n",
       "    <tr>\n",
       "      <th>0</th>\n",
       "      <td>1</td>\n",
       "      <td>M</td>\n",
       "      <td>SH</td>\n",
       "      <td>a level</td>\n",
       "      <td>47</td>\n",
       "      <td>Neutral</td>\n",
       "    </tr>\n",
       "    <tr>\n",
       "      <th>1</th>\n",
       "      <td>2</td>\n",
       "      <td>F</td>\n",
       "      <td>SH</td>\n",
       "      <td>masters</td>\n",
       "      <td>30</td>\n",
       "      <td>Neutral</td>\n",
       "    </tr>\n",
       "    <tr>\n",
       "      <th>2</th>\n",
       "      <td>3</td>\n",
       "      <td>F</td>\n",
       "      <td>SH</td>\n",
       "      <td>bachelors</td>\n",
       "      <td>34</td>\n",
       "      <td>Neutral</td>\n",
       "    </tr>\n",
       "    <tr>\n",
       "      <th>3</th>\n",
       "      <td>4</td>\n",
       "      <td>F</td>\n",
       "      <td>SH</td>\n",
       "      <td>masters</td>\n",
       "      <td>33</td>\n",
       "      <td>Neutral</td>\n",
       "    </tr>\n",
       "    <tr>\n",
       "      <th>4</th>\n",
       "      <td>5</td>\n",
       "      <td>F</td>\n",
       "      <td>SH</td>\n",
       "      <td>bachelors</td>\n",
       "      <td>25</td>\n",
       "      <td>Neutral</td>\n",
       "    </tr>\n",
       "    <tr>\n",
       "      <th>5</th>\n",
       "      <td>6</td>\n",
       "      <td>F</td>\n",
       "      <td>SH</td>\n",
       "      <td>gcse</td>\n",
       "      <td>25</td>\n",
       "      <td>Neutral</td>\n",
       "    </tr>\n",
       "    <tr>\n",
       "      <th>6</th>\n",
       "      <td>7</td>\n",
       "      <td>F</td>\n",
       "      <td>SH</td>\n",
       "      <td>a level</td>\n",
       "      <td>40</td>\n",
       "      <td>Neutral</td>\n",
       "    </tr>\n",
       "    <tr>\n",
       "      <th>7</th>\n",
       "      <td>8</td>\n",
       "      <td>F</td>\n",
       "      <td>SH</td>\n",
       "      <td>a level</td>\n",
       "      <td>40</td>\n",
       "      <td>Neutral</td>\n",
       "    </tr>\n",
       "    <tr>\n",
       "      <th>8</th>\n",
       "      <td>9</td>\n",
       "      <td>F</td>\n",
       "      <td>SH</td>\n",
       "      <td>a level</td>\n",
       "      <td>35</td>\n",
       "      <td>Neutral</td>\n",
       "    </tr>\n",
       "    <tr>\n",
       "      <th>9</th>\n",
       "      <td>10</td>\n",
       "      <td>F</td>\n",
       "      <td>SH</td>\n",
       "      <td>as level</td>\n",
       "      <td>20</td>\n",
       "      <td>Neutral</td>\n",
       "    </tr>\n",
       "  </tbody>\n",
       "</table>\n",
       "</div>"
      ],
      "text/plain": [
       "   ID Gender Group Education_level  TR SH_stimuli\n",
       "0   1      M    SH         a level  47    Neutral\n",
       "1   2      F    SH         masters  30    Neutral\n",
       "2   3      F    SH       bachelors  34    Neutral\n",
       "3   4      F    SH         masters  33    Neutral\n",
       "4   5      F    SH       bachelors  25    Neutral\n",
       "5   6      F    SH            gcse  25    Neutral\n",
       "6   7      F    SH         a level  40    Neutral\n",
       "7   8      F    SH         a level  40    Neutral\n",
       "8   9      F    SH         a level  35    Neutral\n",
       "9  10      F    SH        as level  20    Neutral"
      ]
     },
     "execution_count": 9,
     "metadata": {},
     "output_type": "execute_result"
    }
   ],
   "source": [
    "df2 = pd.read_excel(\"Self-harm dataset.xlsx\", sheet_name='Self-Harm 2-way')\n",
    "df2.head(10)"
   ]
  },
  {
   "cell_type": "markdown",
   "metadata": {},
   "source": [
    "Now let's plot our data"
   ]
  },
  {
   "cell_type": "code",
   "execution_count": 10,
   "metadata": {},
   "outputs": [
    {
     "data": {
      "text/plain": [
       "<AxesSubplot: xlabel='Group', ylabel='TR'>"
      ]
     },
     "execution_count": 10,
     "metadata": {},
     "output_type": "execute_result"
    },
    {
     "data": {
      "image/png": "[encoded data removed]",
      "text/plain": [
       "<Figure size 432x288 with 1 Axes>"
      ]
     },
     "metadata": {
      "needs_background": "light"
     },
     "output_type": "display_data"
    }
   ],
   "source": [
    "sb.boxplot(x=\"Group\", y=\"TR\", hue=\"SH_stimuli\", data=df2, palette=\"Set2\") "
   ]
  },
  {
   "cell_type": "markdown",
   "metadata": {},
   "source": [
    "As we can see, we have two grouping variables. The first is participant type (or group), which consists of people who self-harm and matched controls. The second group consists of the type of self-harm stimuli that are shown to the participant (e.g. neutral or explicit). Note that unmatched controls were excluded from this analysis as they did not take part in the arm of the study that included explcit self-harm images."
   ]
  },
  {
   "cell_type": "markdown",
   "metadata": {},
   "source": [
    "Now let's run the ANOVA analysis. To do so, we first need to decide what type of ANOVA to use. One of our groups is the participant type which contains two independent groups of people (e.g. those who self harm and matched controls). Thus, this would be a between subjects grouping. The other group refers to the self-harm stimuli, but in this case everyone sees both the neutral AND the explicit self-harm stimuli. Thus, in this case, we have a within subjects grouping. \n",
    "\n",
    "Since the groups we have differ in their design, we will conduct a mixed-effects ANOVA (i.e. as one group is between and the other is within)."
   ]
  },
  {
   "cell_type": "code",
   "execution_count": 11,
   "metadata": {},
   "outputs": [
    {
     "data": {
      "text/html": [
       "<div>\n",
       "<style scoped>\n",
       "    .dataframe tbody tr th:only-of-type {\n",
       "        vertical-align: middle;\n",
       "    }\n",
       "\n",
       "    .dataframe tbody tr th {\n",
       "        vertical-align: top;\n",
       "    }\n",
       "\n",
       "    .dataframe thead th {\n",
       "        text-align: right;\n",
       "    }\n",
       "</style>\n",
       "<table border=\"1\" class=\"dataframe\">\n",
       "  <thead>\n",
       "    <tr style=\"text-align: right;\">\n",
       "      <th></th>\n",
       "      <th>Source</th>\n",
       "      <th>SS</th>\n",
       "      <th>DF1</th>\n",
       "      <th>DF2</th>\n",
       "      <th>MS</th>\n",
       "      <th>F</th>\n",
       "      <th>p-unc</th>\n",
       "      <th>np2</th>\n",
       "      <th>eps</th>\n",
       "    </tr>\n",
       "  </thead>\n",
       "  <tbody>\n",
       "    <tr>\n",
       "      <th>0</th>\n",
       "      <td>Group</td>\n",
       "      <td>417.960784</td>\n",
       "      <td>1</td>\n",
       "      <td>100</td>\n",
       "      <td>417.960784</td>\n",
       "      <td>2.942443</td>\n",
       "      <td>0.089377</td>\n",
       "      <td>0.028583</td>\n",
       "      <td>NaN</td>\n",
       "    </tr>\n",
       "    <tr>\n",
       "      <th>1</th>\n",
       "      <td>SH_stimuli</td>\n",
       "      <td>12.254902</td>\n",
       "      <td>1</td>\n",
       "      <td>100</td>\n",
       "      <td>12.254902</td>\n",
       "      <td>0.402914</td>\n",
       "      <td>0.527038</td>\n",
       "      <td>0.004013</td>\n",
       "      <td>1.0</td>\n",
       "    </tr>\n",
       "    <tr>\n",
       "      <th>2</th>\n",
       "      <td>Interaction</td>\n",
       "      <td>477.176471</td>\n",
       "      <td>1</td>\n",
       "      <td>100</td>\n",
       "      <td>477.176471</td>\n",
       "      <td>15.688499</td>\n",
       "      <td>0.000140</td>\n",
       "      <td>0.135610</td>\n",
       "      <td>NaN</td>\n",
       "    </tr>\n",
       "  </tbody>\n",
       "</table>\n",
       "</div>"
      ],
      "text/plain": [
       "        Source          SS  DF1  DF2          MS          F     p-unc  \\\n",
       "0        Group  417.960784    1  100  417.960784   2.942443  0.089377   \n",
       "1   SH_stimuli   12.254902    1  100   12.254902   0.402914  0.527038   \n",
       "2  Interaction  477.176471    1  100  477.176471  15.688499  0.000140   \n",
       "\n",
       "        np2  eps  \n",
       "0  0.028583  NaN  \n",
       "1  0.004013  1.0  \n",
       "2  0.135610  NaN  "
      ]
     },
     "execution_count": 11,
     "metadata": {},
     "output_type": "execute_result"
    }
   ],
   "source": [
    "res = pg.mixed_anova(dv = 'TR', between='Group', within='SH_stimuli', subject='ID', data=df2)\n",
    "res"
   ]
  },
  {
   "cell_type": "markdown",
   "metadata": {},
   "source": [
    "What we see in the table is that the effect of Group and SH_stimuli are not statistically significant on their own. In other words, matched controls and patients with self-harm do not differ on average in their performance (across both explicit and neutral stimuli). Similarly, there is no difference in performance between explicit and neutral self-harm stimuli (across self-harm and controls)."
   ]
  },
  {
   "cell_type": "markdown",
   "metadata": {},
   "source": [
    "But we do see a significant interaction effect. When the interaction term is statistically significant, this indicates that the effect that one independent variable (e.g., self-harm stimuli) has on the dependent variable (e.g., cognitive performance) depends on the level of the other independent variable (e.g., participant group). However, the ANOVA itself does not tell us much about how exactly this dependence works. The easiest method to interpret this result is to visualize the interaction."
   ]
  },
  {
   "cell_type": "markdown",
   "metadata": {},
   "source": [
    "Let's run this below."
   ]
  },
  {
   "cell_type": "code",
   "execution_count": 12,
   "metadata": {},
   "outputs": [],
   "source": [
    "from statsmodels.graphics.factorplots import interaction_plot"
   ]
  },
  {
   "cell_type": "code",
   "execution_count": 13,
   "metadata": {},
   "outputs": [
    {
     "data": {
      "image/png": "[encoded data removed]",
      "text/plain": [
       "<Figure size 432x288 with 1 Axes>"
      ]
     },
     "metadata": {
      "needs_background": "light"
     },
     "output_type": "display_data"
    }
   ],
   "source": [
    "fig = interaction_plot(x=df2['Group'], trace=df2['SH_stimuli'], response=df2['TR'], \n",
    "    colors=['#4c061d','#d17a22'])\n",
    "plt.show()"
   ]
  },
  {
   "cell_type": "markdown",
   "metadata": {},
   "source": [
    "By looking at this we can explain what the interaction effect means. If we look at the difference in performance between NHC and SH groups for the neutral self-harm stimuli, we can see that there is virtually no difference (so the two group perform the same on average). However if we look at the difference in performance between NHC and SH while seeing the explicit self-harm stimuli, we can see that the SH group performs considerably better. Thus, from this we can conclude that people who self-harm perform better than controls on the Incentive Delay Task, when given explicit self-harm stimuli as feedback (as opposed to neutral self-harm stimuli)."
   ]
  },
  {
   "cell_type": "markdown",
   "metadata": {},
   "source": [
    "How would you interpret these results?"
   ]
  },
  {
   "cell_type": "markdown",
   "metadata": {},
   "source": [
    "To confirm this effect we can also run a post-hoc analysis, specifically on the comparisons shown in the interaction"
   ]
  },
  {
   "cell_type": "code",
   "execution_count": 14,
   "metadata": {},
   "outputs": [
    {
     "data": {
      "text/plain": [
       "0        SH / Neutral\n",
       "1        SH / Neutral\n",
       "2        SH / Neutral\n",
       "3        SH / Neutral\n",
       "4        SH / Neutral\n",
       "            ...      \n",
       "199    NHC / Explicit\n",
       "200    NHC / Explicit\n",
       "201    NHC / Explicit\n",
       "202    NHC / Explicit\n",
       "203    NHC / Explicit\n",
       "Name: combination, Length: 204, dtype: object"
      ]
     },
     "execution_count": 14,
     "metadata": {},
     "output_type": "execute_result"
    }
   ],
   "source": [
    "df2['combination'] = df2.Group.astype(str) + \" / \" + df2.SH_stimuli.astype(str) #First create a variable which contains all 4 different comparison groups that we want to examine\n",
    "df2.combination"
   ]
  },
  {
   "cell_type": "markdown",
   "metadata": {},
   "source": [
    "Then run post-hoc comparisons on this data."
   ]
  },
  {
   "cell_type": "code",
   "execution_count": 15,
   "metadata": {},
   "outputs": [
    {
     "name": "stdout",
     "output_type": "stream",
     "text": [
      "        Multiple Comparison of Means - Tukey HSD, FWER=0.05        \n",
      "===================================================================\n",
      "    group1         group2    meandiff p-adj   lower   upper  reject\n",
      "-------------------------------------------------------------------\n",
      "NHC / Explicit NHC / Neutral   2.5686 0.5028 -2.1956  7.3328  False\n",
      "NHC / Explicit SH / Explicit   5.9216 0.0081  1.1574 10.6857   True\n",
      "NHC / Explicit  SH / Neutral   2.3725 0.5702 -2.3916  7.1367  False\n",
      " NHC / Neutral SH / Explicit   3.3529 0.2654 -1.4112  8.1171  False\n",
      " NHC / Neutral  SH / Neutral  -0.1961 0.9996 -4.9603  4.5681  False\n",
      " SH / Explicit  SH / Neutral   -3.549 0.2188 -8.3132  1.2152  False\n",
      "-------------------------------------------------------------------\n"
     ]
    }
   ],
   "source": [
    "tukey = sm.stats.multicomp.pairwise_tukeyhsd(endog=df2['TR'], groups=df2['combination'], alpha=0.05)\n",
    "print(tukey)"
   ]
  },
  {
   "cell_type": "markdown",
   "metadata": {},
   "source": [
    "From here we can see the only statistically significant difference is that between NHC during Explicit stimuli and SH during Explicit stimuli, which is in line with our previous observation."
   ]
  },
  {
   "cell_type": "markdown",
   "metadata": {},
   "source": [
    "For demonstration purposes, we also show how you would run a within subjects (repeated-measures) ANOVA."
   ]
  },
  {
   "cell_type": "code",
   "execution_count": 16,
   "metadata": {},
   "outputs": [
    {
     "data": {
      "text/html": [
       "<div>\n",
       "<style scoped>\n",
       "    .dataframe tbody tr th:only-of-type {\n",
       "        vertical-align: middle;\n",
       "    }\n",
       "\n",
       "    .dataframe tbody tr th {\n",
       "        vertical-align: top;\n",
       "    }\n",
       "\n",
       "    .dataframe thead th {\n",
       "        text-align: right;\n",
       "    }\n",
       "</style>\n",
       "<table border=\"1\" class=\"dataframe\">\n",
       "  <thead>\n",
       "    <tr style=\"text-align: right;\">\n",
       "      <th></th>\n",
       "      <th>Source</th>\n",
       "      <th>SS</th>\n",
       "      <th>DF</th>\n",
       "      <th>MS</th>\n",
       "      <th>F</th>\n",
       "      <th>p-unc</th>\n",
       "      <th>ng2</th>\n",
       "      <th>eps</th>\n",
       "    </tr>\n",
       "  </thead>\n",
       "  <tbody>\n",
       "    <tr>\n",
       "      <th>0</th>\n",
       "      <td>SH_stimuli</td>\n",
       "      <td>12.254902</td>\n",
       "      <td>1</td>\n",
       "      <td>12.254902</td>\n",
       "      <td>0.351758</td>\n",
       "      <td>0.554446</td>\n",
       "      <td>0.000675</td>\n",
       "      <td>1.0</td>\n",
       "    </tr>\n",
       "    <tr>\n",
       "      <th>1</th>\n",
       "      <td>Error</td>\n",
       "      <td>3518.745098</td>\n",
       "      <td>101</td>\n",
       "      <td>34.839060</td>\n",
       "      <td>NaN</td>\n",
       "      <td>NaN</td>\n",
       "      <td>NaN</td>\n",
       "      <td>NaN</td>\n",
       "    </tr>\n",
       "  </tbody>\n",
       "</table>\n",
       "</div>"
      ],
      "text/plain": [
       "       Source           SS   DF         MS         F     p-unc       ng2  eps\n",
       "0  SH_stimuli    12.254902    1  12.254902  0.351758  0.554446  0.000675  1.0\n",
       "1       Error  3518.745098  101  34.839060       NaN       NaN       NaN  NaN"
      ]
     },
     "execution_count": 16,
     "metadata": {},
     "output_type": "execute_result"
    }
   ],
   "source": [
    "res = pg.rm_anova(dv='TR', within='SH_stimuli', subject='ID', data=df2, detailed=True)\n",
    "res"
   ]
  },
  {
   "cell_type": "code",
   "execution_count": 17,
   "metadata": {},
   "outputs": [
    {
     "data": {
      "text/html": [
       "<div>\n",
       "<style scoped>\n",
       "    .dataframe tbody tr th:only-of-type {\n",
       "        vertical-align: middle;\n",
       "    }\n",
       "\n",
       "    .dataframe tbody tr th {\n",
       "        vertical-align: top;\n",
       "    }\n",
       "\n",
       "    .dataframe thead th {\n",
       "        text-align: right;\n",
       "    }\n",
       "</style>\n",
       "<table border=\"1\" class=\"dataframe\">\n",
       "  <thead>\n",
       "    <tr style=\"text-align: right;\">\n",
       "      <th></th>\n",
       "      <th>ID</th>\n",
       "      <th>Gender</th>\n",
       "      <th>Group</th>\n",
       "      <th>Education_level</th>\n",
       "      <th>TR</th>\n",
       "      <th>SH_stimuli</th>\n",
       "      <th>combination</th>\n",
       "    </tr>\n",
       "  </thead>\n",
       "  <tbody>\n",
       "    <tr>\n",
       "      <th>0</th>\n",
       "      <td>1</td>\n",
       "      <td>M</td>\n",
       "      <td>SH</td>\n",
       "      <td>a level</td>\n",
       "      <td>47</td>\n",
       "      <td>Neutral</td>\n",
       "      <td>SH / Neutral</td>\n",
       "    </tr>\n",
       "    <tr>\n",
       "      <th>1</th>\n",
       "      <td>2</td>\n",
       "      <td>F</td>\n",
       "      <td>SH</td>\n",
       "      <td>masters</td>\n",
       "      <td>30</td>\n",
       "      <td>Neutral</td>\n",
       "      <td>SH / Neutral</td>\n",
       "    </tr>\n",
       "    <tr>\n",
       "      <th>2</th>\n",
       "      <td>3</td>\n",
       "      <td>F</td>\n",
       "      <td>SH</td>\n",
       "      <td>bachelors</td>\n",
       "      <td>34</td>\n",
       "      <td>Neutral</td>\n",
       "      <td>SH / Neutral</td>\n",
       "    </tr>\n",
       "    <tr>\n",
       "      <th>3</th>\n",
       "      <td>4</td>\n",
       "      <td>F</td>\n",
       "      <td>SH</td>\n",
       "      <td>masters</td>\n",
       "      <td>33</td>\n",
       "      <td>Neutral</td>\n",
       "      <td>SH / Neutral</td>\n",
       "    </tr>\n",
       "    <tr>\n",
       "      <th>4</th>\n",
       "      <td>5</td>\n",
       "      <td>F</td>\n",
       "      <td>SH</td>\n",
       "      <td>bachelors</td>\n",
       "      <td>25</td>\n",
       "      <td>Neutral</td>\n",
       "      <td>SH / Neutral</td>\n",
       "    </tr>\n",
       "  </tbody>\n",
       "</table>\n",
       "</div>"
      ],
      "text/plain": [
       "   ID Gender Group Education_level  TR SH_stimuli   combination\n",
       "0   1      M    SH         a level  47    Neutral  SH / Neutral\n",
       "1   2      F    SH         masters  30    Neutral  SH / Neutral\n",
       "2   3      F    SH       bachelors  34    Neutral  SH / Neutral\n",
       "3   4      F    SH         masters  33    Neutral  SH / Neutral\n",
       "4   5      F    SH       bachelors  25    Neutral  SH / Neutral"
      ]
     },
     "execution_count": 17,
     "metadata": {},
     "output_type": "execute_result"
    }
   ],
   "source": [
    "df2.head()"
   ]
  },
  {
   "cell_type": "markdown",
   "metadata": {},
   "source": [
    "## Multiple Regression"
   ]
  },
  {
   "cell_type": "markdown",
   "metadata": {},
   "source": [
    "Now that we got a good idea about how to run both a one-way ANOVA and a two-way ANOVA, the next step is to look at some more complex examples of regression. Two-way ANOVA is mainly used to look at interactions between variables but the same can be obtained by running a regression analysis with an interaction effect within it. This part of the workshop will walk you through how to do that. But first let's remind ourselves how to run and interpret a multiple regression model without interaction effects (if you don't remember anything about regressions check lecture 10 of the primer for examples and refer to the online stats materials)."
   ]
  },
  {
   "cell_type": "code",
   "execution_count": 18,
   "metadata": {},
   "outputs": [
    {
     "name": "stdout",
     "output_type": "stream",
     "text": [
      "                            OLS Regression Results                            \n",
      "==============================================================================\n",
      "Dep. Variable:                     TR   R-squared:                       0.024\n",
      "Model:                            OLS   Adj. R-squared:                  0.014\n",
      "Method:                 Least Squares   F-statistic:                     2.440\n",
      "Date:                Sun, 06 Nov 2022   Prob (F-statistic):             0.0898\n",
      "Time:                        17:27:54   Log-Likelihood:                -744.84\n",
      "No. Observations:                 204   AIC:                             1496.\n",
      "Df Residuals:                     201   BIC:                             1506.\n",
      "Df Model:                           2                                         \n",
      "Covariance Type:            nonrobust                                         \n",
      "=========================================================================================\n",
      "                            coef    std err          t      P>|t|      [0.025      0.975]\n",
      "-----------------------------------------------------------------------------------------\n",
      "Intercept                31.7647      1.139     27.895      0.000      29.519      34.010\n",
      "Group[T.SH]               2.8627      1.315      2.177      0.031       0.270       5.455\n",
      "SH_stimuli[T.Neutral]    -0.4902      1.315     -0.373      0.710      -3.083       2.103\n",
      "==============================================================================\n",
      "Omnibus:                        2.431   Durbin-Watson:                   1.663\n",
      "Prob(Omnibus):                  0.297   Jarque-Bera (JB):                1.941\n",
      "Skew:                          -0.089   Prob(JB):                        0.379\n",
      "Kurtosis:                       2.557   Cond. No.                         3.19\n",
      "==============================================================================\n",
      "\n",
      "Notes:\n",
      "[1] Standard Errors assume that the covariance matrix of the errors is correctly specified.\n"
     ]
    }
   ],
   "source": [
    "model = sm.OLS.from_formula('TR ~ Group + SH_stimuli', data = df2) #Here we mention the variable names we want to include and the dataset\n",
    "results = model.fit() #Then we run the regression model\n",
    "print(results.summary()) #Finally, we tell Python to create a summary of all the results and print it"
   ]
  },
  {
   "cell_type": "markdown",
   "metadata": {},
   "source": [
    "There is a lot of information here, but let's focus on the bits which tell us if the regression has any significant effects."
   ]
  },
  {
   "cell_type": "code",
   "execution_count": 19,
   "metadata": {},
   "outputs": [
    {
     "data": {
      "text/html": [
       "<table class=\"simpletable\">\n",
       "<tr>\n",
       "            <td></td>               <th>coef</th>     <th>std err</th>      <th>t</th>      <th>P>|t|</th>  <th>[0.025</th>    <th>0.975]</th>  \n",
       "</tr>\n",
       "<tr>\n",
       "  <th>Intercept</th>             <td>   31.7647</td> <td>    1.139</td> <td>   27.895</td> <td> 0.000</td> <td>   29.519</td> <td>   34.010</td>\n",
       "</tr>\n",
       "<tr>\n",
       "  <th>Group[T.SH]</th>           <td>    2.8627</td> <td>    1.315</td> <td>    2.177</td> <td> 0.031</td> <td>    0.270</td> <td>    5.455</td>\n",
       "</tr>\n",
       "<tr>\n",
       "  <th>SH_stimuli[T.Neutral]</th> <td>   -0.4902</td> <td>    1.315</td> <td>   -0.373</td> <td> 0.710</td> <td>   -3.083</td> <td>    2.103</td>\n",
       "</tr>\n",
       "</table>"
      ],
      "text/plain": [
       "<class 'statsmodels.iolib.table.SimpleTable'>"
      ]
     },
     "execution_count": 19,
     "metadata": {},
     "output_type": "execute_result"
    }
   ],
   "source": [
    "summaryTable =results.summary()\n",
    "summaryTable = summaryTable.tables[1]\n",
    "summaryTable\n"
   ]
  },
  {
   "cell_type": "markdown",
   "metadata": {},
   "source": [
    "From this we can see there is a significant effect of `Group` and a non-significant effect of `SH_stimuli`. The `t-statistic` is similar to the `F-value` in that it is inversely related to the p-value. In other words, the lower the p-value the higher the t-value tends to be. That is why it is good practice to report both when discussing your results.\n",
    "\n",
    "In addition to these metrics, we also have the `coef` which is short for coefficient. This tells us how much the cognitive performance of a person changes, depending on the effects introduced in the model. For instance, the coefficient for the `Group` variable is approximately 2.86, which can be interpreted as the following: A person who belongs in the self-harm group is estimated to have a cognitive performance of 2.86 points higher than if they were part of the matched control group.\n",
    "\n",
    "The intercept is another useful value, and in this scenario it can be thought of as the average cognitive performance of the people included in the model (i.e. the average value of the dependent variable). The `coef` of the intercept tells us this value. In this case, it's approximately 31.76. \n",
    "\n",
    "So, what would the model estimate to be the cognitive score of a person with self-harm that viewed neutral self-harm feedback?\n",
    "\n",
    "Answer = 31.76 + 2.86 - 0.4902 = 34.13"
   ]
  },
  {
   "cell_type": "markdown",
   "metadata": {},
   "source": [
    "What would the model predict for someone who does not self harm and received explicit self-harm stimuli?"
   ]
  },
  {
   "cell_type": "markdown",
   "metadata": {},
   "source": [
    "## Multiple Regression Model with Interaction"
   ]
  },
  {
   "cell_type": "markdown",
   "metadata": {},
   "source": [
    "Let's run the same model as above but now also look at the interaction between `Group` and `SH_stimuli`. This is very similar to the analysis we performed when running the two-way ANOVA."
   ]
  },
  {
   "cell_type": "markdown",
   "metadata": {},
   "source": [
    "We indicate that we want to examine the interaction between two variables by adding a colon between their names instead of a plus."
   ]
  },
  {
   "cell_type": "code",
   "execution_count": 20,
   "metadata": {},
   "outputs": [
    {
     "name": "stdout",
     "output_type": "stream",
     "text": [
      "                            OLS Regression Results                            \n",
      "==============================================================================\n",
      "Dep. Variable:                     TR   R-squared:                       0.050\n",
      "Model:                            OLS   Adj. R-squared:                  0.036\n",
      "Method:                 Least Squares   F-statistic:                     3.508\n",
      "Date:                Sun, 06 Nov 2022   Prob (F-statistic):             0.0163\n",
      "Time:                        17:30:17   Log-Likelihood:                -742.06\n",
      "No. Observations:                 204   AIC:                             1492.\n",
      "Df Residuals:                     200   BIC:                             1505.\n",
      "Df Model:                           3                                         \n",
      "Covariance Type:            nonrobust                                         \n",
      "=====================================================================================================\n",
      "                                        coef    std err          t      P>|t|      [0.025      0.975]\n",
      "-----------------------------------------------------------------------------------------------------\n",
      "Intercept                            30.2353      1.300     23.252      0.000      27.671      32.799\n",
      "Group[T.SH]                           5.9216      1.839      3.220      0.001       2.295       9.548\n",
      "SH_stimuli[T.Neutral]                 2.5686      1.839      1.397      0.164      -1.058       6.195\n",
      "SH_stimuli[T.Neutral]:Group[T.SH]    -6.1176      2.601     -2.352      0.020     -11.246      -0.990\n",
      "==============================================================================\n",
      "Omnibus:                        2.079   Durbin-Watson:                   1.708\n",
      "Prob(Omnibus):                  0.354   Jarque-Bera (JB):                1.962\n",
      "Skew:                          -0.157   Prob(JB):                        0.375\n",
      "Kurtosis:                       2.637   Cond. No.                         6.85\n",
      "==============================================================================\n",
      "\n",
      "Notes:\n",
      "[1] Standard Errors assume that the covariance matrix of the errors is correctly specified.\n"
     ]
    }
   ],
   "source": [
    "model = sm.OLS.from_formula('TR ~ Group + SH_stimuli + SH_stimuli:Group', data = df2) #Here we mention the variable names we want to include and the dataset\n",
    "results = model.fit() #Then we run the regression model\n",
    "print(results.summary()) #Finally, we tell Python to create a summary of all the results and print it"
   ]
  },
  {
   "cell_type": "code",
   "execution_count": 21,
   "metadata": {},
   "outputs": [
    {
     "data": {
      "text/html": [
       "<table class=\"simpletable\">\n",
       "<tr>\n",
       "                  <td></td>                     <th>coef</th>     <th>std err</th>      <th>t</th>      <th>P>|t|</th>  <th>[0.025</th>    <th>0.975]</th>  \n",
       "</tr>\n",
       "<tr>\n",
       "  <th>Intercept</th>                         <td>   30.2353</td> <td>    1.300</td> <td>   23.252</td> <td> 0.000</td> <td>   27.671</td> <td>   32.799</td>\n",
       "</tr>\n",
       "<tr>\n",
       "  <th>Group[T.SH]</th>                       <td>    5.9216</td> <td>    1.839</td> <td>    3.220</td> <td> 0.001</td> <td>    2.295</td> <td>    9.548</td>\n",
       "</tr>\n",
       "<tr>\n",
       "  <th>SH_stimuli[T.Neutral]</th>             <td>    2.5686</td> <td>    1.839</td> <td>    1.397</td> <td> 0.164</td> <td>   -1.058</td> <td>    6.195</td>\n",
       "</tr>\n",
       "<tr>\n",
       "  <th>SH_stimuli[T.Neutral]:Group[T.SH]</th> <td>   -6.1176</td> <td>    2.601</td> <td>   -2.352</td> <td> 0.020</td> <td>  -11.246</td> <td>   -0.990</td>\n",
       "</tr>\n",
       "</table>"
      ],
      "text/plain": [
       "<class 'statsmodels.iolib.table.SimpleTable'>"
      ]
     },
     "execution_count": 21,
     "metadata": {},
     "output_type": "execute_result"
    }
   ],
   "source": [
    "summaryTable =results.summary()\n",
    "summaryTable = summaryTable.tables[1]\n",
    "summaryTable\n"
   ]
  },
  {
   "cell_type": "markdown",
   "metadata": {},
   "source": [
    "We can see that once again, the interaction between the two groups is significant, which is very similar to what we found in the two-way ANOVA. Now, if we wanted to intepret the results of the interaction, we would use an interaction plot, in the same way we did for the ANOVA. And this would lead us to the same conclusion. For the regression, you do not need to run post-hoc tests, it is often enough to report the interaction effect (together with the coef, t-value and p-value) then use the interaction plot to interpret what the interaction means."
   ]
  },
  {
   "cell_type": "code",
   "execution_count": 22,
   "metadata": {},
   "outputs": [
    {
     "data": {
      "image/png": "[encoded data removed]",
      "text/plain": [
       "<Figure size 432x288 with 1 Axes>"
      ]
     },
     "metadata": {
      "needs_background": "light"
     },
     "output_type": "display_data"
    }
   ],
   "source": [
    "fig = interaction_plot(x=df2['Group'], trace=df2['SH_stimuli'], response=df2['TR'], \n",
    "    colors=['#4c061d','#d17a22'])\n",
    "plt.show()"
   ]
  },
  {
   "cell_type": "markdown",
   "metadata": {},
   "source": [
    " However, if we look closely at the results we will see that the `Group` effect is significant in the regression but not in the ANOVA. That is because the two models make different assumptions about the data you inputted. The regression analysis for example assumes that all your effects are independent from each other, whereas the mixed two-way ANOVA doesn't. What that means in practice is that the regression model assumes that those who were shown neutral self-harm stimuli and those who were shown explicit self-harm stimuli are completely different people (when in reality, the same person took part in both conditions). This creates bias in your analysis and leads to different results. The same issue would come up if you tried to run a between-subjects two-way ANOVA, instead of the mixed design.\n",
    "\n"
   ]
  },
  {
   "cell_type": "markdown",
   "metadata": {},
   "source": [
    "So, in this scenario, using a mixed two-way ANOVA is preferred over the linear regression. Of course, there are ways in which you can modify the linear regression to account for the fact that some of your measures are not independent (see linear mixed-effects models), but this is beyond the scope of this workshop as it is a relatively complex concept to grasp."
   ]
  },
  {
   "cell_type": "markdown",
   "metadata": {},
   "source": [
    "Create a model examining the interaction between participant type (i.e. self-harm and matched control) and sex (i.e. female, male). Try running this both via an ANOVA and via a regression. What do you find?"
   ]
  },
  {
   "cell_type": "code",
   "execution_count": null,
   "metadata": {},
   "outputs": [],
   "source": [
    "## CODE HERE\n",
    "\n",
    "\n",
    "\n",
    "\n",
    "\n",
    "\n",
    "\n"
   ]
  },
  {
   "cell_type": "markdown",
   "metadata": {},
   "source": [
    "## Challenge"
   ]
  },
  {
   "cell_type": "markdown",
   "metadata": {},
   "source": [
    "In today's challenge you will work with a dataset containing participants with an eating disorder (ED) and matched controls (MC). Those participants also completed the Incentive Delay Task that we discussed in today's workshop, but instead of being shown stimuli related to self-harm, they were shown stimuli related to ED. In the explicit condition, the stimuli were shown tasty food which often get binged, while in the neutral condition, participants were not shown stimuli associated with food (i.e. empty plates, mugs). Using this dataset examine the following questions:\n",
    "\n",
    "1. How does the Reaction Time (RT) of the ED group differ from that of the MC, when rewarded with explicit pictures of food?\n",
    "2. How does RT differ between ED and MC, when accounting for Gender and Education?\n",
    "3. Is there an interaction between participant type (e.g. ED and MC) and education (i.e. pre-bachelor, post-bachelor) when prediciting a person's RT during the explicit stimuli condition?\n",
    "\n",
    "HINT: Make sure your data is clean and in the right format for regression/ANOVA analysis."
   ]
  },
  {
   "cell_type": "markdown",
   "metadata": {},
   "source": [
    "The data is saved in the `ed dataset.xslx`. The main variables we are interested in are the following:\n",
    "\n",
    "1. WinFood_MeanRT - Refers to the RT when the participants were shown food as a reward for completing the trial succesfully (i.e. explicit feedback).\n",
    "2. NoFood_MeanRT - Refers to the RT when the participants were shown items indicative of food like empty plates (i.e. neutral feedback)."
   ]
  }
 ],
 "metadata": {
  "kernelspec": {
   "display_name": "Python 3.10.5 64-bit",
   "language": "python",
   "name": "python3"
  },
  "language_info": {
   "codemirror_mode": {
    "name": "ipython",
    "version": 3
   },
   "file_extension": ".py",
   "mimetype": "text/x-python",
   "name": "python",
   "nbconvert_exporter": "python",
   "pygments_lexer": "ipython3",
   "version": "3.10.5"
  },
  "orig_nbformat": 4,
  "vscode": {
   "interpreter": {
    "hash": "aee8b7b246df8f9039afb4144a1f6fd8d2ca17a180786b69acc140d282b71a49"
   }
  }
 },
 "nbformat": 4,
 "nbformat_minor": 2
}
