{
 "cells": [
  {
   "cell_type": "markdown",
   "metadata": {},
   "source": [
    "                                                       Workshop 7: Maria Balaet and Valentina Giunchiglia"
   ]
  },
  {
   "cell_type": "markdown",
   "metadata": {},
   "source": [
    "# Topic Modelling on drug use free text data"
   ]
  },
  {
   "cell_type": "markdown",
   "metadata": {},
   "source": [
    "The aim of this workshop is to introduce you the application of **natural language processing (NLP)** algorithms to study free text data. NLP is a branch of artificial intelligence that focuses on trying to understand written and spoken text. In this workshop, we will focus specifically on **topic modelling**, which is an unsupervised machine learning method that automatically analyses groups of words to identify clusters of words that belong to the same topic, or theme.\n",
    "\n",
    "In particular, we will use topic. modelling to try to understand the reasons behind the change in drug use patterns of recreational drug users during the early stages of the pandemic. In the morning, we will investigate why recreational drug users decided to increase their use, later in the day you will apply what you learnt in this stage of the workshop to understand why they decided to decrease their drug use.\n"
   ]
  },
  {
   "cell_type": "markdown",
   "metadata": {},
   "source": [
    "The first thing we need to do is to download and import the packages we will need during the lecture, and to change the display settings in order to be able to visualise more rows and columns when printing dataframes. Today, we will work a lot with two new python modules called `gensim` and `nltk`. `gensim` is one of the most coimmonly used module for topic modelling in Python, and `nltk` is a NLP Python toolkit."
   ]
  },
  {
   "cell_type": "code",
   "execution_count": null,
   "metadata": {},
   "outputs": [],
   "source": [
    "!pip install gensim nltk"
   ]
  },
  {
   "cell_type": "code",
   "execution_count": 65,
   "metadata": {},
   "outputs": [],
   "source": [
    "import pandas as pd\n",
    "import warnings \n",
    "import gensim\n",
    "import nltk\n",
    "\n",
    "warnings.filterwarnings('ignore')\n",
    "\n",
    "pd.set_option('display.float_format', '{:.2f}'.format)\n",
    "pd.set_option('display.max_colwidth', None)\n",
    "pd.set_option('display.max_columns', 500)"
   ]
  },
  {
   "cell_type": "markdown",
   "metadata": {},
   "source": [
    "Now, let's import the data that we will use during the workshop and let's check them out. As you can see, the dataframe consists of three columns that report the user ids, whether the drug use of participants increased or decreased during the pandemic and the reasons behind this change in format of free text. "
   ]
  },
  {
   "cell_type": "code",
   "execution_count": 24,
   "metadata": {},
   "outputs": [],
   "source": [
    "reasons_for_change_dec2020_more = pd.read_csv(\"Data/Day7_morning.csv\")"
   ]
  },
  {
   "cell_type": "code",
   "execution_count": 25,
   "metadata": {},
   "outputs": [
    {
     "data": {
      "text/html": [
       "<div>\n",
       "<style scoped>\n",
       "    .dataframe tbody tr th:only-of-type {\n",
       "        vertical-align: middle;\n",
       "    }\n",
       "\n",
       "    .dataframe tbody tr th {\n",
       "        vertical-align: top;\n",
       "    }\n",
       "\n",
       "    .dataframe thead th {\n",
       "        text-align: right;\n",
       "    }\n",
       "</style>\n",
       "<table border=\"1\" class=\"dataframe\">\n",
       "  <thead>\n",
       "    <tr style=\"text-align: right;\">\n",
       "      <th></th>\n",
       "      <th>user_id</th>\n",
       "      <th>How has your drug use changed due to the pandemic?</th>\n",
       "      <th>Why has your drug use changed during the pandemic?</th>\n",
       "    </tr>\n",
       "  </thead>\n",
       "  <tbody>\n",
       "    <tr>\n",
       "      <th>0</th>\n",
       "      <td>107cee6d-0024-4861-90be-2f467758776c</td>\n",
       "      <td>I am using more</td>\n",
       "      <td>Increase in marijuana use for relaxation/stress relief</td>\n",
       "    </tr>\n",
       "    <tr>\n",
       "      <th>1</th>\n",
       "      <td>2feae3b8-ea3b-4750-acec-02418f995199</td>\n",
       "      <td>I am using more</td>\n",
       "      <td>Microdosing psilocybin</td>\n",
       "    </tr>\n",
       "    <tr>\n",
       "      <th>2</th>\n",
       "      <td>3a476ba2-6dbb-42d1-b0f5-c877c0f368d8</td>\n",
       "      <td>I am using more</td>\n",
       "      <td>Boredom</td>\n",
       "    </tr>\n",
       "    <tr>\n",
       "      <th>3</th>\n",
       "      <td>3f8b0ac6-200f-49b4-b061-70084536d519</td>\n",
       "      <td>I am using more</td>\n",
       "      <td>I’m bored and have more free time. Also I have found more people that sell shrooms, which is unrelated to the pandemic</td>\n",
       "    </tr>\n",
       "    <tr>\n",
       "      <th>4</th>\n",
       "      <td>4be44530-aeab-4302-bd92-b000b4eae2fb</td>\n",
       "      <td>I am using more</td>\n",
       "      <td>Went to university</td>\n",
       "    </tr>\n",
       "    <tr>\n",
       "      <th>...</th>\n",
       "      <td>...</td>\n",
       "      <td>...</td>\n",
       "      <td>...</td>\n",
       "    </tr>\n",
       "    <tr>\n",
       "      <th>285</th>\n",
       "      <td>6fbf9bf3-1e5a-4fde-98be-6015accde42b</td>\n",
       "      <td>I am using more</td>\n",
       "      <td>boredom</td>\n",
       "    </tr>\n",
       "    <tr>\n",
       "      <th>286</th>\n",
       "      <td>e262433c-094a-4f35-8b6a-0c6689b2185f</td>\n",
       "      <td>I am using more</td>\n",
       "      <td>Boredom</td>\n",
       "    </tr>\n",
       "    <tr>\n",
       "      <th>287</th>\n",
       "      <td>8862877f-c12e-4680-8b7f-04657ae97cbd</td>\n",
       "      <td>I am using more</td>\n",
       "      <td>More time at home</td>\n",
       "    </tr>\n",
       "    <tr>\n",
       "      <th>288</th>\n",
       "      <td>035a1239-932f-4dc2-9ae8-4ccad6e7be08</td>\n",
       "      <td>I am using more</td>\n",
       "      <td>I'm more bored and frightened when I read the news</td>\n",
       "    </tr>\n",
       "    <tr>\n",
       "      <th>289</th>\n",
       "      <td>b277b233-b4b3-4fe0-9b5c-ec6cd26a67d8</td>\n",
       "      <td>I am using more</td>\n",
       "      <td>Spending more time at home.</td>\n",
       "    </tr>\n",
       "  </tbody>\n",
       "</table>\n",
       "<p>290 rows × 3 columns</p>\n",
       "</div>"
      ],
      "text/plain": [
       "                                  user_id  \\\n",
       "0    107cee6d-0024-4861-90be-2f467758776c   \n",
       "1    2feae3b8-ea3b-4750-acec-02418f995199   \n",
       "2    3a476ba2-6dbb-42d1-b0f5-c877c0f368d8   \n",
       "3    3f8b0ac6-200f-49b4-b061-70084536d519   \n",
       "4    4be44530-aeab-4302-bd92-b000b4eae2fb   \n",
       "..                                    ...   \n",
       "285  6fbf9bf3-1e5a-4fde-98be-6015accde42b   \n",
       "286  e262433c-094a-4f35-8b6a-0c6689b2185f   \n",
       "287  8862877f-c12e-4680-8b7f-04657ae97cbd   \n",
       "288  035a1239-932f-4dc2-9ae8-4ccad6e7be08   \n",
       "289  b277b233-b4b3-4fe0-9b5c-ec6cd26a67d8   \n",
       "\n",
       "    How has your drug use changed due to the pandemic?  \\\n",
       "0                                      I am using more   \n",
       "1                                      I am using more   \n",
       "2                                      I am using more   \n",
       "3                                      I am using more   \n",
       "4                                      I am using more   \n",
       "..                                                 ...   \n",
       "285                                    I am using more   \n",
       "286                                    I am using more   \n",
       "287                                    I am using more   \n",
       "288                                    I am using more   \n",
       "289                                    I am using more   \n",
       "\n",
       "                                                                         Why has your drug use changed during the pandemic?  \n",
       "0                                                                    Increase in marijuana use for relaxation/stress relief  \n",
       "1                                                                                                   Microdosing psilocybin   \n",
       "2                                                                                                                   Boredom  \n",
       "3    I’m bored and have more free time. Also I have found more people that sell shrooms, which is unrelated to the pandemic  \n",
       "4                                                                                                       Went to university   \n",
       "..                                                                                                                      ...  \n",
       "285                                                                                                                 boredom  \n",
       "286                                                                                                                Boredom   \n",
       "287                                                                                                       More time at home  \n",
       "288                                                                      I'm more bored and frightened when I read the news  \n",
       "289                                                                                            Spending more time at home.   \n",
       "\n",
       "[290 rows x 3 columns]"
      ]
     },
     "execution_count": 25,
     "metadata": {},
     "output_type": "execute_result"
    }
   ],
   "source": [
    "reasons_for_change_dec2020_more"
   ]
  },
  {
   "cell_type": "markdown",
   "metadata": {},
   "source": [
    "\n",
    "---------\n",
    "### Code here\n",
    "The column names of the dataframes are quite long and the row names are not really easy to interpret. \n",
    "\n",
    "1. Replace the column headers with the names \"how\" and \"why\" respectively for \"How has your drug use changed due to the pandemic?\" and \"Why has your drug use changed during the pandemic?\". \n",
    "2. Set the user ids as row index\n",
    "3. Since we are analysing only the participants, the \"how\" column should have only \"I am using more\" answers, check that it is the case.\n",
    "4. Confirm that there are no missing values"
   ]
  },
  {
   "cell_type": "code",
   "execution_count": 31,
   "metadata": {},
   "outputs": [],
   "source": [
    "## CODE HERE\n",
    "reasons_for_change_dec2020_more.rename(columns = {\"Why has your drug use changed during the pandemic?\": \"why\"}, inplace = True)"
   ]
  },
  {
   "cell_type": "markdown",
   "metadata": {},
   "source": [
    "--------\n",
    "Now that we have a better looking dataframe, let's check out the answers in the *why* column."
   ]
  },
  {
   "cell_type": "code",
   "execution_count": 32,
   "metadata": {},
   "outputs": [
    {
     "data": {
      "text/plain": [
       "['Increase in marijuana use for relaxation/stress relief',\n",
       " 'Microdosing psilocybin ',\n",
       " 'Boredom',\n",
       " 'I’m bored and have more free time. Also I have found more people that sell shrooms, which is unrelated to the pandemic',\n",
       " 'Went to university ',\n",
       " 'To soothe my anxiety ',\n",
       " 'Creative thinking, stress management.',\n",
       " 'Am at home a lot more and I like the way cannabis makes me feel',\n",
       " 'Entertainment',\n",
       " 'Pressure from people',\n",
       " 'Fewer events, makes for a more exciting evening',\n",
       " 'Depression, loneliness, feeling of feeling empty, a void something missing, split with a partner out the blue. ',\n",
       " 'More time spent being bored and at a loss of how to pass the time. Also, feeling low and taking recreational drugs to try and feel better',\n",
       " 'smoking weed cures boredom ',\n",
       " \"Boredom/accessibility/situational. I have done E twice during this period, separated by around 3 months, and ket twice, separated by about 4 months, so I'm not concerned about restricting myself, or doing so to excess.\",\n",
       " 'Anxiety, hopelessness, boredom',\n",
       " \"Student living in student halls from September - December, tried drugs with flatmates who use for a bit of fun/because I was curious. Was something to do since we couldn't go out to clubs. \",\n",
       " 'for fun and boredom  ',\n",
       " 'Boredom (weed only)',\n",
       " 'Change of routine ',\n",
       " 'As a means to occupy and escape myself ',\n",
       " 'Bored',\n",
       " 'Went to uni',\n",
       " 'StartingUniversity ',\n",
       " 'Sad',\n",
       " \"Can't go out and drink \",\n",
       " 'I am unemployed and bored',\n",
       " 'University',\n",
       " 'Better than drinking',\n",
       " 'Just made bad decisions',\n",
       " 'Smoking more cannabis ',\n",
       " 'much more weed',\n",
       " 'staying more at home on my own',\n",
       " 'Boredem',\n",
       " 'Boredom and loneliness ',\n",
       " 'I have a lot more spare time.',\n",
       " 'Due to boredom. I’m bored of sitting in my uni house just drinking with my housemates with nothing else to do. Using drugs gives me something different and exciting to make my nights more fun seen as I can’t go out. I have also used Jermaine and cannabis for stress relief occasionally as I am in my final year of university which is increasingly difficult and stressful in the middle of a pandemic ',\n",
       " 'Nothing else to do',\n",
       " 'Smoking weed every day',\n",
       " 'curiosity, boredom, distration',\n",
       " \"Something to do with friends as there are less things we're able to do together now, also a way of relaxing\",\n",
       " 'Started university',\n",
       " 'More time on my own, stress/anxiety increased, sometimes boredom, to try to help me sleep.',\n",
       " 'moved to university ',\n",
       " \"haven't used for 10 years until pandemic, mid way through started to use on an occasional basis.\",\n",
       " 'boredom',\n",
       " \"Cannabis calms me when I've been alone too much\",\n",
       " 'More time at home',\n",
       " 'More time on my hands live on my own',\n",
       " 'Bored',\n",
       " 'More time at home, less time travelling, not having to drive',\n",
       " 'I used to drink heavily (100+ units/week) but have overcome the problem. The problem is I essentially replaced it with cannabis, and I think lockdown, as it affected my mental state significantly, has made me more likely to want to use cannabis to relax and escape from problems',\n",
       " 'Stress and boredom ',\n",
       " 'furlough',\n",
       " \"I've been trying to live less rigidly.\",\n",
       " 'Boredom ',\n",
       " 'i guess i just got bored and didn’t have much else to do which got me in a bad mental state  ',\n",
       " \"I tend to smoke more cannabis in the evening because I don't have to get up for work in the morning.\",\n",
       " 'Calms me down ',\n",
       " 'Looking for fun things to do',\n",
       " 'More time at home, alone.',\n",
       " 'Boredom I guess',\n",
       " 'only because a friend bought me an ounce of weed, I usually only buy weed 2 or 3 times a year',\n",
       " 'lack of alternative things to do, feeling trapped and isolated at home and having decision/distraction fatigue, making it easier to just kill a few hours outside work without having to decide anything or overcome my other mental issues that make it difficult',\n",
       " 'Boredom',\n",
       " 'Something to do',\n",
       " 'Smoking a lot more weed',\n",
       " '?',\n",
       " 'nothing else to do once home from work',\n",
       " 'Boredom. ',\n",
       " 'Less routine. ',\n",
       " 'boredom',\n",
       " 'free time & needed a mental reset ',\n",
       " 'stressed',\n",
       " 'We have more disposable income and cannabis has helped with stress and anxiety',\n",
       " 'Difficulty sleeping Difficulty doing my job- little motivation',\n",
       " 'Help sleep',\n",
       " 'not because of the pandemic, because i live with a crazy women who threatens to throw me out the window. its fun times',\n",
       " 'Loss of family members',\n",
       " 'Increased largely because of boredom and solitude. Lack of things to do when you lack company and other public amenities.',\n",
       " 'I was in the place where cannabis was legal and enjoyed occasional edible once in a while (baked by other people in my household) instead of a less healthy glass of wine or g&t.',\n",
       " 'Depression',\n",
       " 'Smoking more cannabis',\n",
       " 'Boredom, ',\n",
       " 'boredom',\n",
       " 'Boredom',\n",
       " 'Helps me clear my thoughts and relax ',\n",
       " 'Less activities to do More pressure at house parties',\n",
       " 'Less opportunity to do other things. Plus, we’re experimenting with things to try and help my wife’s depression/anxiety.',\n",
       " 'Me and my partner just tried some cannabis on summer holiday in July. A handful of times',\n",
       " 'I smoke more often, ever since starting therapy a few months ago',\n",
       " 'Isolation, fatigue and anguish',\n",
       " 'Staying in more rather than getting drunk and going out',\n",
       " 'The lack of things to do and boredom has caused me and many people I know to take more drugs in order to create some sort of excitement or has given us more time to be experiemntal',\n",
       " 'Met someone new',\n",
       " 'bored',\n",
       " 'It puts me in a better frame of mind to deal with the stress of confinement and limited choices of entertainment, and limited social activities',\n",
       " '..',\n",
       " 'Boredom',\n",
       " \"Boredom during first lockdown, something to do a couldn't go out\",\n",
       " 'Boredom, depression ',\n",
       " \"Don't usually buy for home use but have had some in the house and had one spliff every 1-2 days to help with sleep over the last month\",\n",
       " 'More time?',\n",
       " 'I smoke more cannabis due to boredom and an attempt to regulate my emotional state. I’m using less cocaine and MDMA',\n",
       " 'calming ',\n",
       " 'Went to uni ',\n",
       " 'Only been spending time with housemates(who are regular users).',\n",
       " 'Less stuff to do so more time to try more weed',\n",
       " 'N/a ',\n",
       " 'Boredom',\n",
       " 'Taken cannabis edibles 2-3 times during lockdown.',\n",
       " 'It was unavailable initially during the pandemic for months, then it became available and I made the most of it',\n",
       " 'more time spent with like-minded friends',\n",
       " 'sleep',\n",
       " 'boredom',\n",
       " 'Boredom, one of few activities able to do with friends ',\n",
       " ' Lack of variety in cultural and social activities ',\n",
       " 'More free time',\n",
       " \"It's something to do in the evenings\",\n",
       " 'Boredom',\n",
       " 'Stress',\n",
       " 'Boredom',\n",
       " 'To elevate boredom',\n",
       " 'No chance of getting tested',\n",
       " \"Because I haven't been able to go out to bars and pubs and dance so I get drunk at home with my friends and the only way to make it more fun is by taking drugs. It makes the monotonous days more fun, changes it up a bit. \",\n",
       " \"It's not really linked to the pandemic. During lockdown, I quit smoking all together. (Was lockdown in Belgium). Upon my return to Paris, I started smoking again, and with lockdown, smoking more to be  hazy  all the time.\",\n",
       " 'More time alone, so more time for recreational smoke',\n",
       " 'Unsure. Boredom, escapism, need a release. No other outlet for pent up energy after a tough week at work. General nihilism ',\n",
       " 'Boredom, frustration, and a lack of responsibilities.',\n",
       " 'I decided to try cannabis for the first time - used it twice and never again',\n",
       " 'because of boredom',\n",
       " \"I think it's a coincidence. It's something I wanted to try for a long time in a safe and controlled way and now that I am older, I think it's the right time to enjoy recreational drugs.\",\n",
       " 'A lot of free time at home.',\n",
       " 'Changing interest in exploring my mind. Living with different people. ',\n",
       " 'Better sleep',\n",
       " 'Stress',\n",
       " 'x',\n",
       " 'Higher use of opiates to numb feelings',\n",
       " 'anxiety',\n",
       " 'boredom and loneliness and stress from being  a  key worker , in a high risk setting during pandemic/lockdowns.',\n",
       " 'Circumstantial factors like living with someone that was a more frequent cannabis user',\n",
       " 'Boyfriend smokes it',\n",
       " '50',\n",
       " 'Need to unwind',\n",
       " 'I have been feeling anxious and use cannabis because of its anxiolytic properties. ',\n",
       " \"more opportunities when hanging out with housemates, also more comfortable with drug use as I feel like I'm in a safe environment since we have to stay at home\",\n",
       " 'Something else to do ',\n",
       " 'Moved to student house with house mates who smoke. Was bored and curious one night so decided to try smoking weed.',\n",
       " 'recreational use once a week',\n",
       " 'to help me relax',\n",
       " 'Boredom, availability/opportunity, stress',\n",
       " 'Helps to relax, I work in healthcare and I find it to be a much better, safer alternative (cannabis only) than drinking',\n",
       " 'Boredom ',\n",
       " 'Boredom,stress ',\n",
       " 'more time at home. ',\n",
       " 'Easier access as my new partner uses cannabis regularly',\n",
       " 'Boredom over xmas holidays.',\n",
       " 'I get to be alone more often so more opportunities to do so',\n",
       " 'boredom, there is less I can do that would normally take up that time.',\n",
       " 'more likely to socialise via drinking/ smoking than doing activities with my friends (because activities are closed)',\n",
       " 'Boredom and anxiety, plus not having to stay sober in order to drive places and undertake outside activities.  A little weed makes being inside with restricted activities a lot more enjoyable.  ',\n",
       " 'Stuck at home more',\n",
       " \"In a new environment now where it is more common around me as I moved house. Also as we're going out less and home is a safe environment so it both feels less risky and is a bit more interesting than just drinking at home\",\n",
       " 'I live in the Netherlands now',\n",
       " 'it is only slightly more canabis use..due to more free time and less responsibilities. ',\n",
       " 'Not having to drive anywhere',\n",
       " 'Taking more, although still consuming as safely as possible ',\n",
       " \"Now that I don't even have a chance show my face on the campus, I don't have any societal reasons to be sober.\",\n",
       " 'Bored ',\n",
       " 'To counter increased pain caused by .cancelled hip replacement operation',\n",
       " \"I use psilocybin as a microdose therapy rather than using conventional SSRIs as it is singularly more effective.  I alkso find that it is longer lasting with no side effects, unloke SSRIs.  Low THC cannabis I find helpful for my insomnia, as it helps me to relax and so am able to sleep.    I do not use either of these drugs 'recreationally' but therapeutically.\",\n",
       " \"I am using more because in the place of going out and seeing friends or going on a night out, it's something fun to do.\",\n",
       " 'Nothing to do. ',\n",
       " 'Boredom and anxiety relief',\n",
       " 'At home more due to lockdown',\n",
       " 'I wanted to try psychoactive substances for once in my life',\n",
       " 'using to relieve nerve pain that has become much worse during pandemic',\n",
       " 'stops negative thoughts, keeps me more on a level',\n",
       " 'Boredom, inability to go to the pubs for a drink has meant looking for a quick release with mates has ended up being drug use at home. They have all been safe experiences with same group of housemates.',\n",
       " 'Smoked more cannabis due to an increase in boredom but have not taken other recreational drugs',\n",
       " 'boredom',\n",
       " 'I have used an opiate-based painkiller in order to sleep - sleep has been badly affected by the pandemic',\n",
       " 'Something to do in the evenings. Mild and infrequent smoking cannabis',\n",
       " 'I sought a means to relax and distract myself.',\n",
       " \"I smoke a bit of weed now, I didn't used to. Only a couple of times a week, but to be honest it's probably because I'm swapping drinking beer for smoking weed a couple of days a week. \",\n",
       " 'Nothing to do and I was able to find a way to still get cannabis despite lockdowns.',\n",
       " 'Bored mostly ',\n",
       " 'more time at home, only use cannabis now',\n",
       " 'Boredom ',\n",
       " 'Nothing else to do, lack of physical distractions (seeing friends)',\n",
       " 'Boredom',\n",
       " 'Dodgy knee stopped me running the last month and I smoke weed when not running. When the knee is rested, I’ll start running again and stop smoking.',\n",
       " 'Looking for hope, or feeling, or anything other than nothingness.',\n",
       " 'Sad',\n",
       " 'for the experience',\n",
       " 'Because it keeps me off the alcohol',\n",
       " 'Helps me fall asleep on the nights when I actually thought the world might be ending.',\n",
       " 'using CBD cream with THC for pain',\n",
       " 'To drink less alcohol ',\n",
       " 'More time',\n",
       " 'boredom, moved to uni',\n",
       " 'To help sleep properly ',\n",
       " 'Boredom, low stakes because no responsibilities',\n",
       " ' ',\n",
       " 'Due to restrictions I find myself alone so I turn to cannabis to block out my feelings of despair',\n",
       " 'Relaxation ',\n",
       " \"The people I've been bubbled with took more drugs and so I had greater access to them and greater social normatively. Plus, I went through period of bad mental health where I took acid once a week to try to get my brain to quiet down with its habitual thought processes. I went through the same situation with xanax.\",\n",
       " 'At home more often',\n",
       " 'Slight increased access',\n",
       " 'I now smoke cannabis more often',\n",
       " 'My friend was able to supply me',\n",
       " 'I had never smoked before the pandemic, now I do it once every couple of months',\n",
       " 'Because I use it as an unhealthy coping mechanism.',\n",
       " 'To combat negative feelings. I only ever used to smoke cannabis socially but found myself doing it weekly on my own.',\n",
       " 'Lockdown, with a sick 91 year old to look after',\n",
       " 'Low self esteem',\n",
       " 'Due to my ADHD I need something to do otherwise my mind can race and cause myself distress, I use Cannabis to slow my thoughts down and relax',\n",
       " 'Boredom and nothing else to do',\n",
       " \"I wouldn't say I have produced a reliability on these drugs. I would say more opportunities have arrised over the pandemic and, of course, many activites have been paused which has perhaps led to testing of different substances for enjoyment and entertainment.\",\n",
       " 'More free time, don’t have to go to work the next day.',\n",
       " 'I have more money as I am not going out',\n",
       " 'I stopped drinking alcohol and started smoking cannabis',\n",
       " 'Boredom',\n",
       " 'New.partner smokes',\n",
       " 'Trying Cannabis to see if it helps with headaches. So far, no.',\n",
       " 'Escape reality',\n",
       " 'smoked weed over the summer. ',\n",
       " 'boredom',\n",
       " 'I started during the pandemic.',\n",
       " \"I have been using more marijuana during the pandemic due to boredom and isolation.  I haven't been doing other drugs, as I only do those while camping with friends. \",\n",
       " 'Likely a combination of isolation and changes in family circumstances',\n",
       " 'ss ',\n",
       " \"there isn't much else to do in a small town\",\n",
       " 'Help to get to sleep Boredom Nobody around to stop me No reason to stay straight as nowhere to go',\n",
       " 'Got a new boyfriend who gave me some weed once ',\n",
       " 'More time on hands',\n",
       " 'Stress, can’t sleep and it helps me sleep.',\n",
       " \"fewer entertainment options (i.e. can't go out and see people, go for a meal, go to the cinema/theatre), so just an extra form of at-home entertainment\",\n",
       " 'I made a new friend who provided for me.',\n",
       " 'Something to do due to boredom and wanted to experience the sensation but I had a bad experience',\n",
       " 'Boredom',\n",
       " 'Increased time at home',\n",
       " 'Boredom. Need to chill / relax',\n",
       " 'Got back into weed, for shits and giggles',\n",
       " 'Boredom',\n",
       " '.',\n",
       " 'My anxiety is much greater than before, and I am finding it more and more difficult to relax- this is a quick win that I know will relax me and take a little weight off my shoulders for an evening. Its a relief. ',\n",
       " 'Boredom, increased pain ',\n",
       " 'Less travelling / commute',\n",
       " 'Boredom & lack of places to go / people to socialise with.',\n",
       " 'I have cancer and I use CBD oil for my condition. I use more because I am using the oil both orally and as a suppository.',\n",
       " 'Stress',\n",
       " 'I’ve been more stressed so it’s mainly a stress relief and a way to sleep. I have also been bored and have kind of used it to fill my time in the evenings.',\n",
       " 'More because I fancied trying them after I retired.  Covid was just coincidental with retiring in Feb 2020.....!',\n",
       " 'less to do and enjoy taking cocaine',\n",
       " 'Boredom and I have terrible insomnia which I did not have before the pandemic.',\n",
       " \"I did dry January at the start of 2020 and when lockdown occurred I essentially replaced my alcohol reliance with a cannabis reliance. Normally I'd be able to reduce my cannabis consumption but due to lockdowns I have really struggled. There's little else to do.\",\n",
       " 'I have smoked more cannabis but have used all other drugs far less. I think my increased cannabis use is partly due to boredom but mainly to relieve stress from university work and dealing with the incredible lack of support and allowances provided to university students throughout the pandemic.',\n",
       " 'to relax and release tension and stress from everyday life',\n",
       " 'Living alone, more time at home, moderated and sensible use seems to have positive therapeutic effects.',\n",
       " 'Better off financially & can afford a treat more often.',\n",
       " 'Boredom Nothing to do No Hope of any change soon',\n",
       " 'Through hookups',\n",
       " 'Nothing to do',\n",
       " 'Boredom - less to do, not able to go out',\n",
       " 'Boredom',\n",
       " 'Not much else to do ',\n",
       " 'I enjoy smoking cannabis and playing computer games, spending more time on the games made the smoking more appealing.',\n",
       " \"Because I hadn't had anything for 15 years and over lockdown I had a very small amount.\",\n",
       " 'It is legal where I live and it is something to do to alleviate boredom',\n",
       " \"Alcohol is my drug and I'm probably having a drink most days with food to try and break up the boredom\",\n",
       " 'Stress relief.To escape the daily bad news',\n",
       " 'a vague semblence of routine, smoking in the evenings to make the day go a little bit quicker',\n",
       " 'Bordem',\n",
       " \"Boredom. I used to only smoke cannabis in the evening to aid sleep, now I notice I'm starting to smoke late afternoon, just because I'm bored.\",\n",
       " \"Now I'm single\",\n",
       " 'Fewer alternative activities',\n",
       " 'To mentally cope with lockdown.',\n",
       " 'Boredom but stopped.now',\n",
       " 'I was a very occasional smoker of cannabis before, only in group situations where it was being shared. Now I smoke a few times a month.',\n",
       " 'Cannabis makes everything more interesting and it is impossible to be bored',\n",
       " '/',\n",
       " 'boredom and insomnia, depression and anxiety all increased and drug use helped with that',\n",
       " 'cannabis for anxiety',\n",
       " \"I enjoy an evening in more if I am smoking. If I am going out to meet people, perhaps they don't share my like for cannabis or it is not the right setting.\",\n",
       " 'boredom',\n",
       " 'Boredom ',\n",
       " 'More time at home',\n",
       " \"I'm more bored and frightened when I read the news\",\n",
       " 'Spending more time at home. ']"
      ]
     },
     "execution_count": 32,
     "metadata": {},
     "output_type": "execute_result"
    }
   ],
   "source": [
    "reasons_for_change_dec2020_more['why'].to_list()"
   ]
  },
  {
   "cell_type": "markdown",
   "metadata": {},
   "source": [
    " By quickly looking at the answers, it appears that one of the main reasons for starting to use more drugs during the pandemic was *boredom*. However, different people express the same concept in slightly different ways. Let's print a few answers. "
   ]
  },
  {
   "cell_type": "code",
   "execution_count": 33,
   "metadata": {},
   "outputs": [
    {
     "name": "stdout",
     "output_type": "stream",
     "text": [
      "I’m bored and have more free time. Also I have found more people that sell shrooms, which is unrelated to the pandemic \n",
      " Boredom/accessibility/situational. I have done E twice during this period, separated by around 3 months, and ket twice, separated by about 4 months, so I'm not concerned about restricting myself, or doing so to excess. \n",
      " Boredom and loneliness \n"
     ]
    }
   ],
   "source": [
    "print(reasons_for_change_dec2020_more['why'][3], \"\\n\",\n",
    "      reasons_for_change_dec2020_more['why'][14],\"\\n\",\n",
    "      reasons_for_change_dec2020_more['why'][34]\n",
    "     )"
   ]
  },
  {
   "cell_type": "markdown",
   "metadata": {},
   "source": [
    "If you look more carefully, you will notice a few other things: 1) some people wrote boredom with or without capital letters, 2) some answers have empty spaces, 3) other answers have special characters, 4) some words are spelled incorrectly... All these aspects are just few examples of the noise that free text answers have, and that need to be removed before starting any analysis. The data cleaning step in free text analysis is **fundamental**!\n"
   ]
  },
  {
   "cell_type": "code",
   "execution_count": 37,
   "metadata": {},
   "outputs": [
    {
     "name": "stdout",
     "output_type": "stream",
     "text": [
      "boredom \n",
      " Boredom  \n",
      " / \n",
      " Boredom but stopped.now \n",
      " Bordem \n",
      "\n"
     ]
    }
   ],
   "source": [
    "print(reasons_for_change_dec2020_more['why'][285], \"\\n\",\n",
    "      reasons_for_change_dec2020_more['why'][286],\"\\n\",\n",
    "      reasons_for_change_dec2020_more['why'][281], \"\\n\",\n",
    "      reasons_for_change_dec2020_more['why'][278], \"\\n\",\n",
    "      reasons_for_change_dec2020_more['why'][273], \"\\n\",\n",
    "     )"
   ]
  },
  {
   "cell_type": "markdown",
   "metadata": {},
   "source": [
    "\n",
    "Data cleaning is necessary to remove errors in the data, and reduce to the minimum the noise in order to include in the analysis only what is essential. The most important data cleaning steps of free text data are the following:\n",
    "\n",
    "1. **Turning all letters to lower case:** this is important otherwise words with capital letters will be mistakenly be recognised as different compared to the same words without capital letters (e.g This and this).\n",
    "2. **Removal of punctuation, special characters and digits**: punctuation creates noise in the data. It cannot be used to make sense of the meaning of a topic because it does not represent words and computer don't know how to interpret it.\n",
    "3. **Tokenization**: method that consists of separating a piece of text (in this case the answers of each participants) into smaller linguistic units called tokens (in this case words). \n",
    "4. **Stop words removal**: method that consists in removing words that are really common in english, but don't provide much information, such as \"to\", \"in\" or \"when. These words just create noise in the data."
   ]
  },
  {
   "cell_type": "markdown",
   "metadata": {},
   "source": [
    "Let's complete these cleaning steps. First, we will turn everything to lower case. "
   ]
  },
  {
   "cell_type": "code",
   "execution_count": 40,
   "metadata": {},
   "outputs": [],
   "source": [
    "reasons_for_change_dec2020_more['why'] = reasons_for_change_dec2020_more['why'].str.lower() "
   ]
  },
  {
   "cell_type": "markdown",
   "metadata": {},
   "source": [
    "Then, we remove all punctuations (e.g. *,* or *.*), special characters (e.g. *?,/* and *&*) and digits."
   ]
  },
  {
   "cell_type": "code",
   "execution_count": 48,
   "metadata": {},
   "outputs": [],
   "source": [
    "reasons_for_change_dec2020_more['why'] = reasons_for_change_dec2020_more['why'].str.replace('[,\\.!?/&]', '')\n",
    "reasons_for_change_dec2020_more['why'] = reasons_for_change_dec2020_more['why'].str.replace('\\d+', '')"
   ]
  },
  {
   "cell_type": "markdown",
   "metadata": {},
   "source": [
    "Now, let's save the free text data into a separate variable, and let's check it out. Were all digits, punctuations, and special characters removed?"
   ]
  },
  {
   "cell_type": "code",
   "execution_count": null,
   "metadata": {},
   "outputs": [],
   "source": [
    "data = reasons_for_change_dec2020_more['why'].to_list()\n",
    "data"
   ]
  },
  {
   "cell_type": "markdown",
   "metadata": {},
   "source": [
    "The next step of the data cleaning and preparation is **tokenization**. Tokenization is necessary to make the sentences analysable and understandable for the computer, and consists of splitting each answer of participants into lists of individual words. There is a function in the gensim package that can do this directly, by taking as input each separate answer, called `simple_preprocess`. By providing as argument `deacc=True`, the function removes punctuations if it finds any. "
   ]
  },
  {
   "cell_type": "code",
   "execution_count": 61,
   "metadata": {},
   "outputs": [
    {
     "data": {
      "text/plain": [
       "['fewer', 'events', 'makes', 'for', 'more', 'exciting', 'evening']"
      ]
     },
     "execution_count": 61,
     "metadata": {},
     "output_type": "execute_result"
    }
   ],
   "source": [
    "data_words = []\n",
    "for sentence in data:\n",
    "    listwords = gensim.utils.simple_preprocess(str(sentence), deacc=True)\n",
    "    data_words.append(listwords)\n",
    "    \n",
    "data_words[10]   "
   ]
  },
  {
   "cell_type": "markdown",
   "metadata": {},
   "source": [
    "Check different elements in the *data_words* list. Do yo understand how tokenization works?"
   ]
  },
  {
   "cell_type": "markdown",
   "metadata": {},
   "source": [
    "Now that we have the answers in terms of lists of words, we can do some cleaning on the words themselves. The first thing we are going to do is to remove the stop words, or commonly used words in the english language. Luckily, the *nltk* module has alredy a list lf"
   ]
  },
  {
   "cell_type": "code",
   "execution_count": 71,
   "metadata": {},
   "outputs": [
    {
     "name": "stdout",
     "output_type": "stream",
     "text": [
      "['i', 'me', 'my', 'myself', 'we', 'our', 'ours', 'ourselves', 'you', \"you're\", \"you've\", \"you'll\", \"you'd\", 'your', 'yours', 'yourself', 'yourselves', 'he', 'him', 'his', 'himself', 'she', \"she's\", 'her', 'hers', 'herself', 'it', \"it's\", 'its', 'itself', 'they', 'them', 'their', 'theirs', 'themselves', 'what', 'which', 'who', 'whom', 'this', 'that', \"that'll\", 'these', 'those', 'am', 'is', 'are', 'was', 'were', 'be', 'been', 'being', 'have', 'has', 'had', 'having', 'do', 'does', 'did', 'doing', 'a', 'an', 'the', 'and', 'but', 'if', 'or', 'because', 'as', 'until', 'while', 'of', 'at', 'by', 'for', 'with', 'about', 'against', 'between', 'into', 'through', 'during', 'before', 'after', 'above', 'below', 'to', 'from', 'up', 'down', 'in', 'out', 'on', 'off', 'over', 'under', 'again', 'further', 'then', 'once', 'here', 'there', 'when', 'where', 'why', 'how', 'all', 'any', 'both', 'each', 'few', 'more', 'most', 'other', 'some', 'such', 'no', 'nor', 'not', 'only', 'own', 'same', 'so', 'than', 'too', 'very', 's', 't', 'can', 'will', 'just', 'don', \"don't\", 'should', \"should've\", 'now', 'd', 'll', 'm', 'o', 're', 've', 'y', 'ain', 'aren', \"aren't\", 'couldn', \"couldn't\", 'didn', \"didn't\", 'doesn', \"doesn't\", 'hadn', \"hadn't\", 'hasn', \"hasn't\", 'haven', \"haven't\", 'isn', \"isn't\", 'ma', 'mightn', \"mightn't\", 'mustn', \"mustn't\", 'needn', \"needn't\", 'shan', \"shan't\", 'shouldn', \"shouldn't\", 'wasn', \"wasn't\", 'weren', \"weren't\", 'won', \"won't\", 'wouldn', \"wouldn't\"]\n"
     ]
    },
    {
     "name": "stderr",
     "output_type": "stream",
     "text": [
      "[nltk_data] Downloading package stopwords to\n",
      "[nltk_data]     /Users/valentinagiunchiglia/nltk_data...\n",
      "[nltk_data]   Package stopwords is already up-to-date!\n"
     ]
    }
   ],
   "source": [
    "nltk.download('stopwords')\n",
    "stop = nltk.corpus.stopwords.words('english') \n",
    "print(stop)"
   ]
  },
  {
   "cell_type": "code",
   "execution_count": 262,
   "metadata": {},
   "outputs": [
    {
     "name": "stderr",
     "output_type": "stream",
     "text": [
      "[nltk_data] Downloading package stopwords to /Users/emsky/nltk_data...\n",
      "[nltk_data]   Package stopwords is already up-to-date!\n"
     ]
    }
   ],
   "source": [
    "\n",
    "#REMOVE STOPWORDS. words like 'to', 'in', 'when' are considered stop words and are too frequent in english language. including these would add noise to our data.\n",
    "stop = stopwords.words('english') #import the stop word dictionary\n",
    "custom_stop = ['pizza','goes','with','pineapple'] #always a good idea to add extra filters for words not included so you can narrow down the bag of words even more\n",
    "\n",
    "stop_all=stop+custom_stop    \n",
    "def remove_stopwords(texts):\n",
    "    return [[word for word in simple_preprocess(str(doc)) if word not in stop_all] for doc in texts]\n",
    "\n",
    "data_words = remove_stopwords(data_words)\n",
    "\n",
    "#LEMMATIZATION. this is perhaps the most important step. to reduce the dimensionality of data, lematization turns each word to its dictionary infinitive form.\n",
    "#so words like \"swim\", \"swam\", and \"swum\" would all be converted to \"swim\"\n",
    "lemma = WordNetLemmatizer() #import the lemmatizer function\n",
    "\n",
    "lematized = [[lemma.lemmatize(word) for word in data_words_list] for data_words_list in data_words]\n",
    "\n",
    "#remove empty lists\n",
    "\n",
    "complete = [x for x in lematized  if x]\n",
    "\n",
    "reasons_for_change_dec2020_more_cleaned=complete"
   ]
  },
  {
   "cell_type": "code",
   "execution_count": 263,
   "metadata": {},
   "outputs": [],
   "source": [
    "#identify optimal topics using LDA\n",
    "\n",
    "\n",
    "\n",
    "#coherence of topics with no held out set\n",
    "#Construct df\n",
    "\n",
    "from time import time\n",
    "import gensim\n",
    "import gensim.corpora as corpora\n",
    "from gensim.models import CoherenceModel\n",
    "from sklearn.model_selection import ShuffleSplit\n",
    "from sklearn.model_selection import train_test_split\n",
    "import tmtoolkit\n",
    "import numpy\n",
    "import itertools\n",
    "import logging\n",
    "\n",
    "\n",
    "# Topics range - defining the number of topics that we are going to trial to see which one would work as the optimal split\n",
    "min_topics = 1\n",
    "max_topics = 10\n",
    "step_size = 1\n",
    "topics_range = range(min_topics, max_topics, step_size)\n",
    "\n",
    "#create the dataframe where the results will be stored\n",
    "results = {'Topics': [], \"cv_Coherence_avg\": []}\n",
    "    \n",
    "       \n",
    "# Create Dictionary\n",
    "id2word = corpora.Dictionary(reasons_for_change_dec2020_more_cleaned)\n",
    "\n",
    "# Create Corpus\n",
    "texts = reasons_for_change_dec2020_more_cleaned\n",
    "\n",
    "# Term Document Frequency\n",
    "corpus = [id2word.doc2bow(text) for text in texts]\n",
    "    \n",
    "for i in topics_range:\n",
    "    n_topics = i\n",
    "\n",
    "    #this is the LDA function. this will act as a multithreaded engine that will split the data into a given number of topics. \n",
    "    #The word ‘Latent’ indicates that the model discovers the ‘yet-to-be-found’ or hidden topics from the documents. \n",
    "    #‘Dirichlet’ indicates LDA’s two assumptions of LDA - that both the distribution of topics withinin a document \n",
    "    #and the distribution of words within each topic are Dirichlet distributions. \n",
    "    #‘Allocation’ indicates the distribution of topics in the document.\n",
    "\n",
    "    #LDA assumes that the words within a document can be used determine the topics. \n",
    "    #LDA assigns each word in a document to different topic, then maps the entire document to a list of topics.\n",
    "    #Put another way, LDA computes a many-to-many relationship between topics and words, and thus a many-to-many relationship between documents and topics.\n",
    "    \n",
    "    lda_model = gensim.models.ldamulticore.LdaMulticore(corpus=corpus,\n",
    "                                                        id2word=id2word,\n",
    "                                                        num_topics=n_topics, \n",
    "                                                        random_state=100,\n",
    "                                                        chunksize=100,\n",
    "                                                        passes=50,\n",
    "                                                        workers=20,\n",
    "                                                        iterations=150,\n",
    "                                                        minimum_probability=0)\n",
    "                                                                 \n",
    "\n",
    "    #here we are going to calculate a coherence metric (c_v coherence, which has been shown to be most close to what a human judges as a coherent split)\n",
    "    #in order to ascertain whether a certain topic split gives rise to coherent topics\n",
    "    #this is a mathematical metric that quantifies how words co-occur together in a given topic to ascertain how coherent that topic is\n",
    "    cv_coherence_model_lda = CoherenceModel(model=lda_model, texts=texts, dictionary=id2word, coherence='c_v')\n",
    "    cv_coherence_total = cv_coherence_model_lda.get_coherence()\n",
    "            \n",
    "    #here we are going to append our resuls to the dataframe we created initially  \n",
    "    results['Topics'].append(i)\n",
    "    results['cv_Coherence_avg'].append(cv_coherence_total)\n",
    "        \n",
    "\n"
   ]
  },
  {
   "cell_type": "code",
   "execution_count": 264,
   "metadata": {},
   "outputs": [
    {
     "data": {
      "text/plain": [
       "<AxesSubplot:xlabel='Topics', ylabel='cv_Coherence_avg'>"
      ]
     },
     "execution_count": 264,
     "metadata": {},
     "output_type": "execute_result"
    },
    {
     "data": {
      "image/png": "[encoded data removed]",
      "text/plain": [
       "<Figure size 432x288 with 1 Axes>"
      ]
     },
     "metadata": {
      "needs_background": "light"
     },
     "output_type": "display_data"
    }
   ],
   "source": [
    "#this graph will illustrate where the highest coherence is. the peak represents the optimal number of topics for this data.\n",
    "#mind that this data is neither complete, nor is the LDA function calibrated for you to identify the peak coherence easily.\n",
    "#these processes take time and trial and error. \n",
    "#have a play with different chunksizes, passes and iterations - can you now run the function and identify a peak?\n",
    "\n",
    "sns.lineplot(x='Topics', y='cv_Coherence_avg', data=pd.DataFrame(results))"
   ]
  },
  {
   "cell_type": "code",
   "execution_count": 265,
   "metadata": {},
   "outputs": [
    {
     "data": {
      "text/plain": [
       "{'Topics': [1, 2, 3, 4, 5, 6, 7, 8, 9],\n",
       " 'cv_Coherence_avg': [0.32623985326377275,\n",
       "  0.3487294019255829,\n",
       "  0.3981024878002298,\n",
       "  0.4282947378030847,\n",
       "  0.38309929673966303,\n",
       "  0.4136473777378204,\n",
       "  0.41534542288343224,\n",
       "  0.40740255628612054,\n",
       "  0.42643649540247636]}"
      ]
     },
     "execution_count": 265,
     "metadata": {},
     "output_type": "execute_result"
    }
   ],
   "source": [
    "results"
   ]
  },
  {
   "cell_type": "code",
   "execution_count": 277,
   "metadata": {},
   "outputs": [
    {
     "name": "stdout",
     "output_type": "stream",
     "text": [
      "Topic: 0 \n",
      "Words: ['boredom', 'nothing', 'drug', 'else', 'go', 'use', 'pandemic', 'using', 'something', 'month']\n",
      "Topic: 1 \n",
      "Words: ['time', 'smoking', 'cannabis', 'weed', 'le', 'bored', 'smoke', 'try', 'boredom', 'used']\n",
      "Topic: 2 \n",
      "Words: ['boredom', 'home', 'help', 'sleep', 'anxiety', 'cannabis', 'use', 'lockdown', 'stress', 'relax']\n",
      "Topic: 3 \n",
      "Words: ['cannabis', 'live', 'stress', 'make', 'need', 'fun', 'taking', 'much', 'friend', 'able']\n"
     ]
    }
   ],
   "source": [
    "#run the algorithm for the optimal amount of topics \n",
    "#use the top words to identify your topics\n",
    "\n",
    "lda_model = gensim.models.ldamulticore.LdaMulticore(corpus=corpus,\n",
    "                                                    id2word=id2word,\n",
    "                                                    num_topics=4, \n",
    "                                                    random_state=100,\n",
    "                                                    chunksize=100,\n",
    "                                                    passes=50,\n",
    "                                                    workers=20,\n",
    "                                                    iterations=150,\n",
    "                                                    minimum_probability=0)\n",
    "\n",
    "#print each topic and its top 10 words to identify what your topic is about!\n",
    "#change the number of words printed by giving a different value to num_words. is the topic easier to interpret now?\n",
    "\n",
    "for idx, topic in lda_model.show_topics(formatted=False, num_words= 10):\n",
    "        print('Topic: {} \\nWords: {}'.format(idx, [w[0] for w in topic]))\n"
   ]
  },
  {
   "cell_type": "code",
   "execution_count": 279,
   "metadata": {},
   "outputs": [],
   "source": [
    "#get the topic probability matrix\n",
    "#this will indicate where each of the reasons in the data belongs to a topic\n",
    "\n",
    "#get topic distribution probabilities\n",
    "all_topics = lda_model.get_document_topics(corpus, minimum_probability=0.0)\n",
    "doc_topic_dist_proc = gensim.matutils.corpus2csc(all_topics)\n",
    "doc_topic_dist_numpy = doc_topic_dist_proc.T.toarray()\n",
    "#doc_topic_dist = pd.DataFrame(doc_topic_dist_numpy)\n",
    "    \n",
    "#get dominant topic\n",
    "topicnames = ['Topic_' + str(i+1) for i in range(0,4,1)] #7 is the number of topics!!\n",
    "all_topics_df = pd.DataFrame(doc_topic_dist_numpy,columns=topicnames)\n",
    "all_topics_df['dominant_topic_contribution'] = all_topics_df.max(axis = 1) \n",
    "all_topics_df['dominant_topic'] = np.argmax(all_topics_df.values, axis=1)\n",
    "all_topics_df['dominant_topic_name'] = \"Topic \"+(all_topics_df['dominant_topic']+1).astype(str)\n",
    "\n"
   ]
  },
  {
   "cell_type": "code",
   "execution_count": 283,
   "metadata": {},
   "outputs": [
    {
     "data": {
      "text/html": [
       "<div>\n",
       "<style scoped>\n",
       "    .dataframe tbody tr th:only-of-type {\n",
       "        vertical-align: middle;\n",
       "    }\n",
       "\n",
       "    .dataframe tbody tr th {\n",
       "        vertical-align: top;\n",
       "    }\n",
       "\n",
       "    .dataframe thead th {\n",
       "        text-align: right;\n",
       "    }\n",
       "</style>\n",
       "<table border=\"1\" class=\"dataframe\">\n",
       "  <thead>\n",
       "    <tr style=\"text-align: right;\">\n",
       "      <th></th>\n",
       "      <th>Topic_1</th>\n",
       "      <th>Topic_2</th>\n",
       "      <th>Topic_3</th>\n",
       "      <th>Topic_4</th>\n",
       "      <th>dominant_topic_contribution</th>\n",
       "      <th>dominant_topic</th>\n",
       "      <th>dominant_topic_name</th>\n",
       "    </tr>\n",
       "  </thead>\n",
       "  <tbody>\n",
       "    <tr>\n",
       "      <th>0</th>\n",
       "      <td>0.04</td>\n",
       "      <td>0.04</td>\n",
       "      <td>0.89</td>\n",
       "      <td>0.04</td>\n",
       "      <td>0.89</td>\n",
       "      <td>2</td>\n",
       "      <td>Topic 3</td>\n",
       "    </tr>\n",
       "    <tr>\n",
       "      <th>1</th>\n",
       "      <td>0.75</td>\n",
       "      <td>0.08</td>\n",
       "      <td>0.08</td>\n",
       "      <td>0.08</td>\n",
       "      <td>0.75</td>\n",
       "      <td>0</td>\n",
       "      <td>Topic 1</td>\n",
       "    </tr>\n",
       "    <tr>\n",
       "      <th>2</th>\n",
       "      <td>0.13</td>\n",
       "      <td>0.13</td>\n",
       "      <td>0.62</td>\n",
       "      <td>0.13</td>\n",
       "      <td>0.62</td>\n",
       "      <td>2</td>\n",
       "      <td>Topic 3</td>\n",
       "    </tr>\n",
       "    <tr>\n",
       "      <th>3</th>\n",
       "      <td>0.02</td>\n",
       "      <td>0.93</td>\n",
       "      <td>0.02</td>\n",
       "      <td>0.02</td>\n",
       "      <td>0.93</td>\n",
       "      <td>1</td>\n",
       "      <td>Topic 2</td>\n",
       "    </tr>\n",
       "    <tr>\n",
       "      <th>4</th>\n",
       "      <td>0.09</td>\n",
       "      <td>0.75</td>\n",
       "      <td>0.08</td>\n",
       "      <td>0.08</td>\n",
       "      <td>0.75</td>\n",
       "      <td>1</td>\n",
       "      <td>Topic 2</td>\n",
       "    </tr>\n",
       "    <tr>\n",
       "      <th>...</th>\n",
       "      <td>...</td>\n",
       "      <td>...</td>\n",
       "      <td>...</td>\n",
       "      <td>...</td>\n",
       "      <td>...</td>\n",
       "      <td>...</td>\n",
       "      <td>...</td>\n",
       "    </tr>\n",
       "    <tr>\n",
       "      <th>276</th>\n",
       "      <td>0.13</td>\n",
       "      <td>0.13</td>\n",
       "      <td>0.62</td>\n",
       "      <td>0.13</td>\n",
       "      <td>0.62</td>\n",
       "      <td>2</td>\n",
       "      <td>Topic 3</td>\n",
       "    </tr>\n",
       "    <tr>\n",
       "      <th>277</th>\n",
       "      <td>0.13</td>\n",
       "      <td>0.13</td>\n",
       "      <td>0.62</td>\n",
       "      <td>0.13</td>\n",
       "      <td>0.62</td>\n",
       "      <td>2</td>\n",
       "      <td>Topic 3</td>\n",
       "    </tr>\n",
       "    <tr>\n",
       "      <th>278</th>\n",
       "      <td>0.08</td>\n",
       "      <td>0.41</td>\n",
       "      <td>0.43</td>\n",
       "      <td>0.08</td>\n",
       "      <td>0.43</td>\n",
       "      <td>2</td>\n",
       "      <td>Topic 3</td>\n",
       "    </tr>\n",
       "    <tr>\n",
       "      <th>279</th>\n",
       "      <td>0.05</td>\n",
       "      <td>0.85</td>\n",
       "      <td>0.05</td>\n",
       "      <td>0.05</td>\n",
       "      <td>0.85</td>\n",
       "      <td>1</td>\n",
       "      <td>Topic 2</td>\n",
       "    </tr>\n",
       "    <tr>\n",
       "      <th>280</th>\n",
       "      <td>0.06</td>\n",
       "      <td>0.56</td>\n",
       "      <td>0.32</td>\n",
       "      <td>0.06</td>\n",
       "      <td>0.56</td>\n",
       "      <td>1</td>\n",
       "      <td>Topic 2</td>\n",
       "    </tr>\n",
       "  </tbody>\n",
       "</table>\n",
       "<p>281 rows × 7 columns</p>\n",
       "</div>"
      ],
      "text/plain": [
       "     Topic_1  Topic_2  Topic_3  Topic_4  dominant_topic_contribution  \\\n",
       "0       0.04     0.04     0.89     0.04                         0.89   \n",
       "1       0.75     0.08     0.08     0.08                         0.75   \n",
       "2       0.13     0.13     0.62     0.13                         0.62   \n",
       "3       0.02     0.93     0.02     0.02                         0.93   \n",
       "4       0.09     0.75     0.08     0.08                         0.75   \n",
       "..       ...      ...      ...      ...                          ...   \n",
       "276     0.13     0.13     0.62     0.13                         0.62   \n",
       "277     0.13     0.13     0.62     0.13                         0.62   \n",
       "278     0.08     0.41     0.43     0.08                         0.43   \n",
       "279     0.05     0.85     0.05     0.05                         0.85   \n",
       "280     0.06     0.56     0.32     0.06                         0.56   \n",
       "\n",
       "     dominant_topic dominant_topic_name  \n",
       "0                 2             Topic 3  \n",
       "1                 0             Topic 1  \n",
       "2                 2             Topic 3  \n",
       "3                 1             Topic 2  \n",
       "4                 1             Topic 2  \n",
       "..              ...                 ...  \n",
       "276               2             Topic 3  \n",
       "277               2             Topic 3  \n",
       "278               2             Topic 3  \n",
       "279               1             Topic 2  \n",
       "280               1             Topic 2  \n",
       "\n",
       "[281 rows x 7 columns]"
      ]
     },
     "execution_count": 283,
     "metadata": {},
     "output_type": "execute_result"
    }
   ],
   "source": [
    "#each of the columns illustrates the probability of that reason being part of that topic \n",
    "\n",
    "all_topics_df"
   ]
  },
  {
   "cell_type": "code",
   "execution_count": 284,
   "metadata": {},
   "outputs": [
    {
     "data": {
      "text/plain": [
       "Topic 3    98\n",
       "Topic 2    92\n",
       "Topic 1    54\n",
       "Topic 4    37\n",
       "Name: dominant_topic_name, dtype: int64"
      ]
     },
     "execution_count": 284,
     "metadata": {},
     "output_type": "execute_result"
    }
   ],
   "source": [
    "#look at the distribution of topics in your data\n",
    "\n",
    "all_topics_df.dominant_topic_name.value_counts()"
   ]
  }
 ],
 "metadata": {
  "kernelspec": {
   "display_name": "Python 3",
   "language": "python",
   "name": "python3"
  },
  "language_info": {
   "codemirror_mode": {
    "name": "ipython",
    "version": 3
   },
   "file_extension": ".py",
   "mimetype": "text/x-python",
   "name": "python",
   "nbconvert_exporter": "python",
   "pygments_lexer": "ipython3",
   "version": "3.8.5"
  }
 },
 "nbformat": 4,
 "nbformat_minor": 5
}
