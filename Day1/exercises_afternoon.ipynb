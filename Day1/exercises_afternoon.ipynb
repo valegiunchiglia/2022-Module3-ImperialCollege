{
 "cells": [
  {
   "cell_type": "markdown",
   "id": "18de61bf-c6ec-4d7d-b990-8c23fc97a7a8",
   "metadata": {},
   "source": [
    "                                                                                       Workshop 1"
   ]
  },
  {
   "cell_type": "markdown",
   "id": "7be2a807-a4e6-4f48-82f4-0f4fec86da46",
   "metadata": {
    "tags": []
   },
   "source": [
    "# AFTERNOON EXERCISES"
   ]
  },
  {
   "cell_type": "markdown",
   "id": "e52afb56-51ad-422f-8bf0-fbeb111d840b",
   "metadata": {},
   "source": [
    "We will now show you a presentation with a set of exercises. The exercises are meant to allow you to review the topics of the lectures. If you didn't complete the lectures, you will not be able to do the exercises. For each exercise, you have **20 minutes** to write a solution. \n",
    "\n",
    "    This is not a test!!\n",
    "   \n",
    "We just want you to practice what you have learnt. During the entire 20 minutes, the TA will be available to reply to any questions or help if you are stuck, but do try to complete the exercises on your own. Feel free to work on the exercises in small group, if you think it's better for you. But the more you code on your own, the faster you learn.\n",
    "\n",
    "Write the solution under the title of each exercise."
   ]
  },
  {
   "cell_type": "markdown",
   "id": "3c2bef2c-9e0b-44ee-a1e5-6897ab09d869",
   "metadata": {},
   "source": [
    "## Exercise 1: the leap years ⭐️"
   ]
  },
  {
   "cell_type": "code",
   "execution_count": 1,
   "id": "43320c24-91e8-4ef6-8992-b28ca188a23f",
   "metadata": {},
   "outputs": [],
   "source": [
    "## CODE HERE\n"
   ]
  },
  {
   "cell_type": "markdown",
   "id": "12b5f769-b619-40c2-8e6f-7fc99d255825",
   "metadata": {},
   "source": [
    "## Exercise 2: characters number ⭐️"
   ]
  },
  {
   "cell_type": "code",
   "execution_count": 2,
   "id": "c3e5297e-abd6-49e7-95ab-121e464ae8e0",
   "metadata": {},
   "outputs": [],
   "source": [
    "## CODE HERE\n"
   ]
  },
  {
   "cell_type": "markdown",
   "id": "e3fb0262-e43e-4989-baea-4c16ddc9f487",
   "metadata": {
    "tags": []
   },
   "source": [
    "## Exercise 3: popularity more than average ⭐️"
   ]
  },
  {
   "cell_type": "code",
   "execution_count": 3,
   "id": "3e3d19c2-4e3d-444a-91f0-714cd8682098",
   "metadata": {},
   "outputs": [],
   "source": [
    "## CODE HERE\n"
   ]
  },
  {
   "cell_type": "markdown",
   "id": "4e3ef38a-3aed-4d84-90c2-c17f8216824c",
   "metadata": {},
   "source": [
    "## Exercise 4: the vowels ⭐️"
   ]
  },
  {
   "cell_type": "code",
   "execution_count": 4,
   "id": "46ba4c11-1cc2-474b-88b5-2fc4093c92cb",
   "metadata": {},
   "outputs": [],
   "source": [
    "## CODE HERE\n"
   ]
  },
  {
   "cell_type": "markdown",
   "id": "cc322c85-06f2-49f5-8858-506cb601ad00",
   "metadata": {},
   "source": [
    "## Exercise 5: pig latin language ⭐️⭐️"
   ]
  },
  {
   "cell_type": "code",
   "execution_count": 9,
   "id": "f51374b3-91d7-4609-8f8c-a2727c97a0bc",
   "metadata": {},
   "outputs": [],
   "source": [
    "## CODE HERE\n"
   ]
  },
  {
   "cell_type": "markdown",
   "id": "5e80a77f-6f4e-4845-9d12-4fabf420ad7f",
   "metadata": {},
   "source": [
    "## Exercise 6: top 10 songs ⭐️⭐️"
   ]
  },
  {
   "cell_type": "code",
   "execution_count": 6,
   "id": "5ada1425-7b58-40a1-b3b5-71de82f74da5",
   "metadata": {},
   "outputs": [],
   "source": [
    "## CODE HERE\n"
   ]
  },
  {
   "cell_type": "markdown",
   "id": "fe08c338-622c-407a-92cc-9e5deabd5e98",
   "metadata": {},
   "source": [
    "## Exercise 7: what day is it? ⭐️⭐⭐\n",
    "\n",
    "To be able to solve this exercise, you might need to look at this [website](https://artofmemory.com/blog/how-to-calculate-the-day-of-the-week/)"
   ]
  },
  {
   "cell_type": "code",
   "execution_count": 7,
   "id": "1331581c-d7a2-45df-869b-dd11fd85353e",
   "metadata": {},
   "outputs": [],
   "source": [
    "## CODE HERE\n"
   ]
  },
  {
   "cell_type": "markdown",
   "id": "286157ad-e0b3-44eb-904f-4b84664a16ed",
   "metadata": {},
   "source": [
    "## Exercise 8: the pyramid  ⭐️⭐⭐\n"
   ]
  },
  {
   "cell_type": "code",
   "execution_count": 8,
   "id": "8af69f6e-190e-4a0c-b04a-404579f32c4f",
   "metadata": {},
   "outputs": [],
   "source": [
    "## CODE HERE\n"
   ]
  }
 ],
 "metadata": {
  "kernelspec": {
   "display_name": "Python3.9 (PythonTutorial)\n",
   "language": "python",
   "name": "python3_pythontutorial"
  },
  "language_info": {
   "codemirror_mode": {
    "name": "ipython",
    "version": 3
   },
   "file_extension": ".py",
   "mimetype": "text/x-python",
   "name": "python",
   "nbconvert_exporter": "python",
   "pygments_lexer": "ipython3",
   "version": "3.9.13"
  }
 },
 "nbformat": 4,
 "nbformat_minor": 5
}
