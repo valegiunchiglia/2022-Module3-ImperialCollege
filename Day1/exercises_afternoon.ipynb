{
 "cells": [
  {
   "cell_type": "markdown",
   "id": "199432e1",
   "metadata": {},
   "source": [
    "                                                                                       Workshop 1"
   ]
  },
  {
   "cell_type": "markdown",
   "id": "69bbed64",
   "metadata": {
    "tags": []
   },
   "source": [
    "# AFTERNOON EXERCISES"
   ]
  },
  {
   "cell_type": "markdown",
   "id": "2e71e945",
   "metadata": {},
   "source": [
    "We will now work through a set of exercises. The exercises enable you to review the topics of the lectures. If you didn't complete the lectures, you will not be able to do the exercises. For each exercise, you have **30 minutes** to write a solution. \n",
    "\n",
    "    This is not a test!!\n",
    "   \n",
    "We just want you to practice what you have learnt. The TAs will be available to reply to any questions or help if you are stuck, but do try to complete the exercises on your own. Feel free to work on the exercises in small group if you think it is better for you. However, the more you code on your own, the faster you will learn.\n",
    "\n",
    "Write the solution under the title of each exercise."
   ]
  },
  {
   "cell_type": "markdown",
   "id": "2e2fe526",
   "metadata": {},
   "source": [
    "## Exercise 1: the leap years ⭐️"
   ]
  },
  {
   "cell_type": "markdown",
   "id": "f69ef9a9",
   "metadata": {},
   "source": [
    "Write a function that prints the next 20 leap years starting from 2022."
   ]
  },
  {
   "cell_type": "code",
   "execution_count": 1,
   "id": "13be33ad",
   "metadata": {},
   "outputs": [],
   "source": [
    "## CODE HERE\n"
   ]
  },
  {
   "cell_type": "markdown",
   "id": "236f351d",
   "metadata": {},
   "source": [
    "## Exercise 2: characters number ⭐️"
   ]
  },
  {
   "cell_type": "markdown",
   "id": "6c946d79",
   "metadata": {},
   "source": [
    "Write a function that calculates the number of characters in each song written by Taylor Swift. Save these in a different series and print them. Also print the highest number of characters that a song had."
   ]
  },
  {
   "cell_type": "code",
   "execution_count": 2,
   "id": "765ff12b",
   "metadata": {},
   "outputs": [],
   "source": [
    "## CODE HERE\n"
   ]
  },
  {
   "cell_type": "markdown",
   "id": "b32fa972",
   "metadata": {
    "tags": []
   },
   "source": [
    "## Exercise 3: popularity more than average ⭐️⭐️"
   ]
  },
  {
   "cell_type": "markdown",
   "id": "24909699",
   "metadata": {},
   "source": [
    "Write a function that goes through each one of Taylor’s songs and prints the names of all the ones which have higher than average popularity."
   ]
  },
  {
   "cell_type": "code",
   "execution_count": 3,
   "id": "8b8fb04c",
   "metadata": {},
   "outputs": [],
   "source": [
    "## CODE HERE\n"
   ]
  },
  {
   "cell_type": "markdown",
   "id": "116e6fe8",
   "metadata": {},
   "source": [
    "## Exercise 4: the vowels ⭐️⭐️"
   ]
  },
  {
   "cell_type": "markdown",
   "id": "add31c28",
   "metadata": {},
   "source": [
    "Write a function that prints the words that contain at least 2 vowels from a series.\u000b"
   ]
  },
  {
   "cell_type": "code",
   "execution_count": 4,
   "id": "906e6ad7",
   "metadata": {},
   "outputs": [],
   "source": [
    "## CODE HERE\n"
   ]
  },
  {
   "cell_type": "markdown",
   "id": "39c7ef68",
   "metadata": {},
   "source": [
    "## Exercise 5: pig latin language ⭐️⭐️"
   ]
  },
  {
   "cell_type": "markdown",
   "id": "23fe13bc",
   "metadata": {},
   "source": [
    "Write function that translates a text to Pig Latin and back. English is translated to Pig Latin by taking the first letter of every word, moving it to the end of the word and adding ‘ay’."
   ]
  },
  {
   "cell_type": "code",
   "execution_count": 9,
   "id": "65bde243",
   "metadata": {},
   "outputs": [],
   "source": [
    "## CODE HERE\n"
   ]
  },
  {
   "cell_type": "markdown",
   "id": "785a7bed",
   "metadata": {},
   "source": [
    "## Exercise 6: top 10 songs ⭐️⭐️"
   ]
  },
  {
   "cell_type": "markdown",
   "id": "025a63ff",
   "metadata": {},
   "source": [
    "Write a function that finds the top 10 songs with the highest danceability and then prints the one with the highest popularity."
   ]
  },
  {
   "cell_type": "code",
   "execution_count": 6,
   "id": "066d530b",
   "metadata": {},
   "outputs": [],
   "source": [
    "## CODE HERE\n"
   ]
  },
  {
   "cell_type": "markdown",
   "id": "702597f7",
   "metadata": {},
   "source": [
    "## Exercise 7: what day is it? ⭐️⭐⭐\n",
    "\n",
    "Create a function that outputs the day of the week in which each of Taylor Swift’s songs were published. To be able to solve this exercise, you might need to look at this [website](https://artofmemory.com/blog/how-to-calculate-the-day-of-the-week/)"
   ]
  },
  {
   "cell_type": "code",
   "execution_count": 7,
   "id": "92345ccd",
   "metadata": {},
   "outputs": [],
   "source": [
    "## CODE HERE\n"
   ]
  },
  {
   "cell_type": "markdown",
   "id": "85f57160",
   "metadata": {},
   "source": [
    "## Exercise 8: the pyramid  ⭐️⭐⭐\n"
   ]
  },
  {
   "cell_type": "markdown",
   "id": "77a9a523",
   "metadata": {},
   "source": [
    "Write a function that prints a pyramid-like pattern with numbers starting from 1 and increasing by one each time you go down the pyramid (up to 8)"
   ]
  },
  {
   "cell_type": "code",
   "execution_count": 8,
   "id": "d3fdf683",
   "metadata": {},
   "outputs": [],
   "source": [
    "## CODE HERE\n"
   ]
  }
 ],
 "metadata": {
  "kernelspec": {
   "display_name": "Python 3.10.5 64-bit",
   "language": "python",
   "name": "python3"
  },
  "language_info": {
   "codemirror_mode": {
    "name": "ipython",
    "version": 3
   },
   "file_extension": ".py",
   "mimetype": "text/x-python",
   "name": "python",
   "nbconvert_exporter": "python",
   "pygments_lexer": "ipython3",
   "version": "3.10.5"
  },
  "vscode": {
   "interpreter": {
    "hash": "aee8b7b246df8f9039afb4144a1f6fd8d2ca17a180786b69acc140d282b71a49"
   }
  }
 },
 "nbformat": 4,
 "nbformat_minor": 5
}
