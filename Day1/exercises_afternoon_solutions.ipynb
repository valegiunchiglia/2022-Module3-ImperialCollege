{
 "cells": [
  {
   "cell_type": "markdown",
   "id": "18de61bf-c6ec-4d7d-b990-8c23fc97a7a8",
   "metadata": {},
   "source": [
    "                                                                                       Workshop 1"
   ]
  },
  {
   "cell_type": "markdown",
   "id": "7be2a807-a4e6-4f48-82f4-0f4fec86da46",
   "metadata": {
    "tags": []
   },
   "source": [
    "# AFTERNOON EXERCISES"
   ]
  },
  {
   "cell_type": "markdown",
   "id": "e52afb56-51ad-422f-8bf0-fbeb111d840b",
   "metadata": {},
   "source": [
    "We will now show you a presentation with a set of exercises. The exercises are meant to allow you to review the topics of the lectures. If you didn't complete the lectures, you will not be able to do the exercises. For each exercise, you have **20 minutes** to write a solution. \n",
    "\n",
    "    This is not a test!!\n",
    "   \n",
    "We just want you to practice what you have learnt. During the entire 20 minutes, the TA will be available to reply to any questions or help if you are stuck, but do try to complete the exercises on your own. Feel free to work on the exercises in small group, if you think it's better for you. But the more you code on your own, the faster you learn.\n",
    "\n",
    "Write the solution under the title of each exercise."
   ]
  },
  {
   "cell_type": "markdown",
   "id": "3c2bef2c-9e0b-44ee-a1e5-6897ab09d869",
   "metadata": {},
   "source": [
    "## Exercise 1: the leap years ⭐️"
   ]
  },
  {
   "cell_type": "code",
   "execution_count": 116,
   "id": "43320c24-91e8-4ef6-8992-b28ca188a23f",
   "metadata": {},
   "outputs": [
    {
     "data": {
      "text/plain": [
       "[2024,\n",
       " 2028,\n",
       " 2032,\n",
       " 2036,\n",
       " 2040,\n",
       " 2044,\n",
       " 2048,\n",
       " 2052,\n",
       " 2056,\n",
       " 2060,\n",
       " 2064,\n",
       " 2068,\n",
       " 2072,\n",
       " 2076,\n",
       " 2080,\n",
       " 2084,\n",
       " 2088,\n",
       " 2092,\n",
       " 2096,\n",
       " 2104]"
      ]
     },
     "execution_count": 116,
     "metadata": {},
     "output_type": "execute_result"
    }
   ],
   "source": [
    "## CODE HERE\n",
    "def leap_year(year_start, nyears):\n",
    "    years = []\n",
    "    count_year = 0\n",
    "    count_leap_year = 0\n",
    "    while count_leap_year < nyears:\n",
    "        year = year_start + count_year\n",
    "        if year % 4 == 0 and (year % 100 != 0 or year % 400 == 0):\n",
    "            years.append(year)\n",
    "            count_leap_year = count_leap_year+1\n",
    "        count_year = count_year+1\n",
    "            \n",
    "    return years\n",
    "\n",
    "leap_year(2022, 20)"
   ]
  },
  {
   "cell_type": "markdown",
   "id": "12b5f769-b619-40c2-8e6f-7fc99d255825",
   "metadata": {},
   "source": [
    "## Exercise 2: characters number ⭐️"
   ]
  },
  {
   "cell_type": "code",
   "execution_count": 27,
   "id": "c3e5297e-abd6-49e7-95ab-121e464ae8e0",
   "metadata": {},
   "outputs": [
    {
     "name": "stdout",
     "output_type": "stream",
     "text": [
      "0      10\n",
      "1      15\n",
      "2      43\n",
      "3      21\n",
      "4      11\n",
      "       ..\n",
      "166    54\n",
      "167    49\n",
      "168    67\n",
      "169    45\n",
      "170    48\n",
      "Length: 171, dtype: int64\n",
      "72\n"
     ]
    }
   ],
   "source": [
    "## CODE HERE\n",
    "import pandas as pd\n",
    "import numpy as np\n",
    "\n",
    "def character_songs(path_to_file, col_title):\n",
    "    df = pd.read_csv(path_to_file)\n",
    "    songs_title = df[col_title]\n",
    "    lengths_songs = []\n",
    "    for song in songs_title:\n",
    "        lengths_songs.append(len(song))\n",
    "    print(pd.Series(lengths_songs))\n",
    "    print(np.max(lengths_songs))\n",
    "\n",
    "character_songs(\"Data/spotify_taylorswift.csv\", \"name\")"
   ]
  },
  {
   "cell_type": "markdown",
   "id": "e3fb0262-e43e-4989-baea-4c16ddc9f487",
   "metadata": {
    "tags": []
   },
   "source": [
    "## Exercise 3: popularity more than average ⭐️"
   ]
  },
  {
   "cell_type": "code",
   "execution_count": 40,
   "id": "3e3d19c2-4e3d-444a-91f0-714cd8682098",
   "metadata": {},
   "outputs": [
    {
     "name": "stdout",
     "output_type": "stream",
     "text": [
      "['Mine', 'State Of Grace', 'Red', 'I Knew You Were Trouble.', 'All Too Well', '22', 'We Are Never Ever Getting Back Together', 'Everything Has Changed', 'Blank Space', 'Style', 'Out Of The Woods', 'Shake It Off', 'Clean', 'Wonderland', 'You Are In Love', 'New Romantics', '...Ready For It?', 'End Game', 'I Did Something Bad', 'Don’t Blame Me', 'Delicate', 'Look What You Made Me Do', 'So It Goes...', 'Gorgeous', 'Getaway Car', 'King Of My Heart', 'Dancing With Our Hands Tied', 'Dress', \"This Is Why We Can't Have Nice Things\", 'Call It What You Want', 'New Year’s Day', 'I Forgot That You Existed', 'Cruel Summer', 'Lover', 'The Man', 'The Archer', 'I Think He Knows', 'Miss Americana & The Heartbreak Prince', 'Paper Rings', 'Cornelia Street', 'Death By A Thousand Cuts', 'London Boy', 'Soon You’ll Get Better (feat. The Chicks)', 'False God', 'You Need To Calm Down', 'Afterglow', 'ME! (feat. Brendon Urie of Panic! At The Disco)', 'It’s Nice To Have A Friend', 'Daylight', 'the 1', 'cardigan', 'the last great american dynasty', 'exile (feat. Bon Iver)', 'my tears ricochet', 'mirrorball', 'seven', 'august', 'this is me trying', 'illicit affairs', 'invisible string', 'betty', 'the lakes - bonus track', 'willow', 'champagne problems', 'gold rush', '‘tis the damn season', 'tolerate it', 'no body, no crime (feat. HAIM)', 'happiness', 'dorothea', 'coney island (feat. The National)', 'ivy', 'cowboy like me', 'long story short', 'marjorie', 'closure', 'evermore (feat. Bon Iver)', 'right where you left me - bonus track', 'it’s time to go - bonus track', 'Fearless (Taylor’s Version)', 'Fifteen (Taylor’s Version)', 'Love Story (Taylor’s Version)', 'Hey Stephen (Taylor’s Version)', 'White Horse (Taylor’s Version)', 'You Belong With Me (Taylor’s Version)', 'Breathe (feat. Colbie Caillat) (Taylor’s Version)', 'Tell Me Why (Taylor’s Version)', 'You’re Not Sorry (Taylor’s Version)', 'The Way I Loved You (Taylor’s Version)', 'Forever & Always (Taylor’s Version)', 'The Best Day (Taylor’s Version)', 'Jump Then Fall (Taylor’s Version)', 'Untouchable (Taylor’s Version)', 'Forever & Always (Piano Version) (Taylor’s Version)', 'The Other Side Of The Door (Taylor’s Version)', 'Today Was A Fairytale (Taylor’s Version)', 'You All Over Me (feat. Maren Morris) (Taylor’s Version) (From The Vault)', 'Mr. Perfectly Fine (Taylor’s Version) (From The Vault)', 'We Were Happy (Taylor’s Version) (From The Vault)', 'That’s When (feat. Keith Urban) (Taylor’s Version) (From The Vault)', 'Don’t You (Taylor’s Version) (From The Vault)', 'Bye Bye Baby (Taylor’s Version) (From The Vault)']\n"
     ]
    }
   ],
   "source": [
    "## CODE HERE\n",
    "\n",
    "# OPTION 1: WORKING WITH FOR AND IF LOOPS\n",
    "def more_popular(path_to_file, col_popularity, col_title):\n",
    "    df = pd.read_csv(path_to_file)\n",
    "    average = np.mean(df[col_popularity])\n",
    "    print(average)\n",
    "    songs_title = df[col_title]\n",
    "    songs_popularity = df[col_popularity]\n",
    "    for i, song in enumerate(songs_title):\n",
    "        if songs_popularity[i] > average:\n",
    "            print(song)\n",
    "\n",
    "# OPTION 2: WORKING WITH PANDAS\n",
    "def more_popular(path_to_file, col_popularity, col_title):\n",
    "    df = pd.read_csv(path_to_file)\n",
    "    average = np.mean(df[col_popularity])\n",
    "    \n",
    "    df_popular = df[df[col_popularity] > average][col_title]\n",
    "    print(df_popular.tolist())\n",
    "  \n",
    "  \n",
    "\n",
    "more_popular(\"Data/spotify_taylorswift.csv\", \"popularity\", \"name\")"
   ]
  },
  {
   "cell_type": "markdown",
   "id": "4e3ef38a-3aed-4d84-90c2-c17f8216824c",
   "metadata": {},
   "source": [
    "## Exercise 4: the vowels ⭐️"
   ]
  },
  {
   "cell_type": "code",
   "execution_count": 41,
   "id": "46ba4c11-1cc2-474b-88b5-2fc4093c92cb",
   "metadata": {},
   "outputs": [
    {
     "name": "stdout",
     "output_type": "stream",
     "text": [
      "0   Apple\n",
      "1   Orange\n",
      "4   Money\n"
     ]
    }
   ],
   "source": [
    "## CODE HERE\n",
    "\n",
    "def findVowels(ser):\n",
    "    vowels = [\"a\", \"e\",\"i\", \"o\", \"u\"]\n",
    "    for ind, word in enumerate(ser):\n",
    "        vow_counts = 0\n",
    "        for letter in word:\n",
    "            if letter.lower() in vowels:\n",
    "                vow_counts = vow_counts +1\n",
    "        if vow_counts >= 2:\n",
    "            print(ind, \" \", word)\n",
    "\n",
    "words = pd.Series(['Apple', 'Orange', 'Plan', 'Python', 'Money'])\n",
    "findVowels(words)"
   ]
  },
  {
   "cell_type": "markdown",
   "id": "cc322c85-06f2-49f5-8858-506cb601ad00",
   "metadata": {},
   "source": [
    "## Exercise 5: pig latin language ⭐️⭐️"
   ]
  },
  {
   "cell_type": "code",
   "execution_count": 43,
   "id": "f51374b3-91d7-4609-8f8c-a2727c97a0bc",
   "metadata": {},
   "outputs": [
    {
     "data": {
      "text/plain": [
       "'hetay uickqay rownbay oxfay '"
      ]
     },
     "execution_count": 43,
     "metadata": {},
     "output_type": "execute_result"
    }
   ],
   "source": [
    "## CODE HERE\n",
    "\n",
    "def piglatin(sentence):\n",
    "    list_words = sentence.split(\" \")\n",
    "    new_sent = \"\"\n",
    "    for word in list_words:\n",
    "        new_word = word[1:]+word[0].lower()+\"ay\"\n",
    "        new_sent = new_sent + new_word + \" \"\n",
    "    return new_sent\n",
    "\n",
    "example = \"The quick brown fox\"\n",
    "piglatin(example)"
   ]
  },
  {
   "cell_type": "markdown",
   "id": "5e80a77f-6f4e-4845-9d12-4fabf420ad7f",
   "metadata": {},
   "source": [
    "## Exercise 6: top 10 songs ⭐️⭐️"
   ]
  },
  {
   "cell_type": "code",
   "execution_count": 66,
   "id": "5ada1425-7b58-40a1-b3b5-71de82f74da5",
   "metadata": {},
   "outputs": [
    {
     "name": "stdout",
     "output_type": "stream",
     "text": [
      "['I Think He Knows', 'Treacherous - Original Demo Recording', 'Cornelia Street', 'Clean', 'Paper Rings', 'Gorgeous', 'Welcome To New York', 'Hey Stephen (Taylor’s Version)', 'I Wish You Would - Voice Memo', 'the 1']\n",
      "\n",
      "\n",
      "Most popular song: Paper Rings\n"
     ]
    }
   ],
   "source": [
    "def top10_songs(path_to_file, col_name, col_beats, col_popular):\n",
    "    df = pd.read_csv(path_to_file)\n",
    "    dfsort = df.sort_values(by = col_beats, ascending = False)\n",
    "    top10 = dfsort[0:10]\n",
    "    top10_names = top10[col_name].tolist()\n",
    "    print(top10_names)\n",
    "    most_pop_song = top10[top10[col_popular] == np.max(top10[col_popular])][col_name]\n",
    "    print(\"\\n\")\n",
    "    print(\"Most popular song:\", most_pop_song.item())\n",
    "\n",
    "top10_songs(\"Data/spotify_taylorswift.csv\", \"name\", \"danceability\", \"popularity\")"
   ]
  },
  {
   "cell_type": "markdown",
   "id": "fe08c338-622c-407a-92cc-9e5deabd5e98",
   "metadata": {},
   "source": [
    "## Exercise 7: what day is it? ⭐️⭐⭐\n",
    "\n",
    "To be able to solve this exercise, you might need to look at this [website](https://artofmemory.com/blog/how-to-calculate-the-day-of-the-week/)"
   ]
  },
  {
   "cell_type": "code",
   "execution_count": 111,
   "id": "1331581c-d7a2-45df-869b-dd11fd85353e",
   "metadata": {},
   "outputs": [
    {
     "name": "stdout",
     "output_type": "stream",
     "text": [
      "Dates: [0, 1, 2, 3, 4, 5, 6, 7, 8, 9, 10, 11, 12, 13, 14, 15, 16, 17, 18, 19, 20, 21, 22, 23, 24, 25, 26, 27, 28, 29, 30, 31, 32, 33, 34, 35, 36, 37, 38, 39, 40, 41, 42, 43, 44, 45, 46, 47, 48, 49, 50, 51, 52, 53, 54, 55, 56, 57, 58, 59, 60, 61, 62, 63, 64, 65, 66, 67, 68, 69, 70, 71, 72, 73, 74, 75, 76, 77, 78, 79, 80, 81, 82, 83, 84, 85, 86, 87, 88, 89, 90, 91, 92, 93, 94, 95, 96, 97, 98, 99, 100, 101, 102, 103, 104, 105, 106, 107, 108, 109, 110, 111, 112, 113, 114, 115, 116, 117, 118, 119, 120, 121, 122, 123, 124, 125, 126, 127, 128, 129, 130, 131, 132, 133, 134, 135, 136, 137, 138, 139, 140, 141, 142, 143, 144, 145, 146, 147, 148, 149, 150, 151, 152, 153, 154, 155, 156, 157, 158, 159, 160, 161, 162, 163, 164, 165, 166, 167, 168, 169, 170]\n",
      "Day of week ['friday', 'friday', 'friday', 'friday', 'friday', 'friday', 'friday', 'friday', 'friday', 'friday', 'friday', 'friday', 'friday', 'friday', 'friday', 'Monday', 'Monday', 'Monday', 'Monday', 'Monday', 'Monday', 'Monday', 'Monday', 'Monday', 'Monday', 'Monday', 'Monday', 'Monday', 'Monday', 'Monday', 'Monday', 'Monday', 'Monday', 'Monday', 'Monday', 'Monday', 'Monday', 'Wednesday', 'Wednesday', 'Wednesday', 'Wednesday', 'Wednesday', 'Wednesday', 'Wednesday', 'Wednesday', 'Wednesday', 'Wednesday', 'Wednesday', 'Wednesday', 'Wednesday', 'Wednesday', 'Wednesday', 'Wednesday', 'Wednesday', 'Wednesday', 'Wednesday', 'Wednesday', 'Wednesday', 'Wednesday', 'Saturday', 'Saturday', 'Saturday', 'Saturday', 'Saturday', 'Saturday', 'Saturday', 'Saturday', 'Saturday', 'Saturday', 'Saturday', 'Saturday', 'Saturday', 'Saturday', 'Saturday', 'Saturday', 'Saturday', 'Saturday', 'Saturday', 'Sunday', 'Sunday', 'Sunday', 'Sunday', 'Sunday', 'Sunday', 'Sunday', 'Sunday', 'Sunday', 'Sunday', 'Sunday', 'Sunday', 'Sunday', 'Sunday', 'Sunday', 'Monday', 'Monday', 'Monday', 'Monday', 'Monday', 'Monday', 'Monday', 'Monday', 'Monday', 'Monday', 'Monday', 'Monday', 'Monday', 'Monday', 'Monday', 'Monday', 'Monday', 'Monday', 'friday', 'friday', 'friday', 'friday', 'friday', 'friday', 'friday', 'friday', 'friday', 'friday', 'friday', 'friday', 'friday', 'friday', 'friday', 'friday', 'friday', 'Sunday', 'Sunday', 'Sunday', 'Sunday', 'Sunday', 'Sunday', 'Sunday', 'Sunday', 'Sunday', 'Sunday', 'Sunday', 'Sunday', 'Sunday', 'Sunday', 'Sunday', 'Sunday', 'Sunday', 'Sunday', 'Sunday', 'Sunday', 'Sunday', 'Sunday', 'Sunday', 'Sunday', 'Sunday', 'Sunday', 'Sunday', 'Sunday', 'Sunday', 'Sunday', 'Sunday', 'Sunday', 'Sunday', 'Sunday', 'Sunday', 'Sunday', 'Sunday', 'Sunday', 'Sunday', 'Sunday', 'Sunday', 'Sunday', 'Sunday']\n"
     ]
    }
   ],
   "source": [
    "def leap_year(year_start, nyears, print_stat):\n",
    "    years = []\n",
    "    for year in range(year_start, year_start+nyears):\n",
    "        if year % 4 == 0 and (year % 100 != 0 or year % 400 == 0):\n",
    "            if print_stat:\n",
    "                print(year)\n",
    "            years.append(year)\n",
    "    return years\n",
    "\n",
    "def day_of_week(path_to_file, col_date):\n",
    "    df = pd.read_csv(path_to_file)\n",
    "    dates = df[col_date]\n",
    "    days_dict = {0: \"Sunday\", 1: \"Monday\", 2: \"Tuesday\", 3: \"Wednesday\", 4: \"Thursday\", 5: \"friday\", 6: \"Saturday\"}\n",
    "    \n",
    "    dates_num = []\n",
    "    days_week = []\n",
    "    for n, d in enumerate(dates):\n",
    "        leap_year_this = False\n",
    "        year =(int(d[2:4]) + (int(d[2:4])//4)) % 7\n",
    "        monthcode = \"033614625035\"\n",
    "        month = int(monthcode[int(d[5:7])])\n",
    "\n",
    "        if int(d[0:4]) > 1900 and int(d[0:4]) < 2000:\n",
    "            century = 0\n",
    "        elif int(d[0:4]) > 2000:\n",
    "            century  = 6\n",
    "\n",
    "        if int(d[0:4]) in leap_year(1990, 30, print_stat = False):\n",
    "            leap_year_this = True\n",
    "\n",
    "        total = year + month + century + int(d[8:10])\n",
    "        if leap_year_this:\n",
    "            total = total - 1\n",
    "        total = total % 7\n",
    "        day_week = days_dict[total]\n",
    "        dates_num.append(n)\n",
    "        days_week.append(day_week)\n",
    "    print(\"Dates:\", dates_num)\n",
    "    print(\"Day of week\", days_week)\n",
    "\n",
    "day_of_week(\"Data/spotify_taylorswift.csv\", \"release_date\")"
   ]
  },
  {
   "cell_type": "markdown",
   "id": "286157ad-e0b3-44eb-904f-4b84664a16ed",
   "metadata": {},
   "source": [
    "## Exercise 8: the pyramid  ⭐️⭐⭐\n"
   ]
  },
  {
   "cell_type": "code",
   "execution_count": 68,
   "id": "8af69f6e-190e-4a0c-b04a-404579f32c4f",
   "metadata": {},
   "outputs": [
    {
     "name": "stdout",
     "output_type": "stream",
     "text": [
      "       0 \n",
      "      1 1 \n",
      "     2 2 2 \n",
      "    3 3 3 3 \n",
      "   4 4 4 4 4 \n",
      "  5 5 5 5 5 5 \n",
      " 6 6 6 6 6 6 6 \n",
      "7 7 7 7 7 7 7 7 \n"
     ]
    }
   ],
   "source": [
    "## CODE HERE\n",
    "\n",
    "def pyramid(range_pyr):\n",
    "    k = range_pyr - 1\n",
    "    for i in range(0, range_pyr):\n",
    "        for j in range(0, k):\n",
    "            print(end=\" \")\n",
    "        k = k - 1\n",
    "        for j in range(0, i+1):\n",
    "            print(i, end=\" \")\n",
    "        print(\"\\r\")\n",
    "\n",
    "pyramid(8)"
   ]
  }
 ],
 "metadata": {
  "kernelspec": {
   "display_name": "Python3.9 (PythonTutorial)\n",
   "language": "python",
   "name": "python3_pythontutorial"
  },
  "language_info": {
   "codemirror_mode": {
    "name": "ipython",
    "version": 3
   },
   "file_extension": ".py",
   "mimetype": "text/x-python",
   "name": "python",
   "nbconvert_exporter": "python",
   "pygments_lexer": "ipython3",
   "version": "3.9.13"
  }
 },
 "nbformat": 4,
 "nbformat_minor": 5
}
