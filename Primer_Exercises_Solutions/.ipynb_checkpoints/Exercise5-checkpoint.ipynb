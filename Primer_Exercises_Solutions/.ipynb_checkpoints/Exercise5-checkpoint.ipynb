{
 "cells": [
  {
   "cell_type": "markdown",
   "id": "e00ceb67-8f10-4b8a-b29b-01b2bf7f75f8",
   "metadata": {},
   "source": [
    "# Exercise 5: Implement an atbash cypher (⭐️⭐️)\n",
    "\n",
    "A cypher is a way to encode messages by mapping each letter to a different one. One ancient way to do this is called the atbash cypher. This cypher uses as key an inverted alphabet, so that A becomes Z, B becomes Y. Write two functions that implements the encoding and decoding process of the cypher.\n",
    "\n",
    "IMPORTANT -> the cypher must:\n",
    "\n",
    "1. Ignore elements in a message that are not letter (e.g. numbers or spaces)\n",
    "2. Be able to take as input the message both in capital letter and lowercase.\n"
   ]
  },
  {
   "cell_type": "code",
   "execution_count": 29,
   "id": "01593f9f-f25f-4d98-b4ae-5131af8484d9",
   "metadata": {},
   "outputs": [],
   "source": [
    "alphabet = \"ABCDEFGHIJKLMNOPQRSTUVWXYZ\"\n",
    "example = \"AGHGK21 DBSG44EUNH\"\n",
    "\n",
    "\n",
    "def encoder(original_string):\n",
    "    alphabet = \"ABCDEFGHIJKLMNOPQRSTUVWXYZ\"\n",
    "    encoded_string = \"\"\n",
    "    for letter in original_string:\n",
    "        if letter.isdigit() or letter == \" \":\n",
    "            continue\n",
    "        index_original = alphabet.find(letter)\n",
    "        index_back = -(index_original + 1)\n",
    "        new_letter = alphabet[index_back]\n",
    "        encoded_string = encoded_string+new_letter\n",
    "    return encoded_string\n",
    "\n",
    "\n",
    "def decoder(encoded_string):\n",
    "    alphabet = \"ABCDEFGHIJKLMNOPQRSTUVWXYZ\"\n",
    "    alphabet_rev = alphabet[::-1]\n",
    "    original_string = \"\"\n",
    "    for letter in encoded_string:\n",
    "        index_back = alphabet.find(letter)\n",
    "        new_letter = alphabet_rev[index_back]\n",
    "        original_string = original_string+new_letter\n",
    "    return original_string"
   ]
  },
  {
   "cell_type": "code",
   "execution_count": 30,
   "id": "90af80c4-e250-41b1-a39e-0355fd21c6c6",
   "metadata": {},
   "outputs": [
    {
     "name": "stdout",
     "output_type": "stream",
     "text": [
      "Original example AGHGK21 DBSG44EUNH\n",
      "Encoded string ZTSTPWYHTVFMS\n",
      "Decoded string AGHGKDBSGEUNH\n"
     ]
    }
   ],
   "source": [
    "encoded_string = encoder(example)\n",
    "decoded_string = decoder(encoded_string)\n",
    "print(\"Original example\", example)\n",
    "print(\"Encoded string\", encoded_string)\n",
    "print(\"Decoded string\", decoded_string)"
   ]
  },
  {
   "cell_type": "code",
   "execution_count": null,
   "id": "b01661dc-895b-4e6c-aa10-d01e2d90843d",
   "metadata": {},
   "outputs": [],
   "source": []
  }
 ],
 "metadata": {
  "kernelspec": {
   "display_name": "Python3.9 (PythonTutorial)\n",
   "language": "python",
   "name": "python3_pythontutorial"
  },
  "language_info": {
   "codemirror_mode": {
    "name": "ipython",
    "version": 3
   },
   "file_extension": ".py",
   "mimetype": "text/x-python",
   "name": "python",
   "nbconvert_exporter": "python",
   "pygments_lexer": "ipython3",
   "version": "3.9.13"
  }
 },
 "nbformat": 4,
 "nbformat_minor": 5
}
