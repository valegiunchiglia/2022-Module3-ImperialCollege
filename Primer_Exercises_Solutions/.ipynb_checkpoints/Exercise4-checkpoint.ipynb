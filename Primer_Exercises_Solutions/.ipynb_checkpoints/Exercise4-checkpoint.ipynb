{
 "cells": [
  {
   "cell_type": "markdown",
   "id": "061023cf-c4f9-4434-b23a-abff1e08e07e",
   "metadata": {},
   "source": [
    "# Exercise 4: Parse a corrupted file (⭐️⭐️)\n",
    "There is a text file (corrupted_mat.txt in the Data folder) that is a matrix where each row in the matrix is a row in the file and the columns in the matrix are separated by \\t . The matrix should only have numbers, but, because of some internal errors, the matrix has been corrupted and some of the lines contain words. Write a function that:\n",
    "\n",
    "1. Import the file\n",
    "2. Excludes the rows with words\n",
    "3. Returns the fixed matrix as a numpy array\n",
    "4. Use the function to check that it works properly\n",
    "\n",
    "HINT: To solve the exercise, you have to acess the file, and use a for loop and if statement."
   ]
  },
  {
   "cell_type": "code",
   "execution_count": null,
   "id": "dd6fc5e6-3769-433f-b829-363d274f8e72",
   "metadata": {},
   "outputs": [],
   "source": []
  }
 ],
 "metadata": {
  "kernelspec": {
   "display_name": "Python3.9 (PythonTutorial)\n",
   "language": "python",
   "name": "python3_pythontutorial"
  },
  "language_info": {
   "codemirror_mode": {
    "name": "ipython",
    "version": 3
   },
   "file_extension": ".py",
   "mimetype": "text/x-python",
   "name": "python",
   "nbconvert_exporter": "python",
   "pygments_lexer": "ipython3",
   "version": "3.9.13"
  }
 },
 "nbformat": 4,
 "nbformat_minor": 5
}
