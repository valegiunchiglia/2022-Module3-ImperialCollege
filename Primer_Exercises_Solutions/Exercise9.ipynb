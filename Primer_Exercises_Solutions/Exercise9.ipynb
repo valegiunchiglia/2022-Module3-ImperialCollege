{
 "cells": [
  {
   "cell_type": "markdown",
   "metadata": {},
   "source": [
    "# Exercise 9: Cognitive Data Analysis (⭐️⭐️⭐️)"
   ]
  },
  {
   "cell_type": "markdown",
   "metadata": {},
   "source": [
    "We have collected behavioural and cognitive data from 100 people as part of a study called GBIT (Great Britain Intelligence Test). The data consists in their performance in three cognitive tasks, as well as their demographics and measures of their mental health. This data are provided in two separate dataframes: cognitive.csv contains the results in the cognitive tasks, and demographics.csv contains the answers from questionnaires. The data were anonymised and a basic processing was already completed. The aim of this exercise is to properly clean the data and run some statistical tests to analyse them."
   ]
  },
  {
   "cell_type": "markdown",
   "metadata": {},
   "source": [
    "IMPORTANT: To be able to complete this exercise you must have completed the statistical theory and coding tutorial"
   ]
  },
  {
   "cell_type": "markdown",
   "metadata": {},
   "source": [
    "## Data cleaning"
   ]
  },
  {
   "cell_type": "markdown",
   "metadata": {},
   "source": [
    "1. Import the data in the format of a pandas dataframes."
   ]
  },
  {
   "cell_type": "code",
   "execution_count": 101,
   "metadata": {},
   "outputs": [],
   "source": [
    "%matplotlib inline\n",
    "import pandas as pd\n",
    "import matplotlib.pyplot as plt\n",
    "import numpy as np\n",
    "from scipy import stats\n",
    "import statsmodels.api as sm"
   ]
  },
  {
   "cell_type": "code",
   "execution_count": 102,
   "metadata": {},
   "outputs": [],
   "source": [
    "df_cog = pd.read_csv('cognitive_primer.csv')\n",
    "df_dem = pd.read_csv('demographics_primer.csv')"
   ]
  },
  {
   "cell_type": "markdown",
   "metadata": {},
   "source": [
    "2. Check the column headers, shape of the dataframe and types of columns. There is a column that should be an integer and is, instead a string. Detect that column and change the variable type."
   ]
  },
  {
   "cell_type": "code",
   "execution_count": 103,
   "metadata": {},
   "outputs": [
    {
     "data": {
      "text/html": [
       "<div>\n",
       "<style scoped>\n",
       "    .dataframe tbody tr th:only-of-type {\n",
       "        vertical-align: middle;\n",
       "    }\n",
       "\n",
       "    .dataframe tbody tr th {\n",
       "        vertical-align: top;\n",
       "    }\n",
       "\n",
       "    .dataframe thead th {\n",
       "        text-align: right;\n",
       "    }\n",
       "</style>\n",
       "<table border=\"1\" class=\"dataframe\">\n",
       "  <thead>\n",
       "    <tr style=\"text-align: right;\">\n",
       "      <th></th>\n",
       "      <th>user_id</th>\n",
       "      <th>SummaryScore_Blocks</th>\n",
       "      <th>RT_Blocks</th>\n",
       "      <th>timepoint_by_site</th>\n",
       "      <th>SummaryScore_VerbalAnalogies</th>\n",
       "      <th>RT_VerbalAnalogies</th>\n",
       "      <th>SummaryScore_WordDefinitions</th>\n",
       "    </tr>\n",
       "  </thead>\n",
       "  <tbody>\n",
       "    <tr>\n",
       "      <th>0</th>\n",
       "      <td>ca8eba947d4c4c419321f26b85d89fc9</td>\n",
       "      <td>11.0</td>\n",
       "      <td>4577.0</td>\n",
       "      <td>tp1</td>\n",
       "      <td>15</td>\n",
       "      <td>6439.3600</td>\n",
       "      <td>17.0</td>\n",
       "    </tr>\n",
       "    <tr>\n",
       "      <th>1</th>\n",
       "      <td>13ba938814984873b73a70ef48e481c0</td>\n",
       "      <td>8.0</td>\n",
       "      <td>5554.0</td>\n",
       "      <td>tp1</td>\n",
       "      <td>8</td>\n",
       "      <td>5438.1786</td>\n",
       "      <td>17.0</td>\n",
       "    </tr>\n",
       "    <tr>\n",
       "      <th>2</th>\n",
       "      <td>a7252125-ecf8-4985-adb9-bf93e89142ec</td>\n",
       "      <td>14.0</td>\n",
       "      <td>4410.0</td>\n",
       "      <td>tp1</td>\n",
       "      <td>22</td>\n",
       "      <td>5166.8000</td>\n",
       "      <td>11.0</td>\n",
       "    </tr>\n",
       "    <tr>\n",
       "      <th>3</th>\n",
       "      <td>1d5ed00c406a443f974cbf511695c9d5</td>\n",
       "      <td>10.0</td>\n",
       "      <td>3522.0</td>\n",
       "      <td>tp1</td>\n",
       "      <td>34</td>\n",
       "      <td>3429.1190</td>\n",
       "      <td>13.0</td>\n",
       "    </tr>\n",
       "    <tr>\n",
       "      <th>4</th>\n",
       "      <td>a968d94b5d6344c6968c6ee840c5b944</td>\n",
       "      <td>11.0</td>\n",
       "      <td>4491.0</td>\n",
       "      <td>tp1</td>\n",
       "      <td>27</td>\n",
       "      <td>4087.0270</td>\n",
       "      <td>20.0</td>\n",
       "    </tr>\n",
       "  </tbody>\n",
       "</table>\n",
       "</div>"
      ],
      "text/plain": [
       "                                user_id  SummaryScore_Blocks  RT_Blocks  \\\n",
       "0      ca8eba947d4c4c419321f26b85d89fc9                 11.0     4577.0   \n",
       "1      13ba938814984873b73a70ef48e481c0                  8.0     5554.0   \n",
       "2  a7252125-ecf8-4985-adb9-bf93e89142ec                 14.0     4410.0   \n",
       "3      1d5ed00c406a443f974cbf511695c9d5                 10.0     3522.0   \n",
       "4      a968d94b5d6344c6968c6ee840c5b944                 11.0     4491.0   \n",
       "\n",
       "  timepoint_by_site  SummaryScore_VerbalAnalogies  RT_VerbalAnalogies  \\\n",
       "0               tp1                            15           6439.3600   \n",
       "1               tp1                             8           5438.1786   \n",
       "2               tp1                            22           5166.8000   \n",
       "3               tp1                            34           3429.1190   \n",
       "4               tp1                            27           4087.0270   \n",
       "\n",
       "   SummaryScore_WordDefinitions  \n",
       "0                          17.0  \n",
       "1                          17.0  \n",
       "2                          11.0  \n",
       "3                          13.0  \n",
       "4                          20.0  "
      ]
     },
     "execution_count": 103,
     "metadata": {},
     "output_type": "execute_result"
    }
   ],
   "source": [
    "df_cog.head()"
   ]
  },
  {
   "cell_type": "code",
   "execution_count": 104,
   "metadata": {},
   "outputs": [
    {
     "data": {
      "text/html": [
       "<div>\n",
       "<style scoped>\n",
       "    .dataframe tbody tr th:only-of-type {\n",
       "        vertical-align: middle;\n",
       "    }\n",
       "\n",
       "    .dataframe tbody tr th {\n",
       "        vertical-align: top;\n",
       "    }\n",
       "\n",
       "    .dataframe thead th {\n",
       "        text-align: right;\n",
       "    }\n",
       "</style>\n",
       "<table border=\"1\" class=\"dataframe\">\n",
       "  <thead>\n",
       "    <tr style=\"text-align: right;\">\n",
       "      <th></th>\n",
       "      <th>user_id</th>\n",
       "      <th>Sex</th>\n",
       "      <th>Education</th>\n",
       "      <th>Age</th>\n",
       "      <th>Handedness</th>\n",
       "      <th>Residence</th>\n",
       "      <th>Ethnicity</th>\n",
       "      <th>Occupation</th>\n",
       "      <th>Salary</th>\n",
       "      <th>Residence (County)</th>\n",
       "    </tr>\n",
       "  </thead>\n",
       "  <tbody>\n",
       "    <tr>\n",
       "      <th>8305</th>\n",
       "      <td>3c8c33784419410a90425ba720378126</td>\n",
       "      <td>Male</td>\n",
       "      <td>02_Degree</td>\n",
       "      <td>82.0</td>\n",
       "      <td>Right handed</td>\n",
       "      <td>United Kingdom</td>\n",
       "      <td>White</td>\n",
       "      <td>Retired</td>\n",
       "      <td>NaN</td>\n",
       "      <td>NaN</td>\n",
       "    </tr>\n",
       "    <tr>\n",
       "      <th>8306</th>\n",
       "      <td>3c8c33784419410a90425ba720378126</td>\n",
       "      <td>Male</td>\n",
       "      <td>01_School</td>\n",
       "      <td>82.0</td>\n",
       "      <td>Right handed</td>\n",
       "      <td>United Kingdom</td>\n",
       "      <td>Asian or Asian British</td>\n",
       "      <td>Retired</td>\n",
       "      <td>NaN</td>\n",
       "      <td>NaN</td>\n",
       "    </tr>\n",
       "    <tr>\n",
       "      <th>8307</th>\n",
       "      <td>6218275f-15b2-4c7b-ba55-2838c9153010</td>\n",
       "      <td>Female</td>\n",
       "      <td>02_Degree</td>\n",
       "      <td>20.0</td>\n",
       "      <td>Right handed</td>\n",
       "      <td>United Kingdom</td>\n",
       "      <td>White</td>\n",
       "      <td>Student</td>\n",
       "      <td>NaN</td>\n",
       "      <td>Gloucestershire</td>\n",
       "    </tr>\n",
       "    <tr>\n",
       "      <th>8308</th>\n",
       "      <td>6218275f-15b2-4c7b-ba55-2838c9153010</td>\n",
       "      <td>Female</td>\n",
       "      <td>02_Degree</td>\n",
       "      <td>20.0</td>\n",
       "      <td>Right handed</td>\n",
       "      <td>United Kingdom</td>\n",
       "      <td>White</td>\n",
       "      <td>Student</td>\n",
       "      <td>NaN</td>\n",
       "      <td>NaN</td>\n",
       "    </tr>\n",
       "    <tr>\n",
       "      <th>8309</th>\n",
       "      <td>7152ef3105984cac9a8b784f5a314841</td>\n",
       "      <td>Female</td>\n",
       "      <td>01_School</td>\n",
       "      <td>60.0</td>\n",
       "      <td>Right handed</td>\n",
       "      <td>United Kingdom</td>\n",
       "      <td>White</td>\n",
       "      <td>Homemaker</td>\n",
       "      <td>NaN</td>\n",
       "      <td>Lanarkshire</td>\n",
       "    </tr>\n",
       "  </tbody>\n",
       "</table>\n",
       "</div>"
      ],
      "text/plain": [
       "                                   user_id     Sex  Education   Age  \\\n",
       "8305      3c8c33784419410a90425ba720378126    Male  02_Degree  82.0   \n",
       "8306      3c8c33784419410a90425ba720378126    Male  01_School  82.0   \n",
       "8307  6218275f-15b2-4c7b-ba55-2838c9153010  Female  02_Degree  20.0   \n",
       "8308  6218275f-15b2-4c7b-ba55-2838c9153010  Female  02_Degree  20.0   \n",
       "8309      7152ef3105984cac9a8b784f5a314841  Female  01_School  60.0   \n",
       "\n",
       "        Handedness       Residence               Ethnicity Occupation Salary  \\\n",
       "8305  Right handed  United Kingdom                   White    Retired    NaN   \n",
       "8306  Right handed  United Kingdom  Asian or Asian British    Retired    NaN   \n",
       "8307  Right handed  United Kingdom                   White    Student    NaN   \n",
       "8308  Right handed  United Kingdom                   White    Student    NaN   \n",
       "8309  Right handed  United Kingdom                   White  Homemaker    NaN   \n",
       "\n",
       "     Residence (County)  \n",
       "8305                NaN  \n",
       "8306                NaN  \n",
       "8307    Gloucestershire  \n",
       "8308                NaN  \n",
       "8309        Lanarkshire  "
      ]
     },
     "execution_count": 104,
     "metadata": {},
     "output_type": "execute_result"
    }
   ],
   "source": [
    "df_dem.tail()"
   ]
  },
  {
   "cell_type": "code",
   "execution_count": 105,
   "metadata": {},
   "outputs": [
    {
     "data": {
      "text/plain": [
       "(8000, 7)"
      ]
     },
     "execution_count": 105,
     "metadata": {},
     "output_type": "execute_result"
    }
   ],
   "source": [
    "np.shape(df_cog)"
   ]
  },
  {
   "cell_type": "code",
   "execution_count": 106,
   "metadata": {},
   "outputs": [
    {
     "data": {
      "text/plain": [
       "(8310, 10)"
      ]
     },
     "execution_count": 106,
     "metadata": {},
     "output_type": "execute_result"
    }
   ],
   "source": [
    "np.shape(df_dem)"
   ]
  },
  {
   "cell_type": "code",
   "execution_count": 107,
   "metadata": {},
   "outputs": [
    {
     "data": {
      "text/plain": [
       "user_id                          object\n",
       "SummaryScore_Blocks             float64\n",
       "RT_Blocks                       float64\n",
       "timepoint_by_site                object\n",
       "SummaryScore_VerbalAnalogies      int64\n",
       "RT_VerbalAnalogies              float64\n",
       "SummaryScore_WordDefinitions    float64\n",
       "dtype: object"
      ]
     },
     "execution_count": 107,
     "metadata": {},
     "output_type": "execute_result"
    }
   ],
   "source": [
    "df_cog.dtypes"
   ]
  },
  {
   "cell_type": "code",
   "execution_count": 108,
   "metadata": {},
   "outputs": [
    {
     "data": {
      "text/plain": [
       "user_id                object\n",
       "Sex                    object\n",
       "Education              object\n",
       "Age                   float64\n",
       "Handedness             object\n",
       "Residence              object\n",
       "Ethnicity              object\n",
       "Occupation             object\n",
       "Salary                 object\n",
       "Residence (County)     object\n",
       "dtype: object"
      ]
     },
     "execution_count": 108,
     "metadata": {},
     "output_type": "execute_result"
    }
   ],
   "source": [
    "df_dem.dtypes"
   ]
  },
  {
   "cell_type": "code",
   "execution_count": 109,
   "metadata": {},
   "outputs": [
    {
     "data": {
      "text/plain": [
       "0       19\n",
       "1       66\n",
       "2       55\n",
       "3       74\n",
       "4       61\n",
       "        ..\n",
       "8305    82\n",
       "8306    82\n",
       "8307    20\n",
       "8308    20\n",
       "8309    60\n",
       "Name: Age, Length: 8310, dtype: int64"
      ]
     },
     "execution_count": 109,
     "metadata": {},
     "output_type": "execute_result"
    }
   ],
   "source": [
    "df_dem.Age.astype(int)"
   ]
  },
  {
   "cell_type": "markdown",
   "metadata": {},
   "source": [
    "3. Currently, the index of the dataframe is not easy to interpret. Change it and replace it with the values in the user_id"
   ]
  },
  {
   "cell_type": "code",
   "execution_count": 110,
   "metadata": {},
   "outputs": [],
   "source": [
    "df_cog.index = df_cog.user_id\n",
    "df_dem.index = df_dem.user_id"
   ]
  },
  {
   "cell_type": "code",
   "execution_count": 111,
   "metadata": {},
   "outputs": [
    {
     "data": {
      "text/html": [
       "<div>\n",
       "<style scoped>\n",
       "    .dataframe tbody tr th:only-of-type {\n",
       "        vertical-align: middle;\n",
       "    }\n",
       "\n",
       "    .dataframe tbody tr th {\n",
       "        vertical-align: top;\n",
       "    }\n",
       "\n",
       "    .dataframe thead th {\n",
       "        text-align: right;\n",
       "    }\n",
       "</style>\n",
       "<table border=\"1\" class=\"dataframe\">\n",
       "  <thead>\n",
       "    <tr style=\"text-align: right;\">\n",
       "      <th></th>\n",
       "      <th>user_id</th>\n",
       "      <th>SummaryScore_Blocks</th>\n",
       "      <th>RT_Blocks</th>\n",
       "      <th>timepoint_by_site</th>\n",
       "      <th>SummaryScore_VerbalAnalogies</th>\n",
       "      <th>RT_VerbalAnalogies</th>\n",
       "      <th>SummaryScore_WordDefinitions</th>\n",
       "    </tr>\n",
       "    <tr>\n",
       "      <th>user_id</th>\n",
       "      <th></th>\n",
       "      <th></th>\n",
       "      <th></th>\n",
       "      <th></th>\n",
       "      <th></th>\n",
       "      <th></th>\n",
       "      <th></th>\n",
       "    </tr>\n",
       "  </thead>\n",
       "  <tbody>\n",
       "    <tr>\n",
       "      <th>ca8eba947d4c4c419321f26b85d89fc9</th>\n",
       "      <td>ca8eba947d4c4c419321f26b85d89fc9</td>\n",
       "      <td>11.0</td>\n",
       "      <td>4577.0</td>\n",
       "      <td>tp1</td>\n",
       "      <td>15</td>\n",
       "      <td>6439.3600</td>\n",
       "      <td>17.0</td>\n",
       "    </tr>\n",
       "    <tr>\n",
       "      <th>13ba938814984873b73a70ef48e481c0</th>\n",
       "      <td>13ba938814984873b73a70ef48e481c0</td>\n",
       "      <td>8.0</td>\n",
       "      <td>5554.0</td>\n",
       "      <td>tp1</td>\n",
       "      <td>8</td>\n",
       "      <td>5438.1786</td>\n",
       "      <td>17.0</td>\n",
       "    </tr>\n",
       "    <tr>\n",
       "      <th>a7252125-ecf8-4985-adb9-bf93e89142ec</th>\n",
       "      <td>a7252125-ecf8-4985-adb9-bf93e89142ec</td>\n",
       "      <td>14.0</td>\n",
       "      <td>4410.0</td>\n",
       "      <td>tp1</td>\n",
       "      <td>22</td>\n",
       "      <td>5166.8000</td>\n",
       "      <td>11.0</td>\n",
       "    </tr>\n",
       "    <tr>\n",
       "      <th>1d5ed00c406a443f974cbf511695c9d5</th>\n",
       "      <td>1d5ed00c406a443f974cbf511695c9d5</td>\n",
       "      <td>10.0</td>\n",
       "      <td>3522.0</td>\n",
       "      <td>tp1</td>\n",
       "      <td>34</td>\n",
       "      <td>3429.1190</td>\n",
       "      <td>13.0</td>\n",
       "    </tr>\n",
       "    <tr>\n",
       "      <th>a968d94b5d6344c6968c6ee840c5b944</th>\n",
       "      <td>a968d94b5d6344c6968c6ee840c5b944</td>\n",
       "      <td>11.0</td>\n",
       "      <td>4491.0</td>\n",
       "      <td>tp1</td>\n",
       "      <td>27</td>\n",
       "      <td>4087.0270</td>\n",
       "      <td>20.0</td>\n",
       "    </tr>\n",
       "  </tbody>\n",
       "</table>\n",
       "</div>"
      ],
      "text/plain": [
       "                                                                   user_id  \\\n",
       "user_id                                                                      \n",
       "ca8eba947d4c4c419321f26b85d89fc9          ca8eba947d4c4c419321f26b85d89fc9   \n",
       "13ba938814984873b73a70ef48e481c0          13ba938814984873b73a70ef48e481c0   \n",
       "a7252125-ecf8-4985-adb9-bf93e89142ec  a7252125-ecf8-4985-adb9-bf93e89142ec   \n",
       "1d5ed00c406a443f974cbf511695c9d5          1d5ed00c406a443f974cbf511695c9d5   \n",
       "a968d94b5d6344c6968c6ee840c5b944          a968d94b5d6344c6968c6ee840c5b944   \n",
       "\n",
       "                                      SummaryScore_Blocks  RT_Blocks  \\\n",
       "user_id                                                                \n",
       "ca8eba947d4c4c419321f26b85d89fc9                     11.0     4577.0   \n",
       "13ba938814984873b73a70ef48e481c0                      8.0     5554.0   \n",
       "a7252125-ecf8-4985-adb9-bf93e89142ec                 14.0     4410.0   \n",
       "1d5ed00c406a443f974cbf511695c9d5                     10.0     3522.0   \n",
       "a968d94b5d6344c6968c6ee840c5b944                     11.0     4491.0   \n",
       "\n",
       "                                     timepoint_by_site  \\\n",
       "user_id                                                  \n",
       "ca8eba947d4c4c419321f26b85d89fc9                   tp1   \n",
       "13ba938814984873b73a70ef48e481c0                   tp1   \n",
       "a7252125-ecf8-4985-adb9-bf93e89142ec               tp1   \n",
       "1d5ed00c406a443f974cbf511695c9d5                   tp1   \n",
       "a968d94b5d6344c6968c6ee840c5b944                   tp1   \n",
       "\n",
       "                                      SummaryScore_VerbalAnalogies  \\\n",
       "user_id                                                              \n",
       "ca8eba947d4c4c419321f26b85d89fc9                                15   \n",
       "13ba938814984873b73a70ef48e481c0                                 8   \n",
       "a7252125-ecf8-4985-adb9-bf93e89142ec                            22   \n",
       "1d5ed00c406a443f974cbf511695c9d5                                34   \n",
       "a968d94b5d6344c6968c6ee840c5b944                                27   \n",
       "\n",
       "                                      RT_VerbalAnalogies  \\\n",
       "user_id                                                    \n",
       "ca8eba947d4c4c419321f26b85d89fc9               6439.3600   \n",
       "13ba938814984873b73a70ef48e481c0               5438.1786   \n",
       "a7252125-ecf8-4985-adb9-bf93e89142ec           5166.8000   \n",
       "1d5ed00c406a443f974cbf511695c9d5               3429.1190   \n",
       "a968d94b5d6344c6968c6ee840c5b944               4087.0270   \n",
       "\n",
       "                                      SummaryScore_WordDefinitions  \n",
       "user_id                                                             \n",
       "ca8eba947d4c4c419321f26b85d89fc9                              17.0  \n",
       "13ba938814984873b73a70ef48e481c0                              17.0  \n",
       "a7252125-ecf8-4985-adb9-bf93e89142ec                          11.0  \n",
       "1d5ed00c406a443f974cbf511695c9d5                              13.0  \n",
       "a968d94b5d6344c6968c6ee840c5b944                              20.0  "
      ]
     },
     "execution_count": 111,
     "metadata": {},
     "output_type": "execute_result"
    }
   ],
   "source": [
    "df_cog.head()"
   ]
  },
  {
   "cell_type": "code",
   "execution_count": 112,
   "metadata": {},
   "outputs": [
    {
     "data": {
      "text/html": [
       "<div>\n",
       "<style scoped>\n",
       "    .dataframe tbody tr th:only-of-type {\n",
       "        vertical-align: middle;\n",
       "    }\n",
       "\n",
       "    .dataframe tbody tr th {\n",
       "        vertical-align: top;\n",
       "    }\n",
       "\n",
       "    .dataframe thead th {\n",
       "        text-align: right;\n",
       "    }\n",
       "</style>\n",
       "<table border=\"1\" class=\"dataframe\">\n",
       "  <thead>\n",
       "    <tr style=\"text-align: right;\">\n",
       "      <th></th>\n",
       "      <th>user_id</th>\n",
       "      <th>Sex</th>\n",
       "      <th>Education</th>\n",
       "      <th>Age</th>\n",
       "      <th>Handedness</th>\n",
       "      <th>Residence</th>\n",
       "      <th>Ethnicity</th>\n",
       "      <th>Occupation</th>\n",
       "      <th>Salary</th>\n",
       "      <th>Residence (County)</th>\n",
       "    </tr>\n",
       "    <tr>\n",
       "      <th>user_id</th>\n",
       "      <th></th>\n",
       "      <th></th>\n",
       "      <th></th>\n",
       "      <th></th>\n",
       "      <th></th>\n",
       "      <th></th>\n",
       "      <th></th>\n",
       "      <th></th>\n",
       "      <th></th>\n",
       "      <th></th>\n",
       "    </tr>\n",
       "  </thead>\n",
       "  <tbody>\n",
       "    <tr>\n",
       "      <th>8162511fe0dc4d04afe57193a8804afa</th>\n",
       "      <td>8162511fe0dc4d04afe57193a8804afa</td>\n",
       "      <td>Male</td>\n",
       "      <td>01_School</td>\n",
       "      <td>19.0</td>\n",
       "      <td>Right handed</td>\n",
       "      <td>United Kingdom</td>\n",
       "      <td>White</td>\n",
       "      <td>Worker</td>\n",
       "      <td>NaN</td>\n",
       "      <td>NaN</td>\n",
       "    </tr>\n",
       "    <tr>\n",
       "      <th>95bc4b40-60e9-4342-8de2-55f6d7deef7d</th>\n",
       "      <td>95bc4b40-60e9-4342-8de2-55f6d7deef7d</td>\n",
       "      <td>Male</td>\n",
       "      <td>01_School</td>\n",
       "      <td>66.0</td>\n",
       "      <td>Right handed</td>\n",
       "      <td>United Kingdom</td>\n",
       "      <td>White</td>\n",
       "      <td>Retired</td>\n",
       "      <td>NaN</td>\n",
       "      <td>West Sussex</td>\n",
       "    </tr>\n",
       "    <tr>\n",
       "      <th>ac8098ba57d54e16a12bc8d72433ad0f</th>\n",
       "      <td>ac8098ba57d54e16a12bc8d72433ad0f</td>\n",
       "      <td>Male</td>\n",
       "      <td>01_School</td>\n",
       "      <td>55.0</td>\n",
       "      <td>Left handed</td>\n",
       "      <td>United Kingdom</td>\n",
       "      <td>White</td>\n",
       "      <td>Worker</td>\n",
       "      <td>£30-40K</td>\n",
       "      <td>Hampshire</td>\n",
       "    </tr>\n",
       "    <tr>\n",
       "      <th>95596ceabf6e45af80b6f5c9ab7ae2c8</th>\n",
       "      <td>95596ceabf6e45af80b6f5c9ab7ae2c8</td>\n",
       "      <td>Female</td>\n",
       "      <td>00_preGCSE</td>\n",
       "      <td>74.0</td>\n",
       "      <td>Right handed</td>\n",
       "      <td>United Kingdom</td>\n",
       "      <td>White</td>\n",
       "      <td>Unemployed/Looking for work</td>\n",
       "      <td>NaN</td>\n",
       "      <td>NaN</td>\n",
       "    </tr>\n",
       "    <tr>\n",
       "      <th>d76fe6d2ca0a4e11a8d9506b0b9fe2a7</th>\n",
       "      <td>d76fe6d2ca0a4e11a8d9506b0b9fe2a7</td>\n",
       "      <td>Male</td>\n",
       "      <td>01_School</td>\n",
       "      <td>61.0</td>\n",
       "      <td>Right handed</td>\n",
       "      <td>United Kingdom</td>\n",
       "      <td>White</td>\n",
       "      <td>Worker</td>\n",
       "      <td>£10-20K</td>\n",
       "      <td>Aberdeenshire</td>\n",
       "    </tr>\n",
       "  </tbody>\n",
       "</table>\n",
       "</div>"
      ],
      "text/plain": [
       "                                                                   user_id  \\\n",
       "user_id                                                                      \n",
       "8162511fe0dc4d04afe57193a8804afa          8162511fe0dc4d04afe57193a8804afa   \n",
       "95bc4b40-60e9-4342-8de2-55f6d7deef7d  95bc4b40-60e9-4342-8de2-55f6d7deef7d   \n",
       "ac8098ba57d54e16a12bc8d72433ad0f          ac8098ba57d54e16a12bc8d72433ad0f   \n",
       "95596ceabf6e45af80b6f5c9ab7ae2c8          95596ceabf6e45af80b6f5c9ab7ae2c8   \n",
       "d76fe6d2ca0a4e11a8d9506b0b9fe2a7          d76fe6d2ca0a4e11a8d9506b0b9fe2a7   \n",
       "\n",
       "                                         Sex   Education   Age    Handedness  \\\n",
       "user_id                                                                        \n",
       "8162511fe0dc4d04afe57193a8804afa        Male   01_School  19.0  Right handed   \n",
       "95bc4b40-60e9-4342-8de2-55f6d7deef7d    Male   01_School  66.0  Right handed   \n",
       "ac8098ba57d54e16a12bc8d72433ad0f        Male   01_School  55.0   Left handed   \n",
       "95596ceabf6e45af80b6f5c9ab7ae2c8      Female  00_preGCSE  74.0  Right handed   \n",
       "d76fe6d2ca0a4e11a8d9506b0b9fe2a7        Male   01_School  61.0  Right handed   \n",
       "\n",
       "                                           Residence Ethnicity  \\\n",
       "user_id                                                          \n",
       "8162511fe0dc4d04afe57193a8804afa      United Kingdom     White   \n",
       "95bc4b40-60e9-4342-8de2-55f6d7deef7d  United Kingdom     White   \n",
       "ac8098ba57d54e16a12bc8d72433ad0f      United Kingdom     White   \n",
       "95596ceabf6e45af80b6f5c9ab7ae2c8      United Kingdom     White   \n",
       "d76fe6d2ca0a4e11a8d9506b0b9fe2a7      United Kingdom     White   \n",
       "\n",
       "                                                       Occupation   Salary  \\\n",
       "user_id                                                                      \n",
       "8162511fe0dc4d04afe57193a8804afa                           Worker      NaN   \n",
       "95bc4b40-60e9-4342-8de2-55f6d7deef7d                      Retired      NaN   \n",
       "ac8098ba57d54e16a12bc8d72433ad0f                           Worker  £30-40K   \n",
       "95596ceabf6e45af80b6f5c9ab7ae2c8      Unemployed/Looking for work      NaN   \n",
       "d76fe6d2ca0a4e11a8d9506b0b9fe2a7                           Worker  £10-20K   \n",
       "\n",
       "                                     Residence (County)  \n",
       "user_id                                                  \n",
       "8162511fe0dc4d04afe57193a8804afa                    NaN  \n",
       "95bc4b40-60e9-4342-8de2-55f6d7deef7d        West Sussex  \n",
       "ac8098ba57d54e16a12bc8d72433ad0f              Hampshire  \n",
       "95596ceabf6e45af80b6f5c9ab7ae2c8                    NaN  \n",
       "d76fe6d2ca0a4e11a8d9506b0b9fe2a7          Aberdeenshire  "
      ]
     },
     "execution_count": 112,
     "metadata": {},
     "output_type": "execute_result"
    }
   ],
   "source": [
    "df_dem.head()"
   ]
  },
  {
   "cell_type": "markdown",
   "metadata": {},
   "source": [
    "4. Find out which columns have missing values and how many there are for each column. If a column is more than 50% NA then drop it. Most of the analysis cannot be completed if the participants don't have demographics. So, after filtering the columns, filter the questionnaire dataframe for the remaining rows without missing values."
   ]
  },
  {
   "cell_type": "code",
   "execution_count": 113,
   "metadata": {},
   "outputs": [
    {
     "data": {
      "text/plain": [
       "user_id\n",
       "ca8eba947d4c4c419321f26b85d89fc9        0\n",
       "13ba938814984873b73a70ef48e481c0        0\n",
       "a7252125-ecf8-4985-adb9-bf93e89142ec    0\n",
       "1d5ed00c406a443f974cbf511695c9d5        0\n",
       "a968d94b5d6344c6968c6ee840c5b944        0\n",
       "                                       ..\n",
       "827bbfac-bb57-42ba-8dad-2e74ae3d31a4    0\n",
       "665efd6621d74307a6f0072a9ad115b5        0\n",
       "7103cf2e-ee29-4959-be61-34d0041446e8    0\n",
       "0a48f36e7ca546788526732b609d519c        0\n",
       "9555f9b825b84bc29317965de7eacf93        0\n",
       "Length: 8000, dtype: int64"
      ]
     },
     "execution_count": 113,
     "metadata": {},
     "output_type": "execute_result"
    }
   ],
   "source": [
    "df_cog.isna().sum(axis=1)"
   ]
  },
  {
   "cell_type": "code",
   "execution_count": 114,
   "metadata": {},
   "outputs": [
    {
     "data": {
      "text/plain": [
       "user_id                         0\n",
       "SummaryScore_Blocks             0\n",
       "RT_Blocks                       0\n",
       "timepoint_by_site               0\n",
       "SummaryScore_VerbalAnalogies    0\n",
       "RT_VerbalAnalogies              1\n",
       "SummaryScore_WordDefinitions    0\n",
       "dtype: int64"
      ]
     },
     "execution_count": 114,
     "metadata": {},
     "output_type": "execute_result"
    }
   ],
   "source": [
    "df_cog.isna().sum(axis=0)"
   ]
  },
  {
   "cell_type": "code",
   "execution_count": 115,
   "metadata": {},
   "outputs": [
    {
     "data": {
      "text/plain": [
       "user_id                  0\n",
       "Sex                      1\n",
       "Education              226\n",
       "Age                      0\n",
       "Handedness               0\n",
       "Residence                1\n",
       "Ethnicity                0\n",
       "Occupation             238\n",
       "Salary                5145\n",
       "Residence (County)    5114\n",
       "dtype: int64"
      ]
     },
     "execution_count": 115,
     "metadata": {},
     "output_type": "execute_result"
    }
   ],
   "source": [
    "df_dem.isna().sum(axis=0)"
   ]
  },
  {
   "cell_type": "code",
   "execution_count": 116,
   "metadata": {},
   "outputs": [],
   "source": [
    "df_dem.drop(['Salary', 'Residence (County)'], axis=1, inplace=True)"
   ]
  },
  {
   "cell_type": "code",
   "execution_count": 117,
   "metadata": {},
   "outputs": [],
   "source": [
    "to_remove = df_dem.isna().sum(axis=1) > 0"
   ]
  },
  {
   "cell_type": "code",
   "execution_count": 118,
   "metadata": {},
   "outputs": [
    {
     "data": {
      "text/plain": [
       "239"
      ]
     },
     "execution_count": 118,
     "metadata": {},
     "output_type": "execute_result"
    }
   ],
   "source": [
    "sum(to_remove)"
   ]
  },
  {
   "cell_type": "code",
   "execution_count": 119,
   "metadata": {},
   "outputs": [],
   "source": [
    "df_dem = df_dem[~to_remove]"
   ]
  },
  {
   "cell_type": "markdown",
   "metadata": {},
   "source": [
    "5. Find out if there are duplicates in both dataframes. If there are two rows that are fully duplicated, then keep the second entry. In case of the questionnaire dataframe, if a columrown is duplicated in the user_id, sex and Residence columns, but not the others, then drop both rows."
   ]
  },
  {
   "cell_type": "code",
   "execution_count": 120,
   "metadata": {},
   "outputs": [
    {
     "data": {
      "text/plain": [
       "0"
      ]
     },
     "execution_count": 120,
     "metadata": {},
     "output_type": "execute_result"
    }
   ],
   "source": [
    "sum(df_cog.duplicated())"
   ]
  },
  {
   "cell_type": "code",
   "execution_count": 121,
   "metadata": {},
   "outputs": [
    {
     "data": {
      "text/plain": [
       "22"
      ]
     },
     "execution_count": 121,
     "metadata": {},
     "output_type": "execute_result"
    }
   ],
   "source": [
    "sum(df_dem.duplicated())"
   ]
  },
  {
   "cell_type": "code",
   "execution_count": 122,
   "metadata": {},
   "outputs": [
    {
     "data": {
      "text/html": [
       "<div>\n",
       "<style scoped>\n",
       "    .dataframe tbody tr th:only-of-type {\n",
       "        vertical-align: middle;\n",
       "    }\n",
       "\n",
       "    .dataframe tbody tr th {\n",
       "        vertical-align: top;\n",
       "    }\n",
       "\n",
       "    .dataframe thead th {\n",
       "        text-align: right;\n",
       "    }\n",
       "</style>\n",
       "<table border=\"1\" class=\"dataframe\">\n",
       "  <thead>\n",
       "    <tr style=\"text-align: right;\">\n",
       "      <th></th>\n",
       "      <th>user_id</th>\n",
       "      <th>Sex</th>\n",
       "      <th>Education</th>\n",
       "      <th>Age</th>\n",
       "      <th>Handedness</th>\n",
       "      <th>Residence</th>\n",
       "      <th>Ethnicity</th>\n",
       "      <th>Occupation</th>\n",
       "    </tr>\n",
       "    <tr>\n",
       "      <th>user_id</th>\n",
       "      <th></th>\n",
       "      <th></th>\n",
       "      <th></th>\n",
       "      <th></th>\n",
       "      <th></th>\n",
       "      <th></th>\n",
       "      <th></th>\n",
       "      <th></th>\n",
       "    </tr>\n",
       "  </thead>\n",
       "  <tbody>\n",
       "    <tr>\n",
       "      <th>8162511fe0dc4d04afe57193a8804afa</th>\n",
       "      <td>8162511fe0dc4d04afe57193a8804afa</td>\n",
       "      <td>Male</td>\n",
       "      <td>01_School</td>\n",
       "      <td>19.0</td>\n",
       "      <td>Right handed</td>\n",
       "      <td>United Kingdom</td>\n",
       "      <td>White</td>\n",
       "      <td>Worker</td>\n",
       "    </tr>\n",
       "    <tr>\n",
       "      <th>95bc4b40-60e9-4342-8de2-55f6d7deef7d</th>\n",
       "      <td>95bc4b40-60e9-4342-8de2-55f6d7deef7d</td>\n",
       "      <td>Male</td>\n",
       "      <td>01_School</td>\n",
       "      <td>66.0</td>\n",
       "      <td>Right handed</td>\n",
       "      <td>United Kingdom</td>\n",
       "      <td>White</td>\n",
       "      <td>Retired</td>\n",
       "    </tr>\n",
       "    <tr>\n",
       "      <th>ac8098ba57d54e16a12bc8d72433ad0f</th>\n",
       "      <td>ac8098ba57d54e16a12bc8d72433ad0f</td>\n",
       "      <td>Male</td>\n",
       "      <td>01_School</td>\n",
       "      <td>55.0</td>\n",
       "      <td>Left handed</td>\n",
       "      <td>United Kingdom</td>\n",
       "      <td>White</td>\n",
       "      <td>Worker</td>\n",
       "    </tr>\n",
       "    <tr>\n",
       "      <th>95596ceabf6e45af80b6f5c9ab7ae2c8</th>\n",
       "      <td>95596ceabf6e45af80b6f5c9ab7ae2c8</td>\n",
       "      <td>Female</td>\n",
       "      <td>00_preGCSE</td>\n",
       "      <td>74.0</td>\n",
       "      <td>Right handed</td>\n",
       "      <td>United Kingdom</td>\n",
       "      <td>White</td>\n",
       "      <td>Unemployed/Looking for work</td>\n",
       "    </tr>\n",
       "    <tr>\n",
       "      <th>d76fe6d2ca0a4e11a8d9506b0b9fe2a7</th>\n",
       "      <td>d76fe6d2ca0a4e11a8d9506b0b9fe2a7</td>\n",
       "      <td>Male</td>\n",
       "      <td>01_School</td>\n",
       "      <td>61.0</td>\n",
       "      <td>Right handed</td>\n",
       "      <td>United Kingdom</td>\n",
       "      <td>White</td>\n",
       "      <td>Worker</td>\n",
       "    </tr>\n",
       "    <tr>\n",
       "      <th>...</th>\n",
       "      <td>...</td>\n",
       "      <td>...</td>\n",
       "      <td>...</td>\n",
       "      <td>...</td>\n",
       "      <td>...</td>\n",
       "      <td>...</td>\n",
       "      <td>...</td>\n",
       "      <td>...</td>\n",
       "    </tr>\n",
       "    <tr>\n",
       "      <th>4fccc5e37ece41d8999de0af4b026a30</th>\n",
       "      <td>4fccc5e37ece41d8999de0af4b026a30</td>\n",
       "      <td>Female</td>\n",
       "      <td>01_School</td>\n",
       "      <td>59.0</td>\n",
       "      <td>Right handed</td>\n",
       "      <td>United Kingdom</td>\n",
       "      <td>Asian or Asian British</td>\n",
       "      <td>Retired</td>\n",
       "    </tr>\n",
       "    <tr>\n",
       "      <th>3c8c33784419410a90425ba720378126</th>\n",
       "      <td>3c8c33784419410a90425ba720378126</td>\n",
       "      <td>Male</td>\n",
       "      <td>02_Degree</td>\n",
       "      <td>82.0</td>\n",
       "      <td>Right handed</td>\n",
       "      <td>United Kingdom</td>\n",
       "      <td>White</td>\n",
       "      <td>Retired</td>\n",
       "    </tr>\n",
       "    <tr>\n",
       "      <th>3c8c33784419410a90425ba720378126</th>\n",
       "      <td>3c8c33784419410a90425ba720378126</td>\n",
       "      <td>Male</td>\n",
       "      <td>01_School</td>\n",
       "      <td>82.0</td>\n",
       "      <td>Right handed</td>\n",
       "      <td>United Kingdom</td>\n",
       "      <td>Asian or Asian British</td>\n",
       "      <td>Retired</td>\n",
       "    </tr>\n",
       "    <tr>\n",
       "      <th>6218275f-15b2-4c7b-ba55-2838c9153010</th>\n",
       "      <td>6218275f-15b2-4c7b-ba55-2838c9153010</td>\n",
       "      <td>Female</td>\n",
       "      <td>02_Degree</td>\n",
       "      <td>20.0</td>\n",
       "      <td>Right handed</td>\n",
       "      <td>United Kingdom</td>\n",
       "      <td>White</td>\n",
       "      <td>Student</td>\n",
       "    </tr>\n",
       "    <tr>\n",
       "      <th>7152ef3105984cac9a8b784f5a314841</th>\n",
       "      <td>7152ef3105984cac9a8b784f5a314841</td>\n",
       "      <td>Female</td>\n",
       "      <td>01_School</td>\n",
       "      <td>60.0</td>\n",
       "      <td>Right handed</td>\n",
       "      <td>United Kingdom</td>\n",
       "      <td>White</td>\n",
       "      <td>Homemaker</td>\n",
       "    </tr>\n",
       "  </tbody>\n",
       "</table>\n",
       "<p>8049 rows × 8 columns</p>\n",
       "</div>"
      ],
      "text/plain": [
       "                                                                   user_id  \\\n",
       "user_id                                                                      \n",
       "8162511fe0dc4d04afe57193a8804afa          8162511fe0dc4d04afe57193a8804afa   \n",
       "95bc4b40-60e9-4342-8de2-55f6d7deef7d  95bc4b40-60e9-4342-8de2-55f6d7deef7d   \n",
       "ac8098ba57d54e16a12bc8d72433ad0f          ac8098ba57d54e16a12bc8d72433ad0f   \n",
       "95596ceabf6e45af80b6f5c9ab7ae2c8          95596ceabf6e45af80b6f5c9ab7ae2c8   \n",
       "d76fe6d2ca0a4e11a8d9506b0b9fe2a7          d76fe6d2ca0a4e11a8d9506b0b9fe2a7   \n",
       "...                                                                    ...   \n",
       "4fccc5e37ece41d8999de0af4b026a30          4fccc5e37ece41d8999de0af4b026a30   \n",
       "3c8c33784419410a90425ba720378126          3c8c33784419410a90425ba720378126   \n",
       "3c8c33784419410a90425ba720378126          3c8c33784419410a90425ba720378126   \n",
       "6218275f-15b2-4c7b-ba55-2838c9153010  6218275f-15b2-4c7b-ba55-2838c9153010   \n",
       "7152ef3105984cac9a8b784f5a314841          7152ef3105984cac9a8b784f5a314841   \n",
       "\n",
       "                                         Sex   Education   Age    Handedness  \\\n",
       "user_id                                                                        \n",
       "8162511fe0dc4d04afe57193a8804afa        Male   01_School  19.0  Right handed   \n",
       "95bc4b40-60e9-4342-8de2-55f6d7deef7d    Male   01_School  66.0  Right handed   \n",
       "ac8098ba57d54e16a12bc8d72433ad0f        Male   01_School  55.0   Left handed   \n",
       "95596ceabf6e45af80b6f5c9ab7ae2c8      Female  00_preGCSE  74.0  Right handed   \n",
       "d76fe6d2ca0a4e11a8d9506b0b9fe2a7        Male   01_School  61.0  Right handed   \n",
       "...                                      ...         ...   ...           ...   \n",
       "4fccc5e37ece41d8999de0af4b026a30      Female   01_School  59.0  Right handed   \n",
       "3c8c33784419410a90425ba720378126        Male   02_Degree  82.0  Right handed   \n",
       "3c8c33784419410a90425ba720378126        Male   01_School  82.0  Right handed   \n",
       "6218275f-15b2-4c7b-ba55-2838c9153010  Female   02_Degree  20.0  Right handed   \n",
       "7152ef3105984cac9a8b784f5a314841      Female   01_School  60.0  Right handed   \n",
       "\n",
       "                                           Residence               Ethnicity  \\\n",
       "user_id                                                                        \n",
       "8162511fe0dc4d04afe57193a8804afa      United Kingdom                   White   \n",
       "95bc4b40-60e9-4342-8de2-55f6d7deef7d  United Kingdom                   White   \n",
       "ac8098ba57d54e16a12bc8d72433ad0f      United Kingdom                   White   \n",
       "95596ceabf6e45af80b6f5c9ab7ae2c8      United Kingdom                   White   \n",
       "d76fe6d2ca0a4e11a8d9506b0b9fe2a7      United Kingdom                   White   \n",
       "...                                              ...                     ...   \n",
       "4fccc5e37ece41d8999de0af4b026a30      United Kingdom  Asian or Asian British   \n",
       "3c8c33784419410a90425ba720378126      United Kingdom                   White   \n",
       "3c8c33784419410a90425ba720378126      United Kingdom  Asian or Asian British   \n",
       "6218275f-15b2-4c7b-ba55-2838c9153010  United Kingdom                   White   \n",
       "7152ef3105984cac9a8b784f5a314841      United Kingdom                   White   \n",
       "\n",
       "                                                       Occupation  \n",
       "user_id                                                            \n",
       "8162511fe0dc4d04afe57193a8804afa                           Worker  \n",
       "95bc4b40-60e9-4342-8de2-55f6d7deef7d                      Retired  \n",
       "ac8098ba57d54e16a12bc8d72433ad0f                           Worker  \n",
       "95596ceabf6e45af80b6f5c9ab7ae2c8      Unemployed/Looking for work  \n",
       "d76fe6d2ca0a4e11a8d9506b0b9fe2a7                           Worker  \n",
       "...                                                           ...  \n",
       "4fccc5e37ece41d8999de0af4b026a30                          Retired  \n",
       "3c8c33784419410a90425ba720378126                          Retired  \n",
       "3c8c33784419410a90425ba720378126                          Retired  \n",
       "6218275f-15b2-4c7b-ba55-2838c9153010                      Student  \n",
       "7152ef3105984cac9a8b784f5a314841                        Homemaker  \n",
       "\n",
       "[8049 rows x 8 columns]"
      ]
     },
     "execution_count": 122,
     "metadata": {},
     "output_type": "execute_result"
    }
   ],
   "source": [
    "df_dem.drop_duplicates(subset = None, keep = \"last\", inplace=True)\n",
    "df_dem"
   ]
  },
  {
   "cell_type": "code",
   "execution_count": 123,
   "metadata": {},
   "outputs": [],
   "source": [
    "df_dem.drop_duplicates(subset = ['Sex', 'Residence', 'user_id'], keep = False, inplace=True)"
   ]
  },
  {
   "cell_type": "markdown",
   "metadata": {},
   "source": [
    "6. The variable residence includes many different countries. Check how many people are from the United Kingdom and how many are from other countries. As you can see, there aren't many people from each one of the other individual countries. Replace the values in that column with UK for all people from United Kingdom, and Other for all the other countries."
   ]
  },
  {
   "cell_type": "code",
   "execution_count": 124,
   "metadata": {},
   "outputs": [
    {
     "data": {
      "text/plain": [
       "United Kingdom        6651\n",
       "United States          280\n",
       "Canada                  67\n",
       "Australia               41\n",
       "Ireland {Republic}      32\n",
       "                      ... \n",
       "Benin                    1\n",
       "Antigua & Deps           1\n",
       "Nigeria                  1\n",
       "Lithuania                1\n",
       "Albania                  1\n",
       "Name: Residence, Length: 85, dtype: int64"
      ]
     },
     "execution_count": 124,
     "metadata": {},
     "output_type": "execute_result"
    }
   ],
   "source": [
    "df_dem.Residence.value_counts()"
   ]
  },
  {
   "cell_type": "code",
   "execution_count": 125,
   "metadata": {},
   "outputs": [
    {
     "name": "stderr",
     "output_type": "stream",
     "text": [
      "/var/folders/01/_3yj40_538g8lmscwcv139hm0000gp/T/ipykernel_4934/376824233.py:2: SettingWithCopyWarning: \n",
      "A value is trying to be set on a copy of a slice from a DataFrame\n",
      "\n",
      "See the caveats in the documentation: https://pandas.pydata.org/pandas-docs/stable/user_guide/indexing.html#returning-a-view-versus-a-copy\n",
      "  df_dem.Residence[~to_change] = 'Other'\n"
     ]
    }
   ],
   "source": [
    "to_change = df_dem[\"Residence\"] == 'United Kingdom'\n",
    "df_dem.Residence[~to_change] = 'Other'"
   ]
  },
  {
   "cell_type": "code",
   "execution_count": 129,
   "metadata": {},
   "outputs": [],
   "source": [
    "df_dem.Residence = df_dem[\"Residence\"].replace(\"United Kingdom\", \"UK\")"
   ]
  },
  {
   "cell_type": "code",
   "execution_count": 130,
   "metadata": {},
   "outputs": [
    {
     "data": {
      "text/plain": [
       "UK       6651\n",
       "Other     832\n",
       "Name: Residence, dtype: int64"
      ]
     },
     "execution_count": 130,
     "metadata": {},
     "output_type": "execute_result"
    }
   ],
   "source": [
    "df_dem.Residence.value_counts()"
   ]
  },
  {
   "cell_type": "markdown",
   "metadata": {},
   "source": [
    "7. Until now, you have worked with two separate dartaframes. But to be able to run the next steps of the analysis, you need to merge the two dataframes together. Merge together the dataframes based on the values in the user_id."
   ]
  },
  {
   "cell_type": "code",
   "execution_count": 134,
   "metadata": {},
   "outputs": [],
   "source": [
    "df_dem.drop([\"user_id\"], axis = 1, inplace=True)\n",
    "df_cog.drop([\"user_id\"], axis = 1, inplace=True)"
   ]
  },
  {
   "cell_type": "code",
   "execution_count": 136,
   "metadata": {},
   "outputs": [],
   "source": [
    "df_merged = pd.merge(df_cog, df_dem, on = \"user_id\")"
   ]
  },
  {
   "cell_type": "markdown",
   "metadata": {},
   "source": [
    "## Data Analysis"
   ]
  },
  {
   "cell_type": "markdown",
   "metadata": {},
   "source": [
    "1. Let's complete some descriptive statistics on the data. Check:"
   ]
  },
  {
   "cell_type": "markdown",
   "metadata": {},
   "source": [
    "The distribution of the scores in the different cognitive tests using histogram and boxplot. Since you have 3 different cognitive tests, try to create a unique figure with 3 subplots."
   ]
  },
  {
   "cell_type": "code",
   "execution_count": 137,
   "metadata": {},
   "outputs": [
    {
     "data": {
      "text/html": [
       "<div>\n",
       "<style scoped>\n",
       "    .dataframe tbody tr th:only-of-type {\n",
       "        vertical-align: middle;\n",
       "    }\n",
       "\n",
       "    .dataframe tbody tr th {\n",
       "        vertical-align: top;\n",
       "    }\n",
       "\n",
       "    .dataframe thead th {\n",
       "        text-align: right;\n",
       "    }\n",
       "</style>\n",
       "<table border=\"1\" class=\"dataframe\">\n",
       "  <thead>\n",
       "    <tr style=\"text-align: right;\">\n",
       "      <th></th>\n",
       "      <th>SummaryScore_Blocks</th>\n",
       "      <th>RT_Blocks</th>\n",
       "      <th>timepoint_by_site</th>\n",
       "      <th>SummaryScore_VerbalAnalogies</th>\n",
       "      <th>RT_VerbalAnalogies</th>\n",
       "      <th>SummaryScore_WordDefinitions</th>\n",
       "      <th>Sex</th>\n",
       "      <th>Education</th>\n",
       "      <th>Age</th>\n",
       "      <th>Handedness</th>\n",
       "      <th>Residence</th>\n",
       "      <th>Ethnicity</th>\n",
       "      <th>Occupation</th>\n",
       "    </tr>\n",
       "    <tr>\n",
       "      <th>user_id</th>\n",
       "      <th></th>\n",
       "      <th></th>\n",
       "      <th></th>\n",
       "      <th></th>\n",
       "      <th></th>\n",
       "      <th></th>\n",
       "      <th></th>\n",
       "      <th></th>\n",
       "      <th></th>\n",
       "      <th></th>\n",
       "      <th></th>\n",
       "      <th></th>\n",
       "      <th></th>\n",
       "    </tr>\n",
       "  </thead>\n",
       "  <tbody>\n",
       "    <tr>\n",
       "      <th>ca8eba947d4c4c419321f26b85d89fc9</th>\n",
       "      <td>11.0</td>\n",
       "      <td>4577.0</td>\n",
       "      <td>tp1</td>\n",
       "      <td>15</td>\n",
       "      <td>6439.3600</td>\n",
       "      <td>17.0</td>\n",
       "      <td>Male</td>\n",
       "      <td>02_Degree</td>\n",
       "      <td>65.0</td>\n",
       "      <td>Right handed</td>\n",
       "      <td>Other</td>\n",
       "      <td>White</td>\n",
       "      <td>Retired</td>\n",
       "    </tr>\n",
       "    <tr>\n",
       "      <th>13ba938814984873b73a70ef48e481c0</th>\n",
       "      <td>8.0</td>\n",
       "      <td>5554.0</td>\n",
       "      <td>tp1</td>\n",
       "      <td>8</td>\n",
       "      <td>5438.1786</td>\n",
       "      <td>17.0</td>\n",
       "      <td>Male</td>\n",
       "      <td>01_School</td>\n",
       "      <td>55.0</td>\n",
       "      <td>Right handed</td>\n",
       "      <td>UK</td>\n",
       "      <td>White</td>\n",
       "      <td>Unemployed/Looking for work</td>\n",
       "    </tr>\n",
       "    <tr>\n",
       "      <th>a7252125-ecf8-4985-adb9-bf93e89142ec</th>\n",
       "      <td>14.0</td>\n",
       "      <td>4410.0</td>\n",
       "      <td>tp1</td>\n",
       "      <td>22</td>\n",
       "      <td>5166.8000</td>\n",
       "      <td>11.0</td>\n",
       "      <td>Male</td>\n",
       "      <td>01_School</td>\n",
       "      <td>45.0</td>\n",
       "      <td>Left handed</td>\n",
       "      <td>UK</td>\n",
       "      <td>Asian or Asian British</td>\n",
       "      <td>Worker</td>\n",
       "    </tr>\n",
       "    <tr>\n",
       "      <th>1d5ed00c406a443f974cbf511695c9d5</th>\n",
       "      <td>10.0</td>\n",
       "      <td>3522.0</td>\n",
       "      <td>tp1</td>\n",
       "      <td>34</td>\n",
       "      <td>3429.1190</td>\n",
       "      <td>13.0</td>\n",
       "      <td>Male</td>\n",
       "      <td>01_School</td>\n",
       "      <td>26.0</td>\n",
       "      <td>Right handed</td>\n",
       "      <td>UK</td>\n",
       "      <td>White</td>\n",
       "      <td>Worker</td>\n",
       "    </tr>\n",
       "    <tr>\n",
       "      <th>a968d94b5d6344c6968c6ee840c5b944</th>\n",
       "      <td>11.0</td>\n",
       "      <td>4491.0</td>\n",
       "      <td>tp1</td>\n",
       "      <td>27</td>\n",
       "      <td>4087.0270</td>\n",
       "      <td>20.0</td>\n",
       "      <td>Male</td>\n",
       "      <td>02_Degree</td>\n",
       "      <td>57.0</td>\n",
       "      <td>Right handed</td>\n",
       "      <td>Other</td>\n",
       "      <td>White</td>\n",
       "      <td>Worker</td>\n",
       "    </tr>\n",
       "  </tbody>\n",
       "</table>\n",
       "</div>"
      ],
      "text/plain": [
       "                                      SummaryScore_Blocks  RT_Blocks  \\\n",
       "user_id                                                                \n",
       "ca8eba947d4c4c419321f26b85d89fc9                     11.0     4577.0   \n",
       "13ba938814984873b73a70ef48e481c0                      8.0     5554.0   \n",
       "a7252125-ecf8-4985-adb9-bf93e89142ec                 14.0     4410.0   \n",
       "1d5ed00c406a443f974cbf511695c9d5                     10.0     3522.0   \n",
       "a968d94b5d6344c6968c6ee840c5b944                     11.0     4491.0   \n",
       "\n",
       "                                     timepoint_by_site  \\\n",
       "user_id                                                  \n",
       "ca8eba947d4c4c419321f26b85d89fc9                   tp1   \n",
       "13ba938814984873b73a70ef48e481c0                   tp1   \n",
       "a7252125-ecf8-4985-adb9-bf93e89142ec               tp1   \n",
       "1d5ed00c406a443f974cbf511695c9d5                   tp1   \n",
       "a968d94b5d6344c6968c6ee840c5b944                   tp1   \n",
       "\n",
       "                                      SummaryScore_VerbalAnalogies  \\\n",
       "user_id                                                              \n",
       "ca8eba947d4c4c419321f26b85d89fc9                                15   \n",
       "13ba938814984873b73a70ef48e481c0                                 8   \n",
       "a7252125-ecf8-4985-adb9-bf93e89142ec                            22   \n",
       "1d5ed00c406a443f974cbf511695c9d5                                34   \n",
       "a968d94b5d6344c6968c6ee840c5b944                                27   \n",
       "\n",
       "                                      RT_VerbalAnalogies  \\\n",
       "user_id                                                    \n",
       "ca8eba947d4c4c419321f26b85d89fc9               6439.3600   \n",
       "13ba938814984873b73a70ef48e481c0               5438.1786   \n",
       "a7252125-ecf8-4985-adb9-bf93e89142ec           5166.8000   \n",
       "1d5ed00c406a443f974cbf511695c9d5               3429.1190   \n",
       "a968d94b5d6344c6968c6ee840c5b944               4087.0270   \n",
       "\n",
       "                                      SummaryScore_WordDefinitions   Sex  \\\n",
       "user_id                                                                    \n",
       "ca8eba947d4c4c419321f26b85d89fc9                              17.0  Male   \n",
       "13ba938814984873b73a70ef48e481c0                              17.0  Male   \n",
       "a7252125-ecf8-4985-adb9-bf93e89142ec                          11.0  Male   \n",
       "1d5ed00c406a443f974cbf511695c9d5                              13.0  Male   \n",
       "a968d94b5d6344c6968c6ee840c5b944                              20.0  Male   \n",
       "\n",
       "                                      Education   Age    Handedness Residence  \\\n",
       "user_id                                                                         \n",
       "ca8eba947d4c4c419321f26b85d89fc9      02_Degree  65.0  Right handed     Other   \n",
       "13ba938814984873b73a70ef48e481c0      01_School  55.0  Right handed        UK   \n",
       "a7252125-ecf8-4985-adb9-bf93e89142ec  01_School  45.0   Left handed        UK   \n",
       "1d5ed00c406a443f974cbf511695c9d5      01_School  26.0  Right handed        UK   \n",
       "a968d94b5d6344c6968c6ee840c5b944      02_Degree  57.0  Right handed     Other   \n",
       "\n",
       "                                                   Ethnicity  \\\n",
       "user_id                                                        \n",
       "ca8eba947d4c4c419321f26b85d89fc9                       White   \n",
       "13ba938814984873b73a70ef48e481c0                       White   \n",
       "a7252125-ecf8-4985-adb9-bf93e89142ec  Asian or Asian British   \n",
       "1d5ed00c406a443f974cbf511695c9d5                       White   \n",
       "a968d94b5d6344c6968c6ee840c5b944                       White   \n",
       "\n",
       "                                                       Occupation  \n",
       "user_id                                                            \n",
       "ca8eba947d4c4c419321f26b85d89fc9                          Retired  \n",
       "13ba938814984873b73a70ef48e481c0      Unemployed/Looking for work  \n",
       "a7252125-ecf8-4985-adb9-bf93e89142ec                       Worker  \n",
       "1d5ed00c406a443f974cbf511695c9d5                           Worker  \n",
       "a968d94b5d6344c6968c6ee840c5b944                           Worker  "
      ]
     },
     "execution_count": 137,
     "metadata": {},
     "output_type": "execute_result"
    }
   ],
   "source": [
    "df_merged.head()"
   ]
  },
  {
   "cell_type": "code",
   "execution_count": 138,
   "metadata": {},
   "outputs": [
    {
     "data": {
      "image/png": "[encoded data removed]",
      "text/plain": [
       "<Figure size 1080x360 with 3 Axes>"
      ]
     },
     "metadata": {
      "needs_background": "light"
     },
     "output_type": "display_data"
    }
   ],
   "source": [
    "plt.figure(figsize = (15, 5))\n",
    "plt.subplot(1,3,1)\n",
    "_ = plt.hist(df_merged.SummaryScore_Blocks, bins = 30)\n",
    "plt.subplot(1,3,2)\n",
    "_ = plt.hist(df_merged.SummaryScore_VerbalAnalogies, bins = 30)\n",
    "plt.subplot(1,3,3)\n",
    "_ = plt.hist(df_merged.SummaryScore_WordDefinitions, bins = 30)"
   ]
  },
  {
   "cell_type": "code",
   "execution_count": 139,
   "metadata": {},
   "outputs": [
    {
     "data": {
      "image/png": "[encoded data removed]",
      "text/plain": [
       "<Figure size 1080x360 with 3 Axes>"
      ]
     },
     "metadata": {
      "needs_background": "light"
     },
     "output_type": "display_data"
    }
   ],
   "source": [
    "plt.figure(figsize = (15, 5))\n",
    "plt.subplot(1,3,1)\n",
    "_ = plt.boxplot(df_merged.SummaryScore_Blocks)\n",
    "plt.subplot(1,3,2)\n",
    "_ = plt.boxplot(df_merged.SummaryScore_VerbalAnalogies)\n",
    "plt.subplot(1,3,3)\n",
    "_ = plt.boxplot(df_merged.SummaryScore_WordDefinitions)"
   ]
  },
  {
   "cell_type": "markdown",
   "metadata": {},
   "source": [
    "If you see any outliers in the boxplot, use the rank_inverse_transform function explained in the lectures to remove those outliers"
   ]
  },
  {
   "cell_type": "code",
   "execution_count": 140,
   "metadata": {},
   "outputs": [],
   "source": [
    "import rank_inv\n",
    "df_merged.SummaryScore_Blocks = rank_inv.rank_INT(df_merged.SummaryScore_Blocks)\n",
    "df_merged.SummaryScore_VerbalAnalogies = rank_inv.rank_INT(df_merged.SummaryScore_VerbalAnalogies)\n",
    "df_merged.SummaryScore_WordDefinitions = rank_inv.rank_INT(df_merged.SummaryScore_WordDefinitions)"
   ]
  },
  {
   "cell_type": "code",
   "execution_count": 141,
   "metadata": {},
   "outputs": [
    {
     "data": {
      "image/png": "[encoded data removed]",
      "text/plain": [
       "<Figure size 1080x360 with 3 Axes>"
      ]
     },
     "metadata": {
      "needs_background": "light"
     },
     "output_type": "display_data"
    }
   ],
   "source": [
    "plt.figure(figsize = (15, 5))\n",
    "plt.subplot(1,3,1)\n",
    "_ = plt.boxplot(df_merged.SummaryScore_Blocks)\n",
    "plt.subplot(1,3,2)\n",
    "_ = plt.boxplot(df_merged.SummaryScore_VerbalAnalogies)\n",
    "plt.subplot(1,3,3)\n",
    "_ = plt.boxplot(df_merged.SummaryScore_WordDefinitions)"
   ]
  },
  {
   "cell_type": "markdown",
   "metadata": {},
   "source": [
    "Obtain the overall counts of the demographics: how many people do you have for each sex, ethnicity, occupation? Try to represent it using a pie chart and/or a bar chart."
   ]
  },
  {
   "cell_type": "code",
   "execution_count": 144,
   "metadata": {},
   "outputs": [
    {
     "data": {
      "text/html": [
       "<div>\n",
       "<style scoped>\n",
       "    .dataframe tbody tr th:only-of-type {\n",
       "        vertical-align: middle;\n",
       "    }\n",
       "\n",
       "    .dataframe tbody tr th {\n",
       "        vertical-align: top;\n",
       "    }\n",
       "\n",
       "    .dataframe thead th {\n",
       "        text-align: right;\n",
       "    }\n",
       "</style>\n",
       "<table border=\"1\" class=\"dataframe\">\n",
       "  <thead>\n",
       "    <tr style=\"text-align: right;\">\n",
       "      <th></th>\n",
       "      <th>Sex</th>\n",
       "    </tr>\n",
       "  </thead>\n",
       "  <tbody>\n",
       "    <tr>\n",
       "      <th>Male</th>\n",
       "      <td>4132</td>\n",
       "    </tr>\n",
       "    <tr>\n",
       "      <th>Female</th>\n",
       "      <td>3263</td>\n",
       "    </tr>\n",
       "    <tr>\n",
       "      <th>Other</th>\n",
       "      <td>88</td>\n",
       "    </tr>\n",
       "  </tbody>\n",
       "</table>\n",
       "</div>"
      ],
      "text/plain": [
       "         Sex\n",
       "Male    4132\n",
       "Female  3263\n",
       "Other     88"
      ]
     },
     "execution_count": 144,
     "metadata": {},
     "output_type": "execute_result"
    }
   ],
   "source": [
    "count_sex = pd.DataFrame(df_merged[\"Sex\"].value_counts())\n",
    "count_sex"
   ]
  },
  {
   "cell_type": "code",
   "execution_count": 147,
   "metadata": {},
   "outputs": [
    {
     "data": {
      "text/plain": [
       "Male      4132\n",
       "Female    3263\n",
       "Other       88\n",
       "Name: Sex, dtype: int64"
      ]
     },
     "execution_count": 147,
     "metadata": {},
     "output_type": "execute_result"
    }
   ],
   "source": [
    "count_sex['Sex']"
   ]
  },
  {
   "cell_type": "code",
   "execution_count": 149,
   "metadata": {},
   "outputs": [
    {
     "data": {
      "text/plain": [
       "<BarContainer object of 3 artists>"
      ]
     },
     "execution_count": 149,
     "metadata": {},
     "output_type": "execute_result"
    },
    {
     "data": {
      "image/png": "[encoded data removed]",
      "text/plain": [
       "<Figure size 720x360 with 1 Axes>"
      ]
     },
     "metadata": {
      "needs_background": "light"
     },
     "output_type": "display_data"
    }
   ],
   "source": [
    "count_sex = pd.DataFrame(df_merged[\"Sex\"].value_counts())\n",
    "plt.figure(figsize = (10, 5))\n",
    "plt.bar(count_sex.index, count_sex['Sex'], color = \"orange\")"
   ]
  },
  {
   "cell_type": "code",
   "execution_count": 150,
   "metadata": {},
   "outputs": [
    {
     "data": {
      "text/plain": [
       "<BarContainer object of 4 artists>"
      ]
     },
     "execution_count": 150,
     "metadata": {},
     "output_type": "execute_result"
    },
    {
     "data": {
      "image/png": "[encoded data removed]",
      "text/plain": [
       "<Figure size 720x360 with 1 Axes>"
      ]
     },
     "metadata": {
      "needs_background": "light"
     },
     "output_type": "display_data"
    }
   ],
   "source": [
    "count_ed = pd.DataFrame(df_merged[\"Education\"].value_counts())\n",
    "plt.figure(figsize = (10, 5))\n",
    "plt.bar(count_ed.index, count_ed['Education'], color = \"blue\")"
   ]
  },
  {
   "cell_type": "code",
   "execution_count": 151,
   "metadata": {},
   "outputs": [
    {
     "data": {
      "text/plain": [
       "<BarContainer object of 6 artists>"
      ]
     },
     "execution_count": 151,
     "metadata": {},
     "output_type": "execute_result"
    },
    {
     "data": {
      "image/png": "[encoded data removed]",
      "text/plain": [
       "<Figure size 720x360 with 1 Axes>"
      ]
     },
     "metadata": {
      "needs_background": "light"
     },
     "output_type": "display_data"
    }
   ],
   "source": [
    "count_eth = pd.DataFrame(df_merged[\"Ethnicity\"].value_counts())\n",
    "plt.figure(figsize = (10, 5))\n",
    "plt.bar(count_eth.index, count_eth['Ethnicity'], color = \"green\")"
   ]
  },
  {
   "cell_type": "markdown",
   "metadata": {},
   "source": [
    "The words definition task is a language based task, so we would expect partcipants from the UK to perform better, or at least different, compared to participants from other non-english speaking countries. To verify this, we can run a t-test. Which t-test is the most appropriate? Check the decision tree."
   ]
  },
  {
   "cell_type": "markdown",
   "metadata": {},
   "source": [
    "IMPORTANT #1: in order to be able to run a t-test, you need to check if the data are normally distributed. To do this, you can use of the normality tests explained in the stats material.\n",
    "\n",
    "IMPORTANT #2: Since you are completing multiple comparisons at once, you need to correct the p-values for multiple comparisons. How would you do it?"
   ]
  },
  {
   "cell_type": "markdown",
   "metadata": {},
   "source": [
    "Once you have completed the analysis, try to interpret the results."
   ]
  },
  {
   "cell_type": "code",
   "execution_count": 154,
   "metadata": {},
   "outputs": [
    {
     "name": "stderr",
     "output_type": "stream",
     "text": [
      "/Library/Frameworks/Python.framework/Versions/3.10/lib/python3.10/site-packages/scipy/stats/_morestats.py:1800: UserWarning: p-value may not be accurate for N > 5000.\n",
      "  warnings.warn(\"p-value may not be accurate for N > 5000.\")\n"
     ]
    },
    {
     "data": {
      "text/plain": [
       "ShapiroResult(statistic=0.9999868869781494, pvalue=1.0)"
      ]
     },
     "execution_count": 154,
     "metadata": {},
     "output_type": "execute_result"
    }
   ],
   "source": [
    "stats.shapiro(df_merged.SummaryScore_WordDefinitions)"
   ]
  },
  {
   "cell_type": "code",
   "execution_count": 155,
   "metadata": {},
   "outputs": [
    {
     "name": "stderr",
     "output_type": "stream",
     "text": [
      "/Library/Frameworks/Python.framework/Versions/3.10/lib/python3.10/site-packages/scipy/stats/_morestats.py:1800: UserWarning: p-value may not be accurate for N > 5000.\n",
      "  warnings.warn(\"p-value may not be accurate for N > 5000.\")\n"
     ]
    },
    {
     "data": {
      "text/plain": [
       "ShapiroResult(statistic=0.9999868869781494, pvalue=1.0)"
      ]
     },
     "execution_count": 155,
     "metadata": {},
     "output_type": "execute_result"
    }
   ],
   "source": [
    "stats.shapiro(df_merged.SummaryScore_Blocks)"
   ]
  },
  {
   "cell_type": "code",
   "execution_count": 156,
   "metadata": {},
   "outputs": [
    {
     "name": "stderr",
     "output_type": "stream",
     "text": [
      "/Library/Frameworks/Python.framework/Versions/3.10/lib/python3.10/site-packages/scipy/stats/_morestats.py:1800: UserWarning: p-value may not be accurate for N > 5000.\n",
      "  warnings.warn(\"p-value may not be accurate for N > 5000.\")\n"
     ]
    },
    {
     "data": {
      "text/plain": [
       "ShapiroResult(statistic=0.9999868869781494, pvalue=1.0)"
      ]
     },
     "execution_count": 156,
     "metadata": {},
     "output_type": "execute_result"
    }
   ],
   "source": [
    "stats.shapiro(df_merged.SummaryScore_VerbalAnalogies)"
   ]
  },
  {
   "cell_type": "code",
   "execution_count": 159,
   "metadata": {},
   "outputs": [
    {
     "data": {
      "text/plain": [
       "user_id\n",
       "13ba938814984873b73a70ef48e481c0        0.043559\n",
       "a7252125-ecf8-4985-adb9-bf93e89142ec   -1.646849\n",
       "1d5ed00c406a443f974cbf511695c9d5       -1.125253\n",
       "a2013513-92a6-4485-b717-b701523dc8cd   -0.953388\n",
       "efa95315bf1d42a5adf08630a1682d6e       -0.459871\n",
       "                                          ...   \n",
       "3305ee07d5ab4141911c837c05518376        0.036519\n",
       "827bbfac-bb57-42ba-8dad-2e74ae3d31a4   -1.217013\n",
       "7103cf2e-ee29-4959-be61-34d0041446e8    1.563095\n",
       "0a48f36e7ca546788526732b609d519c       -1.515987\n",
       "9555f9b825b84bc29317965de7eacf93        1.963305\n",
       "Name: SummaryScore_WordDefinitions, Length: 6651, dtype: float64"
      ]
     },
     "execution_count": 159,
     "metadata": {},
     "output_type": "execute_result"
    }
   ],
   "source": [
    "british = df_merged.SummaryScore_WordDefinitions[df_merged.Residence == 'UK']\n",
    "non_british = df_merged.SummaryScore_WordDefinitions[df_merged.Residence == 'Other']\n",
    "british"
   ]
  },
  {
   "cell_type": "code",
   "execution_count": 160,
   "metadata": {},
   "outputs": [
    {
     "name": "stdout",
     "output_type": "stream",
     "text": [
      "0.14878978132322637\n",
      "1.4439682543621986\n",
      "0.0059018064211470616\n",
      "-0.04717898378251095\n"
     ]
    }
   ],
   "source": [
    "tstat, pval = stats.ttest_ind(british, non_british)\n",
    "print(pval)\n",
    "print(tstat)\n",
    "\n",
    "print(np.mean(british))\n",
    "print(np.mean(non_british))"
   ]
  },
  {
   "cell_type": "markdown",
   "metadata": {},
   "source": [
    "3. Age is well-known to be associated to cognitive performance. Can you check whether there is any correlation between the age of participants and their performance in the cognitive tests? What type of correlation test should you use?"
   ]
  },
  {
   "cell_type": "code",
   "execution_count": 161,
   "metadata": {},
   "outputs": [
    {
     "data": {
      "text/plain": [
       "(array([ 675., 1114., 1550., 1259., 1293., 1033.,  441.,  109.,    5.,\n",
       "           4.]),\n",
       " array([ 16. ,  24.4,  32.8,  41.2,  49.6,  58. ,  66.4,  74.8,  83.2,\n",
       "         91.6, 100. ]),\n",
       " <BarContainer object of 10 artists>)"
      ]
     },
     "execution_count": 161,
     "metadata": {},
     "output_type": "execute_result"
    },
    {
     "data": {
      "image/png": "[encoded data removed]",
      "text/plain": [
       "<Figure size 432x288 with 1 Axes>"
      ]
     },
     "metadata": {
      "needs_background": "light"
     },
     "output_type": "display_data"
    }
   ],
   "source": [
    "plt.hist(df_merged.Age)"
   ]
  },
  {
   "cell_type": "code",
   "execution_count": 162,
   "metadata": {},
   "outputs": [
    {
     "name": "stderr",
     "output_type": "stream",
     "text": [
      "/Library/Frameworks/Python.framework/Versions/3.10/lib/python3.10/site-packages/scipy/stats/_morestats.py:1800: UserWarning: p-value may not be accurate for N > 5000.\n",
      "  warnings.warn(\"p-value may not be accurate for N > 5000.\")\n"
     ]
    },
    {
     "data": {
      "text/plain": [
       "ShapiroResult(statistic=0.9861085414886475, pvalue=1.828360484511832e-26)"
      ]
     },
     "execution_count": 162,
     "metadata": {},
     "output_type": "execute_result"
    }
   ],
   "source": [
    "stats.shapiro(df_merged.Age)"
   ]
  },
  {
   "cell_type": "code",
   "execution_count": 164,
   "metadata": {},
   "outputs": [
    {
     "name": "stdout",
     "output_type": "stream",
     "text": [
      "0.3139051396392162\n",
      "8.938727901910954e-171\n"
     ]
    }
   ],
   "source": [
    "rvalue, pvalue = stats.spearmanr(df_merged.Age, df_merged.SummaryScore_WordDefinitions)\n",
    "print(rvalue)\n",
    "print(pvalue)"
   ]
  },
  {
   "cell_type": "code",
   "execution_count": 165,
   "metadata": {},
   "outputs": [
    {
     "data": {
      "text/plain": [
       "02_Degree     4464\n",
       "01_School     2449\n",
       "03_PhD         352\n",
       "00_preGCSE     218\n",
       "Name: Education, dtype: int64"
      ]
     },
     "execution_count": 165,
     "metadata": {},
     "output_type": "execute_result"
    }
   ],
   "source": [
    "df_merged.Education.value_counts()"
   ]
  },
  {
   "cell_type": "code",
   "execution_count": 167,
   "metadata": {},
   "outputs": [],
   "source": [
    "no_school = df_merged.SummaryScore_WordDefinitions[df_merged.Education == '00_preGCSE']\n",
    "school = df_merged.SummaryScore_WordDefinitions[df_merged.Education == '01_School']\n",
    "degree = df_merged.SummaryScore_WordDefinitions[df_merged.Education == '02_Degree']\n",
    "phd = df_merged.SummaryScore_WordDefinitions[df_merged.Education == '03_PhD']"
   ]
  },
  {
   "cell_type": "markdown",
   "metadata": {},
   "source": [
    "4. Another interesting thing to investigate is whether there is a difference in cognitive performance among the participants with different educations. To be able to do this, since the educational backgrounds are more than two, you need to run an ANOVA. Which ANOVA should you run?"
   ]
  },
  {
   "cell_type": "code",
   "execution_count": 168,
   "metadata": {},
   "outputs": [
    {
     "name": "stdout",
     "output_type": "stream",
     "text": [
      "120.72197250283021 2.3650413320781765e-76\n"
     ]
    }
   ],
   "source": [
    "fstat, pval = stats.f_oneway(no_school, school, degree, phd)\n",
    "print(fstat,pval)"
   ]
  },
  {
   "cell_type": "markdown",
   "metadata": {},
   "source": [
    "5. Do you think we can predict the score in different cognitive tasks based on the demographics? To find out, let's build one (or more) multiple linear regression models that try to predict the cognitive score in one (or more) tasks.\n",
    "\n",
    "IMPORTANT: It would be better to hot-encode the categorical variable for education and to input the age data in decades rather than as a continuous variables.\n",
    "\n",
    "Interpret the meaning of the output results."
   ]
  },
  {
   "cell_type": "code",
   "execution_count": 170,
   "metadata": {},
   "outputs": [],
   "source": [
    "df_final = pd.get_dummies(data = df_merged, columns= ['Education'])"
   ]
  },
  {
   "cell_type": "code",
   "execution_count": 172,
   "metadata": {},
   "outputs": [],
   "source": [
    "age_decades = df_final.Age/10\n",
    "age_decades= age_decades.astype(int)*10"
   ]
  },
  {
   "cell_type": "code",
   "execution_count": null,
   "metadata": {},
   "outputs": [],
   "source": [
    "df_final.Age = age_decades"
   ]
  },
  {
   "cell_type": "code",
   "execution_count": 175,
   "metadata": {},
   "outputs": [
    {
     "name": "stdout",
     "output_type": "stream",
     "text": [
      "                                 OLS Regression Results                                 \n",
      "========================================================================================\n",
      "Dep. Variable:     SummaryScore_WordDefinitions   R-squared:                       0.158\n",
      "Model:                                      OLS   Adj. R-squared:                  0.157\n",
      "Method:                           Least Squares   F-statistic:                     233.6\n",
      "Date:                          Wed, 09 Nov 2022   Prob (F-statistic):          2.19e-274\n",
      "Time:                                  17:55:01   Log-Likelihood:                -9972.5\n",
      "No. Observations:                          7483   AIC:                         1.996e+04\n",
      "Df Residuals:                              7476   BIC:                         2.001e+04\n",
      "Df Model:                                     6                                         \n",
      "Covariance Type:                      nonrobust                                         \n",
      "========================================================================================\n",
      "                           coef    std err          t      P>|t|      [0.025      0.975]\n",
      "----------------------------------------------------------------------------------------\n",
      "Intercept               -0.9112      0.033    -27.839      0.000      -0.975      -0.847\n",
      "Sex[T.Male]              0.0351      0.022      1.633      0.103      -0.007       0.077\n",
      "Sex[T.Other]             0.0411      0.099      0.414      0.679      -0.154       0.236\n",
      "Age                      0.0227      0.001     31.482      0.000       0.021       0.024\n",
      "Education_00_preGCSE    -0.7832      0.052    -15.161      0.000      -0.885      -0.682\n",
      "Education_01_School     -0.4008      0.023    -17.278      0.000      -0.446      -0.355\n",
      "Education_02_Degree      0.0353      0.021      1.723      0.085      -0.005       0.076\n",
      "Education_03_PhD         0.2375      0.042      5.688      0.000       0.156       0.319\n",
      "==============================================================================\n",
      "Omnibus:                       12.970   Durbin-Watson:                   1.974\n",
      "Prob(Omnibus):                  0.002   Jarque-Bera (JB):               15.222\n",
      "Skew:                           0.028   Prob(JB):                     0.000495\n",
      "Kurtosis:                       3.214   Cond. No.                     3.47e+16\n",
      "==============================================================================\n",
      "\n",
      "Notes:\n",
      "[1] Standard Errors assume that the covariance matrix of the errors is correctly specified.\n",
      "[2] The smallest eigenvalue is 1.37e-26. This might indicate that there are\n",
      "strong multicollinearity problems or that the design matrix is singular.\n"
     ]
    }
   ],
   "source": [
    "model = sm.OLS.from_formula('SummaryScore_WordDefinitions ~ Age + Sex + Education_00_preGCSE + Education_01_School + Education_02_Degree + Education_03_PhD', data = df_final) #Here we mention the variable names we want to include and the dataset\n",
    "results = model.fit() #Then we run the regression model\n",
    "print(results.summary()) #Finally, we tell Python to create a summary of all the results and print it"
   ]
  }
 ],
 "metadata": {
  "kernelspec": {
   "display_name": "Python 3.10.5 64-bit",
   "language": "python",
   "name": "python3"
  },
  "language_info": {
   "codemirror_mode": {
    "name": "ipython",
    "version": 3
   },
   "file_extension": ".py",
   "mimetype": "text/x-python",
   "name": "python",
   "nbconvert_exporter": "python",
   "pygments_lexer": "ipython3",
   "version": "3.10.5"
  },
  "orig_nbformat": 4,
  "vscode": {
   "interpreter": {
    "hash": "aee8b7b246df8f9039afb4144a1f6fd8d2ca17a180786b69acc140d282b71a49"
   }
  }
 },
 "nbformat": 4,
 "nbformat_minor": 2
}
