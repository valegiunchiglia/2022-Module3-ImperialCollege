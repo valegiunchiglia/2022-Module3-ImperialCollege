{
 "cells": [
  {
   "cell_type": "markdown",
   "metadata": {},
   "source": [
    "# Exercise 8: Analysis of Taylor Swift's songs (⭐️⭐️⭐️)\n",
    "\n",
    "Since Taylor Swift is one of the best artists of our time, we thought she deserved a spotlight in our exercises. The data presented in this exercise is collected via Spotify and it contains all of her songs/albums up until 2020, together with information about each song such as popularity and danceability. In this exercise we want you to analyse some of this data and find out more about Taylor. Who knows, you might even discover a song or two that you like?\n",
    "\n",
    "**IMPORTANT:** To be able to complete this exercise you must have completed the statistical theory and coding tutorial.\n",
    "\n",
    "Below is a description of the dataset.\n",
    "\n",
    "- name - Name of song\n",
    "- album - Name of album\n",
    "- artist - Name of artist/s involved\n",
    "- release_date - Release date of album\n",
    "- length - Song length in milliseconds\n",
    "- popularity - Percent popularity of the song based on Spotify's algorithm (possibly the number of stream at a certain period of time)\n",
    "- danceability - How suitable a track is for dancing based on a combination of musical elements including tempo, rhythm stability, beat strength, and overall regularity\n",
    "- acousticness - How acoustic a song is\n",
    "- energy - A perceptual measure of intensity and activity\n",
    "- instrumentalness - Te amount of vocals in the song\n",
    "- liveness - Probability that the song was recorded with a live audience\n",
    "- loudness - Tdency o of music to be recorded at steadily higher volumes\n",
    "- speechiness - Presence of spoken words in a track (if the speechiness of a song is above 0.66, it is probably made of spoken words, a score between 0.33 and 0.66 is a song that may contain both music and words, and a score below 0.33 means the song does not have any speech)\n",
    "- valence - A measure of how happy or sad the song sounds\n",
    "- tempo - Beats per minute\n",
    "\n",
    "Note to Swifties: Unfortuntely the dataset does not contain the re-recorded albums (e.g. Taylor's Versions), though that might be a blessing in disguise as the 10-minute version of All Too Well would have likely skewed your statistical results.\n",
    "\n",
    "Using the dataset, address the following exercises:\n",
    "\n",
    "**Exploratory Analsysis**\n",
    "\n",
    "1. Read the csv file using a dataframe\n",
    "2. What are Taylor's most popular and least popular songs?\n",
    "3. Which album had the highest popularity and when was it published?\n",
    "4. Which songs are the most danceable?\n",
    "5. Are danceable songs more popular than accoustic ones?\n",
    "6. Notice that the length of the songs is stored in milliseconds. Although accurate, those measures are not very interpretable. Figure out a way to convert the song length to minutes, then find her longest song. Furthermore, correlate the song length with a measure of popularity. Are long songs more popular?\n",
    "7. Which songs are more popular, her sad songs or her happy songs? <br> <br>\n",
    "**HINT:** The quickest way to understand your data is to visualize it\n",
    "\n",
    "**Data Analysis**\n",
    "\n",
    "Now that we had a good look at the data, we might wonder, what makes a song popular? Is it its tempo, its danceability or it its length? Or perhaps is it mainly the lyrics and the songrwriting that make her songs popular?\n",
    "\n",
    "8. Correlate different song features and find out which ones are the most closely related and how.\n",
    "9. Predict the popularity of a song using its tempo, danceability and length via a linear regression. Also control for the album, as some albums are more popular than others. Feel free to include other features that you may have found useful in the previous analysis\n",
    "10. Use an ANOVA to determine whether there is a statistically significant difference in popularity and speechiness across albums. <br> <br>\n",
    "**HINT:** Before you run any of your analyses, make sure you follow all the appropiate data visualisation and pre-processing steps, such as checking for missing values, removing outliers and determining whether or not your data is normally distributed."
   ]
  },
  {
   "cell_type": "code",
   "execution_count": 197,
   "metadata": {},
   "outputs": [],
   "source": [
    "%matplotlib inline\n",
    "import pandas as pd\n",
    "import matplotlib.pyplot as plt\n",
    "import numpy as np\n",
    "from scipy import stats\n",
    "import statsmodels.api as sm"
   ]
  },
  {
   "cell_type": "code",
   "execution_count": 198,
   "metadata": {},
   "outputs": [
    {
     "data": {
      "text/html": [
       "<div>\n",
       "<style scoped>\n",
       "    .dataframe tbody tr th:only-of-type {\n",
       "        vertical-align: middle;\n",
       "    }\n",
       "\n",
       "    .dataframe tbody tr th {\n",
       "        vertical-align: top;\n",
       "    }\n",
       "\n",
       "    .dataframe thead th {\n",
       "        text-align: right;\n",
       "    }\n",
       "</style>\n",
       "<table border=\"1\" class=\"dataframe\">\n",
       "  <thead>\n",
       "    <tr style=\"text-align: right;\">\n",
       "      <th></th>\n",
       "      <th>Unnamed: 0</th>\n",
       "      <th>name</th>\n",
       "      <th>album</th>\n",
       "      <th>artist</th>\n",
       "      <th>release_date</th>\n",
       "      <th>length</th>\n",
       "      <th>popularity</th>\n",
       "      <th>danceability</th>\n",
       "      <th>acousticness</th>\n",
       "      <th>energy</th>\n",
       "      <th>instrumentalness</th>\n",
       "      <th>liveness</th>\n",
       "      <th>loudness</th>\n",
       "      <th>speechiness</th>\n",
       "      <th>valence</th>\n",
       "      <th>tempo</th>\n",
       "    </tr>\n",
       "  </thead>\n",
       "  <tbody>\n",
       "    <tr>\n",
       "      <th>0</th>\n",
       "      <td>0</td>\n",
       "      <td>Tim McGraw</td>\n",
       "      <td>Taylor Swift</td>\n",
       "      <td>Taylor Swift</td>\n",
       "      <td>2006-10-24</td>\n",
       "      <td>232106</td>\n",
       "      <td>49</td>\n",
       "      <td>0.580</td>\n",
       "      <td>0.575</td>\n",
       "      <td>0.491</td>\n",
       "      <td>0.0</td>\n",
       "      <td>0.1210</td>\n",
       "      <td>-6.462</td>\n",
       "      <td>0.0251</td>\n",
       "      <td>0.425</td>\n",
       "      <td>76.009</td>\n",
       "    </tr>\n",
       "    <tr>\n",
       "      <th>1</th>\n",
       "      <td>1</td>\n",
       "      <td>Picture To Burn</td>\n",
       "      <td>Taylor Swift</td>\n",
       "      <td>Taylor Swift</td>\n",
       "      <td>2006-10-24</td>\n",
       "      <td>173066</td>\n",
       "      <td>54</td>\n",
       "      <td>0.658</td>\n",
       "      <td>0.173</td>\n",
       "      <td>0.877</td>\n",
       "      <td>0.0</td>\n",
       "      <td>0.0962</td>\n",
       "      <td>-2.098</td>\n",
       "      <td>0.0323</td>\n",
       "      <td>0.821</td>\n",
       "      <td>105.586</td>\n",
       "    </tr>\n",
       "    <tr>\n",
       "      <th>2</th>\n",
       "      <td>2</td>\n",
       "      <td>Teardrops On My Guitar - Radio Single Remix</td>\n",
       "      <td>Taylor Swift</td>\n",
       "      <td>Taylor Swift</td>\n",
       "      <td>2006-10-24</td>\n",
       "      <td>203040</td>\n",
       "      <td>59</td>\n",
       "      <td>0.621</td>\n",
       "      <td>0.288</td>\n",
       "      <td>0.417</td>\n",
       "      <td>0.0</td>\n",
       "      <td>0.1190</td>\n",
       "      <td>-6.941</td>\n",
       "      <td>0.0231</td>\n",
       "      <td>0.289</td>\n",
       "      <td>99.953</td>\n",
       "    </tr>\n",
       "    <tr>\n",
       "      <th>3</th>\n",
       "      <td>3</td>\n",
       "      <td>A Place in this World</td>\n",
       "      <td>Taylor Swift</td>\n",
       "      <td>Taylor Swift</td>\n",
       "      <td>2006-10-24</td>\n",
       "      <td>199200</td>\n",
       "      <td>49</td>\n",
       "      <td>0.576</td>\n",
       "      <td>0.051</td>\n",
       "      <td>0.777</td>\n",
       "      <td>0.0</td>\n",
       "      <td>0.3200</td>\n",
       "      <td>-2.881</td>\n",
       "      <td>0.0324</td>\n",
       "      <td>0.428</td>\n",
       "      <td>115.028</td>\n",
       "    </tr>\n",
       "    <tr>\n",
       "      <th>4</th>\n",
       "      <td>4</td>\n",
       "      <td>Cold As You</td>\n",
       "      <td>Taylor Swift</td>\n",
       "      <td>Taylor Swift</td>\n",
       "      <td>2006-10-24</td>\n",
       "      <td>239013</td>\n",
       "      <td>50</td>\n",
       "      <td>0.418</td>\n",
       "      <td>0.217</td>\n",
       "      <td>0.482</td>\n",
       "      <td>0.0</td>\n",
       "      <td>0.1230</td>\n",
       "      <td>-5.769</td>\n",
       "      <td>0.0266</td>\n",
       "      <td>0.261</td>\n",
       "      <td>175.558</td>\n",
       "    </tr>\n",
       "  </tbody>\n",
       "</table>\n",
       "</div>"
      ],
      "text/plain": [
       "   Unnamed: 0                                         name         album  \\\n",
       "0           0                                   Tim McGraw  Taylor Swift   \n",
       "1           1                              Picture To Burn  Taylor Swift   \n",
       "2           2  Teardrops On My Guitar - Radio Single Remix  Taylor Swift   \n",
       "3           3                        A Place in this World  Taylor Swift   \n",
       "4           4                                  Cold As You  Taylor Swift   \n",
       "\n",
       "         artist release_date  length  popularity  danceability  acousticness  \\\n",
       "0  Taylor Swift   2006-10-24  232106          49         0.580         0.575   \n",
       "1  Taylor Swift   2006-10-24  173066          54         0.658         0.173   \n",
       "2  Taylor Swift   2006-10-24  203040          59         0.621         0.288   \n",
       "3  Taylor Swift   2006-10-24  199200          49         0.576         0.051   \n",
       "4  Taylor Swift   2006-10-24  239013          50         0.418         0.217   \n",
       "\n",
       "   energy  instrumentalness  liveness  loudness  speechiness  valence    tempo  \n",
       "0   0.491               0.0    0.1210    -6.462       0.0251    0.425   76.009  \n",
       "1   0.877               0.0    0.0962    -2.098       0.0323    0.821  105.586  \n",
       "2   0.417               0.0    0.1190    -6.941       0.0231    0.289   99.953  \n",
       "3   0.777               0.0    0.3200    -2.881       0.0324    0.428  115.028  \n",
       "4   0.482               0.0    0.1230    -5.769       0.0266    0.261  175.558  "
      ]
     },
     "execution_count": 198,
     "metadata": {},
     "output_type": "execute_result"
    }
   ],
   "source": [
    "path_to_file = '../Day1/Data/spotify_taylorswift.csv'\n",
    "df = pd.read_csv(path_to_file)\n",
    "df.head()"
   ]
  },
  {
   "cell_type": "code",
   "execution_count": 199,
   "metadata": {},
   "outputs": [
    {
     "name": "stdout",
     "output_type": "stream",
     "text": [
      "Top 3 most popular songs are\n",
      "60     Blank Space\n",
      "64    Shake It Off\n",
      "Name: name, dtype: object\n",
      "The top 3 least popular songs are\n",
      "76    I Wish You Would - Voice Memo\n",
      "75       I Know Places - Voice Memo\n",
      "77         Blank Space - Voice Memo\n",
      "Name: name, dtype: object\n"
     ]
    }
   ],
   "source": [
    "#What are Taylor's most popular and least popular songs?\n",
    "\n",
    "df_sorted = df.sort_values(by=\"popularity\", ascending = False)\n",
    "print(\"Top 3 most popular songs are\")\n",
    "print(df_sorted.name.iloc[0:3])\n",
    "print(\"The top 3 least popular songs are\")\n",
    "print(df_sorted.name.iloc[-3:])"
   ]
  },
  {
   "cell_type": "markdown",
   "metadata": {},
   "source": [
    "Notice that all the least popular songs seem to be voice memos. Should we even consider these as songs? Later on, we will decide whether we want to exclude those or not from our data."
   ]
  },
  {
   "cell_type": "code",
   "execution_count": 200,
   "metadata": {},
   "outputs": [
    {
     "name": "stdout",
     "output_type": "stream",
     "text": [
      "['2019-08-23']\n"
     ]
    },
    {
     "data": {
      "image/png": "[encoded data removed]",
      "text/plain": [
       "<Figure size 432x288 with 1 Axes>"
      ]
     },
     "metadata": {
      "needs_background": "light"
     },
     "output_type": "display_data"
    }
   ],
   "source": [
    "#Which album had the highest popularity and when was it published?\n",
    "\n",
    "albums = np.unique(df.album)\n",
    "album_popularity =[];\n",
    "for name in albums:\n",
    "    df_album = df[df.album == name]\n",
    "    album_popularity.append(df_album.popularity.mean())\n",
    "\n",
    "\n",
    "plt.bar(albums, album_popularity)\n",
    "plt.title(\"Popularity of albums\")\n",
    "_ = plt.xticks(rotation=90)\n",
    "\n",
    "release_date_lover = np.unique(df.release_date[df.album == 'Lover'])\n",
    "print(release_date_lover)\n"
   ]
  },
  {
   "cell_type": "code",
   "execution_count": 201,
   "metadata": {},
   "outputs": [
    {
     "name": "stdout",
     "output_type": "stream",
     "text": [
      "Top 3 most danceable songs are\n",
      "98                          I Think He Knows\n",
      "56     Treacherous - Original Demo Recording\n",
      "101                          Cornelia Street\n",
      "Name: name, dtype: object\n"
     ]
    }
   ],
   "source": [
    "#Which songs are the most danceable?\n",
    "\n",
    "df_sorted_danceability = df.sort_values(by=\"danceability\", ascending = False)\n",
    "df_sorted_danceability.head()\n",
    "print(\"Top 3 most danceable songs are\")\n",
    "print(df_sorted_danceability.name.iloc[0:3])\n"
   ]
  },
  {
   "cell_type": "code",
   "execution_count": 202,
   "metadata": {},
   "outputs": [
    {
     "data": {
      "image/png": "[encoded data removed]",
      "text/plain": [
       "<Figure size 432x288 with 1 Axes>"
      ]
     },
     "metadata": {
      "needs_background": "light"
     },
     "output_type": "display_data"
    }
   ],
   "source": [
    "#Are danceable songs more popular than accoustic ones?\n",
    "\n",
    "df_sorted_danceability = df.sort_values(by=\"danceability\", ascending = False)\n",
    "top_10_danceability = df_sorted_danceability.head(20)\n",
    "danceability_popularity = df_sorted_danceability.popularity.iloc[0:19]\n",
    "\n",
    "df_sorted_acousticness = df.sort_values(by=\"acousticness\", ascending = False)\n",
    "top_10_acousticness = df_sorted_acousticness.head(10)\n",
    "acousticness_popularity = df_sorted_acousticness.popularity.iloc[0:19]\n",
    "\n",
    "plt.figure(figsize = (6, 4))\n",
    "plt.title(\"Popularity of songs\")\n",
    "_ = plt.boxplot([danceability_popularity, acousticness_popularity])\n",
    "_ = plt.xticks([1, 2],[\"Danceable Songs\", \"Acoustic Songs\"])\n",
    "\n",
    "# You can also run statistics on this to see if you have a significant difference between groups. \n",
    "# Feel free to modify this and add your own code.\n"
   ]
  },
  {
   "cell_type": "code",
   "execution_count": 203,
   "metadata": {},
   "outputs": [
    {
     "name": "stdout",
     "output_type": "stream",
     "text": [
      "The longest song of Taylor Swift is called Dear John\n",
      "0.011771579230012099\n",
      "0.8785484122130801\n"
     ]
    },
    {
     "data": {
      "image/png": "[encoded data removed]",
      "text/plain": [
       "<Figure size 1080x360 with 2 Axes>"
      ]
     },
     "metadata": {
      "needs_background": "light"
     },
     "output_type": "display_data"
    }
   ],
   "source": [
    "# Notice that the length of the songs is stored in milliseconds. Although accurate, those measures are not very interpretable. \n",
    "# Figure out a way to convert the song length to minutes, then find her longest song. \n",
    "# Furthermore, correlate the song length with a measure of popularity. Are long songs more popular?\n",
    "\n",
    "df_length_in_mins = (df.length/1000)/60\n",
    "df.length = df_length_in_mins\n",
    "\n",
    "df_sorted_by_song_length = df.sort_values(by=\"length\", ascending = False)\n",
    "longest_song = df_sorted_by_song_length.name.iloc[0]\n",
    "print(\"The longest song of Taylor Swift is called \" + longest_song) \n",
    "\n",
    "plt.figure(figsize = (15, 5))\n",
    "plt.subplot(1,2,1)\n",
    "plt.hist(df_length_in_mins)\n",
    "plt.title(\"Length of songs in minutes\")\n",
    "plt.ylabel(\"Number of songs\")\n",
    "plt.xlabel(\"Number of minutes\")\n",
    "plt.subplot(1,2,2)\n",
    "plt.scatter(df.length,df.popularity)\n",
    "\n",
    "rvalue, pvalue = stats.pearsonr(df.length,df.popularity)\n",
    "print(rvalue)\n",
    "print(pvalue)"
   ]
  },
  {
   "cell_type": "code",
   "execution_count": 204,
   "metadata": {},
   "outputs": [
    {
     "data": {
      "image/png": "[encoded data removed]",
      "text/plain": [
       "<Figure size 432x288 with 1 Axes>"
      ]
     },
     "metadata": {
      "needs_background": "light"
     },
     "output_type": "display_data"
    }
   ],
   "source": [
    "#Which songs are more popular, her sad songs or her happy songs?\n",
    "\n",
    "df_sorted_valence = df.sort_values(by=\"valence\")\n",
    "df_sad = df_sorted_valence.iloc[0:19]\n",
    "df_happy = df_sorted_valence.iloc[-20:,:]\n",
    "\n",
    "plt.figure(figsize = (6, 4))\n",
    "plt.title(\"Popularity of songs\")\n",
    "_ = plt.boxplot([df_sad.popularity, df_happy.popularity])\n",
    "_ = plt.xticks([1, 2],[\"Sad Songs\", \"Happy Songs\"])\n"
   ]
  },
  {
   "cell_type": "markdown",
   "metadata": {},
   "source": [
    "Before we do any data analysis on the data, it's important we do some minimal cleaning, see if the data is normally distributed and check for outliers. The quickest way to do this is to visualise your data."
   ]
  },
  {
   "cell_type": "code",
   "execution_count": 205,
   "metadata": {},
   "outputs": [
    {
     "data": {
      "text/plain": [
       "(array([ 3.,  0.,  0.,  0.,  0., 22., 15., 75., 36., 20.]),\n",
       " array([ 0. ,  8.2, 16.4, 24.6, 32.8, 41. , 49.2, 57.4, 65.6, 73.8, 82. ]),\n",
       " <BarContainer object of 10 artists>)"
      ]
     },
     "execution_count": 205,
     "metadata": {},
     "output_type": "execute_result"
    },
    {
     "data": {
      "image/png": "[encoded data removed]",
      "text/plain": [
       "<Figure size 432x288 with 1 Axes>"
      ]
     },
     "metadata": {
      "needs_background": "light"
     },
     "output_type": "display_data"
    }
   ],
   "source": [
    "df = pd.read_csv(path_to_file)\n",
    "plt.hist(df.popularity)"
   ]
  },
  {
   "cell_type": "markdown",
   "metadata": {},
   "source": [
    "Here we can clearly see that some songs have 0 popularity, making them stand out from the others. Let's check the names of these songs."
   ]
  },
  {
   "cell_type": "code",
   "execution_count": 206,
   "metadata": {},
   "outputs": [
    {
     "data": {
      "text/html": [
       "<div>\n",
       "<style scoped>\n",
       "    .dataframe tbody tr th:only-of-type {\n",
       "        vertical-align: middle;\n",
       "    }\n",
       "\n",
       "    .dataframe tbody tr th {\n",
       "        vertical-align: top;\n",
       "    }\n",
       "\n",
       "    .dataframe thead th {\n",
       "        text-align: right;\n",
       "    }\n",
       "</style>\n",
       "<table border=\"1\" class=\"dataframe\">\n",
       "  <thead>\n",
       "    <tr style=\"text-align: right;\">\n",
       "      <th></th>\n",
       "      <th>Unnamed: 0</th>\n",
       "      <th>name</th>\n",
       "      <th>album</th>\n",
       "      <th>artist</th>\n",
       "      <th>release_date</th>\n",
       "      <th>length</th>\n",
       "      <th>popularity</th>\n",
       "      <th>danceability</th>\n",
       "      <th>acousticness</th>\n",
       "      <th>energy</th>\n",
       "      <th>instrumentalness</th>\n",
       "      <th>liveness</th>\n",
       "      <th>loudness</th>\n",
       "      <th>speechiness</th>\n",
       "      <th>valence</th>\n",
       "      <th>tempo</th>\n",
       "    </tr>\n",
       "  </thead>\n",
       "  <tbody>\n",
       "    <tr>\n",
       "      <th>75</th>\n",
       "      <td>75</td>\n",
       "      <td>I Know Places - Voice Memo</td>\n",
       "      <td>1989 (Deluxe)</td>\n",
       "      <td>Taylor Swift</td>\n",
       "      <td>2014-01-01</td>\n",
       "      <td>216333</td>\n",
       "      <td>0</td>\n",
       "      <td>0.592</td>\n",
       "      <td>0.829</td>\n",
       "      <td>0.128</td>\n",
       "      <td>0.0</td>\n",
       "      <td>0.527</td>\n",
       "      <td>-17.932</td>\n",
       "      <td>0.589</td>\n",
       "      <td>0.150</td>\n",
       "      <td>78.828</td>\n",
       "    </tr>\n",
       "    <tr>\n",
       "      <th>76</th>\n",
       "      <td>76</td>\n",
       "      <td>I Wish You Would - Voice Memo</td>\n",
       "      <td>1989 (Deluxe)</td>\n",
       "      <td>Taylor Swift</td>\n",
       "      <td>2014-01-01</td>\n",
       "      <td>107133</td>\n",
       "      <td>0</td>\n",
       "      <td>0.781</td>\n",
       "      <td>0.717</td>\n",
       "      <td>0.357</td>\n",
       "      <td>0.0</td>\n",
       "      <td>0.185</td>\n",
       "      <td>-16.394</td>\n",
       "      <td>0.912</td>\n",
       "      <td>0.645</td>\n",
       "      <td>118.317</td>\n",
       "    </tr>\n",
       "    <tr>\n",
       "      <th>77</th>\n",
       "      <td>77</td>\n",
       "      <td>Blank Space - Voice Memo</td>\n",
       "      <td>1989 (Deluxe)</td>\n",
       "      <td>Taylor Swift</td>\n",
       "      <td>2014-01-01</td>\n",
       "      <td>131186</td>\n",
       "      <td>0</td>\n",
       "      <td>0.675</td>\n",
       "      <td>0.801</td>\n",
       "      <td>0.234</td>\n",
       "      <td>0.0</td>\n",
       "      <td>0.657</td>\n",
       "      <td>-15.064</td>\n",
       "      <td>0.721</td>\n",
       "      <td>0.578</td>\n",
       "      <td>127.296</td>\n",
       "    </tr>\n",
       "  </tbody>\n",
       "</table>\n",
       "</div>"
      ],
      "text/plain": [
       "    Unnamed: 0                           name          album        artist  \\\n",
       "75          75     I Know Places - Voice Memo  1989 (Deluxe)  Taylor Swift   \n",
       "76          76  I Wish You Would - Voice Memo  1989 (Deluxe)  Taylor Swift   \n",
       "77          77       Blank Space - Voice Memo  1989 (Deluxe)  Taylor Swift   \n",
       "\n",
       "   release_date  length  popularity  danceability  acousticness  energy  \\\n",
       "75   2014-01-01  216333           0         0.592         0.829   0.128   \n",
       "76   2014-01-01  107133           0         0.781         0.717   0.357   \n",
       "77   2014-01-01  131186           0         0.675         0.801   0.234   \n",
       "\n",
       "    instrumentalness  liveness  loudness  speechiness  valence    tempo  \n",
       "75               0.0     0.527   -17.932        0.589    0.150   78.828  \n",
       "76               0.0     0.185   -16.394        0.912    0.645  118.317  \n",
       "77               0.0     0.657   -15.064        0.721    0.578  127.296  "
      ]
     },
     "execution_count": 206,
     "metadata": {},
     "output_type": "execute_result"
    }
   ],
   "source": [
    "df[df.popularity < 20]"
   ]
  },
  {
   "cell_type": "markdown",
   "metadata": {},
   "source": [
    "We can see that all 3 of them are voice memos and if we were to go to spotify and listen to those, we would notice that they are not actually songs, but short descriptions of the songs that Taylor included as bonus content on the 1989 album. That gives us enough reason to remove them from our dataset."
   ]
  },
  {
   "cell_type": "code",
   "execution_count": 207,
   "metadata": {},
   "outputs": [
    {
     "data": {
      "text/plain": [
       "(array([ 5., 22.,  7.,  8., 36., 44., 16., 16., 11.,  3.]),\n",
       " array([43. , 46.9, 50.8, 54.7, 58.6, 62.5, 66.4, 70.3, 74.2, 78.1, 82. ]),\n",
       " <BarContainer object of 10 artists>)"
      ]
     },
     "execution_count": 207,
     "metadata": {},
     "output_type": "execute_result"
    },
    {
     "data": {
      "image/png": "[encoded data removed]",
      "text/plain": [
       "<Figure size 1080x360 with 2 Axes>"
      ]
     },
     "metadata": {
      "needs_background": "light"
     },
     "output_type": "display_data"
    }
   ],
   "source": [
    "\n",
    "plt.figure(figsize = (15, 5))\n",
    "plt.subplot(1,2,1)\n",
    "plt.title('Popularity data before removal of outliers')\n",
    "plt.hist(df.popularity)\n",
    "plt.subplot(1,2,2)\n",
    "plt.title('Popularity data after removal of outliers')\n",
    "df = df[df.popularity != 0]\n",
    "plt.hist(df.popularity)"
   ]
  },
  {
   "cell_type": "markdown",
   "metadata": {},
   "source": [
    "Now let's check the distributions of the remaining variables "
   ]
  },
  {
   "cell_type": "code",
   "execution_count": 208,
   "metadata": {},
   "outputs": [
    {
     "data": {
      "text/plain": [
       "Text(0.5, 1.0, 'Energy')"
      ]
     },
     "execution_count": 208,
     "metadata": {},
     "output_type": "execute_result"
    },
    {
     "data": {
      "image/png": "[encoded data removed]",
      "text/plain": [
       "<Figure size 1080x360 with 4 Axes>"
      ]
     },
     "metadata": {
      "needs_background": "light"
     },
     "output_type": "display_data"
    }
   ],
   "source": [
    "plt.figure(figsize = (15, 5))\n",
    "plt.subplot(1,4,1)\n",
    "plt.hist(df.length/1000/60)\n",
    "plt.title('Length of songs in minutes')\n",
    "plt.subplot(1,4,2)\n",
    "plt.hist(df.danceability)\n",
    "plt.title('Danceabiliy')\n",
    "plt.subplot(1,4,3)\n",
    "plt.hist(df.acousticness)\n",
    "plt.title('Acousticness')\n",
    "plt.subplot(1,4,4)\n",
    "plt.hist(df.energy)\n",
    "plt.title('Energy')"
   ]
  },
  {
   "cell_type": "markdown",
   "metadata": {},
   "source": [
    "These look good, no obvious outliers. Though we can see that some of the don't follow a normal distribution."
   ]
  },
  {
   "cell_type": "code",
   "execution_count": 209,
   "metadata": {},
   "outputs": [
    {
     "data": {
      "text/plain": [
       "Text(0.5, 1.0, 'Speechiness')"
      ]
     },
     "execution_count": 209,
     "metadata": {},
     "output_type": "execute_result"
    },
    {
     "data": {
      "image/png": "[encoded data removed]",
      "text/plain": [
       "<Figure size 1080x360 with 4 Axes>"
      ]
     },
     "metadata": {
      "needs_background": "light"
     },
     "output_type": "display_data"
    }
   ],
   "source": [
    "plt.figure(figsize = (15, 5))\n",
    "plt.subplot(1,4,1)\n",
    "plt.hist(df.instrumentalness)\n",
    "plt.title('Instrumentalness')\n",
    "plt.subplot(1,4,2)\n",
    "plt.hist(df.liveness)\n",
    "plt.title('Liveness')\n",
    "plt.subplot(1,4,3)\n",
    "plt.hist(df.loudness)\n",
    "plt.title('Loudness')\n",
    "plt.subplot(1,4,4)\n",
    "plt.hist(df.speechiness)\n",
    "plt.title('Speechiness')"
   ]
  },
  {
   "cell_type": "markdown",
   "metadata": {},
   "source": [
    "Here we see that for instrumentalness and speechiness there seem to be some obvious outliers. Let's have a closer look to see where they come from"
   ]
  },
  {
   "cell_type": "code",
   "execution_count": 210,
   "metadata": {},
   "outputs": [
    {
     "data": {
      "text/html": [
       "<div>\n",
       "<style scoped>\n",
       "    .dataframe tbody tr th:only-of-type {\n",
       "        vertical-align: middle;\n",
       "    }\n",
       "\n",
       "    .dataframe tbody tr th {\n",
       "        vertical-align: top;\n",
       "    }\n",
       "\n",
       "    .dataframe thead th {\n",
       "        text-align: right;\n",
       "    }\n",
       "</style>\n",
       "<table border=\"1\" class=\"dataframe\">\n",
       "  <thead>\n",
       "    <tr style=\"text-align: right;\">\n",
       "      <th></th>\n",
       "      <th>Unnamed: 0</th>\n",
       "      <th>name</th>\n",
       "      <th>album</th>\n",
       "      <th>artist</th>\n",
       "      <th>release_date</th>\n",
       "      <th>length</th>\n",
       "      <th>popularity</th>\n",
       "      <th>danceability</th>\n",
       "      <th>acousticness</th>\n",
       "      <th>energy</th>\n",
       "      <th>instrumentalness</th>\n",
       "      <th>liveness</th>\n",
       "      <th>loudness</th>\n",
       "      <th>speechiness</th>\n",
       "      <th>valence</th>\n",
       "      <th>tempo</th>\n",
       "    </tr>\n",
       "  </thead>\n",
       "  <tbody>\n",
       "    <tr>\n",
       "      <th>130</th>\n",
       "      <td>130</td>\n",
       "      <td>gold rush</td>\n",
       "      <td>evermore (deluxe version)</td>\n",
       "      <td>Taylor Swift</td>\n",
       "      <td>2021-01-07</td>\n",
       "      <td>185320</td>\n",
       "      <td>66</td>\n",
       "      <td>0.512</td>\n",
       "      <td>0.83</td>\n",
       "      <td>0.462</td>\n",
       "      <td>0.166</td>\n",
       "      <td>0.1210</td>\n",
       "      <td>-10.491</td>\n",
       "      <td>0.0408</td>\n",
       "      <td>0.353</td>\n",
       "      <td>112.050</td>\n",
       "    </tr>\n",
       "    <tr>\n",
       "      <th>139</th>\n",
       "      <td>139</td>\n",
       "      <td>long story short</td>\n",
       "      <td>evermore (deluxe version)</td>\n",
       "      <td>Taylor Swift</td>\n",
       "      <td>2021-01-07</td>\n",
       "      <td>215920</td>\n",
       "      <td>64</td>\n",
       "      <td>0.546</td>\n",
       "      <td>0.66</td>\n",
       "      <td>0.730</td>\n",
       "      <td>0.179</td>\n",
       "      <td>0.0972</td>\n",
       "      <td>-7.704</td>\n",
       "      <td>0.0417</td>\n",
       "      <td>0.573</td>\n",
       "      <td>157.895</td>\n",
       "    </tr>\n",
       "  </tbody>\n",
       "</table>\n",
       "</div>"
      ],
      "text/plain": [
       "     Unnamed: 0              name                      album        artist  \\\n",
       "130         130         gold rush  evermore (deluxe version)  Taylor Swift   \n",
       "139         139  long story short  evermore (deluxe version)  Taylor Swift   \n",
       "\n",
       "    release_date  length  popularity  danceability  acousticness  energy  \\\n",
       "130   2021-01-07  185320          66         0.512          0.83   0.462   \n",
       "139   2021-01-07  215920          64         0.546          0.66   0.730   \n",
       "\n",
       "     instrumentalness  liveness  loudness  speechiness  valence    tempo  \n",
       "130             0.166    0.1210   -10.491       0.0408    0.353  112.050  \n",
       "139             0.179    0.0972    -7.704       0.0417    0.573  157.895  "
      ]
     },
     "execution_count": 210,
     "metadata": {},
     "output_type": "execute_result"
    }
   ],
   "source": [
    "df[df.instrumentalness > 0.05]"
   ]
  },
  {
   "cell_type": "code",
   "execution_count": 211,
   "metadata": {},
   "outputs": [
    {
     "data": {
      "text/html": [
       "<div>\n",
       "<style scoped>\n",
       "    .dataframe tbody tr th:only-of-type {\n",
       "        vertical-align: middle;\n",
       "    }\n",
       "\n",
       "    .dataframe tbody tr th {\n",
       "        vertical-align: top;\n",
       "    }\n",
       "\n",
       "    .dataframe thead th {\n",
       "        text-align: right;\n",
       "    }\n",
       "</style>\n",
       "<table border=\"1\" class=\"dataframe\">\n",
       "  <thead>\n",
       "    <tr style=\"text-align: right;\">\n",
       "      <th></th>\n",
       "      <th>Unnamed: 0</th>\n",
       "      <th>name</th>\n",
       "      <th>album</th>\n",
       "      <th>artist</th>\n",
       "      <th>release_date</th>\n",
       "      <th>length</th>\n",
       "      <th>popularity</th>\n",
       "      <th>danceability</th>\n",
       "      <th>acousticness</th>\n",
       "      <th>energy</th>\n",
       "      <th>instrumentalness</th>\n",
       "      <th>liveness</th>\n",
       "      <th>loudness</th>\n",
       "      <th>speechiness</th>\n",
       "      <th>valence</th>\n",
       "      <th>tempo</th>\n",
       "    </tr>\n",
       "  </thead>\n",
       "  <tbody>\n",
       "    <tr>\n",
       "      <th>93</th>\n",
       "      <td>93</td>\n",
       "      <td>I Forgot That You Existed</td>\n",
       "      <td>Lover</td>\n",
       "      <td>Taylor Swift</td>\n",
       "      <td>2019-08-23</td>\n",
       "      <td>170640</td>\n",
       "      <td>72</td>\n",
       "      <td>0.664</td>\n",
       "      <td>0.298</td>\n",
       "      <td>0.316</td>\n",
       "      <td>0.000002</td>\n",
       "      <td>0.0812</td>\n",
       "      <td>-10.345</td>\n",
       "      <td>0.519</td>\n",
       "      <td>0.541</td>\n",
       "      <td>92.875</td>\n",
       "    </tr>\n",
       "  </tbody>\n",
       "</table>\n",
       "</div>"
      ],
      "text/plain": [
       "    Unnamed: 0                       name  album        artist release_date  \\\n",
       "93          93  I Forgot That You Existed  Lover  Taylor Swift   2019-08-23   \n",
       "\n",
       "    length  popularity  danceability  acousticness  energy  instrumentalness  \\\n",
       "93  170640          72         0.664         0.298   0.316          0.000002   \n",
       "\n",
       "    liveness  loudness  speechiness  valence   tempo  \n",
       "93    0.0812   -10.345        0.519    0.541  92.875  "
      ]
     },
     "execution_count": 211,
     "metadata": {},
     "output_type": "execute_result"
    }
   ],
   "source": [
    "df[df.speechiness > 0.4]"
   ]
  },
  {
   "cell_type": "markdown",
   "metadata": {},
   "source": [
    "If we were to listen to these songs we would notice that they are valid. It just so happens that these songs are very high on speechiness/instrumentalness, when compared to the others. It could mean that Taylor was experimenting with these songs. So, even though they are quite different from the others on these measures, the data is still valid so we won't remove them. "
   ]
  },
  {
   "cell_type": "markdown",
   "metadata": {},
   "source": [
    "Hopefully, from this you will understand why it is tricky to work with outliers. If you wanted to, you could do a winsorisation on those outliers, but in thise case we don't think it's necessary."
   ]
  },
  {
   "cell_type": "code",
   "execution_count": 212,
   "metadata": {},
   "outputs": [
    {
     "data": {
      "text/plain": [
       "Text(0.5, 1.0, 'Tempo')"
      ]
     },
     "execution_count": 212,
     "metadata": {},
     "output_type": "execute_result"
    },
    {
     "data": {
      "image/png": "[encoded data removed]",
      "text/plain": [
       "<Figure size 1080x360 with 2 Axes>"
      ]
     },
     "metadata": {
      "needs_background": "light"
     },
     "output_type": "display_data"
    }
   ],
   "source": [
    "plt.figure(figsize = (15, 5))\n",
    "plt.subplot(1,2,1)\n",
    "plt.hist(df.valence)\n",
    "plt.title('Valence')\n",
    "plt.subplot(1,2,2)\n",
    "plt.hist(df.tempo)\n",
    "plt.title('Tempo')"
   ]
  },
  {
   "cell_type": "markdown",
   "metadata": {},
   "source": [
    "No outliers here either"
   ]
  },
  {
   "cell_type": "code",
   "execution_count": 213,
   "metadata": {},
   "outputs": [
    {
     "data": {
      "text/plain": [
       "Unnamed: 0          0\n",
       "name                0\n",
       "album               0\n",
       "artist              0\n",
       "release_date        0\n",
       "length              0\n",
       "popularity          0\n",
       "danceability        0\n",
       "acousticness        0\n",
       "energy              0\n",
       "instrumentalness    0\n",
       "liveness            0\n",
       "loudness            0\n",
       "speechiness         0\n",
       "valence             0\n",
       "tempo               0\n",
       "dtype: int64"
      ]
     },
     "execution_count": 213,
     "metadata": {},
     "output_type": "execute_result"
    }
   ],
   "source": [
    "# Check for missing values\n",
    "\n",
    "df.isna().sum() "
   ]
  },
  {
   "cell_type": "code",
   "execution_count": 214,
   "metadata": {},
   "outputs": [
    {
     "data": {
      "text/plain": [
       "0"
      ]
     },
     "execution_count": 214,
     "metadata": {},
     "output_type": "execute_result"
    }
   ],
   "source": [
    "# Check for duplicated rows\n",
    "sum(df.duplicated())"
   ]
  },
  {
   "cell_type": "code",
   "execution_count": 215,
   "metadata": {},
   "outputs": [
    {
     "name": "stderr",
     "output_type": "stream",
     "text": [
      "/var/folders/01/_3yj40_538g8lmscwcv139hm0000gp/T/ipykernel_77661/138773485.py:3: FutureWarning: The default value of numeric_only in DataFrame.corr is deprecated. In a future version, it will default to False. Select only valid columns or specify the value of numeric_only to silence this warning.\n",
      "  df.corr(method ='spearman')\n"
     ]
    },
    {
     "data": {
      "text/html": [
       "<div>\n",
       "<style scoped>\n",
       "    .dataframe tbody tr th:only-of-type {\n",
       "        vertical-align: middle;\n",
       "    }\n",
       "\n",
       "    .dataframe tbody tr th {\n",
       "        vertical-align: top;\n",
       "    }\n",
       "\n",
       "    .dataframe thead th {\n",
       "        text-align: right;\n",
       "    }\n",
       "</style>\n",
       "<table border=\"1\" class=\"dataframe\">\n",
       "  <thead>\n",
       "    <tr style=\"text-align: right;\">\n",
       "      <th></th>\n",
       "      <th>length</th>\n",
       "      <th>popularity</th>\n",
       "      <th>danceability</th>\n",
       "      <th>acousticness</th>\n",
       "      <th>energy</th>\n",
       "      <th>instrumentalness</th>\n",
       "      <th>liveness</th>\n",
       "      <th>loudness</th>\n",
       "      <th>speechiness</th>\n",
       "      <th>valence</th>\n",
       "      <th>tempo</th>\n",
       "    </tr>\n",
       "  </thead>\n",
       "  <tbody>\n",
       "    <tr>\n",
       "      <th>length</th>\n",
       "      <td>1.000000</td>\n",
       "      <td>-0.223074</td>\n",
       "      <td>-0.296934</td>\n",
       "      <td>0.104129</td>\n",
       "      <td>-0.196572</td>\n",
       "      <td>0.029071</td>\n",
       "      <td>-0.048317</td>\n",
       "      <td>-0.068580</td>\n",
       "      <td>-0.391377</td>\n",
       "      <td>-0.409637</td>\n",
       "      <td>0.048990</td>\n",
       "    </tr>\n",
       "    <tr>\n",
       "      <th>popularity</th>\n",
       "      <td>-0.223074</td>\n",
       "      <td>1.000000</td>\n",
       "      <td>0.203852</td>\n",
       "      <td>0.023175</td>\n",
       "      <td>-0.049468</td>\n",
       "      <td>0.134041</td>\n",
       "      <td>-0.178762</td>\n",
       "      <td>-0.293456</td>\n",
       "      <td>0.482353</td>\n",
       "      <td>0.069378</td>\n",
       "      <td>-0.088699</td>\n",
       "    </tr>\n",
       "    <tr>\n",
       "      <th>danceability</th>\n",
       "      <td>-0.296934</td>\n",
       "      <td>0.203852</td>\n",
       "      <td>1.000000</td>\n",
       "      <td>-0.100671</td>\n",
       "      <td>0.083872</td>\n",
       "      <td>0.055166</td>\n",
       "      <td>-0.115814</td>\n",
       "      <td>-0.011971</td>\n",
       "      <td>0.204531</td>\n",
       "      <td>0.384917</td>\n",
       "      <td>-0.228356</td>\n",
       "    </tr>\n",
       "    <tr>\n",
       "      <th>acousticness</th>\n",
       "      <td>0.104129</td>\n",
       "      <td>0.023175</td>\n",
       "      <td>-0.100671</td>\n",
       "      <td>1.000000</td>\n",
       "      <td>-0.685992</td>\n",
       "      <td>0.024680</td>\n",
       "      <td>-0.061835</td>\n",
       "      <td>-0.686350</td>\n",
       "      <td>-0.107872</td>\n",
       "      <td>-0.275776</td>\n",
       "      <td>-0.111323</td>\n",
       "    </tr>\n",
       "    <tr>\n",
       "      <th>energy</th>\n",
       "      <td>-0.196572</td>\n",
       "      <td>-0.049468</td>\n",
       "      <td>0.083872</td>\n",
       "      <td>-0.685992</td>\n",
       "      <td>1.000000</td>\n",
       "      <td>0.000678</td>\n",
       "      <td>0.135025</td>\n",
       "      <td>0.744253</td>\n",
       "      <td>0.268476</td>\n",
       "      <td>0.532583</td>\n",
       "      <td>0.237421</td>\n",
       "    </tr>\n",
       "    <tr>\n",
       "      <th>instrumentalness</th>\n",
       "      <td>0.029071</td>\n",
       "      <td>0.134041</td>\n",
       "      <td>0.055166</td>\n",
       "      <td>0.024680</td>\n",
       "      <td>0.000678</td>\n",
       "      <td>1.000000</td>\n",
       "      <td>-0.271119</td>\n",
       "      <td>-0.308110</td>\n",
       "      <td>0.288814</td>\n",
       "      <td>0.040914</td>\n",
       "      <td>-0.111789</td>\n",
       "    </tr>\n",
       "    <tr>\n",
       "      <th>liveness</th>\n",
       "      <td>-0.048317</td>\n",
       "      <td>-0.178762</td>\n",
       "      <td>-0.115814</td>\n",
       "      <td>-0.061835</td>\n",
       "      <td>0.135025</td>\n",
       "      <td>-0.271119</td>\n",
       "      <td>1.000000</td>\n",
       "      <td>0.230420</td>\n",
       "      <td>-0.076231</td>\n",
       "      <td>-0.035038</td>\n",
       "      <td>0.106951</td>\n",
       "    </tr>\n",
       "    <tr>\n",
       "      <th>loudness</th>\n",
       "      <td>-0.068580</td>\n",
       "      <td>-0.293456</td>\n",
       "      <td>-0.011971</td>\n",
       "      <td>-0.686350</td>\n",
       "      <td>0.744253</td>\n",
       "      <td>-0.308110</td>\n",
       "      <td>0.230420</td>\n",
       "      <td>1.000000</td>\n",
       "      <td>-0.104005</td>\n",
       "      <td>0.331471</td>\n",
       "      <td>0.191675</td>\n",
       "    </tr>\n",
       "    <tr>\n",
       "      <th>speechiness</th>\n",
       "      <td>-0.391377</td>\n",
       "      <td>0.482353</td>\n",
       "      <td>0.204531</td>\n",
       "      <td>-0.107872</td>\n",
       "      <td>0.268476</td>\n",
       "      <td>0.288814</td>\n",
       "      <td>-0.076231</td>\n",
       "      <td>-0.104005</td>\n",
       "      <td>1.000000</td>\n",
       "      <td>0.265482</td>\n",
       "      <td>0.209145</td>\n",
       "    </tr>\n",
       "    <tr>\n",
       "      <th>valence</th>\n",
       "      <td>-0.409637</td>\n",
       "      <td>0.069378</td>\n",
       "      <td>0.384917</td>\n",
       "      <td>-0.275776</td>\n",
       "      <td>0.532583</td>\n",
       "      <td>0.040914</td>\n",
       "      <td>-0.035038</td>\n",
       "      <td>0.331471</td>\n",
       "      <td>0.265482</td>\n",
       "      <td>1.000000</td>\n",
       "      <td>-0.022534</td>\n",
       "    </tr>\n",
       "    <tr>\n",
       "      <th>tempo</th>\n",
       "      <td>0.048990</td>\n",
       "      <td>-0.088699</td>\n",
       "      <td>-0.228356</td>\n",
       "      <td>-0.111323</td>\n",
       "      <td>0.237421</td>\n",
       "      <td>-0.111789</td>\n",
       "      <td>0.106951</td>\n",
       "      <td>0.191675</td>\n",
       "      <td>0.209145</td>\n",
       "      <td>-0.022534</td>\n",
       "      <td>1.000000</td>\n",
       "    </tr>\n",
       "  </tbody>\n",
       "</table>\n",
       "</div>"
      ],
      "text/plain": [
       "                    length  popularity  danceability  acousticness    energy  \\\n",
       "length            1.000000   -0.223074     -0.296934      0.104129 -0.196572   \n",
       "popularity       -0.223074    1.000000      0.203852      0.023175 -0.049468   \n",
       "danceability     -0.296934    0.203852      1.000000     -0.100671  0.083872   \n",
       "acousticness      0.104129    0.023175     -0.100671      1.000000 -0.685992   \n",
       "energy           -0.196572   -0.049468      0.083872     -0.685992  1.000000   \n",
       "instrumentalness  0.029071    0.134041      0.055166      0.024680  0.000678   \n",
       "liveness         -0.048317   -0.178762     -0.115814     -0.061835  0.135025   \n",
       "loudness         -0.068580   -0.293456     -0.011971     -0.686350  0.744253   \n",
       "speechiness      -0.391377    0.482353      0.204531     -0.107872  0.268476   \n",
       "valence          -0.409637    0.069378      0.384917     -0.275776  0.532583   \n",
       "tempo             0.048990   -0.088699     -0.228356     -0.111323  0.237421   \n",
       "\n",
       "                  instrumentalness  liveness  loudness  speechiness   valence  \\\n",
       "length                    0.029071 -0.048317 -0.068580    -0.391377 -0.409637   \n",
       "popularity                0.134041 -0.178762 -0.293456     0.482353  0.069378   \n",
       "danceability              0.055166 -0.115814 -0.011971     0.204531  0.384917   \n",
       "acousticness              0.024680 -0.061835 -0.686350    -0.107872 -0.275776   \n",
       "energy                    0.000678  0.135025  0.744253     0.268476  0.532583   \n",
       "instrumentalness          1.000000 -0.271119 -0.308110     0.288814  0.040914   \n",
       "liveness                 -0.271119  1.000000  0.230420    -0.076231 -0.035038   \n",
       "loudness                 -0.308110  0.230420  1.000000    -0.104005  0.331471   \n",
       "speechiness               0.288814 -0.076231 -0.104005     1.000000  0.265482   \n",
       "valence                   0.040914 -0.035038  0.331471     0.265482  1.000000   \n",
       "tempo                    -0.111789  0.106951  0.191675     0.209145 -0.022534   \n",
       "\n",
       "                     tempo  \n",
       "length            0.048990  \n",
       "popularity       -0.088699  \n",
       "danceability     -0.228356  \n",
       "acousticness     -0.111323  \n",
       "energy            0.237421  \n",
       "instrumentalness -0.111789  \n",
       "liveness          0.106951  \n",
       "loudness          0.191675  \n",
       "speechiness       0.209145  \n",
       "valence          -0.022534  \n",
       "tempo             1.000000  "
      ]
     },
     "execution_count": 215,
     "metadata": {},
     "output_type": "execute_result"
    }
   ],
   "source": [
    "# Correlate different song features and find out which ones are the most closely related and how.\n",
    "df.drop(columns=['Unnamed: 0', 'name', 'artist', 'release_date'], inplace=True)\n",
    "df.corr(method ='spearman')"
   ]
  },
  {
   "cell_type": "code",
   "execution_count": 216,
   "metadata": {},
   "outputs": [
    {
     "name": "stdout",
     "output_type": "stream",
     "text": [
      "                            OLS Regression Results                            \n",
      "==============================================================================\n",
      "Dep. Variable:             popularity   R-squared:                       0.748\n",
      "Model:                            OLS   Adj. R-squared:                  0.730\n",
      "Method:                 Least Squares   F-statistic:                     42.03\n",
      "Date:                Fri, 28 Oct 2022   Prob (F-statistic):           4.49e-41\n",
      "Time:                        17:51:34   Log-Likelihood:                -485.67\n",
      "No. Observations:                 168   AIC:                             995.3\n",
      "Df Residuals:                     156   BIC:                             1033.\n",
      "Df Model:                          11                                         \n",
      "Covariance Type:            nonrobust                                         \n",
      "========================================================================================================\n",
      "                                           coef    std err          t      P>|t|      [0.025      0.975]\n",
      "--------------------------------------------------------------------------------------------------------\n",
      "Intercept                               67.8849      4.471     15.182      0.000      59.052      76.717\n",
      "album[T.Fearless (Taylor's Version)]     1.1133      1.463      0.761      0.448      -1.777       4.004\n",
      "album[T.Lover]                           7.1530      1.579      4.531      0.000       4.035      10.271\n",
      "album[T.Red (Deluxe Edition)]           -4.2720      1.515     -2.820      0.005      -7.264      -1.280\n",
      "album[T.Speak Now (Deluxe Package)]    -14.4917      1.569     -9.235      0.000     -17.591     -11.392\n",
      "album[T.Taylor Swift]                  -14.6383      1.669     -8.773      0.000     -17.934     -11.342\n",
      "album[T.evermore (deluxe version)]       0.8572      1.622      0.529      0.598      -2.346       4.061\n",
      "album[T.folklore (deluxe version)]      -2.0350      1.611     -1.263      0.208      -5.217       1.147\n",
      "album[T.reputation]                      7.1385      1.630      4.380      0.000       3.919      10.358\n",
      "length                               -7.507e-06   1.09e-05     -0.687      0.493   -2.91e-05    1.41e-05\n",
      "danceability                             0.3971      3.578      0.111      0.912      -6.671       7.465\n",
      "tempo                                   -0.0137      0.012     -1.162      0.247      -0.037       0.010\n",
      "==============================================================================\n",
      "Omnibus:                       38.349   Durbin-Watson:                   1.795\n",
      "Prob(Omnibus):                  0.000   Jarque-Bera (JB):               64.755\n",
      "Skew:                           1.141   Prob(JB):                     8.68e-15\n",
      "Kurtosis:                       5.010   Cond. No.                     3.78e+06\n",
      "==============================================================================\n",
      "\n",
      "Notes:\n",
      "[1] Standard Errors assume that the covariance matrix of the errors is correctly specified.\n",
      "[2] The condition number is large, 3.78e+06. This might indicate that there are\n",
      "strong multicollinearity or other numerical problems.\n"
     ]
    }
   ],
   "source": [
    "# Predict the popularity of a song using its tempo, danceability and length via a linear regression. \n",
    "# Also control for the album, as some albums are more popular than others. \n",
    "# Feel free to include other features that you may have found useful in the previous analysis\n",
    "\n",
    "model = sm.OLS.from_formula('popularity ~ length + danceability + tempo + album', data = df) #Here we mention the variable names we want to include and the dataset\n",
    "results = model.fit() #Then we run the regression model\n",
    "print(results.summary()) #Finally, we tell Python to create a summary of all the results and print it"
   ]
  },
  {
   "cell_type": "code",
   "execution_count": 225,
   "metadata": {},
   "outputs": [
    {
     "name": "stdout",
     "output_type": "stream",
     "text": [
      "57.89882940646044 2.9545242793430203e-43\n"
     ]
    }
   ],
   "source": [
    "# Use an ANOVA to determine whether there is a statistically significant difference in popularity and speechiness across albums. \n",
    "\n",
    "pop_1989 = df.popularity[df.album == '1989 (Deluxe)']\n",
    "pop_fearless = df.popularity[df.album == 'Fearless (Taylor\\'s Version)']\n",
    "pop_lover = df.popularity[df.album == 'Lover']\n",
    "pop_red = df.popularity[df.album == 'Red (Deluxe Edition)']\n",
    "pop_speak = df.popularity[df.album == 'Speak Now (Deluxe Package)']\n",
    "pop_tayswift = df.popularity[df.album == 'Taylor Swift']\n",
    "pop_evermore = df.popularity[df.album == 'evermore (deluxe version)']\n",
    "pop_folklore = df.popularity[df.album == 'folklore (deluxe version)']\n",
    "pop_reputation = df.popularity[df.album == 'reputation']\n",
    "\n",
    "\n",
    "fstat, pval = stats.f_oneway(pop_1989, pop_fearless, pop_lover, pop_red, pop_speak, pop_tayswift, pop_evermore, pop_folklore, pop_reputation)\n",
    "print(fstat,pval)"
   ]
  },
  {
   "cell_type": "code",
   "execution_count": 226,
   "metadata": {},
   "outputs": [
    {
     "name": "stdout",
     "output_type": "stream",
     "text": [
      "                      Multiple Comparison of Means - Tukey HSD, FWER=0.05                       \n",
      "================================================================================================\n",
      "           group1                      group2           meandiff p-adj   lower    upper   reject\n",
      "------------------------------------------------------------------------------------------------\n",
      "              1989 (Deluxe) Fearless (Taylor's Version)   0.9519 0.9991   -3.553   5.4569  False\n",
      "              1989 (Deluxe)                       Lover   7.4861 0.0001   2.6147  12.3575   True\n",
      "              1989 (Deluxe)        Red (Deluxe Edition)   -4.125 0.1281  -8.7834   0.5334  False\n",
      "              1989 (Deluxe)  Speak Now (Deluxe Package) -14.8977    0.0 -19.5561 -10.2394   True\n",
      "              1989 (Deluxe)                Taylor Swift -14.4917    0.0 -19.5872  -9.3961   True\n",
      "              1989 (Deluxe)   evermore (deluxe version)   0.8456 0.9998  -4.0928    5.784  False\n",
      "              1989 (Deluxe)   folklore (deluxe version)  -1.9779 0.9413  -6.9163   2.9605  False\n",
      "              1989 (Deluxe)                  reputation   7.2417 0.0005   2.1461  12.3372   True\n",
      "Fearless (Taylor's Version)                       Lover   6.5342 0.0002   2.1869  10.8815   True\n",
      "Fearless (Taylor's Version)        Red (Deluxe Edition)  -5.0769 0.0046   -9.184  -0.9698   True\n",
      "Fearless (Taylor's Version)  Speak Now (Deluxe Package) -15.8497    0.0 -19.9568 -11.7425   True\n",
      "Fearless (Taylor's Version)                Taylor Swift -15.4436    0.0 -20.0406 -10.8466   True\n",
      "Fearless (Taylor's Version)   evermore (deluxe version)  -0.1063    1.0  -4.5285   4.3158  False\n",
      "Fearless (Taylor's Version)   folklore (deluxe version)  -2.9299 0.4882   -7.352   1.4923  False\n",
      "Fearless (Taylor's Version)                  reputation   6.2897  0.001   1.6928  10.8867   True\n",
      "                      Lover        Red (Deluxe Edition) -11.6111    0.0 -16.1172  -7.1051   True\n",
      "                      Lover  Speak Now (Deluxe Package) -22.3838    0.0 -26.8899 -17.8778   True\n",
      "                      Lover                Taylor Swift -21.9778    0.0 -26.9344 -17.0211   True\n",
      "                      Lover   evermore (deluxe version)  -6.6405 0.0008 -11.4355  -1.8455   True\n",
      "                      Lover   folklore (deluxe version)  -9.4641    0.0  -14.259  -4.6691   True\n",
      "                      Lover                  reputation  -0.2444    1.0  -5.2011   4.7122  False\n",
      "       Red (Deluxe Edition)  Speak Now (Deluxe Package) -10.7727    0.0 -15.0475  -6.4979   True\n",
      "       Red (Deluxe Edition)                Taylor Swift -10.3667    0.0 -15.1141  -5.6192   True\n",
      "       Red (Deluxe Edition)   evermore (deluxe version)   4.9706 0.0224   0.3922   9.5489   True\n",
      "       Red (Deluxe Edition)   folklore (deluxe version)   2.1471 0.8655  -2.4313   6.7254  False\n",
      "       Red (Deluxe Edition)                  reputation  11.3667    0.0   6.6192  16.1141   True\n",
      " Speak Now (Deluxe Package)                Taylor Swift   0.4061    1.0  -4.3414   5.1535  False\n",
      " Speak Now (Deluxe Package)   evermore (deluxe version)  15.7433    0.0   11.165  20.3217   True\n",
      " Speak Now (Deluxe Package)   folklore (deluxe version)  12.9198    0.0   8.3414  17.4981   True\n",
      " Speak Now (Deluxe Package)                  reputation  22.1394    0.0   17.392  26.8868   True\n",
      "               Taylor Swift   evermore (deluxe version)  15.3373    0.0  10.3148  20.3597   True\n",
      "               Taylor Swift   folklore (deluxe version)  12.5137    0.0   7.4912  17.5362   True\n",
      "               Taylor Swift                  reputation  21.7333    0.0  16.5563  26.9104   True\n",
      "  evermore (deluxe version)   folklore (deluxe version)  -2.8235 0.6649  -7.6865   2.0395  False\n",
      "  evermore (deluxe version)                  reputation   6.3961  0.003   1.3736  11.4186   True\n",
      "  folklore (deluxe version)                  reputation   9.2196    0.0   4.1971  14.2421   True\n",
      "------------------------------------------------------------------------------------------------\n"
     ]
    }
   ],
   "source": [
    "tukey = sm.stats.multicomp.pairwise_tukeyhsd(endog=df['popularity'], groups=df['album'], alpha=0.05)\n",
    "print(tukey)"
   ]
  }
 ],
 "metadata": {
  "kernelspec": {
   "display_name": "Python 3",
   "language": "python",
   "name": "python3"
  },
  "language_info": {
   "codemirror_mode": {
    "name": "ipython",
    "version": 3
   },
   "file_extension": ".py",
   "mimetype": "text/x-python",
   "name": "python",
   "nbconvert_exporter": "python",
   "pygments_lexer": "ipython3",
   "version": "3.8.5"
  },
  "vscode": {
   "interpreter": {
    "hash": "aee8b7b246df8f9039afb4144a1f6fd8d2ca17a180786b69acc140d282b71a49"
   }
  }
 },
 "nbformat": 4,
 "nbformat_minor": 4
}
