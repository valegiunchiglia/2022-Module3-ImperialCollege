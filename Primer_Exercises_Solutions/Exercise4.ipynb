{
 "cells": [
  {
   "cell_type": "markdown",
   "metadata": {},
   "source": [
    "# Exercise 4: Parse a corrupted file (⭐️⭐️)\n",
    "There is a text file (corrupted_mat.txt in the Data folder) that is a matrix where each row in the matrix is a row in the file and the columns in the matrix are separated by \\n . The matrix should only have numbers, but, because of some internal errors, the matrix has been corrupted and some of the lines contain words. Write a function that:\n",
    "\n",
    "1. Import the file\n",
    "2. Excludes the rows with words\n",
    "3. Returns the fixed matrix as a numpy array\n",
    "4. Use the function to check that it works properly\n",
    "\n",
    "HINT: To solve the exercise, you have to acess the file, and use a for loop and if statement."
   ]
  },
  {
   "cell_type": "code",
   "execution_count": 47,
   "metadata": {},
   "outputs": [],
   "source": [
    "def corrupted_matrix(file_path):\n",
    "    file = open(file_path, \"r\")\n",
    "    file_object = file.read()\n",
    "    file.close()\n",
    "    file_object = file_object.split(\"\\n\")\n",
    "\n",
    "    matrix = []\n",
    "    for row in file_object:\n",
    "        listrow = []\n",
    "        rowlist = row.split(\",\")\n",
    "        matrix.append(rowlist)\n",
    "    \n",
    "    \n",
    "    finalmatrix = []\n",
    "    for group in matrix:\n",
    "        newrow = []\n",
    "        for element in group:\n",
    "            if not any(char.isalpha() for char in element):\n",
    "                floated = float(element)\n",
    "                newrow.append(floated)\n",
    "        if newrow:\n",
    "            finalmatrix.append(newrow)\n",
    "    return finalmatrix"
   ]
  },
  {
   "cell_type": "code",
   "execution_count": 48,
   "metadata": {},
   "outputs": [
    {
     "data": {
      "text/plain": [
       "[[0.156286806566641, 0.839415418915451, 0.215287098195404, 0.30373083637096],\n",
       " [0.703698464902118, 0.979465301614255, 0.808200161205605, 0.623967765131965],\n",
       " [0.425670380471274, 0.385046425508335, 0.363393292529508, 0.68671858869493],\n",
       " [0.738853899296373, 0.513563331915066, 0.122304011601955, 0.253680505789816],\n",
       " [0.805203872499987, 0.699866391485557, 0.305083387065679, 0.557570566656068],\n",
       " [0.266719148494303, 0.751039859373122, 0.420436628162861, 0.850554391276091],\n",
       " [0.0938469984102994, 0.235034629702568, 0.847191138425842, 0.707700280239806],\n",
       " [0.0497035046573728, 0.845802294788882, 0.583903258666396, 0.465085278032348],\n",
       " [0.88890370237641, 0.268563820980489, 0.857053693151101, 0.202376897446811],\n",
       " [0.524869125569239, 0.371474583633244, 0.483498134883121, 0.122573809698224],\n",
       " [0.351348345167935, 0.510251568863168, 0.427778862183914, 0.71108036977239],\n",
       " [0.856029751244932, 0.970716398442164, 0.386870885500684, 0.890387932769954],\n",
       " [0.476333071244881, 0.502321956213564, 0.782249884447083, 0.492003004532307],\n",
       " [0.440738058881834, 0.251929730176926, 0.735745728714392, 0.327213891083375],\n",
       " [0.571861500153318, 0.395791947608814, 0.740082728676498, 0.423829461913556],\n",
       " [0.739343520021066, 0.442453653085977, 0.523476221831515, 0.213171477196738],\n",
       " [0.837551058037207, 0.586083526723087, 0.877192696556449, 0.673374411882833],\n",
       " [0.20265585789457, 0.357804343337193, 0.466896323021501, 0.075889554573223],\n",
       " [0.433809415437281, 0.303215562365949, 0.0305540356785059, 0.891140698455274],\n",
       " [0.215394928120077, 0.834817850962281, 0.95432851347141, 0.836950254859403]]"
      ]
     },
     "execution_count": 48,
     "metadata": {},
     "output_type": "execute_result"
    }
   ],
   "source": [
    "corrupted_matrix(\"mat.txt\")\n"
   ]
  }
 ],
 "metadata": {
  "kernelspec": {
   "display_name": "Python3.7 (project1)",
   "language": "python",
   "name": "python3_project1"
  },
  "language_info": {
   "codemirror_mode": {
    "name": "ipython",
    "version": 3
   },
   "file_extension": ".py",
   "mimetype": "text/x-python",
   "name": "python",
   "nbconvert_exporter": "python",
   "pygments_lexer": "ipython3",
   "version": "3.7.1"
  }
 },
 "nbformat": 4,
 "nbformat_minor": 5
}
