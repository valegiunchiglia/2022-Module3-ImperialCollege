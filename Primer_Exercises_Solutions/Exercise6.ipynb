{
 "cells": [
  {
   "cell_type": "markdown",
   "metadata": {},
   "source": [
    "# Exercise 6: Implement a Ceasar cypher (⭐️⭐️⭐️)"
   ]
  },
  {
   "cell_type": "markdown",
   "metadata": {},
   "source": [
    "Another way to encode messages is through a Ceasar cypher. Here you are given a message and a key, which is a number, and the encoding is done by shifting the number in key places. So, if the key = 2, then A becomes C, B becomes D and Z becomes B (and so on). Implement the encoding function (and as a bonus the decoding) that takes as input a message and a key (with key having as default value 3) and returns the encoded message.\n",
    "\n",
    "HINT #1: to solve it try to use a dictionary\n",
    "\n",
    "HINT #2: to encode certain letter you will have to go back to the beginning of the alphabet. For this case, the modulo operator (%) is useful, which returns the remainder of the division of two numbers.\n",
    "\n",
    "HINT #3: if the modulo is too challenging, try with an if statement."
   ]
  },
  {
   "cell_type": "code",
   "execution_count": 14,
   "metadata": {},
   "outputs": [],
   "source": [
    "def construct_shifted_dictionary(shift):\n",
    "    \"\"\"Helper function to construct a dictionary that maps lettters in the \n",
    "    normal alphabet with those in the shifted alphabet\"\"\"\n",
    "    abc = \"abcdefghijklmnopqrstuvwxyz\"\n",
    "    shifted_abc = {}\n",
    "    for position, letter in enumerate(abc):\n",
    "        shifted_position = position + shift\n",
    "        if shifted_position >= len(abc):\n",
    "            shifted_position -= len(abc)\n",
    "        shifted_letter = abc[shifted_position]\n",
    "        shifted_abc[letter] = shifted_letter\n",
    "    return shifted_abc\n",
    "\n",
    "def encode_ceasar(message, shift):\n",
    "    shifted_abc = construct_shifted_dictionary(shift)\n",
    "    encoded_message = \"\"\n",
    "    for letter in message.lower():\n",
    "        # Here we use dict.get(key, default) to avoid KeyErrors, in case we \n",
    "        # encode a message with e.g. numbers or punctuation. Look up ?dict.get\n",
    "        # in a code chunk for more details\n",
    "        encoded_letter = shifted_abc.get(letter, letter)\n",
    "        encoded_message += encoded_letter\n",
    "    return encoded_message\n",
    "\n",
    "def decode_ceasar(encoded_message, shift):\n",
    "    shifted_abc = construct_shifted_dictionary(shift)\n",
    "    inverted_shifted_abc = {\n",
    "        inverted_letter:original_letter\n",
    "        for original_letter, inverted_letter in shifted_abc.items()\n",
    "    }\n",
    "    decoded_message = \"\"\n",
    "    for letter in encoded_message.lower():\n",
    "        decoded_letter = inverted_shifted_abc.get(letter, letter)\n",
    "        decoded_message += decoded_letter\n",
    "    return decoded_message"
   ]
  },
  {
   "cell_type": "code",
   "execution_count": 20,
   "metadata": {},
   "outputs": [],
   "source": [
    "original = \"We will attack tomorrow at dawn\"\n",
    "shift = 15\n",
    "encoded = encode_ceasar(original, shift)\n",
    "decoded = decode_ceasar(encoded, shift)"
   ]
  },
  {
   "cell_type": "code",
   "execution_count": 23,
   "metadata": {},
   "outputs": [
    {
     "name": "stdout",
     "output_type": "stream",
     "text": [
      "Original:  We will attack tomorrow at dawn\n",
      "Encoded:   lt lxaa piiprz idbdggdl pi splc\n",
      "Decoded:   we will attack tomorrow at dawn\n"
     ]
    }
   ],
   "source": [
    "print(\"Original: \", original)\n",
    "print(\"Encoded:  \", encoded)\n",
    "print(\"Decoded:  \", decoded)"
   ]
  },
  {
   "cell_type": "code",
   "execution_count": null,
   "metadata": {},
   "outputs": [],
   "source": []
  }
 ],
 "metadata": {
  "kernelspec": {
   "display_name": "Python3.7 (project1)",
   "language": "python",
   "name": "python3_project1"
  },
  "language_info": {
   "codemirror_mode": {
    "name": "ipython",
    "version": 3
   },
   "file_extension": ".py",
   "mimetype": "text/x-python",
   "name": "python",
   "nbconvert_exporter": "python",
   "pygments_lexer": "ipython3",
   "version": "3.7.1"
  }
 },
 "nbformat": 4,
 "nbformat_minor": 4
}
