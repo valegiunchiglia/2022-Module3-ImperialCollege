{
 "cells": [
  {
   "cell_type": "markdown",
   "metadata": {},
   "source": [
    "# Exercise 2: The prime numbers (⭐️)\n",
    "\n",
    "Define a function that takes as input a list of numbers and returns only those that are prime and that specifies how many they are. Call the function multiple times and check the output to be sure that it is working as expected."
   ]
  },
  {
   "cell_type": "code",
   "execution_count": 3,
   "metadata": {},
   "outputs": [
    {
     "name": "stdout",
     "output_type": "stream",
     "text": [
      "The list has 5 prime numbers\n"
     ]
    },
    {
     "data": {
      "text/plain": [
       "[3, 5, 11, 31, 157]"
      ]
     },
     "execution_count": 3,
     "metadata": {},
     "output_type": "execute_result"
    }
   ],
   "source": [
    "def prime(list_numbers):\n",
    "    count_primes = 0\n",
    "    primes_list = []\n",
    "    for num in list_numbers:\n",
    "        notprime = False\n",
    "        for n in range(2, num):\n",
    "            if num%n == 0:\n",
    "                notprime = True\n",
    "                break\n",
    "    \n",
    "        if notprime == False:\n",
    "            count_primes = count_primes+1\n",
    "            primes_list.append(num)\n",
    "    print(\"The list has\", count_primes, \"prime numbers\")\n",
    "    return primes_list\n",
    "\n",
    "        \n",
    "list_numbers_all = [3, 5, 978, 11, 22, 31, 54, 157]\n",
    "prime(list_numbers_all)"
   ]
  }
 ],
 "metadata": {
  "kernelspec": {
   "display_name": "Python3.7 (project1)",
   "language": "python",
   "name": "python3_project1"
  },
  "language_info": {
   "codemirror_mode": {
    "name": "ipython",
    "version": 3
   },
   "file_extension": ".py",
   "mimetype": "text/x-python",
   "name": "python",
   "nbconvert_exporter": "python",
   "pygments_lexer": "ipython3",
   "version": "3.7.1"
  }
 },
 "nbformat": 4,
 "nbformat_minor": 4
}
