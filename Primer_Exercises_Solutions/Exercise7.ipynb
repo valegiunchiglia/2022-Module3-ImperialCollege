{
 "cells": [
  {
   "cell_type": "markdown",
   "id": "a169ad1d-6716-4959-9fd7-cf399c816a28",
   "metadata": {},
   "source": [
    "# Exercise 7: Fix the separated encoded message (⭐️⭐️⭐️)\n",
    "\n",
    "An encoded message was written in 5 separate papers and needs to be put together into a unique sentence, in order to be able to decode the message. The only information you know is that the last letter of each sequence must correspond to the first letter of the following one. Implement a function that goes through the 5 separate strings and put them back together. There is one of these sequences that was accidentally written with a space between the letters - before adding that part to the unique sentence, remove the empty space.\n",
    "\n",
    "**HINT #1:** to test you function you can use the following five sequences - AGCJDE, TGRSGH, EHSUTJ, HFRSKA, JSHGD W. The output should be: TGRSGHHFRSKAAGCJDEEHSUTJJSHGDW\n",
    "\n",
    "**HINT #2:** to be able to solve the exercise you need to use a while loop."
   ]
  },
  {
   "cell_type": "code",
   "execution_count": 13,
   "id": "d9d17545-fddc-4d66-beba-f0bd94c05eba",
   "metadata": {},
   "outputs": [],
   "source": [
    "sequences = ['AGCJDE', 'TGRSGH', 'EHSUTJ', 'HFRSKA', 'JSHGD W']\n",
    "\n",
    "\n",
    "def merge_message(sequences):\n",
    "    len_total = 0\n",
    "    unique = \"\"\n",
    "    start = \"\"\n",
    "    for message in sequences:\n",
    "        len_total = len_total + len(message.replace(\" \", \"\"))\n",
    "    \n",
    "    for message in sequences:\n",
    "        sequence_without_thismessage = sequences.copy()\n",
    "        \n",
    "        sequence_without_thismessage.remove(message)\n",
    "        finals = []\n",
    "        for mes in sequence_without_thismessage:\n",
    "            finals.append(mes[-1])\n",
    "        \n",
    "        initial = message[0]\n",
    "        if initial not in finals:\n",
    "            start = message\n",
    "        else:\n",
    "            continue\n",
    "    \n",
    "    while len(unique) != len_total:\n",
    "    \n",
    "        for message in sequences:\n",
    "            message = message.replace(\" \", \"\")\n",
    "            if message == start:\n",
    "                unique = unique + message\n",
    "            elif message != start and unique == \"\":\n",
    "                continue\n",
    "            else:\n",
    "                if message[0] == unique[-1]:\n",
    "                    unique = unique + message\n",
    "             \n",
    "    return unique\n"
   ]
  },
  {
   "cell_type": "code",
   "execution_count": 14,
   "id": "939a2d94-3810-4774-be53-0a7d3e25cdd6",
   "metadata": {},
   "outputs": [
    {
     "data": {
      "text/plain": [
       "'TGRSGHHFRSKAAGCJDETGRSGHHFRSKA'"
      ]
     },
     "execution_count": 14,
     "metadata": {},
     "output_type": "execute_result"
    }
   ],
   "source": [
    "merge_message(sequences)"
   ]
  }
 ],
 "metadata": {
  "kernelspec": {
   "display_name": "Python3.9 (PythonTutorial)\n",
   "language": "python",
   "name": "python3_pythontutorial"
  },
  "language_info": {
   "codemirror_mode": {
    "name": "ipython",
    "version": 3
   },
   "file_extension": ".py",
   "mimetype": "text/x-python",
   "name": "python",
   "nbconvert_exporter": "python",
   "pygments_lexer": "ipython3",
   "version": "3.9.13"
  }
 },
 "nbformat": 4,
 "nbformat_minor": 5
}
