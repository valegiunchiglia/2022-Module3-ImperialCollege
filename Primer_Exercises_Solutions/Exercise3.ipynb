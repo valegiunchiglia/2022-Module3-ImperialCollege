{
 "cells": [
  {
   "cell_type": "markdown",
   "metadata": {},
   "source": [
    "# Exercise 3: Find the GC-contnent, the individual nucleotides counts and the ATAT motif (⭐️)\n",
    "\n",
    "In a DNA string you can have four different nucleotides: A, C, T and G. Knowing the number of each individual nucleotides and the percentage of GC-content (G or C nucleotides) is important. Define a function that takes as input a dictionary, with as key the name of a sequence and as value the DNA sequence and:\n",
    "\n",
    "1. Calculates the number of individual nucleotides in each sequence\n",
    "2. Calculates the percentage of GC-content in each individual sequence\n",
    "3. Checks whether the sequence contains the motif ATAT and if it does it prints that the sequence_name has the motif.\n",
    "4. Returns the percentage and the name of the sequence with the highest percentage of GC-content.\n",
    "5. Prints the number of individual nucleotides in each sequence"
   ]
  },
  {
   "cell_type": "code",
   "execution_count": 7,
   "metadata": {},
   "outputs": [
    {
     "name": "stdout",
     "output_type": "stream",
     "text": [
      "Sequence1 doesn't have the motif ATAT\n",
      "The sequence Sequence1 has 4 C, 4 A, G 3 and 1 T.\n",
      "Sequence2 doesn't have the motif ATAT\n",
      "The sequence Sequence2 has 2 C, 4 A, G 5 and 1 T.\n",
      "Sequence3 has motif ATAT\n",
      "The sequence Sequence3 has 4 C, 2 A, G 2 and 2 T.\n"
     ]
    },
    {
     "data": {
      "text/plain": [
       "(['Sequence3', 'Sequence2'], 60.0)"
      ]
     },
     "execution_count": 7,
     "metadata": {},
     "output_type": "execute_result"
    }
   ],
   "source": [
    "dict_example = {\"Sequence1\": \"GCGCGCAAATAC\", \n",
    "               \"Sequence2\": \"GGGCTCGGAAAA\", \n",
    "               \"Sequence3\": \"ATATCCCGCG\"}\n",
    "\n",
    "def GC_content_ATAT_motif(dict_example):\n",
    "    sequence_max = []\n",
    "    perc_max = 0\n",
    "    for sequence, value in dict_example.items():\n",
    "\n",
    "        A = 0\n",
    "        C = 0\n",
    "        G = 0\n",
    "        T = 0\n",
    "        for nucleotide in value:\n",
    "            if nucleotide == \"A\":\n",
    "                A = A+1\n",
    "            elif nucleotide == \"C\":\n",
    "                C = C+1\n",
    "            elif nucleotide == \"G\":\n",
    "                G = G+1\n",
    "            else:\n",
    "                T = T+1\n",
    "        GC = G+C\n",
    "        percGC = (GC/(G+C+A+T))*100\n",
    "        if percGC > perc_max:\n",
    "            perc_max = percGC\n",
    "            if sequence_max == []:\n",
    "                sequence_max =[sequence]\n",
    "            else:\n",
    "                sequence_max[0] = sequence\n",
    "        elif percGC == perc_max:\n",
    "            sequence_max.append(sequence)\n",
    "\n",
    "        if \"ATAT\" in value:\n",
    "            print(sequence, \"has motif ATAT\")\n",
    "        else:\n",
    "            print(sequence, \"doesn't have the motif ATAT\")\n",
    "\n",
    "        print(\"The sequence\", sequence, \"has\", C, \"C,\", A, \"A,\", \"G\", G, \"and\", T, \"T.\")\n",
    "\n",
    "    return sequence_max, perc_max\n",
    "        \n",
    "    \n",
    "GC_content_ATAT_motif(dict_example)"
   ]
  },
  {
   "cell_type": "code",
   "execution_count": null,
   "metadata": {},
   "outputs": [],
   "source": []
  }
 ],
 "metadata": {
  "kernelspec": {
   "display_name": "Python (logml)",
   "language": "python",
   "name": "logml"
  },
  "language_info": {
   "codemirror_mode": {
    "name": "ipython",
    "version": 3
   },
   "file_extension": ".py",
   "mimetype": "text/x-python",
   "name": "python",
   "nbconvert_exporter": "python",
   "pygments_lexer": "ipython3",
   "version": "3.9.13"
  }
 },
 "nbformat": 4,
 "nbformat_minor": 5
}
