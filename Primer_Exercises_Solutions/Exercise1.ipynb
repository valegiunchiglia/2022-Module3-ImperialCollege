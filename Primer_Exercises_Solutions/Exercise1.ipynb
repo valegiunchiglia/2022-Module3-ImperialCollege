{
 "cells": [
  {
   "cell_type": "markdown",
   "metadata": {},
   "source": [
    "# Exercise 1: The RNA complementary (⭐️)\n",
    "\n",
    "Transcription is the process in which DNA is converted to RNA. To do this, it is necessary to map each letter in a DNA sequence to its complemet A -> U, T -> A, G -> C and C -> G. Define a function that takes an input a DNA sequence and returns the RNA complementary."
   ]
  },
  {
   "cell_type": "code",
   "execution_count": 2,
   "metadata": {},
   "outputs": [],
   "source": [
    "def rna_complementary(dna_string):\n",
    "    dna_to_rna = {\"A\": \"U\", \"T\": \"A\", \"G\": \"C\", \"C\":\"G\"}\n",
    "    rna_string = \"\"\n",
    "    for base in dna_string:\n",
    "        rna_string = rna_string + dna_to_rna[base]\n",
    "    return rna_string\n",
    "        "
   ]
  },
  {
   "cell_type": "code",
   "execution_count": 4,
   "metadata": {},
   "outputs": [
    {
     "data": {
      "text/plain": [
       "'UAAAGGCGCUU'"
      ]
     },
     "execution_count": 4,
     "metadata": {},
     "output_type": "execute_result"
    }
   ],
   "source": [
    "exdna = \"ATTTCCGCGAA\"\n",
    "rna_complementary(exdna)"
   ]
  }
 ],
 "metadata": {
  "kernelspec": {
   "display_name": "Python 3",
   "language": "python",
   "name": "python3"
  },
  "language_info": {
   "codemirror_mode": {
    "name": "ipython",
    "version": 3
   },
   "file_extension": ".py",
   "mimetype": "text/x-python",
   "name": "python",
   "nbconvert_exporter": "python",
   "pygments_lexer": "ipython3",
   "version": "3.8.5"
  }
 },
 "nbformat": 4,
 "nbformat_minor": 4
}
